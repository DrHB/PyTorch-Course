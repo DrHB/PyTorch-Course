{
 "cells": [
  {
   "cell_type": "markdown",
   "metadata": {
    "colab_type": "text",
    "id": "view-in-github"
   },
   "source": [
    "<a href=\"https://colab.research.google.com/github/DrHB/PyTorch-Course/blob/main/Intro-PyTroch-2.ipynb\" target=\"_parent\"><img src=\"https://colab.research.google.com/assets/colab-badge.svg\" alt=\"Open In Colab\"/></a>"
   ]
  },
  {
   "cell_type": "markdown",
   "metadata": {
    "id": "rGUmSZilwrn0"
   },
   "source": [
    "# Introduction to PyTorch Part 2\n",
    "\n",
    "> by Habib Bukhari and Roman Vaxenburg"
   ]
  },
  {
   "cell_type": "code",
   "execution_count": 2,
   "metadata": {
    "id": "iAqxuw1cwrn2"
   },
   "outputs": [],
   "source": [
    "#hide\n",
    "import torch\n",
    "import matplotlib.pyplot as plt\n",
    "import torchvision.datasets as datasets\n",
    "import numpy as np\n",
    "from torchvision import transforms\n",
    "from torch.utils.data import DataLoader\n",
    "import torch.nn as nn\n",
    "import torch.nn.functional as F\n",
    "import torch.optim as optim\n",
    "from matplotlib import animation, rc\n",
    "import pandas as pd\n",
    "import seaborn as sbn\n",
    "!pip install fastdot -q\n",
    "from fastdot import *\n",
    "rc('animation', html='jshtml')\n",
    "%matplotlib inline"
   ]
  },
  {
   "cell_type": "markdown",
   "metadata": {
    "id": "IOt6RGPOwrn-"
   },
   "source": [
    "In this notebook we will solve the digit classification task with 3 different models of progressively increasing complexity:\n",
    "\n",
    "* Linear classifier (logistic regression)\n",
    "* Multilayer perceptron (non-linear fully connected network)\n",
    "* Convolutional neural network"
   ]
  },
  {
   "cell_type": "markdown",
   "metadata": {
    "id": "cZqInXGywrn_"
   },
   "source": [
    "# Classifying digits\n",
    "\n",
    "We've just implemented a simple regression model. Now let's solve a simple digit classification task! We will use a dataset of images of hand-written digits from 0 to 9 and the classifier will predict the digit from the image.\n",
    "\n",
    "\n",
    "<div class=\"alert alert-block alert-info\">\n",
    "The <b>MNIST</b> database of handwritten digits, available from this page, has a training set of 60,000 examples, and a test set of 10,000 examples. It is a subset of a larger set available from NIST. The digits have been size-normalized and centered in a fixed-size image. It is a good database for people who want to try learning techniques and pattern recognition methods on real-world data while spending minimal efforts on preprocessing and formatting.\n",
    "</div>\n",
    "\n",
    "We will use a simple linear layer `nn.Linear` again.\n",
    "\n",
    "## Explore the data\n",
    "\n",
    "Load the dataset of digit images and split the data into training and validation subsets."
   ]
  },
  {
   "cell_type": "code",
   "execution_count": null,
   "metadata": {
    "id": "5_5XSRh0wroA"
   },
   "outputs": [],
   "source": [
    "mnist_trainset = datasets.MNIST(root='./data', train=True, download=True)\n",
    "mnist_validset = datasets.MNIST(root='./data', train=False, download=True)"
   ]
  },
  {
   "cell_type": "code",
   "execution_count": null,
   "metadata": {
    "id": "V7n8eoGGwroG",
    "outputId": "793038e9-9666-4c6f-ef21-6594153ff84b"
   },
   "outputs": [
    {
     "data": {
      "text/plain": [
       "Dataset MNIST\n",
       "    Number of datapoints: 60000\n",
       "    Root location: ./data\n",
       "    Split: Train"
      ]
     },
     "execution_count": 3,
     "metadata": {
      "tags": []
     },
     "output_type": "execute_result"
    }
   ],
   "source": [
    "mnist_trainset"
   ]
  },
  {
   "cell_type": "code",
   "execution_count": null,
   "metadata": {
    "id": "eeqOxl1HwroK",
    "outputId": "7edb54cd-2355-4217-ea2d-b9cbdc3935c7"
   },
   "outputs": [
    {
     "data": {
      "text/plain": [
       "Dataset MNIST\n",
       "    Number of datapoints: 10000\n",
       "    Root location: ./data\n",
       "    Split: Test"
      ]
     },
     "execution_count": 4,
     "metadata": {
      "tags": []
     },
     "output_type": "execute_result"
    }
   ],
   "source": [
    "mnist_validset"
   ]
  },
  {
   "cell_type": "code",
   "execution_count": null,
   "metadata": {
    "id": "oOS9vXs0wroN"
   },
   "outputs": [],
   "source": [
    "img, label  = mnist_trainset[0] #getting 0th element of dataset"
   ]
  },
  {
   "cell_type": "code",
   "execution_count": null,
   "metadata": {
    "id": "beUDgU-wwroP",
    "outputId": "b1e5cbb2-9f8d-45fb-91a8-9a74d7ad6268"
   },
   "outputs": [
    {
     "data": {
      "text/plain": [
       "(PIL.Image.Image, int)"
      ]
     },
     "execution_count": 6,
     "metadata": {
      "tags": []
     },
     "output_type": "execute_result"
    }
   ],
   "source": [
    "type(img), type(label)"
   ]
  },
  {
   "cell_type": "code",
   "execution_count": null,
   "metadata": {
    "id": "MeXK6iC9wroR",
    "outputId": "4e7f2412-6535-4fd9-8af2-d50988db2792"
   },
   "outputs": [
    {
     "data": {
      "text/plain": [
       "5"
      ]
     },
     "execution_count": 7,
     "metadata": {
      "tags": []
     },
     "output_type": "execute_result"
    }
   ],
   "source": [
    "label"
   ]
  },
  {
   "cell_type": "code",
   "execution_count": null,
   "metadata": {
    "id": "WwRh652LwroT",
    "outputId": "8c965ff8-503a-458e-c63d-8762c7eb473f"
   },
   "outputs": [
    {
     "data": {
      "text/plain": [
       "<matplotlib.image.AxesImage at 0x7fc6af4a4790>"
      ]
     },
     "execution_count": 8,
     "metadata": {
      "tags": []
     },
     "output_type": "execute_result"
    },
    {
     "data": {
      "image/png": "[encoded data removed]",
      "text/plain": [
       "<Figure size 432x288 with 1 Axes>"
      ]
     },
     "metadata": {
      "needs_background": "light",
      "tags": []
     },
     "output_type": "display_data"
    }
   ],
   "source": [
    "plt.imshow(img) #we can use matplotlib function imshow to display image"
   ]
  },
  {
   "cell_type": "code",
   "execution_count": null,
   "metadata": {
    "id": "M0jnXLpWwroV"
   },
   "outputs": [],
   "source": [
    "def show_image(x, title: str):\n",
    "    #function that shows image with a title\n",
    "    plt.imshow(x)\n",
    "    plt.title(f'Label: {title}')"
   ]
  },
  {
   "cell_type": "code",
   "execution_count": null,
   "metadata": {
    "id": "zBrzGPptwroW"
   },
   "outputs": [],
   "source": [
    "img, label = mnist_trainset[5438]"
   ]
  },
  {
   "cell_type": "code",
   "execution_count": null,
   "metadata": {
    "id": "Dg6VuP12wroZ",
    "outputId": "84a3d55f-7e61-494e-998d-8e466dce2821"
   },
   "outputs": [
    {
     "data": {
      "image/png": "[encoded data removed]",
      "text/plain": [
       "<Figure size 432x288 with 1 Axes>"
      ]
     },
     "metadata": {
      "needs_background": "light",
      "tags": []
     },
     "output_type": "display_data"
    }
   ],
   "source": [
    "show_image(img, label)"
   ]
  },
  {
   "cell_type": "markdown",
   "metadata": {
    "id": "31SlrwfAwrob"
   },
   "source": [
    "Each pixel in the image has value between 0 and 255\n",
    "<div class=\"alert alert-block alert-info\">\n",
    "The word “pixel” means a picture element. Every photograph, in digital form, is made up of pixels. They are the smallest unit of information that makes up a picture. Usually round or square, they are typically arranged in a 2-dimensional grid.\n",
    "</div>"
   ]
  },
  {
   "cell_type": "code",
   "execution_count": null,
   "metadata": {
    "id": "zWdZx5Cjwrob",
    "outputId": "93176212-e4db-4eea-e948-b03127538e92"
   },
   "outputs": [
    {
     "data": {
      "text/plain": [
       "<matplotlib.axes._subplots.AxesSubplot at 0x7fc6af76a460>"
      ]
     },
     "execution_count": 12,
     "metadata": {
      "tags": []
     },
     "output_type": "execute_result"
    },
    {
     "data": {
      "image/png": "[encoded data removed]",
      "text/plain": [
       "<Figure size 864x864 with 2 Axes>"
      ]
     },
     "metadata": {
      "needs_background": "light",
      "tags": []
     },
     "output_type": "display_data"
    }
   ],
   "source": [
    "#this is image which has value from 0 to 255 \n",
    "image_array=np.array(img)\n",
    "fig, axes = plt.subplots(figsize=(12, 12))\n",
    "sbn.heatmap(image_array, annot=True, fmt=\"d\", cmap=\"YlGnBu\")"
   ]
  },
  {
   "cell_type": "code",
   "execution_count": null,
   "metadata": {
    "id": "iH8R7-Ekwrod"
   },
   "outputs": [],
   "source": [
    " # dividing by 255 to scale everything between 0 to 1 (gettng rid of large numbers)\n",
    "def convert_to_tensor(x):\n",
    "    x= torch.tensor(np.array(x).astype('float'))\n",
    "    x= x /255\n",
    "    return x"
   ]
  },
  {
   "cell_type": "code",
   "execution_count": null,
   "metadata": {
    "id": "0e0fMH8Uwrof"
   },
   "outputs": [],
   "source": [
    "img, label = mnist_trainset[223]"
   ]
  },
  {
   "cell_type": "code",
   "execution_count": null,
   "metadata": {
    "id": "k4E3RO0vwrog",
    "outputId": "978fee51-e494-424f-8819-ae3c732e41af"
   },
   "outputs": [
    {
     "data": {
      "image/png": "[encoded data removed]",
      "text/plain": [
       "<Figure size 432x288 with 1 Axes>"
      ]
     },
     "metadata": {
      "needs_background": "light",
      "tags": []
     },
     "output_type": "display_data"
    }
   ],
   "source": [
    "show_image(img, label)"
   ]
  },
  {
   "cell_type": "code",
   "execution_count": null,
   "metadata": {
    "id": "tyQqmBsfwroh",
    "outputId": "c5892ded-da2e-49b1-da0f-650814630700"
   },
   "outputs": [
    {
     "data": {
      "text/plain": [
       "(PIL.Image.Image, torch.Tensor)"
      ]
     },
     "execution_count": 16,
     "metadata": {
      "tags": []
     },
     "output_type": "execute_result"
    }
   ],
   "source": [
    "img_tensor = convert_to_tensor(img)\n",
    "type(img), type(img_tensor)"
   ]
  },
  {
   "cell_type": "code",
   "execution_count": null,
   "metadata": {
    "id": "SZ6Nqll1wroj",
    "outputId": "c4fe6915-4c90-4b4a-8d79-9d483bbc569c"
   },
   "outputs": [
    {
     "data": {
      "text/plain": [
       "torch.Size([28, 28])"
      ]
     },
     "execution_count": 17,
     "metadata": {
      "tags": []
     },
     "output_type": "execute_result"
    }
   ],
   "source": [
    "img_tensor.shape"
   ]
  },
  {
   "cell_type": "markdown",
   "metadata": {
    "id": "XuDoHleXwrok"
   },
   "source": [
    "Luckily, pytorch provides us with this transformation so we don't have to convert the data to `tensor` manually "
   ]
  },
  {
   "cell_type": "code",
   "execution_count": null,
   "metadata": {
    "id": "MXHy11cRwrok"
   },
   "outputs": [],
   "source": [
    "transform=transforms.Compose([\n",
    "        transforms.ToTensor(),\n",
    "        ])\n",
    "mnist_trainset = datasets.MNIST(root='./data', train=True, download=True, transform=transform)\n",
    "mnist_validset = datasets.MNIST(root='./data', train=False, download=True,transform=transform)"
   ]
  },
  {
   "cell_type": "markdown",
   "metadata": {
    "id": "OWGNasvSwrom"
   },
   "source": [
    "## Dataloader\n",
    "<div class=\"alert alert-block alert-info\">\n",
    "PyTorch offers a solution for parallelizing the data loading process with the support of automatic batching as well. This is the DataLoader class present within the torch.utils.\n",
    "    data package. <br>\n",
    " <b> Batch size </b>is a hyperparameter that defines the number of samples to work through before updating the internal model parameters. <br>\n",
    " <b> Shuffle </b> Whether you want the data to be reshuffled or not. <br>\n",
    " <b> num_workers </b> Number of sub-processes needed for loading the data. <br>\n",
    " </div>"
   ]
  },
  {
   "cell_type": "code",
   "execution_count": null,
   "metadata": {
    "id": "fO9lep_fwrom"
   },
   "outputs": [],
   "source": [
    "batch_size = 64\n",
    "train_dl = DataLoader(mnist_trainset, batch_size=batch_size, shuffle=True, num_workers=0)\n",
    "valid_dl = DataLoader(mnist_validset, batch_size=batch_size, shuffle=True, num_workers=0)"
   ]
  },
  {
   "cell_type": "code",
   "execution_count": null,
   "metadata": {
    "id": "0wrpf-wpwroo",
    "outputId": "a4ef99d0-1630-49e5-ddcb-89468e7e624d"
   },
   "outputs": [
    {
     "data": {
      "text/plain": [
       "<torch.utils.data.dataloader.DataLoader at 0x7fc6b473b9d0>"
      ]
     },
     "execution_count": 20,
     "metadata": {
      "tags": []
     },
     "output_type": "execute_result"
    }
   ],
   "source": [
    "train_dl"
   ]
  },
  {
   "cell_type": "code",
   "execution_count": null,
   "metadata": {
    "id": "K8CIbzOhwroq"
   },
   "outputs": [],
   "source": [
    "batch_x, batch_y = next(iter(valid_dl)) # get one batch from the validation dataset"
   ]
  },
  {
   "cell_type": "markdown",
   "metadata": {
    "id": "Ra5GRzT2wros"
   },
   "source": [
    "Notice the dimensions of `x` and `y`"
   ]
  },
  {
   "cell_type": "code",
   "execution_count": null,
   "metadata": {
    "id": "n0PDiz79wros",
    "outputId": "2daa6b1c-ec9b-43a8-95b0-8f8e60b0ada4"
   },
   "outputs": [
    {
     "name": "stdout",
     "output_type": "stream",
     "text": [
      "torch.Size([64, 1, 28, 28])\n",
      "torch.Size([64])\n"
     ]
    }
   ],
   "source": [
    "print(batch_x.shape)\n",
    "print(batch_y.shape)"
   ]
  },
  {
   "cell_type": "code",
   "execution_count": null,
   "metadata": {
    "id": "fyxujVDHwrot",
    "outputId": "90c9e215-d701-4331-ab1d-698a0caf16e7"
   },
   "outputs": [
    {
     "data": {
      "image/png": "[encoded data removed]",
      "text/plain": [
       "<Figure size 432x288 with 1 Axes>"
      ]
     },
     "metadata": {
      "needs_background": "light",
      "tags": []
     },
     "output_type": "display_data"
    }
   ],
   "source": [
    "show_image(batch_x[0][0], str(batch_y[0].item()))"
   ]
  },
  {
   "cell_type": "markdown",
   "metadata": {
    "id": "7aAdQctBwrou"
   },
   "source": [
    "# Model 1: Linear Model\n",
    "\n",
    "The linear model will take input images consisting of $28\\times 28 = 784$ pixels and will output class prediction between 0 and 9.\n",
    "\n",
    "The (sinlge) linear layer of the model will consist of 10 neurons, one per class. As input, each neuron will receive a weighted sum of the 794 pixel intensities."
   ]
  },
  {
   "cell_type": "code",
   "execution_count": null,
   "metadata": {
    "id": "bVQCHF7mwrou",
    "outputId": "a0c451ba-228e-47cc-d1ab-40faf268614a"
   },
   "outputs": [
    {
     "data": {
      "image/svg+xml": [
       "<?xml version=\"1.0\" encoding=\"UTF-8\" standalone=\"no\"?>\n",
       "<!DOCTYPE svg PUBLIC \"-//W3C//DTD SVG 1.1//EN\"\n",
       " \"http://www.w3.org/Graphics/SVG/1.1/DTD/svg11.dtd\">\n",
       "<!-- Generated by graphviz version 2.44.1 (20200629.0846)\n",
       " -->\n",
       "<!-- Title: G Pages: 1 -->\n",
       "<svg width=\"916pt\" height=\"99pt\"\n",
       " viewBox=\"0.00 0.00 916.00 99.00\" xmlns=\"http://www.w3.org/2000/svg\" xmlns:xlink=\"http://www.w3.org/1999/xlink\">\n",
       "<g id=\"graph0\" class=\"graph\" transform=\"scale(1 1) rotate(0) translate(4 95)\">\n",
       "<title>G</title>\n",
       "<polygon fill=\"white\" stroke=\"transparent\" points=\"-4,4 -4,-95 912,-95 912,4 -4,4\"/>\n",
       "<g id=\"clust1\" class=\"cluster\">\n",
       "<title>cluster_nae06093c706b4a82a24a159e71bec5d4</title>\n",
       "<g id=\"a_clust1\"><a xlink:title=\"iteration step\">\n",
       "<path fill=\"#555555\" fill-opacity=\"0.133333\" stroke=\"black\" d=\"M20,-8C20,-8 888,-8 888,-8 894,-8 900,-14 900,-20 900,-20 900,-71 900,-71 900,-77 894,-83 888,-83 888,-83 20,-83 20,-83 14,-83 8,-77 8,-71 8,-71 8,-20 8,-20 8,-14 14,-8 20,-8\"/>\n",
       "<text text-anchor=\"middle\" x=\"454\" y=\"-67.8\" font-family=\"Times,serif\" font-size=\"14.00\">iteration step</text>\n",
       "</a>\n",
       "</g>\n",
       "</g>\n",
       "<!-- n178ff7c9b2c7475cbf489b0eae01fc5a -->\n",
       "<g id=\"node1\" class=\"node\">\n",
       "<title>n178ff7c9b2c7475cbf489b0eae01fc5a</title>\n",
       "<g id=\"a_node1\"><a xlink:title=\"batch\">\n",
       "<path fill=\"#76ffb9\" fill-opacity=\"0.411765\" stroke=\"black\" d=\"M58,-52C58,-52 28,-52 28,-52 22,-52 16,-46 16,-40 16,-40 16,-28 16,-28 16,-22 22,-16 28,-16 28,-16 58,-16 58,-16 64,-16 70,-22 70,-28 70,-28 70,-40 70,-40 70,-46 64,-52 58,-52\"/>\n",
       "<text text-anchor=\"middle\" x=\"43\" y=\"-30.3\" font-family=\"Times,serif\" font-size=\"14.00\">batch</text>\n",
       "</a>\n",
       "</g>\n",
       "</g>\n",
       "<!-- na707c893f8034ce9aa1215870c8cca12 -->\n",
       "<g id=\"node2\" class=\"node\">\n",
       "<title>na707c893f8034ce9aa1215870c8cca12</title>\n",
       "<g id=\"a_node2\"><a xlink:title=\"reshape_(28*28)\">\n",
       "<path fill=\"#ff4121\" fill-opacity=\"0.470588\" stroke=\"black\" d=\"M201,-52C201,-52 118,-52 118,-52 112,-52 106,-46 106,-40 106,-40 106,-28 106,-28 106,-22 112,-16 118,-16 118,-16 201,-16 201,-16 207,-16 213,-22 213,-28 213,-28 213,-40 213,-40 213,-46 207,-52 201,-52\"/>\n",
       "<text text-anchor=\"middle\" x=\"159.5\" y=\"-30.3\" font-family=\"Times,serif\" font-size=\"14.00\">reshape_(28*28)</text>\n",
       "</a>\n",
       "</g>\n",
       "</g>\n",
       "<!-- n178ff7c9b2c7475cbf489b0eae01fc5a&#45;&gt;na707c893f8034ce9aa1215870c8cca12 -->\n",
       "<g id=\"edge1\" class=\"edge\">\n",
       "<title>n178ff7c9b2c7475cbf489b0eae01fc5a&#45;&gt;na707c893f8034ce9aa1215870c8cca12</title>\n",
       "<path fill=\"none\" stroke=\"black\" d=\"M70.27,-34C77.94,-34 86.68,-34 95.61,-34\"/>\n",
       "<polygon fill=\"black\" stroke=\"black\" points=\"95.71,-37.5 105.71,-34 95.71,-30.5 95.71,-37.5\"/>\n",
       "</g>\n",
       "<!-- na42bf8bd56104fcd8b73285b1d269867 -->\n",
       "<g id=\"node3\" class=\"node\">\n",
       "<title>na42bf8bd56104fcd8b73285b1d269867</title>\n",
       "<g id=\"a_node3\"><a xlink:title=\"model\">\n",
       "<path fill=\"#d2de81\" fill-opacity=\"0.717647\" stroke=\"black\" d=\"M291,-52C291,-52 261,-52 261,-52 255,-52 249,-46 249,-40 249,-40 249,-28 249,-28 249,-22 255,-16 261,-16 261,-16 291,-16 291,-16 297,-16 303,-22 303,-28 303,-28 303,-40 303,-40 303,-46 297,-52 291,-52\"/>\n",
       "<text text-anchor=\"middle\" x=\"276\" y=\"-30.3\" font-family=\"Times,serif\" font-size=\"14.00\">model</text>\n",
       "</a>\n",
       "</g>\n",
       "</g>\n",
       "<!-- na707c893f8034ce9aa1215870c8cca12&#45;&gt;na42bf8bd56104fcd8b73285b1d269867 -->\n",
       "<g id=\"edge2\" class=\"edge\">\n",
       "<title>na707c893f8034ce9aa1215870c8cca12&#45;&gt;na42bf8bd56104fcd8b73285b1d269867</title>\n",
       "<path fill=\"none\" stroke=\"black\" d=\"M213.06,-34C221.72,-34 230.53,-34 238.69,-34\"/>\n",
       "<polygon fill=\"black\" stroke=\"black\" points=\"238.96,-37.5 248.96,-34 238.96,-30.5 238.96,-37.5\"/>\n",
       "</g>\n",
       "<!-- nfd003dbf69cc4183bc39357a0b4b8749 -->\n",
       "<g id=\"node4\" class=\"node\">\n",
       "<title>nfd003dbf69cc4183bc39357a0b4b8749</title>\n",
       "<g id=\"a_node4\"><a xlink:title=\"predict\">\n",
       "<path fill=\"#4a53fb\" fill-opacity=\"0.286275\" stroke=\"black\" d=\"M381,-52C381,-52 351,-52 351,-52 345,-52 339,-46 339,-40 339,-40 339,-28 339,-28 339,-22 345,-16 351,-16 351,-16 381,-16 381,-16 387,-16 393,-22 393,-28 393,-28 393,-40 393,-40 393,-46 387,-52 381,-52\"/>\n",
       "<text text-anchor=\"middle\" x=\"366\" y=\"-30.3\" font-family=\"Times,serif\" font-size=\"14.00\">predict</text>\n",
       "</a>\n",
       "</g>\n",
       "</g>\n",
       "<!-- na42bf8bd56104fcd8b73285b1d269867&#45;&gt;nfd003dbf69cc4183bc39357a0b4b8749 -->\n",
       "<g id=\"edge3\" class=\"edge\">\n",
       "<title>na42bf8bd56104fcd8b73285b1d269867&#45;&gt;nfd003dbf69cc4183bc39357a0b4b8749</title>\n",
       "<path fill=\"none\" stroke=\"black\" d=\"M303.4,-34C311.39,-34 320.31,-34 328.82,-34\"/>\n",
       "<polygon fill=\"black\" stroke=\"black\" points=\"328.92,-37.5 338.92,-34 328.92,-30.5 328.92,-37.5\"/>\n",
       "</g>\n",
       "<!-- n89268025a7bd4989bd3ad7aac92deca2 -->\n",
       "<g id=\"node5\" class=\"node\">\n",
       "<title>n89268025a7bd4989bd3ad7aac92deca2</title>\n",
       "<g id=\"a_node5\"><a xlink:title=\"calculate loss\">\n",
       "<path fill=\"#feb562\" fill-opacity=\"0.301961\" stroke=\"black\" d=\"M506,-52C506,-52 441,-52 441,-52 435,-52 429,-46 429,-40 429,-40 429,-28 429,-28 429,-22 435,-16 441,-16 441,-16 506,-16 506,-16 512,-16 518,-22 518,-28 518,-28 518,-40 518,-40 518,-46 512,-52 506,-52\"/>\n",
       "<text text-anchor=\"middle\" x=\"473.5\" y=\"-30.3\" font-family=\"Times,serif\" font-size=\"14.00\">calculate loss</text>\n",
       "</a>\n",
       "</g>\n",
       "</g>\n",
       "<!-- nfd003dbf69cc4183bc39357a0b4b8749&#45;&gt;n89268025a7bd4989bd3ad7aac92deca2 -->\n",
       "<g id=\"edge4\" class=\"edge\">\n",
       "<title>nfd003dbf69cc4183bc39357a0b4b8749&#45;&gt;n89268025a7bd4989bd3ad7aac92deca2</title>\n",
       "<path fill=\"none\" stroke=\"black\" d=\"M393.08,-34C400.88,-34 409.74,-34 418.64,-34\"/>\n",
       "<polygon fill=\"black\" stroke=\"black\" points=\"418.66,-37.5 428.66,-34 418.66,-30.5 418.66,-37.5\"/>\n",
       "</g>\n",
       "<!-- ndc66d2d8745e432ab9e0076b7b5b339c -->\n",
       "<g id=\"node6\" class=\"node\">\n",
       "<title>ndc66d2d8745e432ab9e0076b7b5b339c</title>\n",
       "<g id=\"a_node6\"><a xlink:title=\"calculate gradient\">\n",
       "<path fill=\"#fcb763\" fill-opacity=\"0.423529\" stroke=\"black\" d=\"M655,-52C655,-52 566,-52 566,-52 560,-52 554,-46 554,-40 554,-40 554,-28 554,-28 554,-22 560,-16 566,-16 566,-16 655,-16 655,-16 661,-16 667,-22 667,-28 667,-28 667,-40 667,-40 667,-46 661,-52 655,-52\"/>\n",
       "<text text-anchor=\"middle\" x=\"610.5\" y=\"-30.3\" font-family=\"Times,serif\" font-size=\"14.00\">calculate gradient</text>\n",
       "</a>\n",
       "</g>\n",
       "</g>\n",
       "<!-- n89268025a7bd4989bd3ad7aac92deca2&#45;&gt;ndc66d2d8745e432ab9e0076b7b5b339c -->\n",
       "<g id=\"edge5\" class=\"edge\">\n",
       "<title>n89268025a7bd4989bd3ad7aac92deca2&#45;&gt;ndc66d2d8745e432ab9e0076b7b5b339c</title>\n",
       "<path fill=\"none\" stroke=\"black\" d=\"M518.33,-34C526.41,-34 535.01,-34 543.57,-34\"/>\n",
       "<polygon fill=\"black\" stroke=\"black\" points=\"543.57,-37.5 553.57,-34 543.57,-30.5 543.57,-37.5\"/>\n",
       "</g>\n",
       "<!-- n4a691aedf98f4dadb0119a3c5cf3cbed -->\n",
       "<g id=\"node7\" class=\"node\">\n",
       "<title>n4a691aedf98f4dadb0119a3c5cf3cbed</title>\n",
       "<g id=\"a_node7\"><a xlink:title=\"take step\">\n",
       "<path fill=\"#ff3219\" fill-opacity=\"0.490196\" stroke=\"black\" d=\"M756,-52C756,-52 715,-52 715,-52 709,-52 703,-46 703,-40 703,-40 703,-28 703,-28 703,-22 709,-16 715,-16 715,-16 756,-16 756,-16 762,-16 768,-22 768,-28 768,-28 768,-40 768,-40 768,-46 762,-52 756,-52\"/>\n",
       "<text text-anchor=\"middle\" x=\"735.5\" y=\"-30.3\" font-family=\"Times,serif\" font-size=\"14.00\">take step</text>\n",
       "</a>\n",
       "</g>\n",
       "</g>\n",
       "<!-- ndc66d2d8745e432ab9e0076b7b5b339c&#45;&gt;n4a691aedf98f4dadb0119a3c5cf3cbed -->\n",
       "<g id=\"edge6\" class=\"edge\">\n",
       "<title>ndc66d2d8745e432ab9e0076b7b5b339c&#45;&gt;n4a691aedf98f4dadb0119a3c5cf3cbed</title>\n",
       "<path fill=\"none\" stroke=\"black\" d=\"M667.24,-34C675.82,-34 684.55,-34 692.76,-34\"/>\n",
       "<polygon fill=\"black\" stroke=\"black\" points=\"692.82,-37.5 702.82,-34 692.82,-30.5 692.82,-37.5\"/>\n",
       "</g>\n",
       "<!-- n9adcb2a6d996456e9c8e589624b67b2f -->\n",
       "<g id=\"node8\" class=\"node\">\n",
       "<title>n9adcb2a6d996456e9c8e589624b67b2f</title>\n",
       "<g id=\"a_node8\"><a xlink:title=\"zero gradient\">\n",
       "<path fill=\"#ff0603\" fill-opacity=\"0.294118\" stroke=\"black\" d=\"M880,-52C880,-52 816,-52 816,-52 810,-52 804,-46 804,-40 804,-40 804,-28 804,-28 804,-22 810,-16 816,-16 816,-16 880,-16 880,-16 886,-16 892,-22 892,-28 892,-28 892,-40 892,-40 892,-46 886,-52 880,-52\"/>\n",
       "<text text-anchor=\"middle\" x=\"848\" y=\"-30.3\" font-family=\"Times,serif\" font-size=\"14.00\">zero gradient</text>\n",
       "</a>\n",
       "</g>\n",
       "</g>\n",
       "<!-- n4a691aedf98f4dadb0119a3c5cf3cbed&#45;&gt;n9adcb2a6d996456e9c8e589624b67b2f -->\n",
       "<g id=\"edge7\" class=\"edge\">\n",
       "<title>n4a691aedf98f4dadb0119a3c5cf3cbed&#45;&gt;n9adcb2a6d996456e9c8e589624b67b2f</title>\n",
       "<path fill=\"none\" stroke=\"black\" d=\"M768.16,-34C776.14,-34 784.92,-34 793.64,-34\"/>\n",
       "<polygon fill=\"black\" stroke=\"black\" points=\"793.8,-37.5 803.8,-34 793.8,-30.5 793.8,-37.5\"/>\n",
       "</g>\n",
       "</g>\n",
       "</svg>\n"
      ],
      "text/plain": [
       "<pydot.Dot at 0x7fc69810eaf0>"
      ]
     },
     "execution_count": 24,
     "metadata": {
      "tags": []
     },
     "output_type": "execute_result"
    }
   ],
   "source": [
    "#hide\n",
    "layers = ['batch','reshape_(28*28)', 'model', 'predict', 'calculate loss', 'calculate gradient', 'take step', 'zero gradient']\n",
    "block  = 'iteration step'\n",
    "g = graph_items(seq_cluster(layers, block))\n",
    "g"
   ]
  },
  {
   "cell_type": "code",
   "execution_count": null,
   "metadata": {
    "id": "PT1Pm9jwwrow"
   },
   "outputs": [],
   "source": [
    "input_size = 28 * 28 # 784, number of pixels in image\n",
    "num_classes = 10 # 10 classes of images\n",
    "model = nn.Linear(in_features=input_size, out_features=num_classes)"
   ]
  },
  {
   "cell_type": "code",
   "execution_count": null,
   "metadata": {
    "id": "pLQ8GtLswrox",
    "outputId": "8546114e-1c4c-4113-b446-53e97b17e6b9"
   },
   "outputs": [
    {
     "data": {
      "text/plain": [
       "Linear(in_features=784, out_features=10, bias=True)"
      ]
     },
     "execution_count": 26,
     "metadata": {
      "tags": []
     },
     "output_type": "execute_result"
    }
   ],
   "source": [
    "model # print summary of the model"
   ]
  },
  {
   "cell_type": "code",
   "execution_count": null,
   "metadata": {
    "id": "tG9HcOXbwroy",
    "outputId": "761650cd-029a-4ad1-d29b-5e8908ea3c09"
   },
   "outputs": [
    {
     "data": {
      "text/plain": [
       "Parameter containing:\n",
       "tensor([[ 0.0320,  0.0246, -0.0020,  ..., -0.0150,  0.0201, -0.0276],\n",
       "        [-0.0140, -0.0280, -0.0130,  ..., -0.0139,  0.0201,  0.0007],\n",
       "        [ 0.0045, -0.0327,  0.0178,  ..., -0.0211,  0.0040, -0.0267],\n",
       "        ...,\n",
       "        [-0.0101,  0.0128,  0.0301,  ...,  0.0152, -0.0188,  0.0250],\n",
       "        [ 0.0159, -0.0067, -0.0185,  ..., -0.0328,  0.0111, -0.0172],\n",
       "        [ 0.0340, -0.0062,  0.0091,  ..., -0.0351,  0.0044,  0.0138]],\n",
       "       requires_grad=True)"
      ]
     },
     "execution_count": 27,
     "metadata": {
      "tags": []
     },
     "output_type": "execute_result"
    }
   ],
   "source": [
    "model.weight"
   ]
  },
  {
   "cell_type": "markdown",
   "metadata": {
    "id": "VJGO2V0Dwroz"
   },
   "source": [
    "Every neuron sees a weighted sum of all 784 pixels, so the number of weights per neuron in our linear layer is 784"
   ]
  },
  {
   "cell_type": "code",
   "execution_count": null,
   "metadata": {
    "id": "Uxkx4Xf0wroz",
    "outputId": "df9374e0-3a3d-457e-dfee-8c1dab2c2880"
   },
   "outputs": [
    {
     "data": {
      "text/plain": [
       "torch.Size([10, 784])"
      ]
     },
     "execution_count": 28,
     "metadata": {
      "tags": []
     },
     "output_type": "execute_result"
    }
   ],
   "source": [
    "model.weight.shape # (number of neurons, number of pixels)"
   ]
  },
  {
   "cell_type": "code",
   "execution_count": null,
   "metadata": {
    "id": "JnwuU5sPwro0",
    "outputId": "23d81793-1993-4c6b-a27a-5855db9765d8"
   },
   "outputs": [
    {
     "data": {
      "text/plain": [
       "torch.Size([10])"
      ]
     },
     "execution_count": 29,
     "metadata": {
      "tags": []
     },
     "output_type": "execute_result"
    }
   ],
   "source": [
    "model.bias.shape # (number of neurons (or classes))"
   ]
  },
  {
   "cell_type": "code",
   "execution_count": null,
   "metadata": {
    "id": "P0aAkmelwro1",
    "outputId": "1f3abd27-9c5c-48d2-a092-771244996328"
   },
   "outputs": [
    {
     "data": {
      "text/plain": [
       "Linear(in_features=784, out_features=10, bias=True)"
      ]
     },
     "execution_count": 30,
     "metadata": {
      "tags": []
     },
     "output_type": "execute_result"
    }
   ],
   "source": [
    "model.eval() # switch to evaluation mode"
   ]
  },
  {
   "cell_type": "code",
   "execution_count": null,
   "metadata": {
    "id": "OiL52hfJwro2"
   },
   "outputs": [],
   "source": [
    "batch_x, batch_y = next(iter(valid_dl)) # get one batch from the validation dataset"
   ]
  },
  {
   "cell_type": "code",
   "execution_count": null,
   "metadata": {
    "id": "gQAj4-dfwro3",
    "outputId": "b78a4af7-0d08-404c-d80e-3b6f437a81bc"
   },
   "outputs": [
    {
     "name": "stdout",
     "output_type": "stream",
     "text": [
      "torch.Size([64, 1, 28, 28])\n",
      "torch.Size([64])\n"
     ]
    }
   ],
   "source": [
    "print(batch_x.shape)\n",
    "print(batch_y.shape)"
   ]
  },
  {
   "cell_type": "markdown",
   "metadata": {
    "id": "n-FfW9xywro4"
   },
   "source": [
    "Let's try passing data batch to the model (..will throw an error becaue the data is of wrong shape)"
   ]
  },
  {
   "cell_type": "code",
   "execution_count": null,
   "metadata": {
    "id": "4KjiLRR8wro5",
    "outputId": "4e5ef403-09a7-4b7d-becd-17c10d6dca05"
   },
   "outputs": [
    {
     "ename": "RuntimeError",
     "evalue": "mat1 and mat2 shapes cannot be multiplied (1792x28 and 784x10)",
     "output_type": "error",
     "traceback": [
      "\u001b[0;31m---------------------------------------------------------------------------\u001b[0m",
      "\u001b[0;31mRuntimeError\u001b[0m                              Traceback (most recent call last)",
      "\u001b[0;32m<ipython-input-33-2448b35e9364>\u001b[0m in \u001b[0;36m<module>\u001b[0;34m\u001b[0m\n\u001b[1;32m      1\u001b[0m \u001b[0;32mwith\u001b[0m \u001b[0mtorch\u001b[0m\u001b[0;34m.\u001b[0m\u001b[0mno_grad\u001b[0m\u001b[0;34m(\u001b[0m\u001b[0;34m)\u001b[0m\u001b[0;34m:\u001b[0m\u001b[0;34m\u001b[0m\u001b[0;34m\u001b[0m\u001b[0m\n\u001b[0;32m----> 2\u001b[0;31m     \u001b[0my_hat\u001b[0m \u001b[0;34m=\u001b[0m \u001b[0mmodel\u001b[0m\u001b[0;34m(\u001b[0m\u001b[0mbatch_x\u001b[0m\u001b[0;34m)\u001b[0m\u001b[0;34m\u001b[0m\u001b[0;34m\u001b[0m\u001b[0m\n\u001b[0m",
      "\u001b[0;32m/opt/anaconda3/envs/py38/lib/python3.8/site-packages/torch/nn/modules/module.py\u001b[0m in \u001b[0;36m_call_impl\u001b[0;34m(self, *input, **kwargs)\u001b[0m\n\u001b[1;32m    725\u001b[0m             \u001b[0mresult\u001b[0m \u001b[0;34m=\u001b[0m \u001b[0mself\u001b[0m\u001b[0;34m.\u001b[0m\u001b[0m_slow_forward\u001b[0m\u001b[0;34m(\u001b[0m\u001b[0;34m*\u001b[0m\u001b[0minput\u001b[0m\u001b[0;34m,\u001b[0m \u001b[0;34m**\u001b[0m\u001b[0mkwargs\u001b[0m\u001b[0;34m)\u001b[0m\u001b[0;34m\u001b[0m\u001b[0;34m\u001b[0m\u001b[0m\n\u001b[1;32m    726\u001b[0m         \u001b[0;32melse\u001b[0m\u001b[0;34m:\u001b[0m\u001b[0;34m\u001b[0m\u001b[0;34m\u001b[0m\u001b[0m\n\u001b[0;32m--> 727\u001b[0;31m             \u001b[0mresult\u001b[0m \u001b[0;34m=\u001b[0m \u001b[0mself\u001b[0m\u001b[0;34m.\u001b[0m\u001b[0mforward\u001b[0m\u001b[0;34m(\u001b[0m\u001b[0;34m*\u001b[0m\u001b[0minput\u001b[0m\u001b[0;34m,\u001b[0m \u001b[0;34m**\u001b[0m\u001b[0mkwargs\u001b[0m\u001b[0;34m)\u001b[0m\u001b[0;34m\u001b[0m\u001b[0;34m\u001b[0m\u001b[0m\n\u001b[0m\u001b[1;32m    728\u001b[0m         for hook in itertools.chain(\n\u001b[1;32m    729\u001b[0m                 \u001b[0m_global_forward_hooks\u001b[0m\u001b[0;34m.\u001b[0m\u001b[0mvalues\u001b[0m\u001b[0;34m(\u001b[0m\u001b[0;34m)\u001b[0m\u001b[0;34m,\u001b[0m\u001b[0;34m\u001b[0m\u001b[0;34m\u001b[0m\u001b[0m\n",
      "\u001b[0;32m/opt/anaconda3/envs/py38/lib/python3.8/site-packages/torch/nn/modules/linear.py\u001b[0m in \u001b[0;36mforward\u001b[0;34m(self, input)\u001b[0m\n\u001b[1;32m     91\u001b[0m \u001b[0;34m\u001b[0m\u001b[0m\n\u001b[1;32m     92\u001b[0m     \u001b[0;32mdef\u001b[0m \u001b[0mforward\u001b[0m\u001b[0;34m(\u001b[0m\u001b[0mself\u001b[0m\u001b[0;34m,\u001b[0m \u001b[0minput\u001b[0m\u001b[0;34m:\u001b[0m \u001b[0mTensor\u001b[0m\u001b[0;34m)\u001b[0m \u001b[0;34m->\u001b[0m \u001b[0mTensor\u001b[0m\u001b[0;34m:\u001b[0m\u001b[0;34m\u001b[0m\u001b[0;34m\u001b[0m\u001b[0m\n\u001b[0;32m---> 93\u001b[0;31m         \u001b[0;32mreturn\u001b[0m \u001b[0mF\u001b[0m\u001b[0;34m.\u001b[0m\u001b[0mlinear\u001b[0m\u001b[0;34m(\u001b[0m\u001b[0minput\u001b[0m\u001b[0;34m,\u001b[0m \u001b[0mself\u001b[0m\u001b[0;34m.\u001b[0m\u001b[0mweight\u001b[0m\u001b[0;34m,\u001b[0m \u001b[0mself\u001b[0m\u001b[0;34m.\u001b[0m\u001b[0mbias\u001b[0m\u001b[0;34m)\u001b[0m\u001b[0;34m\u001b[0m\u001b[0;34m\u001b[0m\u001b[0m\n\u001b[0m\u001b[1;32m     94\u001b[0m \u001b[0;34m\u001b[0m\u001b[0m\n\u001b[1;32m     95\u001b[0m     \u001b[0;32mdef\u001b[0m \u001b[0mextra_repr\u001b[0m\u001b[0;34m(\u001b[0m\u001b[0mself\u001b[0m\u001b[0;34m)\u001b[0m \u001b[0;34m->\u001b[0m \u001b[0mstr\u001b[0m\u001b[0;34m:\u001b[0m\u001b[0;34m\u001b[0m\u001b[0;34m\u001b[0m\u001b[0m\n",
      "\u001b[0;32m/opt/anaconda3/envs/py38/lib/python3.8/site-packages/torch/nn/functional.py\u001b[0m in \u001b[0;36mlinear\u001b[0;34m(input, weight, bias)\u001b[0m\n\u001b[1;32m   1690\u001b[0m         \u001b[0mret\u001b[0m \u001b[0;34m=\u001b[0m \u001b[0mtorch\u001b[0m\u001b[0;34m.\u001b[0m\u001b[0maddmm\u001b[0m\u001b[0;34m(\u001b[0m\u001b[0mbias\u001b[0m\u001b[0;34m,\u001b[0m \u001b[0minput\u001b[0m\u001b[0;34m,\u001b[0m \u001b[0mweight\u001b[0m\u001b[0;34m.\u001b[0m\u001b[0mt\u001b[0m\u001b[0;34m(\u001b[0m\u001b[0;34m)\u001b[0m\u001b[0;34m)\u001b[0m\u001b[0;34m\u001b[0m\u001b[0;34m\u001b[0m\u001b[0m\n\u001b[1;32m   1691\u001b[0m     \u001b[0;32melse\u001b[0m\u001b[0;34m:\u001b[0m\u001b[0;34m\u001b[0m\u001b[0;34m\u001b[0m\u001b[0m\n\u001b[0;32m-> 1692\u001b[0;31m         \u001b[0moutput\u001b[0m \u001b[0;34m=\u001b[0m \u001b[0minput\u001b[0m\u001b[0;34m.\u001b[0m\u001b[0mmatmul\u001b[0m\u001b[0;34m(\u001b[0m\u001b[0mweight\u001b[0m\u001b[0;34m.\u001b[0m\u001b[0mt\u001b[0m\u001b[0;34m(\u001b[0m\u001b[0;34m)\u001b[0m\u001b[0;34m)\u001b[0m\u001b[0;34m\u001b[0m\u001b[0;34m\u001b[0m\u001b[0m\n\u001b[0m\u001b[1;32m   1693\u001b[0m         \u001b[0;32mif\u001b[0m \u001b[0mbias\u001b[0m \u001b[0;32mis\u001b[0m \u001b[0;32mnot\u001b[0m \u001b[0;32mNone\u001b[0m\u001b[0;34m:\u001b[0m\u001b[0;34m\u001b[0m\u001b[0;34m\u001b[0m\u001b[0m\n\u001b[1;32m   1694\u001b[0m             \u001b[0moutput\u001b[0m \u001b[0;34m+=\u001b[0m \u001b[0mbias\u001b[0m\u001b[0;34m\u001b[0m\u001b[0;34m\u001b[0m\u001b[0m\n",
      "\u001b[0;31mRuntimeError\u001b[0m: mat1 and mat2 shapes cannot be multiplied (1792x28 and 784x10)"
     ]
    }
   ],
   "source": [
    "with torch.no_grad():\n",
    "    y_hat = model(batch_x)"
   ]
  },
  {
   "cell_type": "code",
   "execution_count": null,
   "metadata": {
    "id": "HggmfZgzwro6",
    "outputId": "447c0e02-88d0-4a8d-cfa4-3ead1be3cacb"
   },
   "outputs": [
    {
     "data": {
      "text/plain": [
       "torch.Size([64, 784])"
      ]
     },
     "execution_count": 36,
     "metadata": {
      "tags": []
     },
     "output_type": "execute_result"
    }
   ],
   "source": [
    "batch_x = batch_x.view(-1, 28*28) # -1 means infer this dimension automatically\n",
    "batch_x.shape # (batch, number of pixels)"
   ]
  },
  {
   "cell_type": "markdown",
   "metadata": {
    "id": "dCbd0QVgwro7"
   },
   "source": [
    "Now we can feed data to the model safely"
   ]
  },
  {
   "cell_type": "code",
   "execution_count": null,
   "metadata": {
    "id": "29_Qi8Wgwro8"
   },
   "outputs": [],
   "source": [
    "# forward pass\n",
    "y_hat = model(batch_x)"
   ]
  },
  {
   "cell_type": "code",
   "execution_count": null,
   "metadata": {
    "id": "6ZbbT0ZGwro8",
    "outputId": "fb38f425-61da-4888-d17f-3963c8f7f176"
   },
   "outputs": [
    {
     "data": {
      "text/plain": [
       "torch.Size([64, 10])"
      ]
     },
     "execution_count": 38,
     "metadata": {
      "tags": []
     },
     "output_type": "execute_result"
    }
   ],
   "source": [
    "# prediction (batch, number of classes)\n",
    "y_hat.shape"
   ]
  },
  {
   "cell_type": "code",
   "execution_count": null,
   "metadata": {
    "id": "eginpZXiwro-",
    "outputId": "180abdcd-b109-4357-ce0c-a74d0f6a35dd"
   },
   "outputs": [
    {
     "data": {
      "text/plain": [
       "torch.Size([64, 784])"
      ]
     },
     "execution_count": 39,
     "metadata": {
      "tags": []
     },
     "output_type": "execute_result"
    }
   ],
   "source": [
    "batch_x.shape # (batch, number of pixels)"
   ]
  },
  {
   "cell_type": "markdown",
   "metadata": {
    "id": "9wrl9aq3wro_"
   },
   "source": [
    "## Loss\n",
    "\n",
    "To calculate the loss, we will use the cross-entropy loss, $L = -\\sum_i y_i \\log  \\hat{y}_i$, where the sum is over the batch.\n",
    "\n",
    "This loss is typically used in classification problems. \n",
    "\n",
    "Note that the output of our model and the ground true labels are not probabilities yet. The `nn.CrossEntropyLoss` class will transform them to probabilities internally by applying `nn.LogSoftmax()` to them."
   ]
  },
  {
   "cell_type": "code",
   "execution_count": null,
   "metadata": {
    "id": "h58RB72Ywro_"
   },
   "outputs": [],
   "source": [
    "loss_fn = nn.CrossEntropyLoss()"
   ]
  },
  {
   "cell_type": "code",
   "execution_count": null,
   "metadata": {
    "id": "_BtD2YpOwrpA"
   },
   "outputs": [],
   "source": [
    "loss = loss_fn(y_hat, batch_y)"
   ]
  },
  {
   "cell_type": "code",
   "execution_count": null,
   "metadata": {
    "id": "uLIoboULwrpB",
    "outputId": "4d317598-2973-4d90-a810-0e3fbc468779"
   },
   "outputs": [
    {
     "data": {
      "text/plain": [
       "tensor(2.3464, grad_fn=<NllLossBackward>)"
      ]
     },
     "execution_count": 42,
     "metadata": {
      "tags": []
     },
     "output_type": "execute_result"
    }
   ],
   "source": [
    "loss"
   ]
  },
  {
   "cell_type": "code",
   "execution_count": null,
   "metadata": {
    "id": "LY4W2uJuwrpC"
   },
   "outputs": [],
   "source": [
    "# calculate the gradient in backward pass\n",
    "loss.backward()"
   ]
  },
  {
   "cell_type": "markdown",
   "metadata": {
    "id": "JATeB_LpwrpD"
   },
   "source": [
    "Let's put everything together (and also initialize the optimizer)"
   ]
  },
  {
   "cell_type": "code",
   "execution_count": null,
   "metadata": {
    "id": "JT-1SE3fwrpD"
   },
   "outputs": [],
   "source": [
    "input_size = 28 * 28 # 784\n",
    "num_classes = 10\n",
    "\n",
    "num_epochs = 5\n",
    "batch_size = 100\n",
    "learning_rate = 0.01\n",
    "\n",
    "# Logistic regression model\n",
    "model = nn.Linear(in_features=input_size, out_features=num_classes, bias=True)\n",
    "\n",
    "# Loss and optimizer\n",
    "loss_fn = nn.CrossEntropyLoss() # applies softmax internally\n",
    "optimizer = torch.optim.SGD(model.parameters(), lr=learning_rate)"
   ]
  },
  {
   "cell_type": "markdown",
   "metadata": {
    "id": "LBS4MOXAwrpE"
   },
   "source": [
    "<div class=\"alert alert-block alert-info\">\n",
    "<b> Epoch </b>  is when an ENTIRE dataset is passed forward and backward through the neural network only ONCE. <br>\n",
    "<b> Iterations </b> is the number of batches needed to complete one epoch.<br>\n",
    "    \n",
    "Let’s say we have <b>5000</b> training examples that we are going to use. We can divide the dataset of <b>5000</b> examples into batches of <b>500</b> then it will take <b>10 iterations</b> to complete <b>1 epoch</b>\n",
    "</div>\n",
    "\n"
   ]
  },
  {
   "cell_type": "markdown",
   "metadata": {
    "id": "w0MNhcp4wrpE"
   },
   "source": [
    "# Train the model\n",
    "\n",
    "We are ready to train the model!"
   ]
  },
  {
   "cell_type": "code",
   "execution_count": null,
   "metadata": {
    "id": "s61ZuiPQwrpE",
    "outputId": "bcf7b503-e401-422d-c5b2-c26e7499bca2"
   },
   "outputs": [
    {
     "name": "stdout",
     "output_type": "stream",
     "text": [
      "Epoch [1/5], Step [100/938], Loss: 1.6037\n",
      "Epoch [1/5], Step [200/938], Loss: 1.1010\n",
      "Epoch [1/5], Step [300/938], Loss: 1.0395\n",
      "Epoch [1/5], Step [400/938], Loss: 0.9106\n",
      "Epoch [1/5], Step [500/938], Loss: 0.7476\n",
      "Epoch [1/5], Step [600/938], Loss: 0.7453\n",
      "Epoch [1/5], Step [700/938], Loss: 0.7040\n",
      "Epoch [1/5], Step [800/938], Loss: 0.6495\n",
      "Epoch [1/5], Step [900/938], Loss: 0.6533\n",
      "Epoch [2/5], Step [100/938], Loss: 0.5147\n",
      "Epoch [2/5], Step [200/938], Loss: 0.6078\n",
      "Epoch [2/5], Step [300/938], Loss: 0.6700\n",
      "Epoch [2/5], Step [400/938], Loss: 0.6014\n",
      "Epoch [2/5], Step [500/938], Loss: 0.5250\n",
      "Epoch [2/5], Step [600/938], Loss: 0.5672\n",
      "Epoch [2/5], Step [700/938], Loss: 0.5873\n",
      "Epoch [2/5], Step [800/938], Loss: 0.4513\n",
      "Epoch [2/5], Step [900/938], Loss: 0.4589\n",
      "Epoch [3/5], Step [100/938], Loss: 0.4350\n",
      "Epoch [3/5], Step [200/938], Loss: 0.4598\n",
      "Epoch [3/5], Step [300/938], Loss: 0.4791\n",
      "Epoch [3/5], Step [400/938], Loss: 0.7524\n",
      "Epoch [3/5], Step [500/938], Loss: 0.5428\n",
      "Epoch [3/5], Step [600/938], Loss: 0.7280\n",
      "Epoch [3/5], Step [700/938], Loss: 0.3994\n",
      "Epoch [3/5], Step [800/938], Loss: 0.4085\n",
      "Epoch [3/5], Step [900/938], Loss: 0.4289\n",
      "Epoch [4/5], Step [100/938], Loss: 0.5781\n",
      "Epoch [4/5], Step [200/938], Loss: 0.5060\n",
      "Epoch [4/5], Step [300/938], Loss: 0.4100\n",
      "Epoch [4/5], Step [400/938], Loss: 0.5444\n",
      "Epoch [4/5], Step [500/938], Loss: 0.2401\n",
      "Epoch [4/5], Step [600/938], Loss: 0.4293\n",
      "Epoch [4/5], Step [700/938], Loss: 0.4400\n",
      "Epoch [4/5], Step [800/938], Loss: 0.4893\n",
      "Epoch [4/5], Step [900/938], Loss: 0.4414\n",
      "Epoch [5/5], Step [100/938], Loss: 0.3322\n",
      "Epoch [5/5], Step [200/938], Loss: 0.4208\n",
      "Epoch [5/5], Step [300/938], Loss: 0.2448\n",
      "Epoch [5/5], Step [400/938], Loss: 0.5575\n",
      "Epoch [5/5], Step [500/938], Loss: 0.3846\n",
      "Epoch [5/5], Step [600/938], Loss: 0.4584\n",
      "Epoch [5/5], Step [700/938], Loss: 0.3334\n",
      "Epoch [5/5], Step [800/938], Loss: 0.3941\n",
      "Epoch [5/5], Step [900/938], Loss: 0.4961\n"
     ]
    }
   ],
   "source": [
    "losses = [] # here we will collect the loss history\n",
    "n_steps = len(train_dl) # number of iterations in one epoch\n",
    "\n",
    "# Training loop\n",
    "for epoch in range(num_epochs):\n",
    "    for i, (images, labels) in enumerate(train_dl): # iterate over training data\n",
    "        \n",
    "        # Reshape images to (batch_size, input_size)\n",
    "        images = images.reshape(-1, input_size)\n",
    "        \n",
    "        # Forward pass\n",
    "        outputs = model(images)\n",
    "        loss = loss_fn(outputs, labels)\n",
    "        \n",
    "        # Backward pass\n",
    "        optimizer.zero_grad()\n",
    "        loss.backward()\n",
    "        losses.append(loss.item())\n",
    "        \n",
    "        # Parameter update\n",
    "        optimizer.step()\n",
    "        \n",
    "        if (i+1) % 100 == 0:\n",
    "            print ('Epoch [{}/{}], Step [{}/{}], Loss: {:.4f}' \n",
    "                   .format(epoch+1, num_epochs, i+1, n_steps, loss.item()))\n"
   ]
  },
  {
   "cell_type": "markdown",
   "metadata": {
    "id": "JMYY3LZwwrpF"
   },
   "source": [
    "# Test the model\n",
    "\n",
    "Let's test the model on the validation part of the dataset.\n",
    "\n",
    "In test phase, we don't need to compute gradients (for memory and time efficiency).\n",
    "\n",
    "Let's use the `no_grad()` context."
   ]
  },
  {
   "cell_type": "code",
   "execution_count": null,
   "metadata": {
    "id": "QZx6ffllwrpF",
    "outputId": "10722986-70e7-425f-e1f4-691269344b0b"
   },
   "outputs": [
    {
     "name": "stdout",
     "output_type": "stream",
     "text": [
      "Accuracy of the model on the 10000 test images: 89.91999816894531 %\n"
     ]
    }
   ],
   "source": [
    "with torch.no_grad():\n",
    "    \n",
    "    correct = 0.\n",
    "    total = 0\n",
    "    \n",
    "    for images, labels in valid_dl: # iterate over validation data\n",
    "        \n",
    "        # Reshape images to (batch_size, input_size)\n",
    "        images = images.reshape(-1, input_size)\n",
    "        \n",
    "        # Forward pass\n",
    "        outputs = model(images)\n",
    "        \n",
    "        # Out of 10 output values per image, let's pick the largest one as the most probable class\n",
    "        _, predicted = torch.max(outputs.data, 1)\n",
    "        \n",
    "        total += labels.size(0) # total number of data examples\n",
    "        correct += (predicted == labels).sum() # correct predictions\n",
    "\n",
    "    print('Accuracy of the model on the 10000 test images: {} %'.format(100 * correct / total))"
   ]
  },
  {
   "cell_type": "markdown",
   "metadata": {
    "id": "jW9Xvu8KwrpG"
   },
   "source": [
    "Not a bad accuracy for such a simple model!"
   ]
  },
  {
   "cell_type": "code",
   "execution_count": null,
   "metadata": {
    "id": "Piyn-Y7hwrpG",
    "outputId": "bb113d9e-0d1d-49c7-ebae-bd8bf99ac9d9"
   },
   "outputs": [
    {
     "data": {
      "text/plain": [
       "Text(0, 0.5, 'Classification training loss')"
      ]
     },
     "execution_count": 47,
     "metadata": {
      "tags": []
     },
     "output_type": "execute_result"
    },
    {
     "data": {
      "image/png": "[encoded data removed]",
      "text/plain": [
       "<Figure size 432x288 with 1 Axes>"
      ]
     },
     "metadata": {
      "needs_background": "light",
      "tags": []
     },
     "output_type": "display_data"
    }
   ],
   "source": [
    "plt.plot(losses)\n",
    "plt.xlabel('Training iteration')\n",
    "plt.ylabel('Classification training loss')"
   ]
  },
  {
   "cell_type": "markdown",
   "metadata": {
    "id": "ZF2yXyLZwrpH"
   },
   "source": [
    "Let's get some actual predictions"
   ]
  },
  {
   "cell_type": "code",
   "execution_count": null,
   "metadata": {
    "id": "8eVhQ6u7wrpH"
   },
   "outputs": [],
   "source": [
    "images, labels = next(iter(valid_dl)) # get one batch from validation dataset\n",
    "\n",
    "with torch.no_grad():\n",
    "    \n",
    "    # Reshape images to (batch_size, input_size)\n",
    "    images = images.reshape(-1, input_size)\n",
    "    \n",
    "    # Forward pass\n",
    "    outputs = model(images)\n",
    "    _, predicted = torch.max(outputs.data, 1)"
   ]
  },
  {
   "cell_type": "markdown",
   "metadata": {
    "id": "z0KxWLjPwrpI"
   },
   "source": [
    "Predicted classes for the batch"
   ]
  },
  {
   "cell_type": "code",
   "execution_count": null,
   "metadata": {
    "id": "Tw1OMBe5wrpJ",
    "outputId": "49aac1c4-c1a6-4d35-8e54-14d29b7b3e1f"
   },
   "outputs": [
    {
     "data": {
      "text/plain": [
       "tensor([9, 8, 8, 3, 2, 8, 2, 2, 0, 9, 5, 6, 3, 5, 4, 0, 4, 7, 6, 9, 2, 7, 1, 7,\n",
       "        8, 8, 9, 8, 5, 1, 6, 1, 8, 3, 0, 0, 6, 0, 0, 1, 6, 7, 3, 3, 5, 6, 6, 3,\n",
       "        1, 2, 6, 4, 1, 6, 0, 9, 8, 6, 1, 4, 9, 1, 7, 5])"
      ]
     },
     "execution_count": 49,
     "metadata": {
      "tags": []
     },
     "output_type": "execute_result"
    }
   ],
   "source": [
    "predicted"
   ]
  },
  {
   "cell_type": "markdown",
   "metadata": {
    "id": "Sd0hZqx1wrpK"
   },
   "source": [
    "True classes for the batch"
   ]
  },
  {
   "cell_type": "code",
   "execution_count": null,
   "metadata": {
    "id": "6Uv6xyYxwrpK",
    "outputId": "b9eabaed-bd19-4dda-e6c8-42d21df0b149"
   },
   "outputs": [
    {
     "data": {
      "text/plain": [
       "tensor([9, 8, 8, 3, 2, 8, 2, 2, 0, 4, 5, 6, 3, 5, 4, 6, 4, 7, 6, 5, 2, 7, 1, 7,\n",
       "        5, 8, 9, 8, 5, 1, 6, 1, 8, 3, 0, 0, 6, 0, 0, 1, 6, 7, 3, 3, 5, 6, 6, 5,\n",
       "        1, 2, 6, 4, 1, 6, 0, 9, 8, 5, 1, 4, 9, 1, 7, 5])"
      ]
     },
     "execution_count": 50,
     "metadata": {
      "tags": []
     },
     "output_type": "execute_result"
    }
   ],
   "source": [
    "labels"
   ]
  },
  {
   "cell_type": "code",
   "execution_count": null,
   "metadata": {
    "id": "pfGOOixzwrpL",
    "outputId": "07883433-f8e8-4be7-f713-d51538b0ca23"
   },
   "outputs": [
    {
     "data": {
      "text/plain": [
       "tensor([ True,  True,  True,  True,  True,  True,  True,  True,  True, False,\n",
       "         True,  True,  True,  True,  True, False,  True,  True,  True, False,\n",
       "         True,  True,  True,  True, False,  True,  True,  True,  True,  True,\n",
       "         True,  True,  True,  True,  True,  True,  True,  True,  True,  True,\n",
       "         True,  True,  True,  True,  True,  True,  True, False,  True,  True,\n",
       "         True,  True,  True,  True,  True,  True,  True, False,  True,  True,\n",
       "         True,  True,  True,  True])"
      ]
     },
     "execution_count": 51,
     "metadata": {
      "tags": []
     },
     "output_type": "execute_result"
    }
   ],
   "source": [
    "predicted == labels"
   ]
  },
  {
   "cell_type": "markdown",
   "metadata": {
    "id": "R7W3uezhwrpM"
   },
   "source": [
    "Let's plot the images in the batch. First we'll have to convert them back to 28x28 square shape."
   ]
  },
  {
   "cell_type": "code",
   "execution_count": null,
   "metadata": {
    "id": "5A53L_L7wrpM",
    "outputId": "b205d598-c7b6-4def-b134-d3c9dbb0036f"
   },
   "outputs": [
    {
     "data": {
      "text/plain": [
       "torch.Size([64, 784])"
      ]
     },
     "execution_count": 52,
     "metadata": {
      "tags": []
     },
     "output_type": "execute_result"
    }
   ],
   "source": [
    "images.shape # (batch, pixels)"
   ]
  },
  {
   "cell_type": "code",
   "execution_count": null,
   "metadata": {
    "id": "S1KZpKsUwrpN",
    "outputId": "9426f4af-37f0-4ee9-c289-ed27ee576b19"
   },
   "outputs": [
    {
     "data": {
      "text/plain": [
       "torch.Size([64, 28, 28])"
      ]
     },
     "execution_count": 53,
     "metadata": {
      "tags": []
     },
     "output_type": "execute_result"
    }
   ],
   "source": [
    "#convert back to square \n",
    "images = images.reshape(-1, 28, 28)\n",
    "images.shape # (batch, 28, 28)"
   ]
  },
  {
   "cell_type": "code",
   "execution_count": null,
   "metadata": {
    "id": "kG1C_zkFwrpO"
   },
   "outputs": [],
   "source": [
    "def evaluate(index):\n",
    "    show_image(images[index], title=f'True :{labels[index]} / Predicted:{predicted[index]}')\n",
    "    plt.pause(0.1)"
   ]
  },
  {
   "cell_type": "code",
   "execution_count": null,
   "metadata": {
    "id": "QHat_1U9wrpP",
    "outputId": "68883d28-b7ef-44c5-fd1f-ee8eb9d598dd"
   },
   "outputs": [
    {
     "data": {
      "image/png": "[encoded data removed]",
      "text/plain": [
       "<Figure size 432x288 with 1 Axes>"
      ]
     },
     "metadata": {
      "needs_background": "light",
      "tags": []
     },
     "output_type": "display_data"
    }
   ],
   "source": [
    "evaluate(index=3)"
   ]
  },
  {
   "cell_type": "markdown",
   "metadata": {
    "id": "69m2Db8pwrpQ"
   },
   "source": [
    "Find misclassifications in the batch"
   ]
  },
  {
   "cell_type": "code",
   "execution_count": null,
   "metadata": {
    "id": "gZ3zjVduwrpQ",
    "outputId": "bc60f8b7-2329-4a3a-ed28-25bd8417a17d"
   },
   "outputs": [
    {
     "name": "stderr",
     "output_type": "stream",
     "text": [
      "<ipython-input-56-63c918f4769f>:1: UserWarning: This overload of nonzero is deprecated:\n",
      "\tnonzero()\n",
      "Consider using one of the following signatures instead:\n",
      "\tnonzero(*, bool as_tuple) (Triggered internally at  ../torch/csrc/utils/python_arg_parser.cpp:882.)\n",
      "  model_errors = (labels != predicted).nonzero();\n"
     ]
    },
    {
     "data": {
      "text/plain": [
       "tensor([[ 9],\n",
       "        [15],\n",
       "        [19],\n",
       "        [24],\n",
       "        [47],\n",
       "        [57]])"
      ]
     },
     "execution_count": 56,
     "metadata": {
      "tags": []
     },
     "output_type": "execute_result"
    }
   ],
   "source": [
    "model_errors = (labels != predicted).nonzero(); \n",
    "model_errors"
   ]
  },
  {
   "cell_type": "code",
   "execution_count": null,
   "metadata": {
    "id": "Vi-T4wgAwrpR",
    "outputId": "f458eabf-9843-4e8c-a655-7485e17c5681",
    "scrolled": false
   },
   "outputs": [
    {
     "data": {
      "image/png": "[encoded data removed]",
      "text/plain": [
       "<Figure size 432x288 with 1 Axes>"
      ]
     },
     "metadata": {
      "needs_background": "light",
      "tags": []
     },
     "output_type": "display_data"
    },
    {
     "data": {
      "image/png": "[encoded data removed]",
      "text/plain": [
       "<Figure size 432x288 with 1 Axes>"
      ]
     },
     "metadata": {
      "needs_background": "light",
      "tags": []
     },
     "output_type": "display_data"
    },
    {
     "data": {
      "image/png": "[encoded data removed]",
      "text/plain": [
       "<Figure size 432x288 with 1 Axes>"
      ]
     },
     "metadata": {
      "needs_background": "light",
      "tags": []
     },
     "output_type": "display_data"
    },
    {
     "data": {
      "image/png": "[encoded data removed]",
      "text/plain": [
       "<Figure size 432x288 with 1 Axes>"
      ]
     },
     "metadata": {
      "needs_background": "light",
      "tags": []
     },
     "output_type": "display_data"
    },
    {
     "data": {
      "image/png": "[encoded data removed]",
      "text/plain": [
       "<Figure size 432x288 with 1 Axes>"
      ]
     },
     "metadata": {
      "needs_background": "light",
      "tags": []
     },
     "output_type": "display_data"
    },
    {
     "data": {
      "image/png": "[encoded data removed]",
      "text/plain": [
       "<Figure size 432x288 with 1 Axes>"
      ]
     },
     "metadata": {
      "needs_background": "light",
      "tags": []
     },
     "output_type": "display_data"
    }
   ],
   "source": [
    "for i in model_errors:\n",
    "    evaluate(i.item())"
   ]
  },
  {
   "cell_type": "markdown",
   "metadata": {
    "id": "UEdHl_01wrpS"
   },
   "source": [
    "# Model 2: Multilayer Perceptron\n",
    "\n",
    "### Combining layers and adding non-linearlity\n",
    "<div class=\"alert alert-block alert-info\">\n",
    "So far we have been using the linear relation $y = mx + b$ (and linear layers). If we just make a neural network by combining such linear layers, we will keep getting linear combinations of equations and the function obtained would still be a polynomial of degree 1. <br>\n",
    "\n",
    "To be able to model more complex non-linear relations between inputs and outputs, we'll introduce non-linear activation functions applied to the output of the linear relations we've seen before. In part, this is similar to how real neurons get activated in the brain. <br>\n",
    "\n",
    "This helps model non-linearities and create complex non-linear functions which are not possible to modeled using only polynomial functions of low order. Without the activation, the output value $y$ is unrestricted and can range from $-\\infty$ to $+\\infty$. The activation functions help us restrict the output value of a neuron so that it can be decided whether it will get activated (will fire) or not. Once this non-linearity is added, the result is sent as an input to the next layer (if there is any) in the network. <br>\n",
    "</div>\n",
    "\n",
    "Pytorch contains many different activation functions, such as `nn.ReLU`, `nn.Sigmoid`, `nn.Tanh`, `nn.Softplus` and many more\n",
    "\n",
    "https://adityashrm21.github.io/Why-Rectified-Linear-Units-Work/\n",
    "\n",
    "\n",
    "https://playground.tensorflow.org/"
   ]
  },
  {
   "cell_type": "markdown",
   "metadata": {
    "id": "gI9hqjKjwrpS"
   },
   "source": [
    "## Model class\n",
    "\n",
    "### Let's solve the same digit classification task with a multi-layer non-linear model.\n",
    "\n",
    "As our model is getting more complicated, we will combine its building blocks in a separate class. \n",
    "\n",
    "The model will consist of three subsequent `nn.Linear` layers.\n",
    "\n",
    "The class will also contain the `forward` method to perform forward pass where we will apply the `relu` non-linearity to the outputs of the first two linear layers."
   ]
  },
  {
   "cell_type": "code",
   "execution_count": null,
   "metadata": {
    "id": "eMtqsbqYwrpS",
    "outputId": "11dcc10a-2694-434e-8e6e-3e25874ac986"
   },
   "outputs": [
    {
     "data": {
      "image/svg+xml": [
       "<?xml version=\"1.0\" encoding=\"UTF-8\" standalone=\"no\"?>\n",
       "<!DOCTYPE svg PUBLIC \"-//W3C//DTD SVG 1.1//EN\"\n",
       " \"http://www.w3.org/Graphics/SVG/1.1/DTD/svg11.dtd\">\n",
       "<!-- Generated by graphviz version 2.44.1 (20200629.0846)\n",
       " -->\n",
       "<!-- Title: G Pages: 1 -->\n",
       "<svg width=\"658pt\" height=\"99pt\"\n",
       " viewBox=\"0.00 0.00 658.00 99.00\" xmlns=\"http://www.w3.org/2000/svg\" xmlns:xlink=\"http://www.w3.org/1999/xlink\">\n",
       "<g id=\"graph0\" class=\"graph\" transform=\"scale(1 1) rotate(0) translate(4 95)\">\n",
       "<title>G</title>\n",
       "<polygon fill=\"white\" stroke=\"transparent\" points=\"-4,4 -4,-95 654,-95 654,4 -4,4\"/>\n",
       "<g id=\"clust1\" class=\"cluster\">\n",
       "<title>cluster_nb9f0062286be4fa99e9e3a6b6ea56c47</title>\n",
       "<g id=\"a_clust1\"><a xlink:title=\"Input\">\n",
       "<path fill=\"#555555\" fill-opacity=\"0.133333\" stroke=\"black\" d=\"M20,-8C20,-8 66,-8 66,-8 72,-8 78,-14 78,-20 78,-20 78,-71 78,-71 78,-77 72,-83 66,-83 66,-83 20,-83 20,-83 14,-83 8,-77 8,-71 8,-71 8,-20 8,-20 8,-14 14,-8 20,-8\"/>\n",
       "<text text-anchor=\"middle\" x=\"43\" y=\"-67.8\" font-family=\"Times,serif\" font-size=\"14.00\">Input</text>\n",
       "</a>\n",
       "</g>\n",
       "</g>\n",
       "<g id=\"clust2\" class=\"cluster\">\n",
       "<title>cluster_n88ecbdbfb4644a8a95c4c3ab907f20a5</title>\n",
       "<g id=\"a_clust2\"><a xlink:title=\"Model\">\n",
       "<path fill=\"#555555\" fill-opacity=\"0.133333\" stroke=\"black\" d=\"M110,-8C110,-8 540,-8 540,-8 546,-8 552,-14 552,-20 552,-20 552,-71 552,-71 552,-77 546,-83 540,-83 540,-83 110,-83 110,-83 104,-83 98,-77 98,-71 98,-71 98,-20 98,-20 98,-14 104,-8 110,-8\"/>\n",
       "<text text-anchor=\"middle\" x=\"325\" y=\"-67.8\" font-family=\"Times,serif\" font-size=\"14.00\">Model</text>\n",
       "</a>\n",
       "</g>\n",
       "</g>\n",
       "<g id=\"clust3\" class=\"cluster\">\n",
       "<title>cluster_na18294e3f3d24c41add7ff1e8b853189</title>\n",
       "<g id=\"a_clust3\"><a xlink:title=\"Output\">\n",
       "<path fill=\"#555555\" fill-opacity=\"0.133333\" stroke=\"black\" d=\"M584,-8C584,-8 630,-8 630,-8 636,-8 642,-14 642,-20 642,-20 642,-71 642,-71 642,-77 636,-83 630,-83 630,-83 584,-83 584,-83 578,-83 572,-77 572,-71 572,-71 572,-20 572,-20 572,-14 578,-8 584,-8\"/>\n",
       "<text text-anchor=\"middle\" x=\"607\" y=\"-67.8\" font-family=\"Times,serif\" font-size=\"14.00\">Output</text>\n",
       "</a>\n",
       "</g>\n",
       "</g>\n",
       "<!-- n16a24f034f574628b3487ee5b31b43b7 -->\n",
       "<g id=\"node1\" class=\"node\">\n",
       "<title>n16a24f034f574628b3487ee5b31b43b7</title>\n",
       "<g id=\"a_node1\"><a xlink:title=\"Image\">\n",
       "<path fill=\"#ff8c49\" fill-opacity=\"0.619608\" stroke=\"black\" d=\"M58,-52C58,-52 28,-52 28,-52 22,-52 16,-46 16,-40 16,-40 16,-28 16,-28 16,-22 22,-16 28,-16 28,-16 58,-16 58,-16 64,-16 70,-22 70,-28 70,-28 70,-40 70,-40 70,-46 64,-52 58,-52\"/>\n",
       "<text text-anchor=\"middle\" x=\"43\" y=\"-30.3\" font-family=\"Times,serif\" font-size=\"14.00\">Image</text>\n",
       "</a>\n",
       "</g>\n",
       "</g>\n",
       "<!-- nef2d39a8726146758c1eb9873b764eb8 -->\n",
       "<g id=\"node2\" class=\"node\">\n",
       "<title>nef2d39a8726146758c1eb9873b764eb8</title>\n",
       "<g id=\"a_node2\"><a xlink:title=\"Linear 1\">\n",
       "<path fill=\"#74feba\" fill-opacity=\"0.282353\" stroke=\"black\" d=\"M156,-52C156,-52 118,-52 118,-52 112,-52 106,-46 106,-40 106,-40 106,-28 106,-28 106,-22 112,-16 118,-16 118,-16 156,-16 156,-16 162,-16 168,-22 168,-28 168,-28 168,-40 168,-40 168,-46 162,-52 156,-52\"/>\n",
       "<text text-anchor=\"middle\" x=\"137\" y=\"-30.3\" font-family=\"Times,serif\" font-size=\"14.00\">Linear 1</text>\n",
       "</a>\n",
       "</g>\n",
       "</g>\n",
       "<!-- n16a24f034f574628b3487ee5b31b43b7&#45;&gt;nef2d39a8726146758c1eb9873b764eb8 -->\n",
       "<g id=\"edge5\" class=\"edge\">\n",
       "<title>n16a24f034f574628b3487ee5b31b43b7&#45;&gt;nef2d39a8726146758c1eb9873b764eb8</title>\n",
       "<path fill=\"none\" stroke=\"black\" d=\"M78,-34C83.82,-34 89.92,-34 95.88,-34\"/>\n",
       "<polygon fill=\"black\" stroke=\"black\" points=\"88,-37.5 98,-34 88,-30.5 88,-37.5\"/>\n",
       "</g>\n",
       "<!-- nf09e57ba647d456da4283531e48b4860 -->\n",
       "<g id=\"node3\" class=\"node\">\n",
       "<title>nf09e57ba647d456da4283531e48b4860</title>\n",
       "<g id=\"a_node3\"><a xlink:title=\"ReLU\">\n",
       "<path fill=\"#fbb965\" fill-opacity=\"0.545098\" stroke=\"black\" d=\"M246,-52C246,-52 216,-52 216,-52 210,-52 204,-46 204,-40 204,-40 204,-28 204,-28 204,-22 210,-16 216,-16 216,-16 246,-16 246,-16 252,-16 258,-22 258,-28 258,-28 258,-40 258,-40 258,-46 252,-52 246,-52\"/>\n",
       "<text text-anchor=\"middle\" x=\"231\" y=\"-30.3\" font-family=\"Times,serif\" font-size=\"14.00\">ReLU</text>\n",
       "</a>\n",
       "</g>\n",
       "</g>\n",
       "<!-- nef2d39a8726146758c1eb9873b764eb8&#45;&gt;nf09e57ba647d456da4283531e48b4860 -->\n",
       "<g id=\"edge1\" class=\"edge\">\n",
       "<title>nef2d39a8726146758c1eb9873b764eb8&#45;&gt;nf09e57ba647d456da4283531e48b4860</title>\n",
       "<path fill=\"none\" stroke=\"black\" d=\"M168.12,-34C176.32,-34 185.28,-34 193.78,-34\"/>\n",
       "<polygon fill=\"black\" stroke=\"black\" points=\"193.83,-37.5 203.83,-34 193.83,-30.5 193.83,-37.5\"/>\n",
       "</g>\n",
       "<!-- nbd390569d08b49e6aea2cd2fe53c22c5 -->\n",
       "<g id=\"node4\" class=\"node\">\n",
       "<title>nbd390569d08b49e6aea2cd2fe53c22c5</title>\n",
       "<g id=\"a_node4\"><a xlink:title=\"Linear 2\">\n",
       "<path fill=\"#6629fe\" fill-opacity=\"0.356863\" stroke=\"black\" d=\"M344,-52C344,-52 306,-52 306,-52 300,-52 294,-46 294,-40 294,-40 294,-28 294,-28 294,-22 300,-16 306,-16 306,-16 344,-16 344,-16 350,-16 356,-22 356,-28 356,-28 356,-40 356,-40 356,-46 350,-52 344,-52\"/>\n",
       "<text text-anchor=\"middle\" x=\"325\" y=\"-30.3\" font-family=\"Times,serif\" font-size=\"14.00\">Linear 2</text>\n",
       "</a>\n",
       "</g>\n",
       "</g>\n",
       "<!-- nf09e57ba647d456da4283531e48b4860&#45;&gt;nbd390569d08b49e6aea2cd2fe53c22c5 -->\n",
       "<g id=\"edge2\" class=\"edge\">\n",
       "<title>nf09e57ba647d456da4283531e48b4860&#45;&gt;nbd390569d08b49e6aea2cd2fe53c22c5</title>\n",
       "<path fill=\"none\" stroke=\"black\" d=\"M258.12,-34C266.14,-34 275.15,-34 283.88,-34\"/>\n",
       "<polygon fill=\"black\" stroke=\"black\" points=\"283.92,-37.5 293.92,-34 283.92,-30.5 283.92,-37.5\"/>\n",
       "</g>\n",
       "<!-- nbe73328702bd4cfaa71123c6732a5c55 -->\n",
       "<g id=\"node5\" class=\"node\">\n",
       "<title>nbe73328702bd4cfaa71123c6732a5c55</title>\n",
       "<g id=\"a_node5\"><a xlink:title=\"ReLU\">\n",
       "<path fill=\"#fbb965\" fill-opacity=\"0.545098\" stroke=\"black\" d=\"M434,-52C434,-52 404,-52 404,-52 398,-52 392,-46 392,-40 392,-40 392,-28 392,-28 392,-22 398,-16 404,-16 404,-16 434,-16 434,-16 440,-16 446,-22 446,-28 446,-28 446,-40 446,-40 446,-46 440,-52 434,-52\"/>\n",
       "<text text-anchor=\"middle\" x=\"419\" y=\"-30.3\" font-family=\"Times,serif\" font-size=\"14.00\">ReLU</text>\n",
       "</a>\n",
       "</g>\n",
       "</g>\n",
       "<!-- nbd390569d08b49e6aea2cd2fe53c22c5&#45;&gt;nbe73328702bd4cfaa71123c6732a5c55 -->\n",
       "<g id=\"edge3\" class=\"edge\">\n",
       "<title>nbd390569d08b49e6aea2cd2fe53c22c5&#45;&gt;nbe73328702bd4cfaa71123c6732a5c55</title>\n",
       "<path fill=\"none\" stroke=\"black\" d=\"M356.12,-34C364.32,-34 373.28,-34 381.78,-34\"/>\n",
       "<polygon fill=\"black\" stroke=\"black\" points=\"381.83,-37.5 391.83,-34 381.83,-30.5 381.83,-37.5\"/>\n",
       "</g>\n",
       "<!-- n1abeda1ce0af47fcb22e87e37ad705a6 -->\n",
       "<g id=\"node6\" class=\"node\">\n",
       "<title>n1abeda1ce0af47fcb22e87e37ad705a6</title>\n",
       "<g id=\"a_node6\"><a xlink:title=\"Linear 3\">\n",
       "<path fill=\"#08bee9\" fill-opacity=\"0.698039\" stroke=\"black\" d=\"M532,-52C532,-52 494,-52 494,-52 488,-52 482,-46 482,-40 482,-40 482,-28 482,-28 482,-22 488,-16 494,-16 494,-16 532,-16 532,-16 538,-16 544,-22 544,-28 544,-28 544,-40 544,-40 544,-46 538,-52 532,-52\"/>\n",
       "<text text-anchor=\"middle\" x=\"513\" y=\"-30.3\" font-family=\"Times,serif\" font-size=\"14.00\">Linear 3</text>\n",
       "</a>\n",
       "</g>\n",
       "</g>\n",
       "<!-- nbe73328702bd4cfaa71123c6732a5c55&#45;&gt;n1abeda1ce0af47fcb22e87e37ad705a6 -->\n",
       "<g id=\"edge4\" class=\"edge\">\n",
       "<title>nbe73328702bd4cfaa71123c6732a5c55&#45;&gt;n1abeda1ce0af47fcb22e87e37ad705a6</title>\n",
       "<path fill=\"none\" stroke=\"black\" d=\"M446.12,-34C454.14,-34 463.15,-34 471.88,-34\"/>\n",
       "<polygon fill=\"black\" stroke=\"black\" points=\"471.92,-37.5 481.92,-34 471.92,-30.5 471.92,-37.5\"/>\n",
       "</g>\n",
       "<!-- n5b4f64ca9c1040eb87d3e1a1b96562ca -->\n",
       "<g id=\"node7\" class=\"node\">\n",
       "<title>n5b4f64ca9c1040eb87d3e1a1b96562ca</title>\n",
       "<g id=\"a_node7\"><a xlink:title=\"Class\">\n",
       "<path fill=\"#ffa055\" fill-opacity=\"0.337255\" stroke=\"black\" d=\"M622,-52C622,-52 592,-52 592,-52 586,-52 580,-46 580,-40 580,-40 580,-28 580,-28 580,-22 586,-16 592,-16 592,-16 622,-16 622,-16 628,-16 634,-22 634,-28 634,-28 634,-40 634,-40 634,-46 628,-52 622,-52\"/>\n",
       "<text text-anchor=\"middle\" x=\"607\" y=\"-30.3\" font-family=\"Times,serif\" font-size=\"14.00\">Class</text>\n",
       "</a>\n",
       "</g>\n",
       "</g>\n",
       "<!-- n1abeda1ce0af47fcb22e87e37ad705a6&#45;&gt;n5b4f64ca9c1040eb87d3e1a1b96562ca -->\n",
       "<g id=\"edge6\" class=\"edge\">\n",
       "<title>n1abeda1ce0af47fcb22e87e37ad705a6&#45;&gt;n5b4f64ca9c1040eb87d3e1a1b96562ca</title>\n",
       "<path fill=\"none\" stroke=\"black\" d=\"M552,-34C557.88,-34 563.94,-34 569.78,-34\"/>\n",
       "<polygon fill=\"black\" stroke=\"black\" points=\"562,-37.5 572,-34 562,-30.5 562,-37.5\"/>\n",
       "</g>\n",
       "</g>\n",
       "</svg>\n"
      ],
      "text/plain": [
       "<pydot.Dot at 0x7fc698a14a00>"
      ]
     },
     "execution_count": 58,
     "metadata": {
      "tags": []
     },
     "output_type": "execute_result"
    }
   ],
   "source": [
    "blocks  = ['Input', 'Model', 'Output']\n",
    "layers = [['Image'], ['Linear 1','ReLU', 'Linear 2', 'ReLU', 'Linear 3'], ['Class']]\n",
    "conns = ((blocks[0], blocks[1]),\n",
    "         (blocks[1], blocks[2]),\n",
    "        )\n",
    "g = graph_items(seq_cluster(layers[0], blocks[0]),\n",
    "                seq_cluster(layers[1], blocks[1]),\n",
    "                seq_cluster(layers[2], blocks[2]),\n",
    "               )\n",
    "g.add_items(*object_connections(conns))\n",
    "g"
   ]
  },
  {
   "cell_type": "code",
   "execution_count": null,
   "metadata": {
    "id": "4daOT2tPwrpT"
   },
   "outputs": [],
   "source": [
    "class MLP(nn.Module):\n",
    "    \n",
    "    def __init__(self):\n",
    "        super().__init__()\n",
    "        self.linear1 = nn.Linear(in_features=784, out_features=250)\n",
    "        self.linear2 = nn.Linear(in_features=250, out_features=100)\n",
    "        self.linear3 = nn.Linear(in_features=100, out_features=10)\n",
    "    \n",
    "    def forward(self, x):\n",
    "        # reshaping inside \n",
    "        x = x.view(-1, 28 * 28)\n",
    "        x = F.relu(self.linear1(x))\n",
    "        x = F.relu(self.linear2(x))\n",
    "        x = self.linear3(x)\n",
    "        return x"
   ]
  },
  {
   "cell_type": "markdown",
   "metadata": {
    "id": "LevFq-8CwrpT"
   },
   "source": [
    "Let's initialize the model, the loss function, and the optimizer"
   ]
  },
  {
   "cell_type": "code",
   "execution_count": null,
   "metadata": {
    "id": "yq6L4QmlwrpT"
   },
   "outputs": [],
   "source": [
    "num_classes = 10\n",
    "num_epochs = 5\n",
    "batch_size = 100\n",
    "learning_rate = 0.11\n",
    "\n",
    "model = MLP() # instance of our custom class\n",
    "\n",
    "# Loss and optimizer\n",
    "loss_fn = nn.CrossEntropyLoss() # computes softmax internally\n",
    "optimizer = torch.optim.SGD(model.parameters(), lr=learning_rate)"
   ]
  },
  {
   "cell_type": "markdown",
   "metadata": {
    "id": "T5XZuDGgwrpU"
   },
   "source": [
    "Print model configuration"
   ]
  },
  {
   "cell_type": "code",
   "execution_count": null,
   "metadata": {
    "id": "GBC94fBLwrpU",
    "outputId": "b09cb2db-aae5-4cf1-be1c-fd847f9b1b4a"
   },
   "outputs": [
    {
     "data": {
      "text/plain": [
       "MLP(\n",
       "  (linear1): Linear(in_features=784, out_features=250, bias=True)\n",
       "  (linear2): Linear(in_features=250, out_features=100, bias=True)\n",
       "  (linear3): Linear(in_features=100, out_features=10, bias=True)\n",
       ")"
      ]
     },
     "execution_count": 61,
     "metadata": {
      "tags": []
     },
     "output_type": "execute_result"
    }
   ],
   "source": [
    "model"
   ]
  },
  {
   "cell_type": "code",
   "execution_count": null,
   "metadata": {
    "id": "fMxU7SNPwrpV",
    "outputId": "65e6e61b-3a79-4955-f9e5-b04498cf2a05"
   },
   "outputs": [
    {
     "data": {
      "text/plain": [
       "6"
      ]
     },
     "execution_count": 62,
     "metadata": {
      "tags": []
     },
     "output_type": "execute_result"
    }
   ],
   "source": [
    "len(list(model.parameters())) # 6 groups of parameters, 2 groups per layer"
   ]
  },
  {
   "cell_type": "code",
   "execution_count": null,
   "metadata": {
    "id": "KJzc1U1TwrpW",
    "outputId": "6d827b57-4bf5-4d2b-9f57-4417b9557c93"
   },
   "outputs": [
    {
     "name": "stdout",
     "output_type": "stream",
     "text": [
      "linear1.weight torch.Size([250, 784])\n",
      "linear1.bias torch.Size([250])\n",
      "linear2.weight torch.Size([100, 250])\n",
      "linear2.bias torch.Size([100])\n",
      "linear3.weight torch.Size([10, 100])\n",
      "linear3.bias torch.Size([10])\n"
     ]
    }
   ],
   "source": [
    "for name, param in model.named_parameters():\n",
    "    print(name, param.shape)"
   ]
  },
  {
   "cell_type": "markdown",
   "metadata": {
    "id": "t1qCBe9cwrpW"
   },
   "source": [
    "## Train the model"
   ]
  },
  {
   "cell_type": "code",
   "execution_count": null,
   "metadata": {
    "id": "uax7TD4rwrpW"
   },
   "outputs": [],
   "source": [
    "def train_fit(model, loss_fn, train_dl, num_epoch, optimizer):\n",
    "    \n",
    "    losses = [] # here we will collect the loss history\n",
    "    n_steps = len(train_dl)\n",
    "    \n",
    "    model.train() # switch to training mode\n",
    "    \n",
    "    for epoch in range(num_epochs):\n",
    "        for i, (images, labels) in enumerate(train_dl):        \n",
    "            \n",
    "            # Forward pass\n",
    "            outputs = model(images)\n",
    "            loss = loss_fn(outputs, labels)\n",
    "            \n",
    "            # Backward and optimize\n",
    "            optimizer.zero_grad()\n",
    "            loss.backward()\n",
    "            losses.append(loss.item())\n",
    "            optimizer.step()\n",
    "            \n",
    "            if (i+1) % 100 == 0:\n",
    "                print ('Epoch [{}/{}], Step [{}/{}], Loss: {:.4f}' \n",
    "                       .format(epoch+1, num_epochs, i+1, n_steps, loss.item()))\n",
    "    return model, losses\n"
   ]
  },
  {
   "cell_type": "code",
   "execution_count": null,
   "metadata": {
    "id": "7Obq9iNHwrpX"
   },
   "outputs": [],
   "source": [
    "def valid_fit(model, valid_dl):\n",
    "    \n",
    "    model.eval() # switch to evaluation mode\n",
    "    \n",
    "    with torch.no_grad():\n",
    "        correct = 0.\n",
    "        total = 0\n",
    "        for images, labels in valid_dl:\n",
    "            outputs = model(images)\n",
    "            _, predicted = torch.max(outputs.data, 1)\n",
    "            total += labels.size(0)\n",
    "            correct += (predicted == labels).sum()\n",
    "\n",
    "        print('Accuracy of the model on the 10000 test images: {} %'.format(100 * correct / total))"
   ]
  },
  {
   "cell_type": "code",
   "execution_count": null,
   "metadata": {
    "id": "Iw7elPG_wrpY",
    "outputId": "1f7c5152-95c4-42ef-d6a4-c407b9b5432c"
   },
   "outputs": [
    {
     "name": "stdout",
     "output_type": "stream",
     "text": [
      "Epoch [1/5], Step [100/938], Loss: 0.8471\n",
      "Epoch [1/5], Step [200/938], Loss: 0.4995\n",
      "Epoch [1/5], Step [300/938], Loss: 0.3070\n",
      "Epoch [1/5], Step [400/938], Loss: 0.2059\n",
      "Epoch [1/5], Step [500/938], Loss: 0.4453\n",
      "Epoch [1/5], Step [600/938], Loss: 0.3456\n",
      "Epoch [1/5], Step [700/938], Loss: 0.2737\n",
      "Epoch [1/5], Step [800/938], Loss: 0.2701\n",
      "Epoch [1/5], Step [900/938], Loss: 0.3922\n",
      "Epoch [2/5], Step [100/938], Loss: 0.2146\n",
      "Epoch [2/5], Step [200/938], Loss: 0.1589\n",
      "Epoch [2/5], Step [300/938], Loss: 0.1095\n",
      "Epoch [2/5], Step [400/938], Loss: 0.0784\n",
      "Epoch [2/5], Step [500/938], Loss: 0.1474\n",
      "Epoch [2/5], Step [600/938], Loss: 0.3544\n",
      "Epoch [2/5], Step [700/938], Loss: 0.0896\n",
      "Epoch [2/5], Step [800/938], Loss: 0.1072\n",
      "Epoch [2/5], Step [900/938], Loss: 0.0682\n",
      "Epoch [3/5], Step [100/938], Loss: 0.1230\n",
      "Epoch [3/5], Step [200/938], Loss: 0.1220\n",
      "Epoch [3/5], Step [300/938], Loss: 0.1138\n",
      "Epoch [3/5], Step [400/938], Loss: 0.1137\n",
      "Epoch [3/5], Step [500/938], Loss: 0.0665\n",
      "Epoch [3/5], Step [600/938], Loss: 0.1636\n",
      "Epoch [3/5], Step [700/938], Loss: 0.0981\n",
      "Epoch [3/5], Step [800/938], Loss: 0.0758\n",
      "Epoch [3/5], Step [900/938], Loss: 0.1626\n",
      "Epoch [4/5], Step [100/938], Loss: 0.0592\n",
      "Epoch [4/5], Step [200/938], Loss: 0.0306\n",
      "Epoch [4/5], Step [300/938], Loss: 0.0982\n",
      "Epoch [4/5], Step [400/938], Loss: 0.0851\n",
      "Epoch [4/5], Step [500/938], Loss: 0.1037\n",
      "Epoch [4/5], Step [600/938], Loss: 0.0639\n",
      "Epoch [4/5], Step [700/938], Loss: 0.0908\n",
      "Epoch [4/5], Step [800/938], Loss: 0.0576\n",
      "Epoch [4/5], Step [900/938], Loss: 0.0220\n",
      "Epoch [5/5], Step [100/938], Loss: 0.0811\n",
      "Epoch [5/5], Step [200/938], Loss: 0.0288\n",
      "Epoch [5/5], Step [300/938], Loss: 0.1661\n",
      "Epoch [5/5], Step [400/938], Loss: 0.0564\n",
      "Epoch [5/5], Step [500/938], Loss: 0.0866\n",
      "Epoch [5/5], Step [600/938], Loss: 0.0737\n",
      "Epoch [5/5], Step [700/938], Loss: 0.0871\n",
      "Epoch [5/5], Step [800/938], Loss: 0.0318\n",
      "Epoch [5/5], Step [900/938], Loss: 0.0146\n"
     ]
    }
   ],
   "source": [
    "model, losses = train_fit(model, loss_fn, train_dl, num_epochs, optimizer)"
   ]
  },
  {
   "cell_type": "code",
   "execution_count": null,
   "metadata": {
    "id": "-kGNnNJYwrpa",
    "outputId": "66ac4900-bc97-4b46-e203-2217067c147d"
   },
   "outputs": [
    {
     "data": {
      "image/png": "[encoded data removed]",
      "text/plain": [
       "<Figure size 432x288 with 1 Axes>"
      ]
     },
     "metadata": {
      "needs_background": "light",
      "tags": []
     },
     "output_type": "display_data"
    }
   ],
   "source": [
    "plt.plot(losses)\n",
    "plt.yscale('log')\n",
    "plt.xlabel('Training iteration')\n",
    "plt.ylabel('Training loss')\n",
    "plt.grid()"
   ]
  },
  {
   "cell_type": "code",
   "execution_count": null,
   "metadata": {
    "id": "y_5pkYsuwrpa",
    "outputId": "db6a88af-57f5-4f6b-db88-ed4c053eb0b4"
   },
   "outputs": [
    {
     "name": "stdout",
     "output_type": "stream",
     "text": [
      "Accuracy of the model on the 10000 test images: 97.44999694824219 %\n"
     ]
    }
   ],
   "source": [
    "valid_fit(model, valid_dl)"
   ]
  },
  {
   "cell_type": "markdown",
   "metadata": {
    "id": "JXup-FAYwrpb"
   },
   "source": [
    "Great!\n",
    "\n",
    "Now let's get some predictions"
   ]
  },
  {
   "cell_type": "code",
   "execution_count": null,
   "metadata": {
    "id": "7zwmsDMVwrpb"
   },
   "outputs": [],
   "source": [
    "images, labels = next(iter(valid_dl))\n",
    "with torch.no_grad():\n",
    "    images = images.reshape(-1, input_size)\n",
    "    outputs = model(images)\n",
    "    _, predicted = torch.max(outputs.data, 1)"
   ]
  },
  {
   "cell_type": "code",
   "execution_count": null,
   "metadata": {
    "id": "ryROzTJuwrpc",
    "outputId": "6f94eee1-528b-44b3-bcaf-ad933295bf41"
   },
   "outputs": [
    {
     "data": {
      "text/plain": [
       "torch.Size([64, 28, 28])"
      ]
     },
     "execution_count": 70,
     "metadata": {
      "tags": []
     },
     "output_type": "execute_result"
    }
   ],
   "source": [
    "images = images.reshape(-1, 28, 28)\n",
    "images.shape"
   ]
  },
  {
   "cell_type": "code",
   "execution_count": null,
   "metadata": {
    "id": "4ep2OMW-wrpd",
    "outputId": "3b80a548-2c5c-4955-e3dd-3dc564682df8"
   },
   "outputs": [
    {
     "data": {
      "image/png": "[encoded data removed]",
      "text/plain": [
       "<Figure size 432x288 with 1 Axes>"
      ]
     },
     "metadata": {
      "needs_background": "light",
      "tags": []
     },
     "output_type": "display_data"
    }
   ],
   "source": [
    "evaluate(index=2)"
   ]
  },
  {
   "cell_type": "markdown",
   "metadata": {
    "id": "Ww2UOkgTwrpe"
   },
   "source": [
    "# Model 3: Convolutional Neural Network (CNN)\n",
    "<div class=\"alert alert-block alert-info\">\n",
    "<b>CNN</b> is a major improvement upon the simple (fully connected) multilayer perceptron for tasks where local information is important, and where translational invariance can be expected. Our image classification task is just like this! <br>\n",
    "</div>\n",
    "\n",
    "\n",
    "https://setosa.io/ev/image-kernels/\n",
    "\n",
    "https://towardsdatascience.com/history-of-convolutional-blocks-in-simple-code-96a7ddceac0c\n",
    "\n",
    "<div class=\"alert alert-block alert-info\">\n",
    "Our model will be constructed as a separate class <b>CNNModel</b>. It will contain three convolutional blocks followed by a <b>nn.Linear</b> layer. Conceptually, this architecture can be thought of as a convolutional feature extractor (the three convolutional blocks) followed by a simple linear classifier (the linear layer), just like the one we've used before. Each convolution block is also a separate class <b>ConvBlock</b>. It contains a convolutional <b>nn.Conv2d</b> layer, followed by a non-linear activation and by a pooling layer <b>nn.MaxPool2d<b>.\n",
    "</div>"
   ]
  },
  {
   "cell_type": "code",
   "execution_count": null,
   "metadata": {
    "id": "kHS4mA7Xwrpf",
    "outputId": "d9acf119-e014-420b-d277-2c418edf4b7a"
   },
   "outputs": [
    {
     "data": {
      "image/svg+xml": [
       "<?xml version=\"1.0\" encoding=\"UTF-8\" standalone=\"no\"?>\n",
       "<!DOCTYPE svg PUBLIC \"-//W3C//DTD SVG 1.1//EN\"\n",
       " \"http://www.w3.org/Graphics/SVG/1.1/DTD/svg11.dtd\">\n",
       "<!-- Generated by graphviz version 2.44.1 (20200629.0846)\n",
       " -->\n",
       "<!-- Title: G Pages: 1 -->\n",
       "<svg width=\"1084pt\" height=\"99pt\"\n",
       " viewBox=\"0.00 0.00 1084.00 99.00\" xmlns=\"http://www.w3.org/2000/svg\" xmlns:xlink=\"http://www.w3.org/1999/xlink\">\n",
       "<g id=\"graph0\" class=\"graph\" transform=\"scale(1 1) rotate(0) translate(4 95)\">\n",
       "<title>G</title>\n",
       "<polygon fill=\"white\" stroke=\"transparent\" points=\"-4,4 -4,-95 1080,-95 1080,4 -4,4\"/>\n",
       "<g id=\"clust1\" class=\"cluster\">\n",
       "<title>cluster_n7cf3ebd51ac44d5297f776fc6cd88f0e</title>\n",
       "<g id=\"a_clust1\"><a xlink:title=\"Input\">\n",
       "<path fill=\"#555555\" fill-opacity=\"0.133333\" stroke=\"black\" d=\"M20,-8C20,-8 66,-8 66,-8 72,-8 78,-14 78,-20 78,-20 78,-71 78,-71 78,-77 72,-83 66,-83 66,-83 20,-83 20,-83 14,-83 8,-77 8,-71 8,-71 8,-20 8,-20 8,-14 14,-8 20,-8\"/>\n",
       "<text text-anchor=\"middle\" x=\"43\" y=\"-67.8\" font-family=\"Times,serif\" font-size=\"14.00\">Input</text>\n",
       "</a>\n",
       "</g>\n",
       "</g>\n",
       "<g id=\"clust2\" class=\"cluster\">\n",
       "<title>cluster_n7f8a0e1dbc2246b393792d8e1c87237a</title>\n",
       "<g id=\"a_clust2\"><a xlink:title=\"Conv block 1\">\n",
       "<path fill=\"#555555\" fill-opacity=\"0.133333\" stroke=\"black\" d=\"M110,-8C110,-8 336,-8 336,-8 342,-8 348,-14 348,-20 348,-20 348,-71 348,-71 348,-77 342,-83 336,-83 336,-83 110,-83 110,-83 104,-83 98,-77 98,-71 98,-71 98,-20 98,-20 98,-14 104,-8 110,-8\"/>\n",
       "<text text-anchor=\"middle\" x=\"223\" y=\"-67.8\" font-family=\"Times,serif\" font-size=\"14.00\">Conv block 1</text>\n",
       "</a>\n",
       "</g>\n",
       "</g>\n",
       "<g id=\"clust3\" class=\"cluster\">\n",
       "<title>cluster_n48e88fda8d664cd3b4c2ae9567c1180a</title>\n",
       "<g id=\"a_clust3\"><a xlink:title=\"Conv block 2\">\n",
       "<path fill=\"#555555\" fill-opacity=\"0.133333\" stroke=\"black\" d=\"M380,-8C380,-8 606,-8 606,-8 612,-8 618,-14 618,-20 618,-20 618,-71 618,-71 618,-77 612,-83 606,-83 606,-83 380,-83 380,-83 374,-83 368,-77 368,-71 368,-71 368,-20 368,-20 368,-14 374,-8 380,-8\"/>\n",
       "<text text-anchor=\"middle\" x=\"493\" y=\"-67.8\" font-family=\"Times,serif\" font-size=\"14.00\">Conv block 2</text>\n",
       "</a>\n",
       "</g>\n",
       "</g>\n",
       "<g id=\"clust4\" class=\"cluster\">\n",
       "<title>cluster_ndcf9d572275b4ecc90bdda5c8de5de6e</title>\n",
       "<g id=\"a_clust4\"><a xlink:title=\"Conv block 3\">\n",
       "<path fill=\"#555555\" fill-opacity=\"0.133333\" stroke=\"black\" d=\"M650,-8C650,-8 876,-8 876,-8 882,-8 888,-14 888,-20 888,-20 888,-71 888,-71 888,-77 882,-83 876,-83 876,-83 650,-83 650,-83 644,-83 638,-77 638,-71 638,-71 638,-20 638,-20 638,-14 644,-8 650,-8\"/>\n",
       "<text text-anchor=\"middle\" x=\"763\" y=\"-67.8\" font-family=\"Times,serif\" font-size=\"14.00\">Conv block 3</text>\n",
       "</a>\n",
       "</g>\n",
       "</g>\n",
       "<g id=\"clust5\" class=\"cluster\">\n",
       "<title>cluster_nc06b0143dc154c6e979959011b1fd9b4</title>\n",
       "<g id=\"a_clust5\"><a xlink:title=\"Linear\">\n",
       "<path fill=\"#555555\" fill-opacity=\"0.133333\" stroke=\"black\" d=\"M920,-8C920,-8 966,-8 966,-8 972,-8 978,-14 978,-20 978,-20 978,-71 978,-71 978,-77 972,-83 966,-83 966,-83 920,-83 920,-83 914,-83 908,-77 908,-71 908,-71 908,-20 908,-20 908,-14 914,-8 920,-8\"/>\n",
       "<text text-anchor=\"middle\" x=\"943\" y=\"-67.8\" font-family=\"Times,serif\" font-size=\"14.00\">Linear</text>\n",
       "</a>\n",
       "</g>\n",
       "</g>\n",
       "<g id=\"clust6\" class=\"cluster\">\n",
       "<title>cluster_n5ad1fd94cc5344749a76350d49901947</title>\n",
       "<g id=\"a_clust6\"><a xlink:title=\"Output\">\n",
       "<path fill=\"#555555\" fill-opacity=\"0.133333\" stroke=\"black\" d=\"M1010,-8C1010,-8 1056,-8 1056,-8 1062,-8 1068,-14 1068,-20 1068,-20 1068,-71 1068,-71 1068,-77 1062,-83 1056,-83 1056,-83 1010,-83 1010,-83 1004,-83 998,-77 998,-71 998,-71 998,-20 998,-20 998,-14 1004,-8 1010,-8\"/>\n",
       "<text text-anchor=\"middle\" x=\"1033\" y=\"-67.8\" font-family=\"Times,serif\" font-size=\"14.00\">Output</text>\n",
       "</a>\n",
       "</g>\n",
       "</g>\n",
       "<!-- na4f3f1a415ce47f0bfbdc95bb8447da6 -->\n",
       "<g id=\"node1\" class=\"node\">\n",
       "<title>na4f3f1a415ce47f0bfbdc95bb8447da6</title>\n",
       "<g id=\"a_node1\"><a xlink:title=\"Image\">\n",
       "<path fill=\"#ff8c49\" fill-opacity=\"0.619608\" stroke=\"black\" d=\"M58,-52C58,-52 28,-52 28,-52 22,-52 16,-46 16,-40 16,-40 16,-28 16,-28 16,-22 22,-16 28,-16 28,-16 58,-16 58,-16 64,-16 70,-22 70,-28 70,-28 70,-40 70,-40 70,-46 64,-52 58,-52\"/>\n",
       "<text text-anchor=\"middle\" x=\"43\" y=\"-30.3\" font-family=\"Times,serif\" font-size=\"14.00\">Image</text>\n",
       "</a>\n",
       "</g>\n",
       "</g>\n",
       "<!-- n16d59e813eaf42d1904beeba6a8cddf0 -->\n",
       "<g id=\"node2\" class=\"node\">\n",
       "<title>n16d59e813eaf42d1904beeba6a8cddf0</title>\n",
       "<g id=\"a_node2\"><a xlink:title=\"Conv\">\n",
       "<path fill=\"#ff2613\" fill-opacity=\"0.254902\" stroke=\"black\" d=\"M148,-52C148,-52 118,-52 118,-52 112,-52 106,-46 106,-40 106,-40 106,-28 106,-28 106,-22 112,-16 118,-16 118,-16 148,-16 148,-16 154,-16 160,-22 160,-28 160,-28 160,-40 160,-40 160,-46 154,-52 148,-52\"/>\n",
       "<text text-anchor=\"middle\" x=\"133\" y=\"-30.3\" font-family=\"Times,serif\" font-size=\"14.00\">Conv</text>\n",
       "</a>\n",
       "</g>\n",
       "</g>\n",
       "<!-- na4f3f1a415ce47f0bfbdc95bb8447da6&#45;&gt;n16d59e813eaf42d1904beeba6a8cddf0 -->\n",
       "<g id=\"edge7\" class=\"edge\">\n",
       "<title>na4f3f1a415ce47f0bfbdc95bb8447da6&#45;&gt;n16d59e813eaf42d1904beeba6a8cddf0</title>\n",
       "<path fill=\"none\" stroke=\"black\" d=\"M78,-34C83.84,-34 89.93,-34 95.82,-34\"/>\n",
       "<polygon fill=\"black\" stroke=\"black\" points=\"88,-37.5 98,-34 88,-30.5 88,-37.5\"/>\n",
       "</g>\n",
       "<!-- n4355973216b64b95bbbdd5f67de7acf6 -->\n",
       "<g id=\"node3\" class=\"node\">\n",
       "<title>n4355973216b64b95bbbdd5f67de7acf6</title>\n",
       "<g id=\"a_node3\"><a xlink:title=\"ReLU\">\n",
       "<path fill=\"#fbb965\" fill-opacity=\"0.545098\" stroke=\"black\" d=\"M238,-52C238,-52 208,-52 208,-52 202,-52 196,-46 196,-40 196,-40 196,-28 196,-28 196,-22 202,-16 208,-16 208,-16 238,-16 238,-16 244,-16 250,-22 250,-28 250,-28 250,-40 250,-40 250,-46 244,-52 238,-52\"/>\n",
       "<text text-anchor=\"middle\" x=\"223\" y=\"-30.3\" font-family=\"Times,serif\" font-size=\"14.00\">ReLU</text>\n",
       "</a>\n",
       "</g>\n",
       "</g>\n",
       "<!-- n16d59e813eaf42d1904beeba6a8cddf0&#45;&gt;n4355973216b64b95bbbdd5f67de7acf6 -->\n",
       "<g id=\"edge1\" class=\"edge\">\n",
       "<title>n16d59e813eaf42d1904beeba6a8cddf0&#45;&gt;n4355973216b64b95bbbdd5f67de7acf6</title>\n",
       "<path fill=\"none\" stroke=\"black\" d=\"M160.4,-34C168.39,-34 177.31,-34 185.82,-34\"/>\n",
       "<polygon fill=\"black\" stroke=\"black\" points=\"185.92,-37.5 195.92,-34 185.92,-30.5 185.92,-37.5\"/>\n",
       "</g>\n",
       "<!-- ne6e47107d59a429ba643fb3dea067064 -->\n",
       "<g id=\"node4\" class=\"node\">\n",
       "<title>ne6e47107d59a429ba643fb3dea067064</title>\n",
       "<g id=\"a_node4\"><a xlink:title=\"Pool\">\n",
       "<path fill=\"#ff7e41\" fill-opacity=\"0.513725\" stroke=\"black\" d=\"M328,-52C328,-52 298,-52 298,-52 292,-52 286,-46 286,-40 286,-40 286,-28 286,-28 286,-22 292,-16 298,-16 298,-16 328,-16 328,-16 334,-16 340,-22 340,-28 340,-28 340,-40 340,-40 340,-46 334,-52 328,-52\"/>\n",
       "<text text-anchor=\"middle\" x=\"313\" y=\"-30.3\" font-family=\"Times,serif\" font-size=\"14.00\">Pool</text>\n",
       "</a>\n",
       "</g>\n",
       "</g>\n",
       "<!-- n4355973216b64b95bbbdd5f67de7acf6&#45;&gt;ne6e47107d59a429ba643fb3dea067064 -->\n",
       "<g id=\"edge2\" class=\"edge\">\n",
       "<title>n4355973216b64b95bbbdd5f67de7acf6&#45;&gt;ne6e47107d59a429ba643fb3dea067064</title>\n",
       "<path fill=\"none\" stroke=\"black\" d=\"M250.4,-34C258.39,-34 267.31,-34 275.82,-34\"/>\n",
       "<polygon fill=\"black\" stroke=\"black\" points=\"275.92,-37.5 285.92,-34 275.92,-30.5 275.92,-37.5\"/>\n",
       "</g>\n",
       "<!-- n2780cc2b471d4773b7fc478d4fe68e84 -->\n",
       "<g id=\"node5\" class=\"node\">\n",
       "<title>n2780cc2b471d4773b7fc478d4fe68e84</title>\n",
       "<g id=\"a_node5\"><a xlink:title=\"Conv\">\n",
       "<path fill=\"#ff2613\" fill-opacity=\"0.254902\" stroke=\"black\" d=\"M418,-52C418,-52 388,-52 388,-52 382,-52 376,-46 376,-40 376,-40 376,-28 376,-28 376,-22 382,-16 388,-16 388,-16 418,-16 418,-16 424,-16 430,-22 430,-28 430,-28 430,-40 430,-40 430,-46 424,-52 418,-52\"/>\n",
       "<text text-anchor=\"middle\" x=\"403\" y=\"-30.3\" font-family=\"Times,serif\" font-size=\"14.00\">Conv</text>\n",
       "</a>\n",
       "</g>\n",
       "</g>\n",
       "<!-- ne6e47107d59a429ba643fb3dea067064&#45;&gt;n2780cc2b471d4773b7fc478d4fe68e84 -->\n",
       "<g id=\"edge8\" class=\"edge\">\n",
       "<title>ne6e47107d59a429ba643fb3dea067064&#45;&gt;n2780cc2b471d4773b7fc478d4fe68e84</title>\n",
       "<path fill=\"none\" stroke=\"black\" d=\"M348,-34C353.84,-34 359.93,-34 365.82,-34\"/>\n",
       "<polygon fill=\"black\" stroke=\"black\" points=\"358,-37.5 368,-34 358,-30.5 358,-37.5\"/>\n",
       "</g>\n",
       "<!-- n4d1c7252849a47b69ec0e6729966e80c -->\n",
       "<g id=\"node6\" class=\"node\">\n",
       "<title>n4d1c7252849a47b69ec0e6729966e80c</title>\n",
       "<g id=\"a_node6\"><a xlink:title=\"ReLU\">\n",
       "<path fill=\"#fbb965\" fill-opacity=\"0.545098\" stroke=\"black\" d=\"M508,-52C508,-52 478,-52 478,-52 472,-52 466,-46 466,-40 466,-40 466,-28 466,-28 466,-22 472,-16 478,-16 478,-16 508,-16 508,-16 514,-16 520,-22 520,-28 520,-28 520,-40 520,-40 520,-46 514,-52 508,-52\"/>\n",
       "<text text-anchor=\"middle\" x=\"493\" y=\"-30.3\" font-family=\"Times,serif\" font-size=\"14.00\">ReLU</text>\n",
       "</a>\n",
       "</g>\n",
       "</g>\n",
       "<!-- n2780cc2b471d4773b7fc478d4fe68e84&#45;&gt;n4d1c7252849a47b69ec0e6729966e80c -->\n",
       "<g id=\"edge3\" class=\"edge\">\n",
       "<title>n2780cc2b471d4773b7fc478d4fe68e84&#45;&gt;n4d1c7252849a47b69ec0e6729966e80c</title>\n",
       "<path fill=\"none\" stroke=\"black\" d=\"M430.4,-34C438.39,-34 447.31,-34 455.82,-34\"/>\n",
       "<polygon fill=\"black\" stroke=\"black\" points=\"455.92,-37.5 465.92,-34 455.92,-30.5 455.92,-37.5\"/>\n",
       "</g>\n",
       "<!-- n113afa2d8a3f441b9f12973a21a18f73 -->\n",
       "<g id=\"node7\" class=\"node\">\n",
       "<title>n113afa2d8a3f441b9f12973a21a18f73</title>\n",
       "<g id=\"a_node7\"><a xlink:title=\"Pool\">\n",
       "<path fill=\"#ff7e41\" fill-opacity=\"0.513725\" stroke=\"black\" d=\"M598,-52C598,-52 568,-52 568,-52 562,-52 556,-46 556,-40 556,-40 556,-28 556,-28 556,-22 562,-16 568,-16 568,-16 598,-16 598,-16 604,-16 610,-22 610,-28 610,-28 610,-40 610,-40 610,-46 604,-52 598,-52\"/>\n",
       "<text text-anchor=\"middle\" x=\"583\" y=\"-30.3\" font-family=\"Times,serif\" font-size=\"14.00\">Pool</text>\n",
       "</a>\n",
       "</g>\n",
       "</g>\n",
       "<!-- n4d1c7252849a47b69ec0e6729966e80c&#45;&gt;n113afa2d8a3f441b9f12973a21a18f73 -->\n",
       "<g id=\"edge4\" class=\"edge\">\n",
       "<title>n4d1c7252849a47b69ec0e6729966e80c&#45;&gt;n113afa2d8a3f441b9f12973a21a18f73</title>\n",
       "<path fill=\"none\" stroke=\"black\" d=\"M520.4,-34C528.39,-34 537.31,-34 545.82,-34\"/>\n",
       "<polygon fill=\"black\" stroke=\"black\" points=\"545.92,-37.5 555.92,-34 545.92,-30.5 545.92,-37.5\"/>\n",
       "</g>\n",
       "<!-- ne47165b5ce52473f8f550b58bd51afeb -->\n",
       "<g id=\"node8\" class=\"node\">\n",
       "<title>ne47165b5ce52473f8f550b58bd51afeb</title>\n",
       "<g id=\"a_node8\"><a xlink:title=\"Conv\">\n",
       "<path fill=\"#ff2613\" fill-opacity=\"0.254902\" stroke=\"black\" d=\"M688,-52C688,-52 658,-52 658,-52 652,-52 646,-46 646,-40 646,-40 646,-28 646,-28 646,-22 652,-16 658,-16 658,-16 688,-16 688,-16 694,-16 700,-22 700,-28 700,-28 700,-40 700,-40 700,-46 694,-52 688,-52\"/>\n",
       "<text text-anchor=\"middle\" x=\"673\" y=\"-30.3\" font-family=\"Times,serif\" font-size=\"14.00\">Conv</text>\n",
       "</a>\n",
       "</g>\n",
       "</g>\n",
       "<!-- n113afa2d8a3f441b9f12973a21a18f73&#45;&gt;ne47165b5ce52473f8f550b58bd51afeb -->\n",
       "<g id=\"edge9\" class=\"edge\">\n",
       "<title>n113afa2d8a3f441b9f12973a21a18f73&#45;&gt;ne47165b5ce52473f8f550b58bd51afeb</title>\n",
       "<path fill=\"none\" stroke=\"black\" d=\"M618,-34C623.84,-34 629.93,-34 635.82,-34\"/>\n",
       "<polygon fill=\"black\" stroke=\"black\" points=\"628,-37.5 638,-34 628,-30.5 628,-37.5\"/>\n",
       "</g>\n",
       "<!-- n39ed8aa93c3b4adbbe5fad7110912cc5 -->\n",
       "<g id=\"node9\" class=\"node\">\n",
       "<title>n39ed8aa93c3b4adbbe5fad7110912cc5</title>\n",
       "<g id=\"a_node9\"><a xlink:title=\"ReLU\">\n",
       "<path fill=\"#fbb965\" fill-opacity=\"0.545098\" stroke=\"black\" d=\"M778,-52C778,-52 748,-52 748,-52 742,-52 736,-46 736,-40 736,-40 736,-28 736,-28 736,-22 742,-16 748,-16 748,-16 778,-16 778,-16 784,-16 790,-22 790,-28 790,-28 790,-40 790,-40 790,-46 784,-52 778,-52\"/>\n",
       "<text text-anchor=\"middle\" x=\"763\" y=\"-30.3\" font-family=\"Times,serif\" font-size=\"14.00\">ReLU</text>\n",
       "</a>\n",
       "</g>\n",
       "</g>\n",
       "<!-- ne47165b5ce52473f8f550b58bd51afeb&#45;&gt;n39ed8aa93c3b4adbbe5fad7110912cc5 -->\n",
       "<g id=\"edge5\" class=\"edge\">\n",
       "<title>ne47165b5ce52473f8f550b58bd51afeb&#45;&gt;n39ed8aa93c3b4adbbe5fad7110912cc5</title>\n",
       "<path fill=\"none\" stroke=\"black\" d=\"M700.4,-34C708.39,-34 717.31,-34 725.82,-34\"/>\n",
       "<polygon fill=\"black\" stroke=\"black\" points=\"725.92,-37.5 735.92,-34 725.92,-30.5 725.92,-37.5\"/>\n",
       "</g>\n",
       "<!-- nd154928f8fff4113bd72eff68a0fc890 -->\n",
       "<g id=\"node10\" class=\"node\">\n",
       "<title>nd154928f8fff4113bd72eff68a0fc890</title>\n",
       "<g id=\"a_node10\"><a xlink:title=\"Pool\">\n",
       "<path fill=\"#ff7e41\" fill-opacity=\"0.513725\" stroke=\"black\" d=\"M868,-52C868,-52 838,-52 838,-52 832,-52 826,-46 826,-40 826,-40 826,-28 826,-28 826,-22 832,-16 838,-16 838,-16 868,-16 868,-16 874,-16 880,-22 880,-28 880,-28 880,-40 880,-40 880,-46 874,-52 868,-52\"/>\n",
       "<text text-anchor=\"middle\" x=\"853\" y=\"-30.3\" font-family=\"Times,serif\" font-size=\"14.00\">Pool</text>\n",
       "</a>\n",
       "</g>\n",
       "</g>\n",
       "<!-- n39ed8aa93c3b4adbbe5fad7110912cc5&#45;&gt;nd154928f8fff4113bd72eff68a0fc890 -->\n",
       "<g id=\"edge6\" class=\"edge\">\n",
       "<title>n39ed8aa93c3b4adbbe5fad7110912cc5&#45;&gt;nd154928f8fff4113bd72eff68a0fc890</title>\n",
       "<path fill=\"none\" stroke=\"black\" d=\"M790.4,-34C798.39,-34 807.31,-34 815.82,-34\"/>\n",
       "<polygon fill=\"black\" stroke=\"black\" points=\"815.92,-37.5 825.92,-34 815.92,-30.5 815.92,-37.5\"/>\n",
       "</g>\n",
       "<!-- n900332fe7bf3403fb84c94b302055b6a -->\n",
       "<g id=\"node11\" class=\"node\">\n",
       "<title>n900332fe7bf3403fb84c94b302055b6a</title>\n",
       "<g id=\"a_node11\"><a xlink:title=\"Linear\">\n",
       "<path fill=\"#ffa95b\" fill-opacity=\"0.572549\" stroke=\"black\" d=\"M958,-52C958,-52 928,-52 928,-52 922,-52 916,-46 916,-40 916,-40 916,-28 916,-28 916,-22 922,-16 928,-16 928,-16 958,-16 958,-16 964,-16 970,-22 970,-28 970,-28 970,-40 970,-40 970,-46 964,-52 958,-52\"/>\n",
       "<text text-anchor=\"middle\" x=\"943\" y=\"-30.3\" font-family=\"Times,serif\" font-size=\"14.00\">Linear</text>\n",
       "</a>\n",
       "</g>\n",
       "</g>\n",
       "<!-- nd154928f8fff4113bd72eff68a0fc890&#45;&gt;n900332fe7bf3403fb84c94b302055b6a -->\n",
       "<g id=\"edge10\" class=\"edge\">\n",
       "<title>nd154928f8fff4113bd72eff68a0fc890&#45;&gt;n900332fe7bf3403fb84c94b302055b6a</title>\n",
       "<path fill=\"none\" stroke=\"black\" d=\"M888,-34C893.84,-34 899.93,-34 905.82,-34\"/>\n",
       "<polygon fill=\"black\" stroke=\"black\" points=\"905.92,-37.5 915.92,-34 905.92,-30.5 905.92,-37.5\"/>\n",
       "</g>\n",
       "<!-- nbe15d004f2bb4befaf39ca507b7f4aab -->\n",
       "<g id=\"node12\" class=\"node\">\n",
       "<title>nbe15d004f2bb4befaf39ca507b7f4aab</title>\n",
       "<g id=\"a_node12\"><a xlink:title=\"Class\">\n",
       "<path fill=\"#ffa055\" fill-opacity=\"0.337255\" stroke=\"black\" d=\"M1048,-52C1048,-52 1018,-52 1018,-52 1012,-52 1006,-46 1006,-40 1006,-40 1006,-28 1006,-28 1006,-22 1012,-16 1018,-16 1018,-16 1048,-16 1048,-16 1054,-16 1060,-22 1060,-28 1060,-28 1060,-40 1060,-40 1060,-46 1054,-52 1048,-52\"/>\n",
       "<text text-anchor=\"middle\" x=\"1033\" y=\"-30.3\" font-family=\"Times,serif\" font-size=\"14.00\">Class</text>\n",
       "</a>\n",
       "</g>\n",
       "</g>\n",
       "<!-- n900332fe7bf3403fb84c94b302055b6a&#45;&gt;nbe15d004f2bb4befaf39ca507b7f4aab -->\n",
       "<g id=\"edge11\" class=\"edge\">\n",
       "<title>n900332fe7bf3403fb84c94b302055b6a&#45;&gt;nbe15d004f2bb4befaf39ca507b7f4aab</title>\n",
       "<path fill=\"none\" stroke=\"black\" d=\"M970.4,-34C978.39,-34 987.31,-34 995.82,-34\"/>\n",
       "<polygon fill=\"black\" stroke=\"black\" points=\"988,-37.5 998,-34 988,-30.5 988,-37.5\"/>\n",
       "</g>\n",
       "</g>\n",
       "</svg>\n"
      ],
      "text/plain": [
       "<pydot.Dot at 0x7fc698c95400>"
      ]
     },
     "execution_count": 72,
     "metadata": {
      "tags": []
     },
     "output_type": "execute_result"
    }
   ],
   "source": [
    "#hide\n",
    "blocks  = ['Input', 'Conv block 1', 'Conv block 2', 'Conv block 3', 'Linear', 'Output']\n",
    "layers = [['Image'], ['Conv','ReLU', 'Pool'], ['Conv', 'ReLU', 'Pool'], ['Conv','ReLU', 'Pool'], ['Linear'], ['Class']]\n",
    "conns = ((blocks[0], blocks[1]),\n",
    "         (blocks[1], blocks[2]),\n",
    "         (blocks[2], blocks[3]),\n",
    "         (blocks[3], blocks[4]),\n",
    "         (blocks[4], blocks[5]),\n",
    "        )\n",
    "g = graph_items(seq_cluster(layers[0], blocks[0]),\n",
    "                seq_cluster(layers[1], blocks[1]),\n",
    "                seq_cluster(layers[2], blocks[2]),\n",
    "                seq_cluster(layers[3], blocks[3]),\n",
    "                seq_cluster(layers[4], blocks[4]),\n",
    "                seq_cluster(layers[5], blocks[5]),\n",
    "               )\n",
    "g.add_items(*object_connections(conns))\n",
    "g"
   ]
  },
  {
   "cell_type": "code",
   "execution_count": null,
   "metadata": {
    "id": "Rg1cHyVMwrpg"
   },
   "outputs": [],
   "source": [
    "class ConvBlock(nn.Module):\n",
    "    def __init__(self, in_channels=1, ks=3, out_channels=16, stride=1, padding=0, act_fn=nn.ReLU()):\n",
    "        super().__init__()\n",
    "        self.conv =  nn.Conv2d(in_channels=in_channels,\n",
    "                               out_channels=out_channels, \n",
    "                               kernel_size=ks, \n",
    "                               stride=stride, padding=padding)\n",
    "        \n",
    "        self.act_fn = act_fn\n",
    "        self.pool   = nn.MaxPool2d(kernel_size=ks-1)\n",
    "    def forward(self, x):\n",
    "        x = self.conv(x)\n",
    "        x = self.act_fn(x)\n",
    "        x = self.pool(x)\n",
    "        return x\n",
    "    \n",
    "    \n",
    "class CNNModel(nn.Module):\n",
    "    def __init__(self):\n",
    "        super().__init__()\n",
    "        self.conv_block1 = ConvBlock(in_channels=1, \n",
    "                                     out_channels=16)\n",
    "        \n",
    "        self.conv_block2 = ConvBlock(in_channels=16, \n",
    "                                     out_channels=32)\n",
    "        \n",
    "        self.conv_block3 = ConvBlock(in_channels=32,\n",
    "                                     out_channels=64)\n",
    "\n",
    "        \n",
    "        self.linear =  nn.Linear(64, 10)\n",
    "            \n",
    "    def forward(self, x):\n",
    "        x = self.conv_block1(x)\n",
    "        x = self.conv_block2(x)\n",
    "        x = self.conv_block3(x)\n",
    "        x = self.linear(x.view(x.size(0), -1))\n",
    "        return x"
   ]
  },
  {
   "cell_type": "markdown",
   "metadata": {
    "id": "n64P_Rklwrpg"
   },
   "source": [
    "Let's take a look at the model summary"
   ]
  },
  {
   "cell_type": "code",
   "execution_count": null,
   "metadata": {
    "id": "eJijt5Jswrpg",
    "outputId": "aaf3ce39-6d52-41fe-c847-08d1e5830cdb"
   },
   "outputs": [
    {
     "data": {
      "text/plain": [
       "CNNModel(\n",
       "  (conv_block1): ConvBlock(\n",
       "    (conv): Conv2d(1, 16, kernel_size=(3, 3), stride=(1, 1))\n",
       "    (act_fn): ReLU()\n",
       "    (pool): MaxPool2d(kernel_size=2, stride=2, padding=0, dilation=1, ceil_mode=False)\n",
       "  )\n",
       "  (conv_block2): ConvBlock(\n",
       "    (conv): Conv2d(16, 32, kernel_size=(3, 3), stride=(1, 1))\n",
       "    (act_fn): ReLU()\n",
       "    (pool): MaxPool2d(kernel_size=2, stride=2, padding=0, dilation=1, ceil_mode=False)\n",
       "  )\n",
       "  (conv_block3): ConvBlock(\n",
       "    (conv): Conv2d(32, 64, kernel_size=(3, 3), stride=(1, 1))\n",
       "    (act_fn): ReLU()\n",
       "    (pool): MaxPool2d(kernel_size=2, stride=2, padding=0, dilation=1, ceil_mode=False)\n",
       "  )\n",
       "  (linear): Linear(in_features=64, out_features=10, bias=True)\n",
       ")"
      ]
     },
     "execution_count": 74,
     "metadata": {
      "tags": []
     },
     "output_type": "execute_result"
    }
   ],
   "source": [
    "model = CNNModel().eval()\n",
    "model"
   ]
  },
  {
   "cell_type": "markdown",
   "metadata": {
    "id": "MerHUzNqwrph"
   },
   "source": [
    "Let's do a forward pass manually, step by step through the three convolutional blocks and the linear layer (all of which are now attributes of out model object `model`)"
   ]
  },
  {
   "cell_type": "code",
   "execution_count": null,
   "metadata": {
    "id": "ivrZSuSrwrph"
   },
   "outputs": [],
   "source": [
    "x, y = next(iter(valid_dl)) # get one batch from validation dataset"
   ]
  },
  {
   "cell_type": "code",
   "execution_count": null,
   "metadata": {
    "id": "i55g2AkXwrpj",
    "outputId": "00a33cda-cbdd-43e5-adf3-b90f618746a9"
   },
   "outputs": [
    {
     "data": {
      "text/plain": [
       "torch.Size([64, 1, 28, 28])"
      ]
     },
     "execution_count": 76,
     "metadata": {
      "tags": []
     },
     "output_type": "execute_result"
    }
   ],
   "source": [
    "x.shape # this is the input"
   ]
  },
  {
   "cell_type": "code",
   "execution_count": null,
   "metadata": {
    "id": "ALyU2p0Owrpj"
   },
   "outputs": [],
   "source": [
    "conv_block1_out = model.conv_block1(x)"
   ]
  },
  {
   "cell_type": "code",
   "execution_count": null,
   "metadata": {
    "id": "Y4JBQ_VCwrpk",
    "outputId": "57a1dd99-0d9b-4db9-be1c-8aeed20f697a"
   },
   "outputs": [
    {
     "data": {
      "text/plain": [
       "torch.Size([64, 16, 13, 13])"
      ]
     },
     "execution_count": 78,
     "metadata": {
      "tags": []
     },
     "output_type": "execute_result"
    }
   ],
   "source": [
    "conv_block1_out.shape # (batch, channels, pixels, pixels)"
   ]
  },
  {
   "cell_type": "code",
   "execution_count": null,
   "metadata": {
    "id": "TgOI6erIwrpl"
   },
   "outputs": [],
   "source": [
    "conv_block2_out = model.conv_block2(conv_block1_out)"
   ]
  },
  {
   "cell_type": "code",
   "execution_count": null,
   "metadata": {
    "id": "7cgo6Pc6wrpm",
    "outputId": "0f196383-14c9-45fb-c6e5-c47367ad68f3"
   },
   "outputs": [
    {
     "data": {
      "text/plain": [
       "torch.Size([64, 32, 5, 5])"
      ]
     },
     "execution_count": 80,
     "metadata": {
      "tags": []
     },
     "output_type": "execute_result"
    }
   ],
   "source": [
    "conv_block2_out.shape # (batch, channels, pixels, pixels)"
   ]
  },
  {
   "cell_type": "code",
   "execution_count": null,
   "metadata": {
    "id": "0EUvZm-Uwrpm"
   },
   "outputs": [],
   "source": [
    "conv_block3_out = model.conv_block3(conv_block2_out)"
   ]
  },
  {
   "cell_type": "code",
   "execution_count": null,
   "metadata": {
    "id": "IIfc4N5iwrpn",
    "outputId": "32628e9a-f84e-4340-8ff0-6b1f9908609d"
   },
   "outputs": [
    {
     "data": {
      "text/plain": [
       "torch.Size([64, 64, 1, 1])"
      ]
     },
     "execution_count": 82,
     "metadata": {
      "tags": []
     },
     "output_type": "execute_result"
    }
   ],
   "source": [
    "conv_block3_out.shape"
   ]
  },
  {
   "cell_type": "code",
   "execution_count": null,
   "metadata": {
    "id": "TgPgMC-gwrpo",
    "outputId": "2ffdf6bf-024a-4e14-a939-188e0ea7793c"
   },
   "outputs": [
    {
     "data": {
      "text/plain": [
       "torch.Size([64, 10])"
      ]
     },
     "execution_count": 83,
     "metadata": {
      "tags": []
     },
     "output_type": "execute_result"
    }
   ],
   "source": [
    "out = model.linear(conv_block3_out.view(64, -1))\n",
    "out.shape # (batch, n_classes)"
   ]
  },
  {
   "cell_type": "markdown",
   "metadata": {
    "id": "z38sLe0Zwrpp"
   },
   "source": [
    "Now let's initialize the model (again) and train!"
   ]
  },
  {
   "cell_type": "code",
   "execution_count": null,
   "metadata": {
    "id": "MboTiaMSwrpp"
   },
   "outputs": [],
   "source": [
    "num_classes = 10\n",
    "num_epochs = 5\n",
    "learning_rate = 0.1\n",
    "\n",
    "model = CNNModel()\n",
    "loss_fn = nn.CrossEntropyLoss()  \n",
    "optimizer = torch.optim.SGD(model.parameters(), lr=learning_rate)"
   ]
  },
  {
   "cell_type": "code",
   "execution_count": null,
   "metadata": {
    "id": "yFvLZxoiwrpq",
    "outputId": "6518ff6c-6224-438f-a5b1-03ed46fa1f71"
   },
   "outputs": [
    {
     "name": "stdout",
     "output_type": "stream",
     "text": [
      "Epoch [1/5], Step [100/938], Loss: 1.6669\n",
      "Epoch [1/5], Step [200/938], Loss: 0.3903\n",
      "Epoch [1/5], Step [300/938], Loss: 0.3222\n",
      "Epoch [1/5], Step [400/938], Loss: 0.3265\n",
      "Epoch [1/5], Step [500/938], Loss: 0.2204\n",
      "Epoch [1/5], Step [600/938], Loss: 0.1320\n",
      "Epoch [1/5], Step [700/938], Loss: 0.2415\n",
      "Epoch [1/5], Step [800/938], Loss: 0.0929\n",
      "Epoch [1/5], Step [900/938], Loss: 0.2559\n",
      "Epoch [2/5], Step [100/938], Loss: 0.0468\n",
      "Epoch [2/5], Step [200/938], Loss: 0.1403\n",
      "Epoch [2/5], Step [300/938], Loss: 0.2678\n",
      "Epoch [2/5], Step [400/938], Loss: 0.0833\n",
      "Epoch [2/5], Step [500/938], Loss: 0.1306\n",
      "Epoch [2/5], Step [600/938], Loss: 0.0774\n",
      "Epoch [2/5], Step [700/938], Loss: 0.1131\n",
      "Epoch [2/5], Step [800/938], Loss: 0.3210\n",
      "Epoch [2/5], Step [900/938], Loss: 0.1213\n",
      "Epoch [3/5], Step [100/938], Loss: 0.0475\n",
      "Epoch [3/5], Step [200/938], Loss: 0.1443\n",
      "Epoch [3/5], Step [300/938], Loss: 0.2061\n",
      "Epoch [3/5], Step [400/938], Loss: 0.2187\n",
      "Epoch [3/5], Step [500/938], Loss: 0.1404\n",
      "Epoch [3/5], Step [600/938], Loss: 0.0767\n",
      "Epoch [3/5], Step [700/938], Loss: 0.0514\n",
      "Epoch [3/5], Step [800/938], Loss: 0.1323\n",
      "Epoch [3/5], Step [900/938], Loss: 0.1479\n",
      "Epoch [4/5], Step [100/938], Loss: 0.0836\n",
      "Epoch [4/5], Step [200/938], Loss: 0.1620\n",
      "Epoch [4/5], Step [300/938], Loss: 0.0497\n",
      "Epoch [4/5], Step [400/938], Loss: 0.0629\n",
      "Epoch [4/5], Step [500/938], Loss: 0.1230\n",
      "Epoch [4/5], Step [600/938], Loss: 0.0349\n",
      "Epoch [4/5], Step [700/938], Loss: 0.0505\n",
      "Epoch [4/5], Step [800/938], Loss: 0.0470\n",
      "Epoch [4/5], Step [900/938], Loss: 0.0261\n",
      "Epoch [5/5], Step [100/938], Loss: 0.1013\n",
      "Epoch [5/5], Step [200/938], Loss: 0.0737\n",
      "Epoch [5/5], Step [300/938], Loss: 0.0919\n",
      "Epoch [5/5], Step [400/938], Loss: 0.0350\n",
      "Epoch [5/5], Step [500/938], Loss: 0.1326\n",
      "Epoch [5/5], Step [600/938], Loss: 0.0286\n",
      "Epoch [5/5], Step [700/938], Loss: 0.1126\n",
      "Epoch [5/5], Step [800/938], Loss: 0.0348\n",
      "Epoch [5/5], Step [900/938], Loss: 0.0266\n"
     ]
    }
   ],
   "source": [
    "model, losses = train_fit(model, loss_fn, train_dl, num_epochs, optimizer)"
   ]
  },
  {
   "cell_type": "code",
   "execution_count": null,
   "metadata": {
    "id": "uBfMc6mowrpr",
    "outputId": "32475474-50c3-47e8-b16e-7e55d663992c"
   },
   "outputs": [
    {
     "data": {
      "image/png": "[encoded data removed]",
      "text/plain": [
       "<Figure size 432x288 with 1 Axes>"
      ]
     },
     "metadata": {
      "needs_background": "light",
      "tags": []
     },
     "output_type": "display_data"
    }
   ],
   "source": [
    "plt.plot(losses)\n",
    "plt.xlabel('Training iteration')\n",
    "plt.ylabel('Training loss')\n",
    "plt.yscale('log')\n",
    "plt.grid()"
   ]
  },
  {
   "cell_type": "code",
   "execution_count": null,
   "metadata": {
    "id": "scth0kIEwrps",
    "outputId": "102bc227-81af-4d6f-8c03-b26589cec47c"
   },
   "outputs": [
    {
     "name": "stdout",
     "output_type": "stream",
     "text": [
      "Accuracy of the model on the 10000 test images: 98.01000213623047 %\n"
     ]
    }
   ],
   "source": [
    "valid_fit(model, valid_dl)"
   ]
  }
 ],
 "metadata": {
  "colab": {
   "include_colab_link": true,
   "name": "Intro-PyTroch-2.ipynb",
   "provenance": []
  },
  "kernelspec": {
   "display_name": "Python 3",
   "language": "python",
   "name": "python3"
  },
  "language_info": {
   "codemirror_mode": {
    "name": "ipython",
    "version": 3
   },
   "file_extension": ".py",
   "mimetype": "text/x-python",
   "name": "python",
   "nbconvert_exporter": "python",
   "pygments_lexer": "ipython3",
   "version": "3.7.7"
  }
 },
 "nbformat": 4,
 "nbformat_minor": 1
}
