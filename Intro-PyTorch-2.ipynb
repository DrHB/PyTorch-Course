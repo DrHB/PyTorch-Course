{
  "nbformat": 4,
  "nbformat_minor": 0,
  "metadata": {
    "colab": {
      "name": "Intro-PyTroch-2.ipynb",
      "provenance": [],
      "include_colab_link": true
    },
    "kernelspec": {
      "display_name": "Python 3",
      "language": "python",
      "name": "python3"
    },
    "language_info": {
      "codemirror_mode": {
        "name": "ipython",
        "version": 3
      },
      "file_extension": ".py",
      "mimetype": "text/x-python",
      "name": "python",
      "nbconvert_exporter": "python",
      "pygments_lexer": "ipython3",
      "version": "3.8.3"
    },
    "widgets": {
      "application/vnd.jupyter.widget-state+json": {
        "01a2d60be9bd4eba83c48fa30df218cf": {
          "model_module": "@jupyter-widgets/controls",
          "model_name": "HBoxModel",
          "state": {
            "_view_name": "HBoxView",
            "_dom_classes": [],
            "_model_name": "HBoxModel",
            "_view_module": "@jupyter-widgets/controls",
            "_model_module_version": "1.5.0",
            "_view_count": null,
            "_view_module_version": "1.5.0",
            "box_style": "",
            "layout": "IPY_MODEL_ed6640dab77b4929847e2db998f0f50f",
            "_model_module": "@jupyter-widgets/controls",
            "children": [
              "IPY_MODEL_a41f5bd4d4584477a11985e0f6f0f703",
              "IPY_MODEL_cf35689899144f049c14b2180bc0f0f0"
            ]
          }
        },
        "ed6640dab77b4929847e2db998f0f50f": {
          "model_module": "@jupyter-widgets/base",
          "model_name": "LayoutModel",
          "state": {
            "_view_name": "LayoutView",
            "grid_template_rows": null,
            "right": null,
            "justify_content": null,
            "_view_module": "@jupyter-widgets/base",
            "overflow": null,
            "_model_module_version": "1.2.0",
            "_view_count": null,
            "flex_flow": null,
            "width": null,
            "min_width": null,
            "border": null,
            "align_items": null,
            "bottom": null,
            "_model_module": "@jupyter-widgets/base",
            "top": null,
            "grid_column": null,
            "overflow_y": null,
            "overflow_x": null,
            "grid_auto_flow": null,
            "grid_area": null,
            "grid_template_columns": null,
            "flex": null,
            "_model_name": "LayoutModel",
            "justify_items": null,
            "grid_row": null,
            "max_height": null,
            "align_content": null,
            "visibility": null,
            "align_self": null,
            "height": null,
            "min_height": null,
            "padding": null,
            "grid_auto_rows": null,
            "grid_gap": null,
            "max_width": null,
            "order": null,
            "_view_module_version": "1.2.0",
            "grid_template_areas": null,
            "object_position": null,
            "object_fit": null,
            "grid_auto_columns": null,
            "margin": null,
            "display": null,
            "left": null
          }
        },
        "a41f5bd4d4584477a11985e0f6f0f703": {
          "model_module": "@jupyter-widgets/controls",
          "model_name": "FloatProgressModel",
          "state": {
            "_view_name": "ProgressView",
            "style": "IPY_MODEL_ee892450f6f340fd9c47882779211f3e",
            "_dom_classes": [],
            "description": "",
            "_model_name": "FloatProgressModel",
            "bar_style": "info",
            "max": 1,
            "_view_module": "@jupyter-widgets/controls",
            "_model_module_version": "1.5.0",
            "value": 1,
            "_view_count": null,
            "_view_module_version": "1.5.0",
            "orientation": "horizontal",
            "min": 0,
            "description_tooltip": null,
            "_model_module": "@jupyter-widgets/controls",
            "layout": "IPY_MODEL_7c92f6e5498f48f586cc21de437e38c1"
          }
        },
        "cf35689899144f049c14b2180bc0f0f0": {
          "model_module": "@jupyter-widgets/controls",
          "model_name": "HTMLModel",
          "state": {
            "_view_name": "HTMLView",
            "style": "IPY_MODEL_1d3f626092084d27a0a418911576f029",
            "_dom_classes": [],
            "description": "",
            "_model_name": "HTMLModel",
            "placeholder": "​",
            "_view_module": "@jupyter-widgets/controls",
            "_model_module_version": "1.5.0",
            "value": " 9920512/? [00:19&lt;00:00, 1487716.02it/s]",
            "_view_count": null,
            "_view_module_version": "1.5.0",
            "description_tooltip": null,
            "_model_module": "@jupyter-widgets/controls",
            "layout": "IPY_MODEL_2da59760a2af4ce89f26bfb8e4c8905f"
          }
        },
        "ee892450f6f340fd9c47882779211f3e": {
          "model_module": "@jupyter-widgets/controls",
          "model_name": "ProgressStyleModel",
          "state": {
            "_view_name": "StyleView",
            "_model_name": "ProgressStyleModel",
            "description_width": "initial",
            "_view_module": "@jupyter-widgets/base",
            "_model_module_version": "1.5.0",
            "_view_count": null,
            "_view_module_version": "1.2.0",
            "bar_color": null,
            "_model_module": "@jupyter-widgets/controls"
          }
        },
        "7c92f6e5498f48f586cc21de437e38c1": {
          "model_module": "@jupyter-widgets/base",
          "model_name": "LayoutModel",
          "state": {
            "_view_name": "LayoutView",
            "grid_template_rows": null,
            "right": null,
            "justify_content": null,
            "_view_module": "@jupyter-widgets/base",
            "overflow": null,
            "_model_module_version": "1.2.0",
            "_view_count": null,
            "flex_flow": null,
            "width": null,
            "min_width": null,
            "border": null,
            "align_items": null,
            "bottom": null,
            "_model_module": "@jupyter-widgets/base",
            "top": null,
            "grid_column": null,
            "overflow_y": null,
            "overflow_x": null,
            "grid_auto_flow": null,
            "grid_area": null,
            "grid_template_columns": null,
            "flex": null,
            "_model_name": "LayoutModel",
            "justify_items": null,
            "grid_row": null,
            "max_height": null,
            "align_content": null,
            "visibility": null,
            "align_self": null,
            "height": null,
            "min_height": null,
            "padding": null,
            "grid_auto_rows": null,
            "grid_gap": null,
            "max_width": null,
            "order": null,
            "_view_module_version": "1.2.0",
            "grid_template_areas": null,
            "object_position": null,
            "object_fit": null,
            "grid_auto_columns": null,
            "margin": null,
            "display": null,
            "left": null
          }
        },
        "1d3f626092084d27a0a418911576f029": {
          "model_module": "@jupyter-widgets/controls",
          "model_name": "DescriptionStyleModel",
          "state": {
            "_view_name": "StyleView",
            "_model_name": "DescriptionStyleModel",
            "description_width": "",
            "_view_module": "@jupyter-widgets/base",
            "_model_module_version": "1.5.0",
            "_view_count": null,
            "_view_module_version": "1.2.0",
            "_model_module": "@jupyter-widgets/controls"
          }
        },
        "2da59760a2af4ce89f26bfb8e4c8905f": {
          "model_module": "@jupyter-widgets/base",
          "model_name": "LayoutModel",
          "state": {
            "_view_name": "LayoutView",
            "grid_template_rows": null,
            "right": null,
            "justify_content": null,
            "_view_module": "@jupyter-widgets/base",
            "overflow": null,
            "_model_module_version": "1.2.0",
            "_view_count": null,
            "flex_flow": null,
            "width": null,
            "min_width": null,
            "border": null,
            "align_items": null,
            "bottom": null,
            "_model_module": "@jupyter-widgets/base",
            "top": null,
            "grid_column": null,
            "overflow_y": null,
            "overflow_x": null,
            "grid_auto_flow": null,
            "grid_area": null,
            "grid_template_columns": null,
            "flex": null,
            "_model_name": "LayoutModel",
            "justify_items": null,
            "grid_row": null,
            "max_height": null,
            "align_content": null,
            "visibility": null,
            "align_self": null,
            "height": null,
            "min_height": null,
            "padding": null,
            "grid_auto_rows": null,
            "grid_gap": null,
            "max_width": null,
            "order": null,
            "_view_module_version": "1.2.0",
            "grid_template_areas": null,
            "object_position": null,
            "object_fit": null,
            "grid_auto_columns": null,
            "margin": null,
            "display": null,
            "left": null
          }
        },
        "0967882a567e4124a2c3d8ed7897a702": {
          "model_module": "@jupyter-widgets/controls",
          "model_name": "HBoxModel",
          "state": {
            "_view_name": "HBoxView",
            "_dom_classes": [],
            "_model_name": "HBoxModel",
            "_view_module": "@jupyter-widgets/controls",
            "_model_module_version": "1.5.0",
            "_view_count": null,
            "_view_module_version": "1.5.0",
            "box_style": "",
            "layout": "IPY_MODEL_134e8b88dbd7416aa1bdb0f38de0bdbb",
            "_model_module": "@jupyter-widgets/controls",
            "children": [
              "IPY_MODEL_de89eccf251a4f73841666163c8e538f",
              "IPY_MODEL_21abd8874be34b51a05825f6407228a1"
            ]
          }
        },
        "134e8b88dbd7416aa1bdb0f38de0bdbb": {
          "model_module": "@jupyter-widgets/base",
          "model_name": "LayoutModel",
          "state": {
            "_view_name": "LayoutView",
            "grid_template_rows": null,
            "right": null,
            "justify_content": null,
            "_view_module": "@jupyter-widgets/base",
            "overflow": null,
            "_model_module_version": "1.2.0",
            "_view_count": null,
            "flex_flow": null,
            "width": null,
            "min_width": null,
            "border": null,
            "align_items": null,
            "bottom": null,
            "_model_module": "@jupyter-widgets/base",
            "top": null,
            "grid_column": null,
            "overflow_y": null,
            "overflow_x": null,
            "grid_auto_flow": null,
            "grid_area": null,
            "grid_template_columns": null,
            "flex": null,
            "_model_name": "LayoutModel",
            "justify_items": null,
            "grid_row": null,
            "max_height": null,
            "align_content": null,
            "visibility": null,
            "align_self": null,
            "height": null,
            "min_height": null,
            "padding": null,
            "grid_auto_rows": null,
            "grid_gap": null,
            "max_width": null,
            "order": null,
            "_view_module_version": "1.2.0",
            "grid_template_areas": null,
            "object_position": null,
            "object_fit": null,
            "grid_auto_columns": null,
            "margin": null,
            "display": null,
            "left": null
          }
        },
        "de89eccf251a4f73841666163c8e538f": {
          "model_module": "@jupyter-widgets/controls",
          "model_name": "FloatProgressModel",
          "state": {
            "_view_name": "ProgressView",
            "style": "IPY_MODEL_9e0b2cdb53cc4cf68483de8e71be4953",
            "_dom_classes": [],
            "description": "",
            "_model_name": "FloatProgressModel",
            "bar_style": "success",
            "max": 1,
            "_view_module": "@jupyter-widgets/controls",
            "_model_module_version": "1.5.0",
            "value": 1,
            "_view_count": null,
            "_view_module_version": "1.5.0",
            "orientation": "horizontal",
            "min": 0,
            "description_tooltip": null,
            "_model_module": "@jupyter-widgets/controls",
            "layout": "IPY_MODEL_e965f57ab94d4c1284b06b05a0412a17"
          }
        },
        "21abd8874be34b51a05825f6407228a1": {
          "model_module": "@jupyter-widgets/controls",
          "model_name": "HTMLModel",
          "state": {
            "_view_name": "HTMLView",
            "style": "IPY_MODEL_ee06bfd5ec0743ccb6c7d7e7075fe56c",
            "_dom_classes": [],
            "description": "",
            "_model_name": "HTMLModel",
            "placeholder": "​",
            "_view_module": "@jupyter-widgets/controls",
            "_model_module_version": "1.5.0",
            "value": " 32768/? [00:01&lt;00:00, 28961.37it/s]",
            "_view_count": null,
            "_view_module_version": "1.5.0",
            "description_tooltip": null,
            "_model_module": "@jupyter-widgets/controls",
            "layout": "IPY_MODEL_898df2ccb40846b6ab8f82f3352bf4dc"
          }
        },
        "9e0b2cdb53cc4cf68483de8e71be4953": {
          "model_module": "@jupyter-widgets/controls",
          "model_name": "ProgressStyleModel",
          "state": {
            "_view_name": "StyleView",
            "_model_name": "ProgressStyleModel",
            "description_width": "initial",
            "_view_module": "@jupyter-widgets/base",
            "_model_module_version": "1.5.0",
            "_view_count": null,
            "_view_module_version": "1.2.0",
            "bar_color": null,
            "_model_module": "@jupyter-widgets/controls"
          }
        },
        "e965f57ab94d4c1284b06b05a0412a17": {
          "model_module": "@jupyter-widgets/base",
          "model_name": "LayoutModel",
          "state": {
            "_view_name": "LayoutView",
            "grid_template_rows": null,
            "right": null,
            "justify_content": null,
            "_view_module": "@jupyter-widgets/base",
            "overflow": null,
            "_model_module_version": "1.2.0",
            "_view_count": null,
            "flex_flow": null,
            "width": null,
            "min_width": null,
            "border": null,
            "align_items": null,
            "bottom": null,
            "_model_module": "@jupyter-widgets/base",
            "top": null,
            "grid_column": null,
            "overflow_y": null,
            "overflow_x": null,
            "grid_auto_flow": null,
            "grid_area": null,
            "grid_template_columns": null,
            "flex": null,
            "_model_name": "LayoutModel",
            "justify_items": null,
            "grid_row": null,
            "max_height": null,
            "align_content": null,
            "visibility": null,
            "align_self": null,
            "height": null,
            "min_height": null,
            "padding": null,
            "grid_auto_rows": null,
            "grid_gap": null,
            "max_width": null,
            "order": null,
            "_view_module_version": "1.2.0",
            "grid_template_areas": null,
            "object_position": null,
            "object_fit": null,
            "grid_auto_columns": null,
            "margin": null,
            "display": null,
            "left": null
          }
        },
        "ee06bfd5ec0743ccb6c7d7e7075fe56c": {
          "model_module": "@jupyter-widgets/controls",
          "model_name": "DescriptionStyleModel",
          "state": {
            "_view_name": "StyleView",
            "_model_name": "DescriptionStyleModel",
            "description_width": "",
            "_view_module": "@jupyter-widgets/base",
            "_model_module_version": "1.5.0",
            "_view_count": null,
            "_view_module_version": "1.2.0",
            "_model_module": "@jupyter-widgets/controls"
          }
        },
        "898df2ccb40846b6ab8f82f3352bf4dc": {
          "model_module": "@jupyter-widgets/base",
          "model_name": "LayoutModel",
          "state": {
            "_view_name": "LayoutView",
            "grid_template_rows": null,
            "right": null,
            "justify_content": null,
            "_view_module": "@jupyter-widgets/base",
            "overflow": null,
            "_model_module_version": "1.2.0",
            "_view_count": null,
            "flex_flow": null,
            "width": null,
            "min_width": null,
            "border": null,
            "align_items": null,
            "bottom": null,
            "_model_module": "@jupyter-widgets/base",
            "top": null,
            "grid_column": null,
            "overflow_y": null,
            "overflow_x": null,
            "grid_auto_flow": null,
            "grid_area": null,
            "grid_template_columns": null,
            "flex": null,
            "_model_name": "LayoutModel",
            "justify_items": null,
            "grid_row": null,
            "max_height": null,
            "align_content": null,
            "visibility": null,
            "align_self": null,
            "height": null,
            "min_height": null,
            "padding": null,
            "grid_auto_rows": null,
            "grid_gap": null,
            "max_width": null,
            "order": null,
            "_view_module_version": "1.2.0",
            "grid_template_areas": null,
            "object_position": null,
            "object_fit": null,
            "grid_auto_columns": null,
            "margin": null,
            "display": null,
            "left": null
          }
        },
        "33fcc8435da145ee9d1c435060c7c267": {
          "model_module": "@jupyter-widgets/controls",
          "model_name": "HBoxModel",
          "state": {
            "_view_name": "HBoxView",
            "_dom_classes": [],
            "_model_name": "HBoxModel",
            "_view_module": "@jupyter-widgets/controls",
            "_model_module_version": "1.5.0",
            "_view_count": null,
            "_view_module_version": "1.5.0",
            "box_style": "",
            "layout": "IPY_MODEL_d8418eefe60c4dc09bcd162174c34fcb",
            "_model_module": "@jupyter-widgets/controls",
            "children": [
              "IPY_MODEL_a676f03192094e90ac7b3fca78e676fe",
              "IPY_MODEL_7c070580a97b43b0b7b5759ce08b99b0"
            ]
          }
        },
        "d8418eefe60c4dc09bcd162174c34fcb": {
          "model_module": "@jupyter-widgets/base",
          "model_name": "LayoutModel",
          "state": {
            "_view_name": "LayoutView",
            "grid_template_rows": null,
            "right": null,
            "justify_content": null,
            "_view_module": "@jupyter-widgets/base",
            "overflow": null,
            "_model_module_version": "1.2.0",
            "_view_count": null,
            "flex_flow": null,
            "width": null,
            "min_width": null,
            "border": null,
            "align_items": null,
            "bottom": null,
            "_model_module": "@jupyter-widgets/base",
            "top": null,
            "grid_column": null,
            "overflow_y": null,
            "overflow_x": null,
            "grid_auto_flow": null,
            "grid_area": null,
            "grid_template_columns": null,
            "flex": null,
            "_model_name": "LayoutModel",
            "justify_items": null,
            "grid_row": null,
            "max_height": null,
            "align_content": null,
            "visibility": null,
            "align_self": null,
            "height": null,
            "min_height": null,
            "padding": null,
            "grid_auto_rows": null,
            "grid_gap": null,
            "max_width": null,
            "order": null,
            "_view_module_version": "1.2.0",
            "grid_template_areas": null,
            "object_position": null,
            "object_fit": null,
            "grid_auto_columns": null,
            "margin": null,
            "display": null,
            "left": null
          }
        },
        "a676f03192094e90ac7b3fca78e676fe": {
          "model_module": "@jupyter-widgets/controls",
          "model_name": "FloatProgressModel",
          "state": {
            "_view_name": "ProgressView",
            "style": "IPY_MODEL_cdbdc4bfcaf44108a96f12736d0d47fd",
            "_dom_classes": [],
            "description": "",
            "_model_name": "FloatProgressModel",
            "bar_style": "success",
            "max": 1,
            "_view_module": "@jupyter-widgets/controls",
            "_model_module_version": "1.5.0",
            "value": 1,
            "_view_count": null,
            "_view_module_version": "1.5.0",
            "orientation": "horizontal",
            "min": 0,
            "description_tooltip": null,
            "_model_module": "@jupyter-widgets/controls",
            "layout": "IPY_MODEL_50781507f54540e686d518c8a73a6cc6"
          }
        },
        "7c070580a97b43b0b7b5759ce08b99b0": {
          "model_module": "@jupyter-widgets/controls",
          "model_name": "HTMLModel",
          "state": {
            "_view_name": "HTMLView",
            "style": "IPY_MODEL_b7d078ecf20347708c4b230d5bbb0e38",
            "_dom_classes": [],
            "description": "",
            "_model_name": "HTMLModel",
            "placeholder": "​",
            "_view_module": "@jupyter-widgets/controls",
            "_model_module_version": "1.5.0",
            "value": " 1654784/? [00:00&lt;00:00, 1937357.67it/s]",
            "_view_count": null,
            "_view_module_version": "1.5.0",
            "description_tooltip": null,
            "_model_module": "@jupyter-widgets/controls",
            "layout": "IPY_MODEL_88e97a2170f647e7a0659d35b109e7ce"
          }
        },
        "cdbdc4bfcaf44108a96f12736d0d47fd": {
          "model_module": "@jupyter-widgets/controls",
          "model_name": "ProgressStyleModel",
          "state": {
            "_view_name": "StyleView",
            "_model_name": "ProgressStyleModel",
            "description_width": "initial",
            "_view_module": "@jupyter-widgets/base",
            "_model_module_version": "1.5.0",
            "_view_count": null,
            "_view_module_version": "1.2.0",
            "bar_color": null,
            "_model_module": "@jupyter-widgets/controls"
          }
        },
        "50781507f54540e686d518c8a73a6cc6": {
          "model_module": "@jupyter-widgets/base",
          "model_name": "LayoutModel",
          "state": {
            "_view_name": "LayoutView",
            "grid_template_rows": null,
            "right": null,
            "justify_content": null,
            "_view_module": "@jupyter-widgets/base",
            "overflow": null,
            "_model_module_version": "1.2.0",
            "_view_count": null,
            "flex_flow": null,
            "width": null,
            "min_width": null,
            "border": null,
            "align_items": null,
            "bottom": null,
            "_model_module": "@jupyter-widgets/base",
            "top": null,
            "grid_column": null,
            "overflow_y": null,
            "overflow_x": null,
            "grid_auto_flow": null,
            "grid_area": null,
            "grid_template_columns": null,
            "flex": null,
            "_model_name": "LayoutModel",
            "justify_items": null,
            "grid_row": null,
            "max_height": null,
            "align_content": null,
            "visibility": null,
            "align_self": null,
            "height": null,
            "min_height": null,
            "padding": null,
            "grid_auto_rows": null,
            "grid_gap": null,
            "max_width": null,
            "order": null,
            "_view_module_version": "1.2.0",
            "grid_template_areas": null,
            "object_position": null,
            "object_fit": null,
            "grid_auto_columns": null,
            "margin": null,
            "display": null,
            "left": null
          }
        },
        "b7d078ecf20347708c4b230d5bbb0e38": {
          "model_module": "@jupyter-widgets/controls",
          "model_name": "DescriptionStyleModel",
          "state": {
            "_view_name": "StyleView",
            "_model_name": "DescriptionStyleModel",
            "description_width": "",
            "_view_module": "@jupyter-widgets/base",
            "_model_module_version": "1.5.0",
            "_view_count": null,
            "_view_module_version": "1.2.0",
            "_model_module": "@jupyter-widgets/controls"
          }
        },
        "88e97a2170f647e7a0659d35b109e7ce": {
          "model_module": "@jupyter-widgets/base",
          "model_name": "LayoutModel",
          "state": {
            "_view_name": "LayoutView",
            "grid_template_rows": null,
            "right": null,
            "justify_content": null,
            "_view_module": "@jupyter-widgets/base",
            "overflow": null,
            "_model_module_version": "1.2.0",
            "_view_count": null,
            "flex_flow": null,
            "width": null,
            "min_width": null,
            "border": null,
            "align_items": null,
            "bottom": null,
            "_model_module": "@jupyter-widgets/base",
            "top": null,
            "grid_column": null,
            "overflow_y": null,
            "overflow_x": null,
            "grid_auto_flow": null,
            "grid_area": null,
            "grid_template_columns": null,
            "flex": null,
            "_model_name": "LayoutModel",
            "justify_items": null,
            "grid_row": null,
            "max_height": null,
            "align_content": null,
            "visibility": null,
            "align_self": null,
            "height": null,
            "min_height": null,
            "padding": null,
            "grid_auto_rows": null,
            "grid_gap": null,
            "max_width": null,
            "order": null,
            "_view_module_version": "1.2.0",
            "grid_template_areas": null,
            "object_position": null,
            "object_fit": null,
            "grid_auto_columns": null,
            "margin": null,
            "display": null,
            "left": null
          }
        },
        "212d8a36991943d8ab801907242950dc": {
          "model_module": "@jupyter-widgets/controls",
          "model_name": "HBoxModel",
          "state": {
            "_view_name": "HBoxView",
            "_dom_classes": [],
            "_model_name": "HBoxModel",
            "_view_module": "@jupyter-widgets/controls",
            "_model_module_version": "1.5.0",
            "_view_count": null,
            "_view_module_version": "1.5.0",
            "box_style": "",
            "layout": "IPY_MODEL_b48252b3ee7e45efa9253afac3b2131a",
            "_model_module": "@jupyter-widgets/controls",
            "children": [
              "IPY_MODEL_42ef336e19f5469ab72cba8d46134f85",
              "IPY_MODEL_613cd44cf1ca4d74bafba9787d706571"
            ]
          }
        },
        "b48252b3ee7e45efa9253afac3b2131a": {
          "model_module": "@jupyter-widgets/base",
          "model_name": "LayoutModel",
          "state": {
            "_view_name": "LayoutView",
            "grid_template_rows": null,
            "right": null,
            "justify_content": null,
            "_view_module": "@jupyter-widgets/base",
            "overflow": null,
            "_model_module_version": "1.2.0",
            "_view_count": null,
            "flex_flow": null,
            "width": null,
            "min_width": null,
            "border": null,
            "align_items": null,
            "bottom": null,
            "_model_module": "@jupyter-widgets/base",
            "top": null,
            "grid_column": null,
            "overflow_y": null,
            "overflow_x": null,
            "grid_auto_flow": null,
            "grid_area": null,
            "grid_template_columns": null,
            "flex": null,
            "_model_name": "LayoutModel",
            "justify_items": null,
            "grid_row": null,
            "max_height": null,
            "align_content": null,
            "visibility": null,
            "align_self": null,
            "height": null,
            "min_height": null,
            "padding": null,
            "grid_auto_rows": null,
            "grid_gap": null,
            "max_width": null,
            "order": null,
            "_view_module_version": "1.2.0",
            "grid_template_areas": null,
            "object_position": null,
            "object_fit": null,
            "grid_auto_columns": null,
            "margin": null,
            "display": null,
            "left": null
          }
        },
        "42ef336e19f5469ab72cba8d46134f85": {
          "model_module": "@jupyter-widgets/controls",
          "model_name": "FloatProgressModel",
          "state": {
            "_view_name": "ProgressView",
            "style": "IPY_MODEL_c87ea2405818474d87e3f5d1a62fbed0",
            "_dom_classes": [],
            "description": "  0%",
            "_model_name": "FloatProgressModel",
            "bar_style": "info",
            "max": 1,
            "_view_module": "@jupyter-widgets/controls",
            "_model_module_version": "1.5.0",
            "value": 0,
            "_view_count": null,
            "_view_module_version": "1.5.0",
            "orientation": "horizontal",
            "min": 0,
            "description_tooltip": null,
            "_model_module": "@jupyter-widgets/controls",
            "layout": "IPY_MODEL_69c026589d1549d7a10dc2fd737ac1ab"
          }
        },
        "613cd44cf1ca4d74bafba9787d706571": {
          "model_module": "@jupyter-widgets/controls",
          "model_name": "HTMLModel",
          "state": {
            "_view_name": "HTMLView",
            "style": "IPY_MODEL_74e37180864a4724af62d52bcc1a2e02",
            "_dom_classes": [],
            "description": "",
            "_model_name": "HTMLModel",
            "placeholder": "​",
            "_view_module": "@jupyter-widgets/controls",
            "_model_module_version": "1.5.0",
            "value": " 0/4542 [00:00&lt;?, ?it/s]",
            "_view_count": null,
            "_view_module_version": "1.5.0",
            "description_tooltip": null,
            "_model_module": "@jupyter-widgets/controls",
            "layout": "IPY_MODEL_d522af3d68d147719186988042cbed3f"
          }
        },
        "c87ea2405818474d87e3f5d1a62fbed0": {
          "model_module": "@jupyter-widgets/controls",
          "model_name": "ProgressStyleModel",
          "state": {
            "_view_name": "StyleView",
            "_model_name": "ProgressStyleModel",
            "description_width": "initial",
            "_view_module": "@jupyter-widgets/base",
            "_model_module_version": "1.5.0",
            "_view_count": null,
            "_view_module_version": "1.2.0",
            "bar_color": null,
            "_model_module": "@jupyter-widgets/controls"
          }
        },
        "69c026589d1549d7a10dc2fd737ac1ab": {
          "model_module": "@jupyter-widgets/base",
          "model_name": "LayoutModel",
          "state": {
            "_view_name": "LayoutView",
            "grid_template_rows": null,
            "right": null,
            "justify_content": null,
            "_view_module": "@jupyter-widgets/base",
            "overflow": null,
            "_model_module_version": "1.2.0",
            "_view_count": null,
            "flex_flow": null,
            "width": null,
            "min_width": null,
            "border": null,
            "align_items": null,
            "bottom": null,
            "_model_module": "@jupyter-widgets/base",
            "top": null,
            "grid_column": null,
            "overflow_y": null,
            "overflow_x": null,
            "grid_auto_flow": null,
            "grid_area": null,
            "grid_template_columns": null,
            "flex": null,
            "_model_name": "LayoutModel",
            "justify_items": null,
            "grid_row": null,
            "max_height": null,
            "align_content": null,
            "visibility": null,
            "align_self": null,
            "height": null,
            "min_height": null,
            "padding": null,
            "grid_auto_rows": null,
            "grid_gap": null,
            "max_width": null,
            "order": null,
            "_view_module_version": "1.2.0",
            "grid_template_areas": null,
            "object_position": null,
            "object_fit": null,
            "grid_auto_columns": null,
            "margin": null,
            "display": null,
            "left": null
          }
        },
        "74e37180864a4724af62d52bcc1a2e02": {
          "model_module": "@jupyter-widgets/controls",
          "model_name": "DescriptionStyleModel",
          "state": {
            "_view_name": "StyleView",
            "_model_name": "DescriptionStyleModel",
            "description_width": "",
            "_view_module": "@jupyter-widgets/base",
            "_model_module_version": "1.5.0",
            "_view_count": null,
            "_view_module_version": "1.2.0",
            "_model_module": "@jupyter-widgets/controls"
          }
        },
        "d522af3d68d147719186988042cbed3f": {
          "model_module": "@jupyter-widgets/base",
          "model_name": "LayoutModel",
          "state": {
            "_view_name": "LayoutView",
            "grid_template_rows": null,
            "right": null,
            "justify_content": null,
            "_view_module": "@jupyter-widgets/base",
            "overflow": null,
            "_model_module_version": "1.2.0",
            "_view_count": null,
            "flex_flow": null,
            "width": null,
            "min_width": null,
            "border": null,
            "align_items": null,
            "bottom": null,
            "_model_module": "@jupyter-widgets/base",
            "top": null,
            "grid_column": null,
            "overflow_y": null,
            "overflow_x": null,
            "grid_auto_flow": null,
            "grid_area": null,
            "grid_template_columns": null,
            "flex": null,
            "_model_name": "LayoutModel",
            "justify_items": null,
            "grid_row": null,
            "max_height": null,
            "align_content": null,
            "visibility": null,
            "align_self": null,
            "height": null,
            "min_height": null,
            "padding": null,
            "grid_auto_rows": null,
            "grid_gap": null,
            "max_width": null,
            "order": null,
            "_view_module_version": "1.2.0",
            "grid_template_areas": null,
            "object_position": null,
            "object_fit": null,
            "grid_auto_columns": null,
            "margin": null,
            "display": null,
            "left": null
          }
        }
      }
    }
  },
  "cells": [
    {
      "cell_type": "markdown",
      "metadata": {
        "id": "view-in-github",
        "colab_type": "text"
      },
      "source": [
        "<a href=\"https://colab.research.google.com/github/DrHB/PyTorch-Course/blob/main/Intro-PyTorch-2.ipynb\" target=\"_parent\"><img src=\"https://colab.research.google.com/assets/colab-badge.svg\" alt=\"Open In Colab\"/></a>"
      ]
    },
    {
      "cell_type": "markdown",
      "metadata": {
        "id": "rGUmSZilwrn0"
      },
      "source": [
        "# Introduction to PyTorch Part 2\n",
        "\n",
        "> by Habib Bukhari and Roman Vaxenburg"
      ]
    },
    {
      "cell_type": "code",
      "metadata": {
        "id": "iAqxuw1cwrn2",
        "outputId": "c8f28070-c32f-4fbc-df32-9809843878a8",
        "colab": {
          "base_uri": "https://localhost:8080/"
        }
      },
      "source": [
        "#hide\n",
        "import torch\n",
        "import matplotlib.pyplot as plt\n",
        "import torchvision.datasets as datasets\n",
        "import numpy as np\n",
        "from torchvision import transforms\n",
        "from torch.utils.data import DataLoader\n",
        "import torch.nn as nn\n",
        "import torch.nn.functional as F\n",
        "import torch.optim as optim\n",
        "from matplotlib import animation, rc\n",
        "import pandas as pd\n",
        "import seaborn as sbn\n",
        "!pip install fastdot -q\n",
        "from fastdot import *\n",
        "rc('animation', html='jshtml')\n",
        "%matplotlib inline"
      ],
      "execution_count": 1,
      "outputs": [
        {
          "output_type": "stream",
          "text": [
            "\u001b[?25l\r\u001b[K     |██████▍                         | 10kB 20.2MB/s eta 0:00:01\r\u001b[K     |████████████▊                   | 20kB 24.6MB/s eta 0:00:01\r\u001b[K     |███████████████████▏            | 30kB 15.3MB/s eta 0:00:01\r\u001b[K     |█████████████████████████▌      | 40kB 15.1MB/s eta 0:00:01\r\u001b[K     |████████████████████████████████| 51kB 8.6MB/s eta 0:00:01\r\u001b[K     |████████████████████████████████| 61kB 4.7MB/s \n",
            "\u001b[?25h"
          ],
          "name": "stdout"
        }
      ]
    },
    {
      "cell_type": "markdown",
      "metadata": {
        "id": "IOt6RGPOwrn-"
      },
      "source": [
        "In this notebook we will solve the digit classification task with 3 different models of progressively increasing complexity:\n",
        "\n",
        "* Linear classifier (logistic regression)\n",
        "* Multilayer perceptron (non-linear fully connected network)\n",
        "* Convolutional neural network"
      ]
    },
    {
      "cell_type": "markdown",
      "metadata": {
        "id": "cZqInXGywrn_"
      },
      "source": [
        "# Classifying digits\n",
        "\n",
        "We've just implemented a simple regression model. Now let's solve a simple digit classification task! We will use a dataset of images of hand-written digits from 0 to 9 and the classifier will predict the digit from the image.\n",
        "\n",
        "\n",
        "<div class=\"alert alert-block alert-info\">\n",
        "The <b>MNIST</b> database of handwritten digits, available from this page, has a training set of 60,000 examples, and a test set of 10,000 examples. It is a subset of a larger set available from NIST. The digits have been size-normalized and centered in a fixed-size image. It is a good database for people who want to try learning techniques and pattern recognition methods on real-world data while spending minimal efforts on preprocessing and formatting.\n",
        "</div>\n",
        "\n",
        "We will use a simple linear layer `nn.Linear` again.\n",
        "\n",
        "## Explore the data\n",
        "\n",
        "Load the dataset of digit images and split the data into training and validation subsets."
      ]
    },
    {
      "cell_type": "code",
      "metadata": {
        "id": "5_5XSRh0wroA",
        "outputId": "2903902f-5da6-4796-fe71-b1d823471403",
        "colab": {
          "base_uri": "https://localhost:8080/",
          "height": 413,
          "referenced_widgets": [
            "01a2d60be9bd4eba83c48fa30df218cf",
            "ed6640dab77b4929847e2db998f0f50f",
            "a41f5bd4d4584477a11985e0f6f0f703",
            "cf35689899144f049c14b2180bc0f0f0",
            "ee892450f6f340fd9c47882779211f3e",
            "7c92f6e5498f48f586cc21de437e38c1",
            "1d3f626092084d27a0a418911576f029",
            "2da59760a2af4ce89f26bfb8e4c8905f",
            "0967882a567e4124a2c3d8ed7897a702",
            "134e8b88dbd7416aa1bdb0f38de0bdbb",
            "de89eccf251a4f73841666163c8e538f",
            "21abd8874be34b51a05825f6407228a1",
            "9e0b2cdb53cc4cf68483de8e71be4953",
            "e965f57ab94d4c1284b06b05a0412a17",
            "ee06bfd5ec0743ccb6c7d7e7075fe56c",
            "898df2ccb40846b6ab8f82f3352bf4dc",
            "33fcc8435da145ee9d1c435060c7c267",
            "d8418eefe60c4dc09bcd162174c34fcb",
            "a676f03192094e90ac7b3fca78e676fe",
            "7c070580a97b43b0b7b5759ce08b99b0",
            "cdbdc4bfcaf44108a96f12736d0d47fd",
            "50781507f54540e686d518c8a73a6cc6",
            "b7d078ecf20347708c4b230d5bbb0e38",
            "88e97a2170f647e7a0659d35b109e7ce",
            "212d8a36991943d8ab801907242950dc",
            "b48252b3ee7e45efa9253afac3b2131a",
            "42ef336e19f5469ab72cba8d46134f85",
            "613cd44cf1ca4d74bafba9787d706571",
            "c87ea2405818474d87e3f5d1a62fbed0",
            "69c026589d1549d7a10dc2fd737ac1ab",
            "74e37180864a4724af62d52bcc1a2e02",
            "d522af3d68d147719186988042cbed3f"
          ]
        }
      },
      "source": [
        "mnist_trainset = datasets.MNIST(root='./data', train=True, download=True)\n",
        "mnist_validset = datasets.MNIST(root='./data', train=False, download=True)"
      ],
      "execution_count": 2,
      "outputs": [
        {
          "output_type": "stream",
          "text": [
            "Downloading http://yann.lecun.com/exdb/mnist/train-images-idx3-ubyte.gz to ./data/MNIST/raw/train-images-idx3-ubyte.gz\n"
          ],
          "name": "stdout"
        },
        {
          "output_type": "display_data",
          "data": {
            "application/vnd.jupyter.widget-view+json": {
              "model_id": "01a2d60be9bd4eba83c48fa30df218cf",
              "version_minor": 0,
              "version_major": 2
            },
            "text/plain": [
              "HBox(children=(FloatProgress(value=1.0, bar_style='info', max=1.0), HTML(value='')))"
            ]
          },
          "metadata": {
            "tags": []
          }
        },
        {
          "output_type": "stream",
          "text": [
            "Extracting ./data/MNIST/raw/train-images-idx3-ubyte.gz to ./data/MNIST/raw\n",
            "Downloading http://yann.lecun.com/exdb/mnist/train-labels-idx1-ubyte.gz to ./data/MNIST/raw/train-labels-idx1-ubyte.gz\n"
          ],
          "name": "stdout"
        },
        {
          "output_type": "display_data",
          "data": {
            "application/vnd.jupyter.widget-view+json": {
              "model_id": "0967882a567e4124a2c3d8ed7897a702",
              "version_minor": 0,
              "version_major": 2
            },
            "text/plain": [
              "HBox(children=(FloatProgress(value=1.0, bar_style='info', max=1.0), HTML(value='')))"
            ]
          },
          "metadata": {
            "tags": []
          }
        },
        {
          "output_type": "stream",
          "text": [
            "Extracting ./data/MNIST/raw/train-labels-idx1-ubyte.gz to ./data/MNIST/raw\n",
            "Downloading http://yann.lecun.com/exdb/mnist/t10k-images-idx3-ubyte.gz to ./data/MNIST/raw/t10k-images-idx3-ubyte.gz\n"
          ],
          "name": "stdout"
        },
        {
          "output_type": "display_data",
          "data": {
            "application/vnd.jupyter.widget-view+json": {
              "model_id": "33fcc8435da145ee9d1c435060c7c267",
              "version_minor": 0,
              "version_major": 2
            },
            "text/plain": [
              "HBox(children=(FloatProgress(value=1.0, bar_style='info', max=1.0), HTML(value='')))"
            ]
          },
          "metadata": {
            "tags": []
          }
        },
        {
          "output_type": "stream",
          "text": [
            "Extracting ./data/MNIST/raw/t10k-images-idx3-ubyte.gz to ./data/MNIST/raw\n",
            "Downloading http://yann.lecun.com/exdb/mnist/t10k-labels-idx1-ubyte.gz to ./data/MNIST/raw/t10k-labels-idx1-ubyte.gz\n",
            "\n",
            "\n"
          ],
          "name": "stdout"
        },
        {
          "output_type": "display_data",
          "data": {
            "application/vnd.jupyter.widget-view+json": {
              "model_id": "212d8a36991943d8ab801907242950dc",
              "version_minor": 0,
              "version_major": 2
            },
            "text/plain": [
              "HBox(children=(FloatProgress(value=1.0, bar_style='info', max=1.0), HTML(value='')))"
            ]
          },
          "metadata": {
            "tags": []
          }
        },
        {
          "output_type": "stream",
          "text": [
            "Extracting ./data/MNIST/raw/t10k-labels-idx1-ubyte.gz to ./data/MNIST/raw\n",
            "Processing...\n"
          ],
          "name": "stdout"
        },
        {
          "output_type": "stream",
          "text": [
            "/usr/local/lib/python3.6/dist-packages/torchvision/datasets/mnist.py:480: UserWarning: The given NumPy array is not writeable, and PyTorch does not support non-writeable tensors. This means you can write to the underlying (supposedly non-writeable) NumPy array using the tensor. You may want to copy the array to protect its data or make it writeable before converting it to a tensor. This type of warning will be suppressed for the rest of this program. (Triggered internally at  /pytorch/torch/csrc/utils/tensor_numpy.cpp:141.)\n",
            "  return torch.from_numpy(parsed.astype(m[2], copy=False)).view(*s)\n"
          ],
          "name": "stderr"
        },
        {
          "output_type": "stream",
          "text": [
            "Done!\n"
          ],
          "name": "stdout"
        }
      ]
    },
    {
      "cell_type": "code",
      "metadata": {
        "id": "V7n8eoGGwroG",
        "outputId": "9c3b47be-80be-4d4e-8efa-7f60f3e54d59",
        "colab": {
          "base_uri": "https://localhost:8080/"
        }
      },
      "source": [
        "mnist_trainset"
      ],
      "execution_count": 3,
      "outputs": [
        {
          "output_type": "execute_result",
          "data": {
            "text/plain": [
              "Dataset MNIST\n",
              "    Number of datapoints: 60000\n",
              "    Root location: ./data\n",
              "    Split: Train"
            ]
          },
          "metadata": {
            "tags": []
          },
          "execution_count": 3
        }
      ]
    },
    {
      "cell_type": "code",
      "metadata": {
        "id": "eeqOxl1HwroK",
        "outputId": "c5a0c70f-540b-425f-e4fc-79b7c936a231",
        "colab": {
          "base_uri": "https://localhost:8080/"
        }
      },
      "source": [
        "mnist_validset"
      ],
      "execution_count": 4,
      "outputs": [
        {
          "output_type": "execute_result",
          "data": {
            "text/plain": [
              "Dataset MNIST\n",
              "    Number of datapoints: 10000\n",
              "    Root location: ./data\n",
              "    Split: Test"
            ]
          },
          "metadata": {
            "tags": []
          },
          "execution_count": 4
        }
      ]
    },
    {
      "cell_type": "code",
      "metadata": {
        "id": "oOS9vXs0wroN"
      },
      "source": [
        "img, label  = mnist_trainset[0] #getting 0th element of dataset"
      ],
      "execution_count": 5,
      "outputs": []
    },
    {
      "cell_type": "code",
      "metadata": {
        "id": "beUDgU-wwroP",
        "outputId": "2f0dea4e-bed6-42a4-a324-e884cd5c8fb7",
        "colab": {
          "base_uri": "https://localhost:8080/"
        }
      },
      "source": [
        "type(img), type(label)"
      ],
      "execution_count": 6,
      "outputs": [
        {
          "output_type": "execute_result",
          "data": {
            "text/plain": [
              "(PIL.Image.Image, int)"
            ]
          },
          "metadata": {
            "tags": []
          },
          "execution_count": 6
        }
      ]
    },
    {
      "cell_type": "code",
      "metadata": {
        "id": "MeXK6iC9wroR",
        "outputId": "a1e2b57e-ad0d-49b0-9288-029a10fc921d",
        "colab": {
          "base_uri": "https://localhost:8080/"
        }
      },
      "source": [
        "label"
      ],
      "execution_count": 7,
      "outputs": [
        {
          "output_type": "execute_result",
          "data": {
            "text/plain": [
              "5"
            ]
          },
          "metadata": {
            "tags": []
          },
          "execution_count": 7
        }
      ]
    },
    {
      "cell_type": "code",
      "metadata": {
        "id": "WwRh652LwroT",
        "outputId": "e310baec-5798-45e5-bb9b-87cd7a2db440",
        "colab": {
          "base_uri": "https://localhost:8080/",
          "height": 282
        }
      },
      "source": [
        "plt.imshow(img) #we can use matplotlib function imshow to display image"
      ],
      "execution_count": 8,
      "outputs": [
        {
          "output_type": "execute_result",
          "data": {
            "text/plain": [
              "<matplotlib.image.AxesImage at 0x7f6ab6c922b0>"
            ]
          },
          "metadata": {
            "tags": []
          },
          "execution_count": 8
        },
        {
          "output_type": "display_data",
          "data": {
            "image/png": "[encoded data removed]",
            "text/plain": [
              "<Figure size 432x288 with 1 Axes>"
            ]
          },
          "metadata": {
            "tags": [],
            "needs_background": "light"
          }
        }
      ]
    },
    {
      "cell_type": "code",
      "metadata": {
        "id": "M0jnXLpWwroV"
      },
      "source": [
        "def show_image(x, title: str):\n",
        "    #function that shows image with a title\n",
        "    plt.imshow(x)\n",
        "    plt.title(f'Label: {title}')"
      ],
      "execution_count": 9,
      "outputs": []
    },
    {
      "cell_type": "code",
      "metadata": {
        "id": "zBrzGPptwroW"
      },
      "source": [
        "img, label = mnist_trainset[5438]"
      ],
      "execution_count": 10,
      "outputs": []
    },
    {
      "cell_type": "code",
      "metadata": {
        "id": "Dg6VuP12wroZ",
        "outputId": "9712000f-d796-4abf-aa93-e6ee1f09e94c",
        "colab": {
          "base_uri": "https://localhost:8080/",
          "height": 281
        }
      },
      "source": [
        "show_image(img, label)"
      ],
      "execution_count": 11,
      "outputs": [
        {
          "output_type": "display_data",
          "data": {
            "image/png": "[encoded data removed]",
            "text/plain": [
              "<Figure size 432x288 with 1 Axes>"
            ]
          },
          "metadata": {
            "tags": [],
            "needs_background": "light"
          }
        }
      ]
    },
    {
      "cell_type": "markdown",
      "metadata": {
        "id": "31SlrwfAwrob"
      },
      "source": [
        "Each pixel in the image has value between 0 and 255\n",
        "<div class=\"alert alert-block alert-info\">\n",
        "The word “pixel” means a picture element. Every photograph, in digital form, is made up of pixels. They are the smallest unit of information that makes up a picture. Usually round or square, they are typically arranged in a 2-dimensional grid.\n",
        "</div>"
      ]
    },
    {
      "cell_type": "code",
      "metadata": {
        "id": "zWdZx5Cjwrob",
        "outputId": "25f967fe-8fa0-438e-d72f-d0e3117e6532",
        "colab": {
          "base_uri": "https://localhost:8080/",
          "height": 717
        }
      },
      "source": [
        "#this is image which has value from 0 to 255 \n",
        "image_array=np.array(img)\n",
        "fig, axes = plt.subplots(figsize=(12, 12))\n",
        "sbn.heatmap(image_array, annot=True, fmt=\"d\", cmap=\"YlGnBu\")"
      ],
      "execution_count": 12,
      "outputs": [
        {
          "output_type": "execute_result",
          "data": {
            "text/plain": [
              "<matplotlib.axes._subplots.AxesSubplot at 0x7f6ab6722048>"
            ]
          },
          "metadata": {
            "tags": []
          },
          "execution_count": 12
        },
        {
          "output_type": "display_data",
          "data": {
            "image/png": "[encoded data removed]",
            "text/plain": [
              "<Figure size 864x864 with 2 Axes>"
            ]
          },
          "metadata": {
            "tags": [],
            "needs_background": "light"
          }
        }
      ]
    },
    {
      "cell_type": "code",
      "metadata": {
        "id": "iH8R7-Ekwrod"
      },
      "source": [
        " # dividing by 255 to scale everything between 0 to 1 (gettng rid of large numbers)\n",
        "def convert_to_tensor(x):\n",
        "    x= torch.tensor(np.array(x).astype('float'))\n",
        "    x= x /255\n",
        "    return x"
      ],
      "execution_count": 13,
      "outputs": []
    },
    {
      "cell_type": "code",
      "metadata": {
        "id": "0e0fMH8Uwrof"
      },
      "source": [
        "img, label = mnist_trainset[223]"
      ],
      "execution_count": 14,
      "outputs": []
    },
    {
      "cell_type": "code",
      "metadata": {
        "id": "k4E3RO0vwrog",
        "outputId": "4662ed82-5c49-4c64-ad27-494ccc7ea7e6",
        "colab": {
          "base_uri": "https://localhost:8080/",
          "height": 281
        }
      },
      "source": [
        "show_image(img, label)"
      ],
      "execution_count": 15,
      "outputs": [
        {
          "output_type": "display_data",
          "data": {
            "image/png": "[encoded data removed]",
            "text/plain": [
              "<Figure size 432x288 with 1 Axes>"
            ]
          },
          "metadata": {
            "tags": [],
            "needs_background": "light"
          }
        }
      ]
    },
    {
      "cell_type": "code",
      "metadata": {
        "id": "tyQqmBsfwroh",
        "outputId": "bb90842c-ecc9-4dbe-8dba-14135661c137",
        "colab": {
          "base_uri": "https://localhost:8080/"
        }
      },
      "source": [
        "img_tensor = convert_to_tensor(img)\n",
        "type(img), type(img_tensor)"
      ],
      "execution_count": 16,
      "outputs": [
        {
          "output_type": "execute_result",
          "data": {
            "text/plain": [
              "(PIL.Image.Image, torch.Tensor)"
            ]
          },
          "metadata": {
            "tags": []
          },
          "execution_count": 16
        }
      ]
    },
    {
      "cell_type": "code",
      "metadata": {
        "id": "SZ6Nqll1wroj",
        "outputId": "903751dc-1b80-4c2f-d356-394df63d34dd",
        "colab": {
          "base_uri": "https://localhost:8080/"
        }
      },
      "source": [
        "img_tensor.shape"
      ],
      "execution_count": 17,
      "outputs": [
        {
          "output_type": "execute_result",
          "data": {
            "text/plain": [
              "torch.Size([28, 28])"
            ]
          },
          "metadata": {
            "tags": []
          },
          "execution_count": 17
        }
      ]
    },
    {
      "cell_type": "markdown",
      "metadata": {
        "id": "XuDoHleXwrok"
      },
      "source": [
        "Luckily, pytorch provides us with this transformation so we don't have to convert the data to `tensor` manually "
      ]
    },
    {
      "cell_type": "code",
      "metadata": {
        "id": "MXHy11cRwrok"
      },
      "source": [
        "transform=transforms.Compose([\n",
        "        transforms.ToTensor(),\n",
        "        ])\n",
        "mnist_trainset = datasets.MNIST(root='./data', train=True, download=True, transform=transform)\n",
        "mnist_validset = datasets.MNIST(root='./data', train=False, download=True,transform=transform)"
      ],
      "execution_count": 18,
      "outputs": []
    },
    {
      "cell_type": "markdown",
      "metadata": {
        "id": "OWGNasvSwrom"
      },
      "source": [
        "## Dataloader\n",
        "<div class=\"alert alert-block alert-info\">\n",
        "PyTorch offers a solution for parallelizing the data loading process with the support of automatic batching as well. This is the DataLoader class present within the torch.utils.\n",
        "    data package. <br>\n",
        " <b> Batch size </b>is a hyperparameter that defines the number of samples to work through before updating the internal model parameters. <br>\n",
        " <b> Shuffle </b> Whether you want the data to be reshuffled or not. <br>\n",
        " <b> num_workers </b> Number of sub-processes needed for loading the data. <br>\n",
        " </div>"
      ]
    },
    {
      "cell_type": "code",
      "metadata": {
        "id": "fO9lep_fwrom"
      },
      "source": [
        "batch_size = 64\n",
        "train_dl = DataLoader(mnist_trainset, batch_size=batch_size, shuffle=True, num_workers=0)\n",
        "valid_dl = DataLoader(mnist_validset, batch_size=batch_size, shuffle=True, num_workers=0)"
      ],
      "execution_count": 19,
      "outputs": []
    },
    {
      "cell_type": "code",
      "metadata": {
        "id": "0wrpf-wpwroo",
        "outputId": "d06e244c-33c6-4d37-d302-e0997f4c778f",
        "colab": {
          "base_uri": "https://localhost:8080/"
        }
      },
      "source": [
        "train_dl"
      ],
      "execution_count": 20,
      "outputs": [
        {
          "output_type": "execute_result",
          "data": {
            "text/plain": [
              "<torch.utils.data.dataloader.DataLoader at 0x7f6ab37bbc18>"
            ]
          },
          "metadata": {
            "tags": []
          },
          "execution_count": 20
        }
      ]
    },
    {
      "cell_type": "code",
      "metadata": {
        "id": "K8CIbzOhwroq"
      },
      "source": [
        "batch_x, batch_y = next(iter(valid_dl)) # get one batch from the validation dataset"
      ],
      "execution_count": 21,
      "outputs": []
    },
    {
      "cell_type": "markdown",
      "metadata": {
        "id": "Ra5GRzT2wros"
      },
      "source": [
        "Notice the dimensions of `x` and `y`"
      ]
    },
    {
      "cell_type": "code",
      "metadata": {
        "id": "n0PDiz79wros",
        "outputId": "a226c853-d02e-4991-fe9d-571f93f7e4f6",
        "colab": {
          "base_uri": "https://localhost:8080/"
        }
      },
      "source": [
        "print(batch_x.shape)\n",
        "print(batch_y.shape)"
      ],
      "execution_count": 22,
      "outputs": [
        {
          "output_type": "stream",
          "text": [
            "torch.Size([64, 1, 28, 28])\n",
            "torch.Size([64])\n"
          ],
          "name": "stdout"
        }
      ]
    },
    {
      "cell_type": "code",
      "metadata": {
        "id": "fyxujVDHwrot",
        "outputId": "023cd937-face-4c43-aaed-96f40c2ad268",
        "colab": {
          "base_uri": "https://localhost:8080/",
          "height": 281
        }
      },
      "source": [
        "show_image(batch_x[0][0], str(batch_y[0].item()))"
      ],
      "execution_count": 23,
      "outputs": [
        {
          "output_type": "display_data",
          "data": {
            "image/png": "[encoded data removed]",
            "text/plain": [
              "<Figure size 432x288 with 1 Axes>"
            ]
          },
          "metadata": {
            "tags": [],
            "needs_background": "light"
          }
        }
      ]
    },
    {
      "cell_type": "markdown",
      "metadata": {
        "id": "7aAdQctBwrou"
      },
      "source": [
        "# Model 1: Linear Model\n",
        "\n",
        "The linear model will take input images consisting of $28\\times 28 = 784$ pixels and will output class prediction between 0 and 9.\n",
        "\n",
        "The (sinlge) linear layer of the model will consist of 10 neurons, one per class. As input, each neuron will receive a weighted sum of the 794 pixel intensities."
      ]
    },
    {
      "cell_type": "code",
      "metadata": {
        "id": "bVQCHF7mwrou",
        "outputId": "8e03105b-e644-4fe4-afc1-44a8cdb82f94",
        "colab": {
          "base_uri": "https://localhost:8080/",
          "height": 172
        }
      },
      "source": [
        "#hide\n",
        "layers = ['batch','reshape_(28*28)', 'model', 'predict', 'calculate loss', 'calculate gradient', 'take step', 'zero gradient']\n",
        "block  = 'iteration step'\n",
        "g = graph_items(seq_cluster(layers, block))\n",
        "g"
      ],
      "execution_count": 24,
      "outputs": [
        {
          "output_type": "execute_result",
          "data": {
            "text/plain": [
              "<pydot.Dot at 0x7f6ab37f5358>"
            ],
            "image/svg+xml": "<?xml version=\"1.0\" encoding=\"UTF-8\" standalone=\"no\"?>\n<!DOCTYPE svg PUBLIC \"-//W3C//DTD SVG 1.1//EN\"\n \"http://www.w3.org/Graphics/SVG/1.1/DTD/svg11.dtd\">\n<!-- Generated by graphviz version 2.40.1 (20161225.0304)\n -->\n<!-- Title: G Pages: 1 -->\n<svg width=\"933pt\" height=\"99pt\"\n viewBox=\"0.00 0.00 933.00 99.00\" xmlns=\"http://www.w3.org/2000/svg\" xmlns:xlink=\"http://www.w3.org/1999/xlink\">\n<g id=\"graph0\" class=\"graph\" transform=\"scale(1 1) rotate(0) translate(4 95)\">\n<title>G</title>\n<polygon fill=\"#ffffff\" stroke=\"transparent\" points=\"-4,4 -4,-95 929,-95 929,4 -4,4\"/>\n<g id=\"clust1\" class=\"cluster\">\n<title>cluster_nac5641b40a0a45cc996701b1302624b4</title>\n<g id=\"a_clust1\"><a xlink:title=\"iteration step\">\n<path fill=\"#555555\" fill-opacity=\"0.133333\" stroke=\"#000000\" d=\"M20,-8C20,-8 905,-8 905,-8 911,-8 917,-14 917,-20 917,-20 917,-71 917,-71 917,-77 911,-83 905,-83 905,-83 20,-83 20,-83 14,-83 8,-77 8,-71 8,-71 8,-20 8,-20 8,-14 14,-8 20,-8\"/>\n<text text-anchor=\"middle\" x=\"462.5\" y=\"-67.8\" font-family=\"Times,serif\" font-size=\"14.00\" fill=\"#000000\">iteration step</text>\n</a>\n</g>\n</g>\n<!-- n8e66d5281fef4e69833fd0f534d42d30 -->\n<g id=\"node1\" class=\"node\">\n<title>n8e66d5281fef4e69833fd0f534d42d30</title>\n<g id=\"a_node1\"><a xlink:title=\"batch\">\n<path fill=\"#22d6e0\" fill-opacity=\"0.647059\" stroke=\"#000000\" d=\"M58,-52C58,-52 28,-52 28,-52 22,-52 16,-46 16,-40 16,-40 16,-28 16,-28 16,-22 22,-16 28,-16 28,-16 58,-16 58,-16 64,-16 70,-22 70,-28 70,-28 70,-40 70,-40 70,-46 64,-52 58,-52\"/>\n<text text-anchor=\"middle\" x=\"43\" y=\"-30.3\" font-family=\"Times,serif\" font-size=\"14.00\" fill=\"#000000\">batch</text>\n</a>\n</g>\n</g>\n<!-- n1d18dad75144450fa75eeddfd0a9e81a -->\n<g id=\"node2\" class=\"node\">\n<title>n1d18dad75144450fa75eeddfd0a9e81a</title>\n<g id=\"a_node2\"><a xlink:title=\"reshape_(28*28)\">\n<path fill=\"#ff381c\" fill-opacity=\"0.474510\" stroke=\"#000000\" d=\"M207,-52C207,-52 118,-52 118,-52 112,-52 106,-46 106,-40 106,-40 106,-28 106,-28 106,-22 112,-16 118,-16 118,-16 207,-16 207,-16 213,-16 219,-22 219,-28 219,-28 219,-40 219,-40 219,-46 213,-52 207,-52\"/>\n<text text-anchor=\"middle\" x=\"162.5\" y=\"-30.3\" font-family=\"Times,serif\" font-size=\"14.00\" fill=\"#000000\">reshape_(28*28)</text>\n</a>\n</g>\n</g>\n<!-- n8e66d5281fef4e69833fd0f534d42d30&#45;&gt;n1d18dad75144450fa75eeddfd0a9e81a -->\n<g id=\"edge1\" class=\"edge\">\n<title>n8e66d5281fef4e69833fd0f534d42d30&#45;&gt;n1d18dad75144450fa75eeddfd0a9e81a</title>\n<path fill=\"none\" stroke=\"#000000\" d=\"M70.1164,-34C77.8214,-34 86.5709,-34 95.5403,-34\"/>\n<polygon fill=\"#000000\" stroke=\"#000000\" points=\"95.7166,-37.5001 105.7165,-34 95.7165,-30.5001 95.7166,-37.5001\"/>\n</g>\n<!-- n79021e4e84a14b88814eca5ffe5c64ab -->\n<g id=\"node3\" class=\"node\">\n<title>n79021e4e84a14b88814eca5ffe5c64ab</title>\n<g id=\"a_node3\"><a xlink:title=\"model\">\n<path fill=\"#ebca70\" fill-opacity=\"0.380392\" stroke=\"#000000\" d=\"M297,-52C297,-52 267,-52 267,-52 261,-52 255,-46 255,-40 255,-40 255,-28 255,-28 255,-22 261,-16 267,-16 267,-16 297,-16 297,-16 303,-16 309,-22 309,-28 309,-28 309,-40 309,-40 309,-46 303,-52 297,-52\"/>\n<text text-anchor=\"middle\" x=\"282\" y=\"-30.3\" font-family=\"Times,serif\" font-size=\"14.00\" fill=\"#000000\">model</text>\n</a>\n</g>\n</g>\n<!-- n1d18dad75144450fa75eeddfd0a9e81a&#45;&gt;n79021e4e84a14b88814eca5ffe5c64ab -->\n<g id=\"edge2\" class=\"edge\">\n<title>n1d18dad75144450fa75eeddfd0a9e81a&#45;&gt;n79021e4e84a14b88814eca5ffe5c64ab</title>\n<path fill=\"none\" stroke=\"#000000\" d=\"M219.1004,-34C227.7412,-34 236.4701,-34 244.5615,-34\"/>\n<polygon fill=\"#000000\" stroke=\"#000000\" points=\"244.7703,-37.5001 254.7703,-34 244.7703,-30.5001 244.7703,-37.5001\"/>\n</g>\n<!-- n8ae96cb9040f4c78af2a39b9aed2e0a6 -->\n<g id=\"node4\" class=\"node\">\n<title>n8ae96cb9040f4c78af2a39b9aed2e0a6</title>\n<g id=\"a_node4\"><a xlink:title=\"predict\">\n<path fill=\"#1acfe3\" fill-opacity=\"0.725490\" stroke=\"#000000\" d=\"M389,-52C389,-52 357,-52 357,-52 351,-52 345,-46 345,-40 345,-40 345,-28 345,-28 345,-22 351,-16 357,-16 357,-16 389,-16 389,-16 395,-16 401,-22 401,-28 401,-28 401,-40 401,-40 401,-46 395,-52 389,-52\"/>\n<text text-anchor=\"middle\" x=\"373\" y=\"-30.3\" font-family=\"Times,serif\" font-size=\"14.00\" fill=\"#000000\">predict</text>\n</a>\n</g>\n</g>\n<!-- n79021e4e84a14b88814eca5ffe5c64ab&#45;&gt;n8ae96cb9040f4c78af2a39b9aed2e0a6 -->\n<g id=\"edge3\" class=\"edge\">\n<title>n79021e4e84a14b88814eca5ffe5c64ab&#45;&gt;n8ae96cb9040f4c78af2a39b9aed2e0a6</title>\n<path fill=\"none\" stroke=\"#000000\" d=\"M309.303,-34C317.268,-34 326.1237,-34 334.6375,-34\"/>\n<polygon fill=\"#000000\" stroke=\"#000000\" points=\"334.77,-37.5001 344.77,-34 334.77,-30.5001 334.77,-37.5001\"/>\n</g>\n<!-- na8e8a1796e734cb09c901bdbf74c1794 -->\n<g id=\"node5\" class=\"node\">\n<title>na8e8a1796e734cb09c901bdbf74c1794</title>\n<g id=\"a_node5\"><a xlink:title=\"calculate loss\">\n<path fill=\"#ff7b40\" fill-opacity=\"0.117647\" stroke=\"#000000\" d=\"M516,-52C516,-52 449,-52 449,-52 443,-52 437,-46 437,-40 437,-40 437,-28 437,-28 437,-22 443,-16 449,-16 449,-16 516,-16 516,-16 522,-16 528,-22 528,-28 528,-28 528,-40 528,-40 528,-46 522,-52 516,-52\"/>\n<text text-anchor=\"middle\" x=\"482.5\" y=\"-30.3\" font-family=\"Times,serif\" font-size=\"14.00\" fill=\"#000000\">calculate loss</text>\n</a>\n</g>\n</g>\n<!-- n8ae96cb9040f4c78af2a39b9aed2e0a6&#45;&gt;na8e8a1796e734cb09c901bdbf74c1794 -->\n<g id=\"edge4\" class=\"edge\">\n<title>n8ae96cb9040f4c78af2a39b9aed2e0a6&#45;&gt;na8e8a1796e734cb09c901bdbf74c1794</title>\n<path fill=\"none\" stroke=\"#000000\" d=\"M401.199,-34C409.1179,-34 418.0146,-34 426.9401,-34\"/>\n<polygon fill=\"#000000\" stroke=\"#000000\" points=\"426.9788,-37.5001 436.9788,-34 426.9788,-30.5001 426.9788,-37.5001\"/>\n</g>\n<!-- na8062262856b4d819838348980309860 -->\n<g id=\"node6\" class=\"node\">\n<title>na8062262856b4d819838348980309860</title>\n<g id=\"a_node6\"><a xlink:title=\"calculate gradient\">\n<path fill=\"#ff381c\" fill-opacity=\"0.725490\" stroke=\"#000000\" d=\"M668,-52C668,-52 576,-52 576,-52 570,-52 564,-46 564,-40 564,-40 564,-28 564,-28 564,-22 570,-16 576,-16 576,-16 668,-16 668,-16 674,-16 680,-22 680,-28 680,-28 680,-40 680,-40 680,-46 674,-52 668,-52\"/>\n<text text-anchor=\"middle\" x=\"622\" y=\"-30.3\" font-family=\"Times,serif\" font-size=\"14.00\" fill=\"#000000\">calculate gradient</text>\n</a>\n</g>\n</g>\n<!-- na8e8a1796e734cb09c901bdbf74c1794&#45;&gt;na8062262856b4d819838348980309860 -->\n<g id=\"edge5\" class=\"edge\">\n<title>na8e8a1796e734cb09c901bdbf74c1794&#45;&gt;na8062262856b4d819838348980309860</title>\n<path fill=\"none\" stroke=\"#000000\" d=\"M528.1775,-34C536.2875,-34 544.8924,-34 553.4726,-34\"/>\n<polygon fill=\"#000000\" stroke=\"#000000\" points=\"553.5026,-37.5001 563.5026,-34 553.5026,-30.5001 553.5026,-37.5001\"/>\n</g>\n<!-- n0e9ca3585dd04a838e8ab2368c8aecc9 -->\n<g id=\"node7\" class=\"node\">\n<title>n0e9ca3585dd04a838e8ab2368c8aecc9</title>\n<g id=\"a_node7\"><a xlink:title=\"take step\">\n<path fill=\"#ff0d06\" fill-opacity=\"0.419608\" stroke=\"#000000\" d=\"M770,-52C770,-52 728,-52 728,-52 722,-52 716,-46 716,-40 716,-40 716,-28 716,-28 716,-22 722,-16 728,-16 728,-16 770,-16 770,-16 776,-16 782,-22 782,-28 782,-28 782,-40 782,-40 782,-46 776,-52 770,-52\"/>\n<text text-anchor=\"middle\" x=\"749\" y=\"-30.3\" font-family=\"Times,serif\" font-size=\"14.00\" fill=\"#000000\">take step</text>\n</a>\n</g>\n</g>\n<!-- na8062262856b4d819838348980309860&#45;&gt;n0e9ca3585dd04a838e8ab2368c8aecc9 -->\n<g id=\"edge6\" class=\"edge\">\n<title>na8062262856b4d819838348980309860&#45;&gt;n0e9ca3585dd04a838e8ab2368c8aecc9</title>\n<path fill=\"none\" stroke=\"#000000\" d=\"M680.2962,-34C688.8241,-34 697.478,-34 705.6372,-34\"/>\n<polygon fill=\"#000000\" stroke=\"#000000\" points=\"705.6608,-37.5001 715.6608,-34 705.6607,-30.5001 705.6608,-37.5001\"/>\n</g>\n<!-- n3fd85168a7874697880031d851beeb81 -->\n<g id=\"node8\" class=\"node\">\n<title>n3fd85168a7874697880031d851beeb81</title>\n<g id=\"a_node8\"><a xlink:title=\"zero gradient\">\n<path fill=\"#ebca70\" fill-opacity=\"0.254902\" stroke=\"#000000\" d=\"M897,-52C897,-52 830,-52 830,-52 824,-52 818,-46 818,-40 818,-40 818,-28 818,-28 818,-22 824,-16 830,-16 830,-16 897,-16 897,-16 903,-16 909,-22 909,-28 909,-28 909,-40 909,-40 909,-46 903,-52 897,-52\"/>\n<text text-anchor=\"middle\" x=\"863.5\" y=\"-30.3\" font-family=\"Times,serif\" font-size=\"14.00\" fill=\"#000000\">zero gradient</text>\n</a>\n</g>\n</g>\n<!-- n0e9ca3585dd04a838e8ab2368c8aecc9&#45;&gt;n3fd85168a7874697880031d851beeb81 -->\n<g id=\"edge7\" class=\"edge\">\n<title>n0e9ca3585dd04a838e8ab2368c8aecc9&#45;&gt;n3fd85168a7874697880031d851beeb81</title>\n<path fill=\"none\" stroke=\"#000000\" d=\"M782.1181,-34C790.0934,-34 798.8333,-34 807.5337,-34\"/>\n<polygon fill=\"#000000\" stroke=\"#000000\" points=\"807.6809,-37.5001 817.6809,-34 807.6808,-30.5001 807.6809,-37.5001\"/>\n</g>\n</g>\n</svg>\n"
          },
          "metadata": {
            "tags": []
          },
          "execution_count": 24
        }
      ]
    },
    {
      "cell_type": "code",
      "metadata": {
        "id": "PT1Pm9jwwrow"
      },
      "source": [
        "input_size = 28 * 28 # 784, number of pixels in image\n",
        "num_classes = 10 # 10 classes of images\n",
        "model = nn.Linear(in_features=input_size, out_features=num_classes)"
      ],
      "execution_count": 25,
      "outputs": []
    },
    {
      "cell_type": "code",
      "metadata": {
        "id": "pLQ8GtLswrox",
        "outputId": "59bc2336-a5ec-4e07-c666-8247c5a52f97",
        "colab": {
          "base_uri": "https://localhost:8080/"
        }
      },
      "source": [
        "model # print summary of the model"
      ],
      "execution_count": 26,
      "outputs": [
        {
          "output_type": "execute_result",
          "data": {
            "text/plain": [
              "Linear(in_features=784, out_features=10, bias=True)"
            ]
          },
          "metadata": {
            "tags": []
          },
          "execution_count": 26
        }
      ]
    },
    {
      "cell_type": "code",
      "metadata": {
        "id": "tG9HcOXbwroy",
        "outputId": "19d11a16-5c9d-48af-9281-005217144f3d",
        "colab": {
          "base_uri": "https://localhost:8080/"
        }
      },
      "source": [
        "model.weight"
      ],
      "execution_count": 27,
      "outputs": [
        {
          "output_type": "execute_result",
          "data": {
            "text/plain": [
              "Parameter containing:\n",
              "tensor([[-0.0125,  0.0151, -0.0070,  ..., -0.0059,  0.0028,  0.0045],\n",
              "        [ 0.0284, -0.0178,  0.0164,  ..., -0.0314,  0.0072, -0.0340],\n",
              "        [-0.0172,  0.0188,  0.0020,  ...,  0.0168, -0.0101,  0.0242],\n",
              "        ...,\n",
              "        [ 0.0285,  0.0230, -0.0212,  ...,  0.0326, -0.0331, -0.0312],\n",
              "        [-0.0233, -0.0053, -0.0305,  ..., -0.0031, -0.0340, -0.0255],\n",
              "        [ 0.0180, -0.0112, -0.0181,  ...,  0.0268, -0.0290,  0.0108]],\n",
              "       requires_grad=True)"
            ]
          },
          "metadata": {
            "tags": []
          },
          "execution_count": 27
        }
      ]
    },
    {
      "cell_type": "markdown",
      "metadata": {
        "id": "VJGO2V0Dwroz"
      },
      "source": [
        "Every neuron sees a weighted sum of all 784 pixels, so the number of weights per neuron in our linear layer is 784"
      ]
    },
    {
      "cell_type": "code",
      "metadata": {
        "id": "Uxkx4Xf0wroz",
        "outputId": "20d8f81f-fcb5-48ee-d6d3-63a8dc4f0b63",
        "colab": {
          "base_uri": "https://localhost:8080/"
        }
      },
      "source": [
        "model.weight.shape # (number of neurons, number of pixels)"
      ],
      "execution_count": 28,
      "outputs": [
        {
          "output_type": "execute_result",
          "data": {
            "text/plain": [
              "torch.Size([10, 784])"
            ]
          },
          "metadata": {
            "tags": []
          },
          "execution_count": 28
        }
      ]
    },
    {
      "cell_type": "code",
      "metadata": {
        "id": "JnwuU5sPwro0",
        "outputId": "2d21fbdf-82ae-4ef9-a491-02baa6754475",
        "colab": {
          "base_uri": "https://localhost:8080/"
        }
      },
      "source": [
        "model.bias.shape # (number of neurons (or classes))"
      ],
      "execution_count": 29,
      "outputs": [
        {
          "output_type": "execute_result",
          "data": {
            "text/plain": [
              "torch.Size([10])"
            ]
          },
          "metadata": {
            "tags": []
          },
          "execution_count": 29
        }
      ]
    },
    {
      "cell_type": "code",
      "metadata": {
        "id": "P0aAkmelwro1",
        "outputId": "0c47a628-8d90-4d08-b5b3-d4629462da3d",
        "colab": {
          "base_uri": "https://localhost:8080/"
        }
      },
      "source": [
        "model.eval() # switch to evaluation mode"
      ],
      "execution_count": 30,
      "outputs": [
        {
          "output_type": "execute_result",
          "data": {
            "text/plain": [
              "Linear(in_features=784, out_features=10, bias=True)"
            ]
          },
          "metadata": {
            "tags": []
          },
          "execution_count": 30
        }
      ]
    },
    {
      "cell_type": "code",
      "metadata": {
        "id": "OiL52hfJwro2"
      },
      "source": [
        "batch_x, batch_y = next(iter(valid_dl)) # get one batch from the validation dataset"
      ],
      "execution_count": 31,
      "outputs": []
    },
    {
      "cell_type": "code",
      "metadata": {
        "id": "gQAj4-dfwro3",
        "outputId": "1a86e1b8-8a62-4035-b4b2-6a1b5206fa2f",
        "colab": {
          "base_uri": "https://localhost:8080/"
        }
      },
      "source": [
        "print(batch_x.shape)\n",
        "print(batch_y.shape)"
      ],
      "execution_count": 32,
      "outputs": [
        {
          "output_type": "stream",
          "text": [
            "torch.Size([64, 1, 28, 28])\n",
            "torch.Size([64])\n"
          ],
          "name": "stdout"
        }
      ]
    },
    {
      "cell_type": "markdown",
      "metadata": {
        "id": "n-FfW9xywro4"
      },
      "source": [
        "Let's try passing data batch to the model (..will throw an error becaue the data is of wrong shape)"
      ]
    },
    {
      "cell_type": "code",
      "metadata": {
        "id": "4KjiLRR8wro5",
        "outputId": "df8b917d-9fc4-4f8b-d6f1-989777d13186",
        "colab": {
          "base_uri": "https://localhost:8080/",
          "height": 335
        }
      },
      "source": [
        "with torch.no_grad():\n",
        "    y_hat = model(batch_x)"
      ],
      "execution_count": 33,
      "outputs": [
        {
          "output_type": "error",
          "ename": "RuntimeError",
          "evalue": "ignored",
          "traceback": [
            "\u001b[0;31m---------------------------------------------------------------------------\u001b[0m",
            "\u001b[0;31mRuntimeError\u001b[0m                              Traceback (most recent call last)",
            "\u001b[0;32m<ipython-input-33-2448b35e9364>\u001b[0m in \u001b[0;36m<module>\u001b[0;34m()\u001b[0m\n\u001b[1;32m      1\u001b[0m \u001b[0;32mwith\u001b[0m \u001b[0mtorch\u001b[0m\u001b[0;34m.\u001b[0m\u001b[0mno_grad\u001b[0m\u001b[0;34m(\u001b[0m\u001b[0;34m)\u001b[0m\u001b[0;34m:\u001b[0m\u001b[0;34m\u001b[0m\u001b[0;34m\u001b[0m\u001b[0m\n\u001b[0;32m----> 2\u001b[0;31m     \u001b[0my_hat\u001b[0m \u001b[0;34m=\u001b[0m \u001b[0mmodel\u001b[0m\u001b[0;34m(\u001b[0m\u001b[0mbatch_x\u001b[0m\u001b[0;34m)\u001b[0m\u001b[0;34m\u001b[0m\u001b[0;34m\u001b[0m\u001b[0m\n\u001b[0m",
            "\u001b[0;32m/usr/local/lib/python3.6/dist-packages/torch/nn/modules/module.py\u001b[0m in \u001b[0;36m_call_impl\u001b[0;34m(self, *input, **kwargs)\u001b[0m\n\u001b[1;32m    725\u001b[0m             \u001b[0mresult\u001b[0m \u001b[0;34m=\u001b[0m \u001b[0mself\u001b[0m\u001b[0;34m.\u001b[0m\u001b[0m_slow_forward\u001b[0m\u001b[0;34m(\u001b[0m\u001b[0;34m*\u001b[0m\u001b[0minput\u001b[0m\u001b[0;34m,\u001b[0m \u001b[0;34m**\u001b[0m\u001b[0mkwargs\u001b[0m\u001b[0;34m)\u001b[0m\u001b[0;34m\u001b[0m\u001b[0;34m\u001b[0m\u001b[0m\n\u001b[1;32m    726\u001b[0m         \u001b[0;32melse\u001b[0m\u001b[0;34m:\u001b[0m\u001b[0;34m\u001b[0m\u001b[0;34m\u001b[0m\u001b[0m\n\u001b[0;32m--> 727\u001b[0;31m             \u001b[0mresult\u001b[0m \u001b[0;34m=\u001b[0m \u001b[0mself\u001b[0m\u001b[0;34m.\u001b[0m\u001b[0mforward\u001b[0m\u001b[0;34m(\u001b[0m\u001b[0;34m*\u001b[0m\u001b[0minput\u001b[0m\u001b[0;34m,\u001b[0m \u001b[0;34m**\u001b[0m\u001b[0mkwargs\u001b[0m\u001b[0;34m)\u001b[0m\u001b[0;34m\u001b[0m\u001b[0;34m\u001b[0m\u001b[0m\n\u001b[0m\u001b[1;32m    728\u001b[0m         for hook in itertools.chain(\n\u001b[1;32m    729\u001b[0m                 \u001b[0m_global_forward_hooks\u001b[0m\u001b[0;34m.\u001b[0m\u001b[0mvalues\u001b[0m\u001b[0;34m(\u001b[0m\u001b[0;34m)\u001b[0m\u001b[0;34m,\u001b[0m\u001b[0;34m\u001b[0m\u001b[0;34m\u001b[0m\u001b[0m\n",
            "\u001b[0;32m/usr/local/lib/python3.6/dist-packages/torch/nn/modules/linear.py\u001b[0m in \u001b[0;36mforward\u001b[0;34m(self, input)\u001b[0m\n\u001b[1;32m     91\u001b[0m \u001b[0;34m\u001b[0m\u001b[0m\n\u001b[1;32m     92\u001b[0m     \u001b[0;32mdef\u001b[0m \u001b[0mforward\u001b[0m\u001b[0;34m(\u001b[0m\u001b[0mself\u001b[0m\u001b[0;34m,\u001b[0m \u001b[0minput\u001b[0m\u001b[0;34m:\u001b[0m \u001b[0mTensor\u001b[0m\u001b[0;34m)\u001b[0m \u001b[0;34m->\u001b[0m \u001b[0mTensor\u001b[0m\u001b[0;34m:\u001b[0m\u001b[0;34m\u001b[0m\u001b[0;34m\u001b[0m\u001b[0m\n\u001b[0;32m---> 93\u001b[0;31m         \u001b[0;32mreturn\u001b[0m \u001b[0mF\u001b[0m\u001b[0;34m.\u001b[0m\u001b[0mlinear\u001b[0m\u001b[0;34m(\u001b[0m\u001b[0minput\u001b[0m\u001b[0;34m,\u001b[0m \u001b[0mself\u001b[0m\u001b[0;34m.\u001b[0m\u001b[0mweight\u001b[0m\u001b[0;34m,\u001b[0m \u001b[0mself\u001b[0m\u001b[0;34m.\u001b[0m\u001b[0mbias\u001b[0m\u001b[0;34m)\u001b[0m\u001b[0;34m\u001b[0m\u001b[0;34m\u001b[0m\u001b[0m\n\u001b[0m\u001b[1;32m     94\u001b[0m \u001b[0;34m\u001b[0m\u001b[0m\n\u001b[1;32m     95\u001b[0m     \u001b[0;32mdef\u001b[0m \u001b[0mextra_repr\u001b[0m\u001b[0;34m(\u001b[0m\u001b[0mself\u001b[0m\u001b[0;34m)\u001b[0m \u001b[0;34m->\u001b[0m \u001b[0mstr\u001b[0m\u001b[0;34m:\u001b[0m\u001b[0;34m\u001b[0m\u001b[0;34m\u001b[0m\u001b[0m\n",
            "\u001b[0;32m/usr/local/lib/python3.6/dist-packages/torch/nn/functional.py\u001b[0m in \u001b[0;36mlinear\u001b[0;34m(input, weight, bias)\u001b[0m\n\u001b[1;32m   1690\u001b[0m         \u001b[0mret\u001b[0m \u001b[0;34m=\u001b[0m \u001b[0mtorch\u001b[0m\u001b[0;34m.\u001b[0m\u001b[0maddmm\u001b[0m\u001b[0;34m(\u001b[0m\u001b[0mbias\u001b[0m\u001b[0;34m,\u001b[0m \u001b[0minput\u001b[0m\u001b[0;34m,\u001b[0m \u001b[0mweight\u001b[0m\u001b[0;34m.\u001b[0m\u001b[0mt\u001b[0m\u001b[0;34m(\u001b[0m\u001b[0;34m)\u001b[0m\u001b[0;34m)\u001b[0m\u001b[0;34m\u001b[0m\u001b[0;34m\u001b[0m\u001b[0m\n\u001b[1;32m   1691\u001b[0m     \u001b[0;32melse\u001b[0m\u001b[0;34m:\u001b[0m\u001b[0;34m\u001b[0m\u001b[0;34m\u001b[0m\u001b[0m\n\u001b[0;32m-> 1692\u001b[0;31m         \u001b[0moutput\u001b[0m \u001b[0;34m=\u001b[0m \u001b[0minput\u001b[0m\u001b[0;34m.\u001b[0m\u001b[0mmatmul\u001b[0m\u001b[0;34m(\u001b[0m\u001b[0mweight\u001b[0m\u001b[0;34m.\u001b[0m\u001b[0mt\u001b[0m\u001b[0;34m(\u001b[0m\u001b[0;34m)\u001b[0m\u001b[0;34m)\u001b[0m\u001b[0;34m\u001b[0m\u001b[0;34m\u001b[0m\u001b[0m\n\u001b[0m\u001b[1;32m   1693\u001b[0m         \u001b[0;32mif\u001b[0m \u001b[0mbias\u001b[0m \u001b[0;32mis\u001b[0m \u001b[0;32mnot\u001b[0m \u001b[0;32mNone\u001b[0m\u001b[0;34m:\u001b[0m\u001b[0;34m\u001b[0m\u001b[0;34m\u001b[0m\u001b[0m\n\u001b[1;32m   1694\u001b[0m             \u001b[0moutput\u001b[0m \u001b[0;34m+=\u001b[0m \u001b[0mbias\u001b[0m\u001b[0;34m\u001b[0m\u001b[0;34m\u001b[0m\u001b[0m\n",
            "\u001b[0;31mRuntimeError\u001b[0m: mat1 and mat2 shapes cannot be multiplied (1792x28 and 784x10)"
          ]
        }
      ]
    },
    {
      "cell_type": "code",
      "metadata": {
        "id": "HggmfZgzwro6",
        "outputId": "31e4e318-31b0-4fcb-b876-a84f274c224c",
        "colab": {
          "base_uri": "https://localhost:8080/"
        }
      },
      "source": [
        "batch_x = batch_x.view(-1, 28*28) # -1 means infer this dimension automatically\n",
        "batch_x.shape # (batch, number of pixels)"
      ],
      "execution_count": 34,
      "outputs": [
        {
          "output_type": "execute_result",
          "data": {
            "text/plain": [
              "torch.Size([64, 784])"
            ]
          },
          "metadata": {
            "tags": []
          },
          "execution_count": 34
        }
      ]
    },
    {
      "cell_type": "markdown",
      "metadata": {
        "id": "dCbd0QVgwro7"
      },
      "source": [
        "Now we can feed data to the model safely"
      ]
    },
    {
      "cell_type": "code",
      "metadata": {
        "id": "29_Qi8Wgwro8"
      },
      "source": [
        "# forward pass\n",
        "y_hat = model(batch_x)"
      ],
      "execution_count": 35,
      "outputs": []
    },
    {
      "cell_type": "code",
      "metadata": {
        "id": "6ZbbT0ZGwro8",
        "outputId": "a7a523bf-e3c9-4b7b-8bad-c9fb25b14cd8",
        "colab": {
          "base_uri": "https://localhost:8080/"
        }
      },
      "source": [
        "# prediction (batch, number of classes)\n",
        "y_hat.shape"
      ],
      "execution_count": 36,
      "outputs": [
        {
          "output_type": "execute_result",
          "data": {
            "text/plain": [
              "torch.Size([64, 10])"
            ]
          },
          "metadata": {
            "tags": []
          },
          "execution_count": 36
        }
      ]
    },
    {
      "cell_type": "code",
      "metadata": {
        "id": "eginpZXiwro-",
        "outputId": "bde8ead3-40ad-4c18-d9f0-a8de0846d0cc",
        "colab": {
          "base_uri": "https://localhost:8080/"
        }
      },
      "source": [
        "batch_x.shape # (batch, number of pixels)"
      ],
      "execution_count": 37,
      "outputs": [
        {
          "output_type": "execute_result",
          "data": {
            "text/plain": [
              "torch.Size([64, 784])"
            ]
          },
          "metadata": {
            "tags": []
          },
          "execution_count": 37
        }
      ]
    },
    {
      "cell_type": "code",
      "metadata": {
        "id": "PArkEEg9gjSg"
      },
      "source": [
        "#print y_hat for 1 image ten probabilities"
      ],
      "execution_count": 38,
      "outputs": []
    },
    {
      "cell_type": "markdown",
      "metadata": {
        "id": "9wrl9aq3wro_"
      },
      "source": [
        "## Loss\n",
        "\n",
        "To calculate the loss, we will use the cross-entropy loss, $L = -\\sum_i y_i \\log  \\hat{y}_i$, where the sum is over the batch.\n",
        "\n",
        "This loss is typically used in classification problems. \n",
        "\n",
        "Note that the output of our model and the ground true labels are not probabilities yet. The `nn.CrossEntropyLoss` class will transform them to probabilities internally by applying `nn.LogSoftmax()` to them."
      ]
    },
    {
      "cell_type": "code",
      "metadata": {
        "id": "h58RB72Ywro_"
      },
      "source": [
        "loss_fn = nn.CrossEntropyLoss()"
      ],
      "execution_count": 39,
      "outputs": []
    },
    {
      "cell_type": "code",
      "metadata": {
        "id": "_BtD2YpOwrpA"
      },
      "source": [
        "loss = loss_fn(y_hat, batch_y)"
      ],
      "execution_count": 40,
      "outputs": []
    },
    {
      "cell_type": "code",
      "metadata": {
        "id": "uLIoboULwrpB",
        "outputId": "41b378dd-2d43-45cf-db2d-961346d8c5d4",
        "colab": {
          "base_uri": "https://localhost:8080/"
        }
      },
      "source": [
        "loss"
      ],
      "execution_count": 41,
      "outputs": [
        {
          "output_type": "execute_result",
          "data": {
            "text/plain": [
              "tensor(2.3213, grad_fn=<NllLossBackward>)"
            ]
          },
          "metadata": {
            "tags": []
          },
          "execution_count": 41
        }
      ]
    },
    {
      "cell_type": "code",
      "metadata": {
        "id": "LY4W2uJuwrpC"
      },
      "source": [
        "# calculate the gradient in backward pass\n",
        "loss.backward()"
      ],
      "execution_count": 42,
      "outputs": []
    },
    {
      "cell_type": "markdown",
      "metadata": {
        "id": "JATeB_LpwrpD"
      },
      "source": [
        "Let's put everything together (and also initialize the optimizer)"
      ]
    },
    {
      "cell_type": "code",
      "metadata": {
        "id": "JT-1SE3fwrpD"
      },
      "source": [
        "input_size = 28 * 28 # 784\n",
        "num_classes = 10\n",
        "\n",
        "num_epochs = 5\n",
        "batch_size = 100\n",
        "learning_rate = 0.01\n",
        "\n",
        "# Logistic regression model\n",
        "model = nn.Linear(in_features=input_size, out_features=num_classes, bias=True)\n",
        "\n",
        "# Loss and optimizer\n",
        "loss_fn = nn.CrossEntropyLoss() # applies softmax internally\n",
        "optimizer = torch.optim.SGD(model.parameters(), lr=learning_rate)"
      ],
      "execution_count": 43,
      "outputs": []
    },
    {
      "cell_type": "markdown",
      "metadata": {
        "id": "LBS4MOXAwrpE"
      },
      "source": [
        "<div class=\"alert alert-block alert-info\">\n",
        "<b> Epoch </b>  is when an ENTIRE dataset is passed forward and backward through the neural network only ONCE. <br>\n",
        "<b> Iterations </b> is the number of batches needed to complete one epoch.<br>\n",
        "    \n",
        "Let’s say we have <b>5000</b> training examples that we are going to use. We can divide the dataset of <b>5000</b> examples into batches of <b>500</b> then it will take <b>10 iterations</b> to complete <b>1 epoch</b>\n",
        "</div>\n",
        "\n"
      ]
    },
    {
      "cell_type": "markdown",
      "metadata": {
        "id": "w0MNhcp4wrpE"
      },
      "source": [
        "# Train the model\n",
        "\n",
        "We are ready to train the model!"
      ]
    },
    {
      "cell_type": "code",
      "metadata": {
        "id": "s61ZuiPQwrpE",
        "outputId": "e291a97d-6c24-4bcf-dd21-062325d9b8b6",
        "colab": {
          "base_uri": "https://localhost:8080/"
        }
      },
      "source": [
        "losses = [] # here we will collect the loss history\n",
        "n_steps = len(train_dl) # number of iterations in one epoch\n",
        "\n",
        "# Training loop\n",
        "for epoch in range(num_epochs):\n",
        "    for i, (images, labels) in enumerate(train_dl): # iterate over training data\n",
        "        \n",
        "        # Reshape images to (batch_size, input_size)\n",
        "        images = images.reshape(-1, input_size)\n",
        "        \n",
        "        # Forward pass\n",
        "        outputs = model(images)\n",
        "        loss = loss_fn(outputs, labels)\n",
        "        \n",
        "        # Backward pass\n",
        "        optimizer.zero_grad()\n",
        "        loss.backward()\n",
        "        losses.append(loss.item())\n",
        "        \n",
        "        # Parameter update\n",
        "        optimizer.step()\n",
        "        \n",
        "        if (i+1) % 100 == 0:\n",
        "            print ('Epoch [{}/{}], Step [{}/{}], Loss: {:.4f}' \n",
        "                   .format(epoch+1, num_epochs, i+1, n_steps, loss.item()))\n"
      ],
      "execution_count": 44,
      "outputs": [
        {
          "output_type": "stream",
          "text": [
            "Epoch [1/5], Step [100/938], Loss: 1.5547\n",
            "Epoch [1/5], Step [200/938], Loss: 1.1599\n",
            "Epoch [1/5], Step [300/938], Loss: 0.9830\n",
            "Epoch [1/5], Step [400/938], Loss: 0.8643\n",
            "Epoch [1/5], Step [500/938], Loss: 0.7064\n",
            "Epoch [1/5], Step [600/938], Loss: 0.7500\n",
            "Epoch [1/5], Step [700/938], Loss: 0.8160\n",
            "Epoch [1/5], Step [800/938], Loss: 0.5611\n",
            "Epoch [1/5], Step [900/938], Loss: 0.6655\n",
            "Epoch [2/5], Step [100/938], Loss: 0.6611\n",
            "Epoch [2/5], Step [200/938], Loss: 0.6147\n",
            "Epoch [2/5], Step [300/938], Loss: 0.4281\n",
            "Epoch [2/5], Step [400/938], Loss: 0.4399\n",
            "Epoch [2/5], Step [500/938], Loss: 0.5489\n",
            "Epoch [2/5], Step [600/938], Loss: 0.5031\n",
            "Epoch [2/5], Step [700/938], Loss: 0.5657\n",
            "Epoch [2/5], Step [800/938], Loss: 0.5451\n",
            "Epoch [2/5], Step [900/938], Loss: 0.4952\n",
            "Epoch [3/5], Step [100/938], Loss: 0.4693\n",
            "Epoch [3/5], Step [200/938], Loss: 0.4322\n",
            "Epoch [3/5], Step [300/938], Loss: 0.4690\n",
            "Epoch [3/5], Step [400/938], Loss: 0.4093\n",
            "Epoch [3/5], Step [500/938], Loss: 0.4695\n",
            "Epoch [3/5], Step [600/938], Loss: 0.3568\n",
            "Epoch [3/5], Step [700/938], Loss: 0.6291\n",
            "Epoch [3/5], Step [800/938], Loss: 0.4271\n",
            "Epoch [3/5], Step [900/938], Loss: 0.4731\n",
            "Epoch [4/5], Step [100/938], Loss: 0.4133\n",
            "Epoch [4/5], Step [200/938], Loss: 0.5663\n",
            "Epoch [4/5], Step [300/938], Loss: 0.4034\n",
            "Epoch [4/5], Step [400/938], Loss: 0.4284\n",
            "Epoch [4/5], Step [500/938], Loss: 0.5161\n",
            "Epoch [4/5], Step [600/938], Loss: 0.5779\n",
            "Epoch [4/5], Step [700/938], Loss: 0.4868\n",
            "Epoch [4/5], Step [800/938], Loss: 0.3562\n",
            "Epoch [4/5], Step [900/938], Loss: 0.4496\n",
            "Epoch [5/5], Step [100/938], Loss: 0.4306\n",
            "Epoch [5/5], Step [200/938], Loss: 0.3276\n",
            "Epoch [5/5], Step [300/938], Loss: 0.2752\n",
            "Epoch [5/5], Step [400/938], Loss: 0.2830\n",
            "Epoch [5/5], Step [500/938], Loss: 0.4106\n",
            "Epoch [5/5], Step [600/938], Loss: 0.4685\n",
            "Epoch [5/5], Step [700/938], Loss: 0.5008\n",
            "Epoch [5/5], Step [800/938], Loss: 0.4984\n",
            "Epoch [5/5], Step [900/938], Loss: 0.2975\n"
          ],
          "name": "stdout"
        }
      ]
    },
    {
      "cell_type": "markdown",
      "metadata": {
        "id": "JMYY3LZwwrpF"
      },
      "source": [
        "# Test the model\n",
        "\n",
        "Let's test the model on the validation part of the dataset.\n",
        "\n",
        "In test phase, we don't need to compute gradients (for memory and time efficiency).\n",
        "\n",
        "Let's use the `no_grad()` context."
      ]
    },
    {
      "cell_type": "code",
      "metadata": {
        "id": "QZx6ffllwrpF",
        "outputId": "96e9357d-ce60-40b4-ba54-82af413f7325",
        "colab": {
          "base_uri": "https://localhost:8080/"
        }
      },
      "source": [
        "with torch.no_grad():\n",
        "    \n",
        "    correct = 0.\n",
        "    total = 0\n",
        "    \n",
        "    for images, labels in valid_dl: # iterate over validation data\n",
        "        \n",
        "        # Reshape images to (batch_size, input_size)\n",
        "        images = images.reshape(-1, input_size)\n",
        "        \n",
        "        # Forward pass\n",
        "        outputs = model(images)\n",
        "        \n",
        "        # Out of 10 output values per image, let's pick the largest one as the most probable class\n",
        "        _, predicted = torch.max(outputs.data, 1)\n",
        "        \n",
        "        total += labels.size(0) # total number of data examples\n",
        "        correct += (predicted == labels).sum() # correct predictions\n",
        "\n",
        "    print('Accuracy of the model on the 10000 test images: {} %'.format(100 * correct / total))"
      ],
      "execution_count": 45,
      "outputs": [
        {
          "output_type": "stream",
          "text": [
            "Accuracy of the model on the 10000 test images: 90.0 %\n"
          ],
          "name": "stdout"
        }
      ]
    },
    {
      "cell_type": "markdown",
      "metadata": {
        "id": "jW9Xvu8KwrpG"
      },
      "source": [
        "Not a bad accuracy for such a simple model!"
      ]
    },
    {
      "cell_type": "code",
      "metadata": {
        "id": "Piyn-Y7hwrpG",
        "outputId": "c6d65398-d11a-4d36-9e9f-82c0ec7d4b78",
        "colab": {
          "base_uri": "https://localhost:8080/",
          "height": 296
        }
      },
      "source": [
        "plt.plot(losses)\n",
        "plt.xlabel('Training iteration')\n",
        "plt.ylabel('Classification training loss')"
      ],
      "execution_count": 46,
      "outputs": [
        {
          "output_type": "execute_result",
          "data": {
            "text/plain": [
              "Text(0, 0.5, 'Classification training loss')"
            ]
          },
          "metadata": {
            "tags": []
          },
          "execution_count": 46
        },
        {
          "output_type": "display_data",
          "data": {
            "image/png": "[encoded data removed]",
            "text/plain": [
              "<Figure size 432x288 with 1 Axes>"
            ]
          },
          "metadata": {
            "tags": [],
            "needs_background": "light"
          }
        }
      ]
    },
    {
      "cell_type": "markdown",
      "metadata": {
        "id": "ZF2yXyLZwrpH"
      },
      "source": [
        "Let's get some actual predictions"
      ]
    },
    {
      "cell_type": "code",
      "metadata": {
        "id": "8eVhQ6u7wrpH"
      },
      "source": [
        "images, labels = next(iter(valid_dl)) # get one batch from validation dataset\n",
        "\n",
        "with torch.no_grad():\n",
        "    \n",
        "    # Reshape images to (batch_size, input_size)\n",
        "    images = images.reshape(-1, input_size)\n",
        "    \n",
        "    # Forward pass\n",
        "    outputs = model(images)\n",
        "    _, predicted = torch.max(outputs.data, 1)"
      ],
      "execution_count": 47,
      "outputs": []
    },
    {
      "cell_type": "markdown",
      "metadata": {
        "id": "z0KxWLjPwrpI"
      },
      "source": [
        "Predicted classes for the batch"
      ]
    },
    {
      "cell_type": "code",
      "metadata": {
        "id": "Tw1OMBe5wrpJ",
        "outputId": "17b498dd-2adc-4900-c0f1-6ee1d44f6298",
        "colab": {
          "base_uri": "https://localhost:8080/"
        }
      },
      "source": [
        "predicted"
      ],
      "execution_count": 48,
      "outputs": [
        {
          "output_type": "execute_result",
          "data": {
            "text/plain": [
              "tensor([4, 5, 9, 2, 6, 9, 6, 5, 3, 9, 1, 7, 3, 8, 9, 0, 1, 0, 3, 8, 0, 2, 2, 7,\n",
              "        9, 0, 1, 9, 1, 5, 8, 9, 3, 1, 9, 5, 6, 3, 0, 3, 9, 1, 5, 9, 1, 4, 1, 0,\n",
              "        9, 9, 0, 5, 1, 3, 2, 0, 5, 4, 1, 6, 8, 4, 0, 2])"
            ]
          },
          "metadata": {
            "tags": []
          },
          "execution_count": 48
        }
      ]
    },
    {
      "cell_type": "markdown",
      "metadata": {
        "id": "Sd0hZqx1wrpK"
      },
      "source": [
        "True classes for the batch"
      ]
    },
    {
      "cell_type": "code",
      "metadata": {
        "id": "6Uv6xyYxwrpK",
        "outputId": "3caa3dba-0ba3-48c6-f95b-d1e459514747",
        "colab": {
          "base_uri": "https://localhost:8080/"
        }
      },
      "source": [
        "labels"
      ],
      "execution_count": 49,
      "outputs": [
        {
          "output_type": "execute_result",
          "data": {
            "text/plain": [
              "tensor([2, 3, 9, 2, 6, 9, 6, 8, 3, 9, 1, 7, 3, 8, 9, 0, 1, 6, 3, 5, 0, 2, 2, 7,\n",
              "        4, 0, 1, 9, 5, 5, 5, 9, 3, 1, 9, 5, 6, 3, 0, 3, 9, 1, 5, 9, 1, 4, 1, 0,\n",
              "        9, 9, 0, 5, 1, 3, 2, 0, 5, 4, 1, 6, 8, 4, 0, 2])"
            ]
          },
          "metadata": {
            "tags": []
          },
          "execution_count": 49
        }
      ]
    },
    {
      "cell_type": "code",
      "metadata": {
        "id": "pfGOOixzwrpL",
        "outputId": "563a83fc-9fa5-444b-c1e6-5361870c48f0",
        "colab": {
          "base_uri": "https://localhost:8080/"
        }
      },
      "source": [
        "predicted == labels"
      ],
      "execution_count": 50,
      "outputs": [
        {
          "output_type": "execute_result",
          "data": {
            "text/plain": [
              "tensor([False, False,  True,  True,  True,  True,  True, False,  True,  True,\n",
              "         True,  True,  True,  True,  True,  True,  True, False,  True, False,\n",
              "         True,  True,  True,  True, False,  True,  True,  True, False,  True,\n",
              "        False,  True,  True,  True,  True,  True,  True,  True,  True,  True,\n",
              "         True,  True,  True,  True,  True,  True,  True,  True,  True,  True,\n",
              "         True,  True,  True,  True,  True,  True,  True,  True,  True,  True,\n",
              "         True,  True,  True,  True])"
            ]
          },
          "metadata": {
            "tags": []
          },
          "execution_count": 50
        }
      ]
    },
    {
      "cell_type": "markdown",
      "metadata": {
        "id": "R7W3uezhwrpM"
      },
      "source": [
        "Let's plot the images in the batch. First we'll have to convert them back to 28x28 square shape."
      ]
    },
    {
      "cell_type": "code",
      "metadata": {
        "id": "5A53L_L7wrpM",
        "outputId": "d7cbe6e9-1494-49a9-a20c-a8f086df0fea",
        "colab": {
          "base_uri": "https://localhost:8080/"
        }
      },
      "source": [
        "images.shape # (batch, pixels)"
      ],
      "execution_count": 55,
      "outputs": [
        {
          "output_type": "execute_result",
          "data": {
            "text/plain": [
              "torch.Size([64, 28, 28])"
            ]
          },
          "metadata": {
            "tags": []
          },
          "execution_count": 55
        }
      ]
    },
    {
      "cell_type": "code",
      "metadata": {
        "id": "S1KZpKsUwrpN",
        "outputId": "d3a020ab-d503-45fa-be1c-a6ee5fe619b1",
        "colab": {
          "base_uri": "https://localhost:8080/"
        }
      },
      "source": [
        "#convert back to square \n",
        "images = images.reshape(-1, 28, 28)\n",
        "images.shape # (batch, 28, 28)"
      ],
      "execution_count": 56,
      "outputs": [
        {
          "output_type": "execute_result",
          "data": {
            "text/plain": [
              "torch.Size([64, 28, 28])"
            ]
          },
          "metadata": {
            "tags": []
          },
          "execution_count": 56
        }
      ]
    },
    {
      "cell_type": "code",
      "metadata": {
        "id": "kG1C_zkFwrpO"
      },
      "source": [
        "def evaluate(index):\n",
        "    show_image(images[index], title=f'True :{labels[index]} / Predicted:{predicted[index]}')\n",
        "    plt.pause(0.1)"
      ],
      "execution_count": 57,
      "outputs": []
    },
    {
      "cell_type": "code",
      "metadata": {
        "id": "QHat_1U9wrpP",
        "outputId": "18378461-5d25-4d20-96ed-1b8360095230",
        "colab": {
          "base_uri": "https://localhost:8080/",
          "height": 281
        }
      },
      "source": [
        "evaluate(index=3)"
      ],
      "execution_count": 58,
      "outputs": [
        {
          "output_type": "display_data",
          "data": {
            "image/png": "[encoded data removed]",
            "text/plain": [
              "<Figure size 432x288 with 1 Axes>"
            ]
          },
          "metadata": {
            "tags": [],
            "needs_background": "light"
          }
        }
      ]
    },
    {
      "cell_type": "markdown",
      "metadata": {
        "id": "69m2Db8pwrpQ"
      },
      "source": [
        "Find misclassifications in the batch"
      ]
    },
    {
      "cell_type": "code",
      "metadata": {
        "id": "gZ3zjVduwrpQ",
        "outputId": "a83c4d14-b81d-49e8-e36b-4279075f3789",
        "colab": {
          "base_uri": "https://localhost:8080/"
        }
      },
      "source": [
        "model_errors = (labels != predicted).nonzero(); \n",
        "model_errors"
      ],
      "execution_count": 59,
      "outputs": [
        {
          "output_type": "stream",
          "text": [
            "/usr/local/lib/python3.6/dist-packages/ipykernel_launcher.py:1: UserWarning: This overload of nonzero is deprecated:\n",
            "\tnonzero()\n",
            "Consider using one of the following signatures instead:\n",
            "\tnonzero(*, bool as_tuple) (Triggered internally at  /pytorch/torch/csrc/utils/python_arg_parser.cpp:882.)\n",
            "  \"\"\"Entry point for launching an IPython kernel.\n"
          ],
          "name": "stderr"
        },
        {
          "output_type": "execute_result",
          "data": {
            "text/plain": [
              "tensor([[ 0],\n",
              "        [ 1],\n",
              "        [ 7],\n",
              "        [17],\n",
              "        [19],\n",
              "        [24],\n",
              "        [28],\n",
              "        [30]])"
            ]
          },
          "metadata": {
            "tags": []
          },
          "execution_count": 59
        }
      ]
    },
    {
      "cell_type": "code",
      "metadata": {
        "id": "Vi-T4wgAwrpR",
        "scrolled": false,
        "outputId": "f6b0d5f2-d5ea-49fa-d35b-2410c91f77d9",
        "colab": {
          "base_uri": "https://localhost:8080/",
          "height": 1000
        }
      },
      "source": [
        "for i in model_errors:\n",
        "    evaluate(i.item())"
      ],
      "execution_count": 60,
      "outputs": [
        {
          "output_type": "display_data",
          "data": {
            "image/png": "[encoded data removed]",
            "text/plain": [
              "<Figure size 432x288 with 1 Axes>"
            ]
          },
          "metadata": {
            "tags": [],
            "needs_background": "light"
          }
        },
        {
          "output_type": "display_data",
          "data": {
            "image/png": "[encoded data removed]",
            "text/plain": [
              "<Figure size 432x288 with 1 Axes>"
            ]
          },
          "metadata": {
            "tags": [],
            "needs_background": "light"
          }
        },
        {
          "output_type": "display_data",
          "data": {
            "image/png": "[encoded data removed]",
            "text/plain": [
              "<Figure size 432x288 with 1 Axes>"
            ]
          },
          "metadata": {
            "tags": [],
            "needs_background": "light"
          }
        },
        {
          "output_type": "display_data",
          "data": {
            "image/png": "[encoded data removed]",
            "text/plain": [
              "<Figure size 432x288 with 1 Axes>"
            ]
          },
          "metadata": {
            "tags": [],
            "needs_background": "light"
          }
        },
        {
          "output_type": "display_data",
          "data": {
            "image/png": "[encoded data removed]",
            "text/plain": [
              "<Figure size 432x288 with 1 Axes>"
            ]
          },
          "metadata": {
            "tags": [],
            "needs_background": "light"
          }
        },
        {
          "output_type": "display_data",
          "data": {
            "image/png": "[encoded data removed]",
            "text/plain": [
              "<Figure size 432x288 with 1 Axes>"
            ]
          },
          "metadata": {
            "tags": [],
            "needs_background": "light"
          }
        },
        {
          "output_type": "display_data",
          "data": {
            "image/png": "[encoded data removed]",
            "text/plain": [
              "<Figure size 432x288 with 1 Axes>"
            ]
          },
          "metadata": {
            "tags": [],
            "needs_background": "light"
          }
        },
        {
          "output_type": "display_data",
          "data": {
            "image/png": "[encoded data removed]",
            "text/plain": [
              "<Figure size 432x288 with 1 Axes>"
            ]
          },
          "metadata": {
            "tags": [],
            "needs_background": "light"
          }
        }
      ]
    },
    {
      "cell_type": "code",
      "metadata": {
        "id": "XB4FIHVOgjSh"
      },
      "source": [
        "#add second max of all mmistakes"
      ],
      "execution_count": 61,
      "outputs": []
    },
    {
      "cell_type": "markdown",
      "metadata": {
        "id": "UEdHl_01wrpS"
      },
      "source": [
        "# Model 2: Multilayer Perceptron\n",
        "\n",
        "### Combining layers and adding non-linearlity\n",
        "<div class=\"alert alert-block alert-info\">\n",
        "So far we have been using the linear relation $y = mx + b$ (and linear layers). If we just make a neural network by combining such linear layers, we will keep getting linear combinations of equations and the function obtained would still be a polynomial of degree 1. <br>\n",
        "\n",
        "To be able to model more complex non-linear relations between inputs and outputs, we'll introduce non-linear activation functions applied to the output of the linear relations we've seen before. In part, this is similar to how real neurons get activated in the brain. <br>\n",
        "\n",
        "This helps model non-linearities and create complex non-linear functions which are not possible to modeled using only polynomial functions of low order. Without the activation, the output value $y$ is unrestricted and can range from $-\\infty$ to $+\\infty$. The activation functions help us restrict the output value of a neuron so that it can be decided whether it will get activated (will fire) or not. Once this non-linearity is added, the result is sent as an input to the next layer (if there is any) in the network. <br>\n",
        "</div>\n",
        "\n",
        "Pytorch contains many different activation functions, such as `nn.ReLU`, `nn.Sigmoid`, `nn.Tanh`, `nn.Softplus` and many more\n",
        "\n",
        "https://adityashrm21.github.io/Why-Rectified-Linear-Units-Work/\n",
        "\n",
        "\n",
        "https://playground.tensorflow.org/"
      ]
    },
    {
      "cell_type": "markdown",
      "metadata": {
        "id": "gI9hqjKjwrpS"
      },
      "source": [
        "## Model class\n",
        "\n",
        "### Let's solve the same digit classification task with a multi-layer non-linear model.\n",
        "\n",
        "As our model is getting more complicated, we will combine its building blocks in a separate class. \n",
        "\n",
        "The model will consist of three subsequent `nn.Linear` layers.\n",
        "\n",
        "The class will also contain the `forward` method to perform forward pass where we will apply the `relu` non-linearity to the outputs of the first two linear layers."
      ]
    },
    {
      "cell_type": "code",
      "metadata": {
        "id": "eMtqsbqYwrpS",
        "outputId": "a269f231-baa7-4ceb-a5e2-dab3c4fc0b5c",
        "colab": {
          "base_uri": "https://localhost:8080/",
          "height": 152
        }
      },
      "source": [
        "blocks  = ['Input', 'Model', 'Output']\n",
        "layers = [['Image'], ['Linear 1','ReLU', 'Linear 2', 'ReLU', 'Linear 3'], ['Class']]\n",
        "conns = ((blocks[0], blocks[1]),\n",
        "         (blocks[1], blocks[2]),\n",
        "        )\n",
        "g = graph_items(seq_cluster(layers[0], blocks[0]),\n",
        "                seq_cluster(layers[1], blocks[1]),\n",
        "                seq_cluster(layers[2], blocks[2]),\n",
        "               )\n",
        "g.add_items(*object_connections(conns))\n",
        "g"
      ],
      "execution_count": 62,
      "outputs": [
        {
          "output_type": "execute_result",
          "data": {
            "text/plain": [
              "<pydot.Dot at 0x7f6ab1a37e48>"
            ],
            "image/svg+xml": "<?xml version=\"1.0\" encoding=\"UTF-8\" standalone=\"no\"?>\n<!DOCTYPE svg PUBLIC \"-//W3C//DTD SVG 1.1//EN\"\n \"http://www.w3.org/Graphics/SVG/1.1/DTD/svg11.dtd\">\n<!-- Generated by graphviz version 2.40.1 (20161225.0304)\n -->\n<!-- Title: G Pages: 1 -->\n<svg width=\"667pt\" height=\"99pt\"\n viewBox=\"0.00 0.00 667.00 99.00\" xmlns=\"http://www.w3.org/2000/svg\" xmlns:xlink=\"http://www.w3.org/1999/xlink\">\n<g id=\"graph0\" class=\"graph\" transform=\"scale(1 1) rotate(0) translate(4 95)\">\n<title>G</title>\n<polygon fill=\"#ffffff\" stroke=\"transparent\" points=\"-4,4 -4,-95 663,-95 663,4 -4,4\"/>\n<g id=\"clust1\" class=\"cluster\">\n<title>cluster_na2b0849d24884dc1872a018d42d34702</title>\n<g id=\"a_clust1\"><a xlink:title=\"Input\">\n<path fill=\"#555555\" fill-opacity=\"0.133333\" stroke=\"#000000\" d=\"M20,-8C20,-8 66,-8 66,-8 72,-8 78,-14 78,-20 78,-20 78,-71 78,-71 78,-77 72,-83 66,-83 66,-83 20,-83 20,-83 14,-83 8,-77 8,-71 8,-71 8,-20 8,-20 8,-14 14,-8 20,-8\"/>\n<text text-anchor=\"middle\" x=\"43\" y=\"-67.8\" font-family=\"Times,serif\" font-size=\"14.00\" fill=\"#000000\">Input</text>\n</a>\n</g>\n</g>\n<g id=\"clust2\" class=\"cluster\">\n<title>cluster_n945ebb72aeb945d1ab1400c3943dafbf</title>\n<g id=\"a_clust2\"><a xlink:title=\"Model\">\n<path fill=\"#555555\" fill-opacity=\"0.133333\" stroke=\"#000000\" d=\"M110,-8C110,-8 549,-8 549,-8 555,-8 561,-14 561,-20 561,-20 561,-71 561,-71 561,-77 555,-83 549,-83 549,-83 110,-83 110,-83 104,-83 98,-77 98,-71 98,-71 98,-20 98,-20 98,-14 104,-8 110,-8\"/>\n<text text-anchor=\"middle\" x=\"329.5\" y=\"-67.8\" font-family=\"Times,serif\" font-size=\"14.00\" fill=\"#000000\">Model</text>\n</a>\n</g>\n</g>\n<g id=\"clust3\" class=\"cluster\">\n<title>cluster_n402c015070f14cd8abc7504a36c3cd6c</title>\n<g id=\"a_clust3\"><a xlink:title=\"Output\">\n<path fill=\"#555555\" fill-opacity=\"0.133333\" stroke=\"#000000\" d=\"M593,-8C593,-8 639,-8 639,-8 645,-8 651,-14 651,-20 651,-20 651,-71 651,-71 651,-77 645,-83 639,-83 639,-83 593,-83 593,-83 587,-83 581,-77 581,-71 581,-71 581,-20 581,-20 581,-14 587,-8 593,-8\"/>\n<text text-anchor=\"middle\" x=\"616\" y=\"-67.8\" font-family=\"Times,serif\" font-size=\"14.00\" fill=\"#000000\">Output</text>\n</a>\n</g>\n</g>\n<!-- n4ecbd09649c74981852ead614b373cd7 -->\n<g id=\"node1\" class=\"node\">\n<title>n4ecbd09649c74981852ead614b373cd7</title>\n<g id=\"a_node1\"><a xlink:title=\"Image\">\n<path fill=\"#1c93f3\" fill-opacity=\"0.635294\" stroke=\"#000000\" d=\"M58,-52C58,-52 28,-52 28,-52 22,-52 16,-46 16,-40 16,-40 16,-28 16,-28 16,-22 22,-16 28,-16 28,-16 58,-16 58,-16 64,-16 70,-22 70,-28 70,-28 70,-40 70,-40 70,-46 64,-52 58,-52\"/>\n<text text-anchor=\"middle\" x=\"43\" y=\"-30.3\" font-family=\"Times,serif\" font-size=\"14.00\" fill=\"#000000\">Image</text>\n</a>\n</g>\n</g>\n<!-- n2404c7b4a8d548cd82d146d60a7b6778 -->\n<g id=\"node2\" class=\"node\">\n<title>n2404c7b4a8d548cd82d146d60a7b6778</title>\n<g id=\"a_node2\"><a xlink:title=\"Linear 1\">\n<path fill=\"#ff1f10\" fill-opacity=\"0.505882\" stroke=\"#000000\" d=\"M159,-52C159,-52 118,-52 118,-52 112,-52 106,-46 106,-40 106,-40 106,-28 106,-28 106,-22 112,-16 118,-16 118,-16 159,-16 159,-16 165,-16 171,-22 171,-28 171,-28 171,-40 171,-40 171,-46 165,-52 159,-52\"/>\n<text text-anchor=\"middle\" x=\"138.5\" y=\"-30.3\" font-family=\"Times,serif\" font-size=\"14.00\" fill=\"#000000\">Linear 1</text>\n</a>\n</g>\n</g>\n<!-- n4ecbd09649c74981852ead614b373cd7&#45;&gt;n2404c7b4a8d548cd82d146d60a7b6778 -->\n<g id=\"edge5\" class=\"edge\">\n<title>n4ecbd09649c74981852ead614b373cd7&#45;&gt;n2404c7b4a8d548cd82d146d60a7b6778</title>\n<path fill=\"none\" stroke=\"#000000\" d=\"M77.9984,-34C83.7935,-34 89.8591,-34 95.8182,-34\"/>\n<polygon fill=\"#000000\" stroke=\"#000000\" points=\"88.0002,-37.5005 98,-34 87.9998,-30.5005 88.0002,-37.5005\"/>\n</g>\n<!-- n902a507fa47e48b5824c2a62cc98c553 -->\n<g id=\"node3\" class=\"node\">\n<title>n902a507fa47e48b5824c2a62cc98c553</title>\n<g id=\"a_node3\"><a xlink:title=\"ReLU\">\n<path fill=\"#3e65fa\" fill-opacity=\"0.333333\" stroke=\"#000000\" d=\"M249,-52C249,-52 219,-52 219,-52 213,-52 207,-46 207,-40 207,-40 207,-28 207,-28 207,-22 213,-16 219,-16 219,-16 249,-16 249,-16 255,-16 261,-22 261,-28 261,-28 261,-40 261,-40 261,-46 255,-52 249,-52\"/>\n<text text-anchor=\"middle\" x=\"234\" y=\"-30.3\" font-family=\"Times,serif\" font-size=\"14.00\" fill=\"#000000\">ReLU</text>\n</a>\n</g>\n</g>\n<!-- n2404c7b4a8d548cd82d146d60a7b6778&#45;&gt;n902a507fa47e48b5824c2a62cc98c553 -->\n<g id=\"edge1\" class=\"edge\">\n<title>n2404c7b4a8d548cd82d146d60a7b6778&#45;&gt;n902a507fa47e48b5824c2a62cc98c553</title>\n<path fill=\"none\" stroke=\"#000000\" d=\"M171.0986,-34C179.3962,-34 188.3749,-34 196.8796,-34\"/>\n<polygon fill=\"#000000\" stroke=\"#000000\" points=\"196.9408,-37.5001 206.9408,-34 196.9408,-30.5001 196.9408,-37.5001\"/>\n</g>\n<!-- n888faddb91fa4e5f93047def826a3258 -->\n<g id=\"node4\" class=\"node\">\n<title>n888faddb91fa4e5f93047def826a3258</title>\n<g id=\"a_node4\"><a xlink:title=\"Linear 2\">\n<path fill=\"#ff1f10\" fill-opacity=\"0.505882\" stroke=\"#000000\" d=\"M350,-52C350,-52 309,-52 309,-52 303,-52 297,-46 297,-40 297,-40 297,-28 297,-28 297,-22 303,-16 309,-16 309,-16 350,-16 350,-16 356,-16 362,-22 362,-28 362,-28 362,-40 362,-40 362,-46 356,-52 350,-52\"/>\n<text text-anchor=\"middle\" x=\"329.5\" y=\"-30.3\" font-family=\"Times,serif\" font-size=\"14.00\" fill=\"#000000\">Linear 2</text>\n</a>\n</g>\n</g>\n<!-- n902a507fa47e48b5824c2a62cc98c553&#45;&gt;n888faddb91fa4e5f93047def826a3258 -->\n<g id=\"edge2\" class=\"edge\">\n<title>n902a507fa47e48b5824c2a62cc98c553&#45;&gt;n888faddb91fa4e5f93047def826a3258</title>\n<path fill=\"none\" stroke=\"#000000\" d=\"M261.111,-34C269.1173,-34 278.0822,-34 286.8182,-34\"/>\n<polygon fill=\"#000000\" stroke=\"#000000\" points=\"286.8973,-37.5001 296.8973,-34 286.8972,-30.5001 286.8973,-37.5001\"/>\n</g>\n<!-- n6eba6943b8df4a42817743850a13a0a3 -->\n<g id=\"node5\" class=\"node\">\n<title>n6eba6943b8df4a42817743850a13a0a3</title>\n<g id=\"a_node5\"><a xlink:title=\"ReLU\">\n<path fill=\"#3e65fa\" fill-opacity=\"0.333333\" stroke=\"#000000\" d=\"M440,-52C440,-52 410,-52 410,-52 404,-52 398,-46 398,-40 398,-40 398,-28 398,-28 398,-22 404,-16 410,-16 410,-16 440,-16 440,-16 446,-16 452,-22 452,-28 452,-28 452,-40 452,-40 452,-46 446,-52 440,-52\"/>\n<text text-anchor=\"middle\" x=\"425\" y=\"-30.3\" font-family=\"Times,serif\" font-size=\"14.00\" fill=\"#000000\">ReLU</text>\n</a>\n</g>\n</g>\n<!-- n888faddb91fa4e5f93047def826a3258&#45;&gt;n6eba6943b8df4a42817743850a13a0a3 -->\n<g id=\"edge3\" class=\"edge\">\n<title>n888faddb91fa4e5f93047def826a3258&#45;&gt;n6eba6943b8df4a42817743850a13a0a3</title>\n<path fill=\"none\" stroke=\"#000000\" d=\"M362.0986,-34C370.3962,-34 379.3749,-34 387.8796,-34\"/>\n<polygon fill=\"#000000\" stroke=\"#000000\" points=\"387.9408,-37.5001 397.9408,-34 387.9408,-30.5001 387.9408,-37.5001\"/>\n</g>\n<!-- n51b12686a9ea46c8ac56d9076df817cc -->\n<g id=\"node6\" class=\"node\">\n<title>n51b12686a9ea46c8ac56d9076df817cc</title>\n<g id=\"a_node6\"><a xlink:title=\"Linear 3\">\n<path fill=\"#6a22fe\" fill-opacity=\"0.482353\" stroke=\"#000000\" d=\"M541,-52C541,-52 500,-52 500,-52 494,-52 488,-46 488,-40 488,-40 488,-28 488,-28 488,-22 494,-16 500,-16 500,-16 541,-16 541,-16 547,-16 553,-22 553,-28 553,-28 553,-40 553,-40 553,-46 547,-52 541,-52\"/>\n<text text-anchor=\"middle\" x=\"520.5\" y=\"-30.3\" font-family=\"Times,serif\" font-size=\"14.00\" fill=\"#000000\">Linear 3</text>\n</a>\n</g>\n</g>\n<!-- n6eba6943b8df4a42817743850a13a0a3&#45;&gt;n51b12686a9ea46c8ac56d9076df817cc -->\n<g id=\"edge4\" class=\"edge\">\n<title>n6eba6943b8df4a42817743850a13a0a3&#45;&gt;n51b12686a9ea46c8ac56d9076df817cc</title>\n<path fill=\"none\" stroke=\"#000000\" d=\"M452.111,-34C460.1173,-34 469.0822,-34 477.8182,-34\"/>\n<polygon fill=\"#000000\" stroke=\"#000000\" points=\"477.8973,-37.5001 487.8973,-34 477.8972,-30.5001 477.8973,-37.5001\"/>\n</g>\n<!-- ned77b565b3ee467cb140f13b558c0627 -->\n<g id=\"node7\" class=\"node\">\n<title>ned77b565b3ee467cb140f13b558c0627</title>\n<g id=\"a_node7\"><a xlink:title=\"Class\">\n<path fill=\"#ff562c\" fill-opacity=\"0.200000\" stroke=\"#000000\" d=\"M631,-52C631,-52 601,-52 601,-52 595,-52 589,-46 589,-40 589,-40 589,-28 589,-28 589,-22 595,-16 601,-16 601,-16 631,-16 631,-16 637,-16 643,-22 643,-28 643,-28 643,-40 643,-40 643,-46 637,-52 631,-52\"/>\n<text text-anchor=\"middle\" x=\"616\" y=\"-30.3\" font-family=\"Times,serif\" font-size=\"14.00\" fill=\"#000000\">Class</text>\n</a>\n</g>\n</g>\n<!-- n51b12686a9ea46c8ac56d9076df817cc&#45;&gt;ned77b565b3ee467cb140f13b558c0627 -->\n<g id=\"edge6\" class=\"edge\">\n<title>n51b12686a9ea46c8ac56d9076df817cc&#45;&gt;ned77b565b3ee467cb140f13b558c0627</title>\n<path fill=\"none\" stroke=\"#000000\" d=\"M560.9978,-34C566.9314,-34 573.0181,-34 578.8796,-34\"/>\n<polygon fill=\"#000000\" stroke=\"#000000\" points=\"571.0002,-37.5005 581,-34 570.9998,-30.5005 571.0002,-37.5005\"/>\n</g>\n</g>\n</svg>\n"
          },
          "metadata": {
            "tags": []
          },
          "execution_count": 62
        }
      ]
    },
    {
      "cell_type": "code",
      "metadata": {
        "id": "4daOT2tPwrpT"
      },
      "source": [
        "class MLP(nn.Module):\n",
        "    \n",
        "    def __init__(self):\n",
        "        super().__init__()\n",
        "        self.linear1 = nn.Linear(in_features=784, out_features=250)\n",
        "        self.act1    = nn.ReLU()\n",
        "        self.linear2 = nn.Linear(in_features=250, out_features=100)\n",
        "        self.act2    = nn.ReLU()\n",
        "        self.linear3 = nn.Linear(in_features=100, out_features=10)\n",
        "    \n",
        "    def forward(self, x):\n",
        "        # reshaping inside \n",
        "        x = x.view(-1, 28 * 28)\n",
        "        x = self.act1(self.linear1(x))\n",
        "        x = self.act2(self.linear2(x))\n",
        "        x = self.linear3(x)\n",
        "        return x"
      ],
      "execution_count": 63,
      "outputs": []
    },
    {
      "cell_type": "markdown",
      "metadata": {
        "id": "LevFq-8CwrpT"
      },
      "source": [
        "Let's initialize the model, the loss function, and the optimizer"
      ]
    },
    {
      "cell_type": "code",
      "metadata": {
        "id": "yq6L4QmlwrpT"
      },
      "source": [
        "num_classes = 10\n",
        "num_epochs = 5\n",
        "batch_size = 100\n",
        "learning_rate = 0.11\n",
        "\n",
        "model = MLP() # instance of our custom class\n",
        "\n",
        "# Loss and optimizer\n",
        "loss_fn = nn.CrossEntropyLoss() # computes softmax internally\n",
        "optimizer = torch.optim.SGD(model.parameters(), lr=learning_rate)"
      ],
      "execution_count": 64,
      "outputs": []
    },
    {
      "cell_type": "markdown",
      "metadata": {
        "id": "T5XZuDGgwrpU"
      },
      "source": [
        "Print model configuration"
      ]
    },
    {
      "cell_type": "code",
      "metadata": {
        "id": "GBC94fBLwrpU",
        "outputId": "c0f8b9db-0a84-4e8e-9034-1a4eddc5d04e",
        "colab": {
          "base_uri": "https://localhost:8080/"
        }
      },
      "source": [
        "model"
      ],
      "execution_count": 65,
      "outputs": [
        {
          "output_type": "execute_result",
          "data": {
            "text/plain": [
              "MLP(\n",
              "  (linear1): Linear(in_features=784, out_features=250, bias=True)\n",
              "  (act1): ReLU()\n",
              "  (linear2): Linear(in_features=250, out_features=100, bias=True)\n",
              "  (act2): ReLU()\n",
              "  (linear3): Linear(in_features=100, out_features=10, bias=True)\n",
              ")"
            ]
          },
          "metadata": {
            "tags": []
          },
          "execution_count": 65
        }
      ]
    },
    {
      "cell_type": "code",
      "metadata": {
        "id": "fMxU7SNPwrpV",
        "outputId": "0b49c8fe-10c9-407c-86fd-e9e76f347f46",
        "colab": {
          "base_uri": "https://localhost:8080/"
        }
      },
      "source": [
        "len(list(model.parameters())) # 6 groups of parameters, 2 groups per layer"
      ],
      "execution_count": 66,
      "outputs": [
        {
          "output_type": "execute_result",
          "data": {
            "text/plain": [
              "6"
            ]
          },
          "metadata": {
            "tags": []
          },
          "execution_count": 66
        }
      ]
    },
    {
      "cell_type": "code",
      "metadata": {
        "id": "KJzc1U1TwrpW",
        "outputId": "21e5a00d-ddfa-4080-ba18-93ac1b94b951",
        "colab": {
          "base_uri": "https://localhost:8080/"
        }
      },
      "source": [
        "for name, param in model.named_parameters():\n",
        "    print(name, param.shape)"
      ],
      "execution_count": 67,
      "outputs": [
        {
          "output_type": "stream",
          "text": [
            "linear1.weight torch.Size([250, 784])\n",
            "linear1.bias torch.Size([250])\n",
            "linear2.weight torch.Size([100, 250])\n",
            "linear2.bias torch.Size([100])\n",
            "linear3.weight torch.Size([10, 100])\n",
            "linear3.bias torch.Size([10])\n"
          ],
          "name": "stdout"
        }
      ]
    },
    {
      "cell_type": "markdown",
      "metadata": {
        "id": "t1qCBe9cwrpW"
      },
      "source": [
        "## Train the model"
      ]
    },
    {
      "cell_type": "code",
      "metadata": {
        "id": "uax7TD4rwrpW"
      },
      "source": [
        "def train_fit(model, loss_fn, train_dl, num_epoch, optimizer):\n",
        "    \n",
        "    losses = [] # here we will collect the loss history\n",
        "    n_steps = len(train_dl)\n",
        "    \n",
        "    model.train() # switch to training mode\n",
        "    \n",
        "    for epoch in range(num_epochs):\n",
        "        for i, (images, labels) in enumerate(train_dl):        \n",
        "            \n",
        "            # Forward pass\n",
        "            outputs = model(images)\n",
        "            loss = loss_fn(outputs, labels)\n",
        "            \n",
        "            # Backward and optimize\n",
        "            optimizer.zero_grad()\n",
        "            loss.backward()\n",
        "            losses.append(loss.item())\n",
        "            optimizer.step()\n",
        "            \n",
        "            if (i+1) % 100 == 0:\n",
        "                print ('Epoch [{}/{}], Step [{}/{}], Loss: {:.4f}' \n",
        "                       .format(epoch+1, num_epochs, i+1, n_steps, loss.item()))\n",
        "    return model, losses\n"
      ],
      "execution_count": 68,
      "outputs": []
    },
    {
      "cell_type": "code",
      "metadata": {
        "id": "7Obq9iNHwrpX"
      },
      "source": [
        "def valid_fit(model, valid_dl):\n",
        "    \n",
        "    model.eval() # switch to evaluation mode\n",
        "    \n",
        "    with torch.no_grad():\n",
        "        correct = 0.\n",
        "        total = 0\n",
        "        for images, labels in valid_dl:\n",
        "            outputs = model(images)\n",
        "            _, predicted = torch.max(outputs.data, 1)\n",
        "            total += labels.size(0)\n",
        "            correct += (predicted == labels).sum()\n",
        "\n",
        "        print('Accuracy of the model on the 10000 test images: {} %'.format(100 * correct / total))"
      ],
      "execution_count": 69,
      "outputs": []
    },
    {
      "cell_type": "code",
      "metadata": {
        "id": "Iw7elPG_wrpY",
        "outputId": "1d9b2812-a1fc-428d-f3e7-ec3b34cf99b9",
        "colab": {
          "base_uri": "https://localhost:8080/"
        }
      },
      "source": [
        "model, losses = train_fit(model, loss_fn, train_dl, num_epochs, optimizer)"
      ],
      "execution_count": 70,
      "outputs": [
        {
          "output_type": "stream",
          "text": [
            "Epoch [1/5], Step [100/938], Loss: 0.6708\n",
            "Epoch [1/5], Step [200/938], Loss: 0.6108\n",
            "Epoch [1/5], Step [300/938], Loss: 0.5018\n",
            "Epoch [1/5], Step [400/938], Loss: 0.3672\n",
            "Epoch [1/5], Step [500/938], Loss: 0.4122\n",
            "Epoch [1/5], Step [600/938], Loss: 0.2357\n",
            "Epoch [1/5], Step [700/938], Loss: 0.1657\n",
            "Epoch [1/5], Step [800/938], Loss: 0.2795\n",
            "Epoch [1/5], Step [900/938], Loss: 0.2370\n",
            "Epoch [2/5], Step [100/938], Loss: 0.1787\n",
            "Epoch [2/5], Step [200/938], Loss: 0.1819\n",
            "Epoch [2/5], Step [300/938], Loss: 0.1413\n",
            "Epoch [2/5], Step [400/938], Loss: 0.1611\n",
            "Epoch [2/5], Step [500/938], Loss: 0.2296\n",
            "Epoch [2/5], Step [600/938], Loss: 0.1380\n",
            "Epoch [2/5], Step [700/938], Loss: 0.1945\n",
            "Epoch [2/5], Step [800/938], Loss: 0.0369\n",
            "Epoch [2/5], Step [900/938], Loss: 0.0952\n",
            "Epoch [3/5], Step [100/938], Loss: 0.0354\n",
            "Epoch [3/5], Step [200/938], Loss: 0.1137\n",
            "Epoch [3/5], Step [300/938], Loss: 0.1031\n",
            "Epoch [3/5], Step [400/938], Loss: 0.2890\n",
            "Epoch [3/5], Step [500/938], Loss: 0.0403\n",
            "Epoch [3/5], Step [600/938], Loss: 0.0354\n",
            "Epoch [3/5], Step [700/938], Loss: 0.1537\n",
            "Epoch [3/5], Step [800/938], Loss: 0.0693\n",
            "Epoch [3/5], Step [900/938], Loss: 0.1396\n",
            "Epoch [4/5], Step [100/938], Loss: 0.1295\n",
            "Epoch [4/5], Step [200/938], Loss: 0.2333\n",
            "Epoch [4/5], Step [300/938], Loss: 0.0425\n",
            "Epoch [4/5], Step [400/938], Loss: 0.0607\n",
            "Epoch [4/5], Step [500/938], Loss: 0.0909\n",
            "Epoch [4/5], Step [600/938], Loss: 0.1786\n",
            "Epoch [4/5], Step [700/938], Loss: 0.2044\n",
            "Epoch [4/5], Step [800/938], Loss: 0.0974\n",
            "Epoch [4/5], Step [900/938], Loss: 0.0410\n",
            "Epoch [5/5], Step [100/938], Loss: 0.0100\n",
            "Epoch [5/5], Step [200/938], Loss: 0.1136\n",
            "Epoch [5/5], Step [300/938], Loss: 0.0302\n",
            "Epoch [5/5], Step [400/938], Loss: 0.0305\n",
            "Epoch [5/5], Step [500/938], Loss: 0.0934\n",
            "Epoch [5/5], Step [600/938], Loss: 0.0731\n",
            "Epoch [5/5], Step [700/938], Loss: 0.0508\n",
            "Epoch [5/5], Step [800/938], Loss: 0.0214\n",
            "Epoch [5/5], Step [900/938], Loss: 0.0210\n"
          ],
          "name": "stdout"
        }
      ]
    },
    {
      "cell_type": "code",
      "metadata": {
        "id": "-kGNnNJYwrpa",
        "outputId": "9a56df1b-2aa8-41ad-d1fb-b7fbd9071ff2",
        "colab": {
          "base_uri": "https://localhost:8080/",
          "height": 278
        }
      },
      "source": [
        "plt.plot(losses)\n",
        "plt.yscale('log')\n",
        "plt.xlabel('Training iteration')\n",
        "plt.ylabel('Training loss')\n",
        "plt.grid()"
      ],
      "execution_count": 71,
      "outputs": [
        {
          "output_type": "display_data",
          "data": {
            "image/png": "[encoded data removed]",
            "text/plain": [
              "<Figure size 432x288 with 1 Axes>"
            ]
          },
          "metadata": {
            "tags": [],
            "needs_background": "light"
          }
        }
      ]
    },
    {
      "cell_type": "code",
      "metadata": {
        "id": "y_5pkYsuwrpa",
        "outputId": "946b10b5-ef71-4c55-ef62-b8fe61c89762",
        "colab": {
          "base_uri": "https://localhost:8080/"
        }
      },
      "source": [
        "valid_fit(model, valid_dl)"
      ],
      "execution_count": 72,
      "outputs": [
        {
          "output_type": "stream",
          "text": [
            "Accuracy of the model on the 10000 test images: 97.3499984741211 %\n"
          ],
          "name": "stdout"
        }
      ]
    },
    {
      "cell_type": "markdown",
      "metadata": {
        "id": "JXup-FAYwrpb"
      },
      "source": [
        "Great!\n",
        "\n",
        "Now let's get some predictions"
      ]
    },
    {
      "cell_type": "code",
      "metadata": {
        "id": "7zwmsDMVwrpb"
      },
      "source": [
        "images, labels = next(iter(valid_dl))\n",
        "with torch.no_grad():\n",
        "    images = images.reshape(-1, input_size)\n",
        "    outputs = model(images)\n",
        "    _, predicted = torch.max(outputs.data, 1)"
      ],
      "execution_count": 73,
      "outputs": []
    },
    {
      "cell_type": "code",
      "metadata": {
        "id": "ryROzTJuwrpc",
        "outputId": "fb13bd3f-e3a2-433f-8118-cc7da3ee6aa2",
        "colab": {
          "base_uri": "https://localhost:8080/"
        }
      },
      "source": [
        "images = images.reshape(-1, 28, 28)\n",
        "images.shape"
      ],
      "execution_count": 74,
      "outputs": [
        {
          "output_type": "execute_result",
          "data": {
            "text/plain": [
              "torch.Size([64, 28, 28])"
            ]
          },
          "metadata": {
            "tags": []
          },
          "execution_count": 74
        }
      ]
    },
    {
      "cell_type": "code",
      "metadata": {
        "id": "4ep2OMW-wrpd",
        "outputId": "f5bc398d-59db-4c37-b47d-36c5cec047c8",
        "colab": {
          "base_uri": "https://localhost:8080/",
          "height": 281
        }
      },
      "source": [
        "evaluate(index=2)"
      ],
      "execution_count": 75,
      "outputs": [
        {
          "output_type": "display_data",
          "data": {
            "image/png": "[encoded data removed]",
            "text/plain": [
              "<Figure size 432x288 with 1 Axes>"
            ]
          },
          "metadata": {
            "tags": [],
            "needs_background": "light"
          }
        }
      ]
    },
    {
      "cell_type": "markdown",
      "metadata": {
        "id": "Ww2UOkgTwrpe"
      },
      "source": [
        "# Model 3: Convolutional Neural Network (CNN)\n",
        "<div class=\"alert alert-block alert-info\">\n",
        "<b>CNN</b> is a major improvement upon the simple (fully connected) multilayer perceptron for tasks where local information is important, and where translational invariance can be expected. Our image classification task is just like this! <br>\n",
        "</div>\n",
        "\n",
        "\n",
        "https://setosa.io/ev/image-kernels/\n",
        "\n",
        "https://towardsdatascience.com/history-of-convolutional-blocks-in-simple-code-96a7ddceac0c\n",
        "\n",
        "<div class=\"alert alert-block alert-info\">\n",
        "Our model will be constructed as a separate class <b>CNNModel</b>. It will contain three convolutional blocks followed by a <b>nn.Linear</b> layer. Conceptually, this architecture can be thought of as a convolutional feature extractor (the three convolutional blocks) followed by a simple linear classifier (the linear layer), just like the one we've used before. Each convolution block is also a separate class <b>ConvBlock</b>. It contains a convolutional <b>nn.Conv2d</b> layer, followed by a non-linear activation and by a pooling layer <b>nn.MaxPool2d<b>.\n",
        "</div>"
      ]
    },
    {
      "cell_type": "code",
      "metadata": {
        "id": "kHS4mA7Xwrpf",
        "outputId": "99ef59bd-5642-470b-f6c1-ee5fb85ad84b",
        "colab": {
          "base_uri": "https://localhost:8080/",
          "height": 172
        }
      },
      "source": [
        "#hide\n",
        "blocks  = ['Input', 'Conv block 1', 'Conv block 2', 'Conv block 3', 'Linear', 'Output']\n",
        "layers = [['Image'], ['Conv','ReLU', 'Pool'], ['Conv', 'ReLU', 'Pool'], ['Conv','ReLU', 'Pool'], ['Linear'], ['Class']]\n",
        "conns = ((blocks[0], blocks[1]),\n",
        "         (blocks[1], blocks[2]),\n",
        "         (blocks[2], blocks[3]),\n",
        "         (blocks[3], blocks[4]),\n",
        "         (blocks[4], blocks[5]),\n",
        "        )\n",
        "g = graph_items(seq_cluster(layers[0], blocks[0]),\n",
        "                seq_cluster(layers[1], blocks[1]),\n",
        "                seq_cluster(layers[2], blocks[2]),\n",
        "                seq_cluster(layers[3], blocks[3]),\n",
        "                seq_cluster(layers[4], blocks[4]),\n",
        "                seq_cluster(layers[5], blocks[5]),\n",
        "               )\n",
        "g.add_items(*object_connections(conns))\n",
        "g"
      ],
      "execution_count": 76,
      "outputs": [
        {
          "output_type": "execute_result",
          "data": {
            "text/plain": [
              "<pydot.Dot at 0x7f6aa9f83a58>"
            ],
            "image/svg+xml": "<?xml version=\"1.0\" encoding=\"UTF-8\" standalone=\"no\"?>\n<!DOCTYPE svg PUBLIC \"-//W3C//DTD SVG 1.1//EN\"\n \"http://www.w3.org/Graphics/SVG/1.1/DTD/svg11.dtd\">\n<!-- Generated by graphviz version 2.40.1 (20161225.0304)\n -->\n<!-- Title: G Pages: 1 -->\n<svg width=\"1084pt\" height=\"99pt\"\n viewBox=\"0.00 0.00 1084.00 99.00\" xmlns=\"http://www.w3.org/2000/svg\" xmlns:xlink=\"http://www.w3.org/1999/xlink\">\n<g id=\"graph0\" class=\"graph\" transform=\"scale(1 1) rotate(0) translate(4 95)\">\n<title>G</title>\n<polygon fill=\"#ffffff\" stroke=\"transparent\" points=\"-4,4 -4,-95 1080,-95 1080,4 -4,4\"/>\n<g id=\"clust1\" class=\"cluster\">\n<title>cluster_nbfcba6c6d46c4b45a754fbe086bde3a8</title>\n<g id=\"a_clust1\"><a xlink:title=\"Input\">\n<path fill=\"#555555\" fill-opacity=\"0.133333\" stroke=\"#000000\" d=\"M20,-8C20,-8 66,-8 66,-8 72,-8 78,-14 78,-20 78,-20 78,-71 78,-71 78,-77 72,-83 66,-83 66,-83 20,-83 20,-83 14,-83 8,-77 8,-71 8,-71 8,-20 8,-20 8,-14 14,-8 20,-8\"/>\n<text text-anchor=\"middle\" x=\"43\" y=\"-67.8\" font-family=\"Times,serif\" font-size=\"14.00\" fill=\"#000000\">Input</text>\n</a>\n</g>\n</g>\n<g id=\"clust2\" class=\"cluster\">\n<title>cluster_n155f485241da4c30a76a85432054196f</title>\n<g id=\"a_clust2\"><a xlink:title=\"Conv block 1\">\n<path fill=\"#555555\" fill-opacity=\"0.133333\" stroke=\"#000000\" d=\"M110,-8C110,-8 336,-8 336,-8 342,-8 348,-14 348,-20 348,-20 348,-71 348,-71 348,-77 342,-83 336,-83 336,-83 110,-83 110,-83 104,-83 98,-77 98,-71 98,-71 98,-20 98,-20 98,-14 104,-8 110,-8\"/>\n<text text-anchor=\"middle\" x=\"223\" y=\"-67.8\" font-family=\"Times,serif\" font-size=\"14.00\" fill=\"#000000\">Conv block 1</text>\n</a>\n</g>\n</g>\n<g id=\"clust3\" class=\"cluster\">\n<title>cluster_n3f61ce3851004d9897be95021dc76a73</title>\n<g id=\"a_clust3\"><a xlink:title=\"Conv block 2\">\n<path fill=\"#555555\" fill-opacity=\"0.133333\" stroke=\"#000000\" d=\"M380,-8C380,-8 606,-8 606,-8 612,-8 618,-14 618,-20 618,-20 618,-71 618,-71 618,-77 612,-83 606,-83 606,-83 380,-83 380,-83 374,-83 368,-77 368,-71 368,-71 368,-20 368,-20 368,-14 374,-8 380,-8\"/>\n<text text-anchor=\"middle\" x=\"493\" y=\"-67.8\" font-family=\"Times,serif\" font-size=\"14.00\" fill=\"#000000\">Conv block 2</text>\n</a>\n</g>\n</g>\n<g id=\"clust4\" class=\"cluster\">\n<title>cluster_n2d661995e5bc4ee5b033bef40052c030</title>\n<g id=\"a_clust4\"><a xlink:title=\"Conv block 3\">\n<path fill=\"#555555\" fill-opacity=\"0.133333\" stroke=\"#000000\" d=\"M650,-8C650,-8 876,-8 876,-8 882,-8 888,-14 888,-20 888,-20 888,-71 888,-71 888,-77 882,-83 876,-83 876,-83 650,-83 650,-83 644,-83 638,-77 638,-71 638,-71 638,-20 638,-20 638,-14 644,-8 650,-8\"/>\n<text text-anchor=\"middle\" x=\"763\" y=\"-67.8\" font-family=\"Times,serif\" font-size=\"14.00\" fill=\"#000000\">Conv block 3</text>\n</a>\n</g>\n</g>\n<g id=\"clust5\" class=\"cluster\">\n<title>cluster_n4796911630df49b0b9cab75c755b2890</title>\n<g id=\"a_clust5\"><a xlink:title=\"Linear\">\n<path fill=\"#555555\" fill-opacity=\"0.133333\" stroke=\"#000000\" d=\"M920,-8C920,-8 966,-8 966,-8 972,-8 978,-14 978,-20 978,-20 978,-71 978,-71 978,-77 972,-83 966,-83 966,-83 920,-83 920,-83 914,-83 908,-77 908,-71 908,-71 908,-20 908,-20 908,-14 914,-8 920,-8\"/>\n<text text-anchor=\"middle\" x=\"943\" y=\"-67.8\" font-family=\"Times,serif\" font-size=\"14.00\" fill=\"#000000\">Linear</text>\n</a>\n</g>\n</g>\n<g id=\"clust6\" class=\"cluster\">\n<title>cluster_ne0a94aff5a3f457dbf311b51ea43c45b</title>\n<g id=\"a_clust6\"><a xlink:title=\"Output\">\n<path fill=\"#555555\" fill-opacity=\"0.133333\" stroke=\"#000000\" d=\"M1010,-8C1010,-8 1056,-8 1056,-8 1062,-8 1068,-14 1068,-20 1068,-20 1068,-71 1068,-71 1068,-77 1062,-83 1056,-83 1056,-83 1010,-83 1010,-83 1004,-83 998,-77 998,-71 998,-71 998,-20 998,-20 998,-14 1004,-8 1010,-8\"/>\n<text text-anchor=\"middle\" x=\"1033\" y=\"-67.8\" font-family=\"Times,serif\" font-size=\"14.00\" fill=\"#000000\">Output</text>\n</a>\n</g>\n</g>\n<!-- ndfe2a5b59a104baaae8d97c97bd81d88 -->\n<g id=\"node1\" class=\"node\">\n<title>ndfe2a5b59a104baaae8d97c97bd81d88</title>\n<g id=\"a_node1\"><a xlink:title=\"Image\">\n<path fill=\"#1c93f3\" fill-opacity=\"0.635294\" stroke=\"#000000\" d=\"M58,-52C58,-52 28,-52 28,-52 22,-52 16,-46 16,-40 16,-40 16,-28 16,-28 16,-22 22,-16 28,-16 28,-16 58,-16 58,-16 64,-16 70,-22 70,-28 70,-28 70,-40 70,-40 70,-46 64,-52 58,-52\"/>\n<text text-anchor=\"middle\" x=\"43\" y=\"-30.3\" font-family=\"Times,serif\" font-size=\"14.00\" fill=\"#000000\">Image</text>\n</a>\n</g>\n</g>\n<!-- n1f4873f524234279a80dfb332de2dbc8 -->\n<g id=\"node2\" class=\"node\">\n<title>n1f4873f524234279a80dfb332de2dbc8</title>\n<g id=\"a_node2\"><a xlink:title=\"Conv\">\n<path fill=\"#cce385\" fill-opacity=\"0.305882\" stroke=\"#000000\" d=\"M148,-52C148,-52 118,-52 118,-52 112,-52 106,-46 106,-40 106,-40 106,-28 106,-28 106,-22 112,-16 118,-16 118,-16 148,-16 148,-16 154,-16 160,-22 160,-28 160,-28 160,-40 160,-40 160,-46 154,-52 148,-52\"/>\n<text text-anchor=\"middle\" x=\"133\" y=\"-30.3\" font-family=\"Times,serif\" font-size=\"14.00\" fill=\"#000000\">Conv</text>\n</a>\n</g>\n</g>\n<!-- ndfe2a5b59a104baaae8d97c97bd81d88&#45;&gt;n1f4873f524234279a80dfb332de2dbc8 -->\n<g id=\"edge7\" class=\"edge\">\n<title>ndfe2a5b59a104baaae8d97c97bd81d88&#45;&gt;n1f4873f524234279a80dfb332de2dbc8</title>\n<path fill=\"none\" stroke=\"#000000\" d=\"M77.9967,-34C83.7458,-34 89.7244,-34 95.5309,-34\"/>\n<polygon fill=\"#000000\" stroke=\"#000000\" points=\"88.0001,-37.5004 98,-34 87.9999,-30.5004 88.0001,-37.5004\"/>\n</g>\n<!-- n1e34d04a93134ff4ac9c89389b9d0d63 -->\n<g id=\"node3\" class=\"node\">\n<title>n1e34d04a93134ff4ac9c89389b9d0d63</title>\n<g id=\"a_node3\"><a xlink:title=\"ReLU\">\n<path fill=\"#3e65fa\" fill-opacity=\"0.333333\" stroke=\"#000000\" d=\"M238,-52C238,-52 208,-52 208,-52 202,-52 196,-46 196,-40 196,-40 196,-28 196,-28 196,-22 202,-16 208,-16 208,-16 238,-16 238,-16 244,-16 250,-22 250,-28 250,-28 250,-40 250,-40 250,-46 244,-52 238,-52\"/>\n<text text-anchor=\"middle\" x=\"223\" y=\"-30.3\" font-family=\"Times,serif\" font-size=\"14.00\" fill=\"#000000\">ReLU</text>\n</a>\n</g>\n</g>\n<!-- n1f4873f524234279a80dfb332de2dbc8&#45;&gt;n1e34d04a93134ff4ac9c89389b9d0d63 -->\n<g id=\"edge1\" class=\"edge\">\n<title>n1f4873f524234279a80dfb332de2dbc8&#45;&gt;n1e34d04a93134ff4ac9c89389b9d0d63</title>\n<path fill=\"none\" stroke=\"#000000\" d=\"M160.003,-34C168.0277,-34 176.9665,-34 185.5309,-34\"/>\n<polygon fill=\"#000000\" stroke=\"#000000\" points=\"185.7051,-37.5001 195.705,-34 185.705,-30.5001 185.7051,-37.5001\"/>\n</g>\n<!-- n4c68e8b2388347db86417487369d20a7 -->\n<g id=\"node4\" class=\"node\">\n<title>n4c68e8b2388347db86417487369d20a7</title>\n<g id=\"a_node4\"><a xlink:title=\"Pool\">\n<path fill=\"#92fda9\" fill-opacity=\"0.239216\" stroke=\"#000000\" d=\"M328,-52C328,-52 298,-52 298,-52 292,-52 286,-46 286,-40 286,-40 286,-28 286,-28 286,-22 292,-16 298,-16 298,-16 328,-16 328,-16 334,-16 340,-22 340,-28 340,-28 340,-40 340,-40 340,-46 334,-52 328,-52\"/>\n<text text-anchor=\"middle\" x=\"313\" y=\"-30.3\" font-family=\"Times,serif\" font-size=\"14.00\" fill=\"#000000\">Pool</text>\n</a>\n</g>\n</g>\n<!-- n1e34d04a93134ff4ac9c89389b9d0d63&#45;&gt;n4c68e8b2388347db86417487369d20a7 -->\n<g id=\"edge2\" class=\"edge\">\n<title>n1e34d04a93134ff4ac9c89389b9d0d63&#45;&gt;n4c68e8b2388347db86417487369d20a7</title>\n<path fill=\"none\" stroke=\"#000000\" d=\"M250.003,-34C258.0277,-34 266.9665,-34 275.5309,-34\"/>\n<polygon fill=\"#000000\" stroke=\"#000000\" points=\"275.7051,-37.5001 285.705,-34 275.705,-30.5001 275.7051,-37.5001\"/>\n</g>\n<!-- nc23703cc3cb5444d931a9e34cde5a741 -->\n<g id=\"node5\" class=\"node\">\n<title>nc23703cc3cb5444d931a9e34cde5a741</title>\n<g id=\"a_node5\"><a xlink:title=\"Conv\">\n<path fill=\"#cce385\" fill-opacity=\"0.305882\" stroke=\"#000000\" d=\"M418,-52C418,-52 388,-52 388,-52 382,-52 376,-46 376,-40 376,-40 376,-28 376,-28 376,-22 382,-16 388,-16 388,-16 418,-16 418,-16 424,-16 430,-22 430,-28 430,-28 430,-40 430,-40 430,-46 424,-52 418,-52\"/>\n<text text-anchor=\"middle\" x=\"403\" y=\"-30.3\" font-family=\"Times,serif\" font-size=\"14.00\" fill=\"#000000\">Conv</text>\n</a>\n</g>\n</g>\n<!-- n4c68e8b2388347db86417487369d20a7&#45;&gt;nc23703cc3cb5444d931a9e34cde5a741 -->\n<g id=\"edge8\" class=\"edge\">\n<title>n4c68e8b2388347db86417487369d20a7&#45;&gt;nc23703cc3cb5444d931a9e34cde5a741</title>\n<path fill=\"none\" stroke=\"#000000\" d=\"M347.9967,-34C353.7458,-34 359.7244,-34 365.5309,-34\"/>\n<polygon fill=\"#000000\" stroke=\"#000000\" points=\"358.0001,-37.5004 368,-34 357.9999,-30.5004 358.0001,-37.5004\"/>\n</g>\n<!-- n1525fbe1b50b456cb36e16fb335c515a -->\n<g id=\"node6\" class=\"node\">\n<title>n1525fbe1b50b456cb36e16fb335c515a</title>\n<g id=\"a_node6\"><a xlink:title=\"ReLU\">\n<path fill=\"#3e65fa\" fill-opacity=\"0.333333\" stroke=\"#000000\" d=\"M508,-52C508,-52 478,-52 478,-52 472,-52 466,-46 466,-40 466,-40 466,-28 466,-28 466,-22 472,-16 478,-16 478,-16 508,-16 508,-16 514,-16 520,-22 520,-28 520,-28 520,-40 520,-40 520,-46 514,-52 508,-52\"/>\n<text text-anchor=\"middle\" x=\"493\" y=\"-30.3\" font-family=\"Times,serif\" font-size=\"14.00\" fill=\"#000000\">ReLU</text>\n</a>\n</g>\n</g>\n<!-- nc23703cc3cb5444d931a9e34cde5a741&#45;&gt;n1525fbe1b50b456cb36e16fb335c515a -->\n<g id=\"edge3\" class=\"edge\">\n<title>nc23703cc3cb5444d931a9e34cde5a741&#45;&gt;n1525fbe1b50b456cb36e16fb335c515a</title>\n<path fill=\"none\" stroke=\"#000000\" d=\"M430.003,-34C438.0277,-34 446.9665,-34 455.5309,-34\"/>\n<polygon fill=\"#000000\" stroke=\"#000000\" points=\"455.7051,-37.5001 465.705,-34 455.705,-30.5001 455.7051,-37.5001\"/>\n</g>\n<!-- n2cedaf6d6c5a442887115d43f0ec4d0c -->\n<g id=\"node7\" class=\"node\">\n<title>n2cedaf6d6c5a442887115d43f0ec4d0c</title>\n<g id=\"a_node7\"><a xlink:title=\"Pool\">\n<path fill=\"#92fda9\" fill-opacity=\"0.239216\" stroke=\"#000000\" d=\"M598,-52C598,-52 568,-52 568,-52 562,-52 556,-46 556,-40 556,-40 556,-28 556,-28 556,-22 562,-16 568,-16 568,-16 598,-16 598,-16 604,-16 610,-22 610,-28 610,-28 610,-40 610,-40 610,-46 604,-52 598,-52\"/>\n<text text-anchor=\"middle\" x=\"583\" y=\"-30.3\" font-family=\"Times,serif\" font-size=\"14.00\" fill=\"#000000\">Pool</text>\n</a>\n</g>\n</g>\n<!-- n1525fbe1b50b456cb36e16fb335c515a&#45;&gt;n2cedaf6d6c5a442887115d43f0ec4d0c -->\n<g id=\"edge4\" class=\"edge\">\n<title>n1525fbe1b50b456cb36e16fb335c515a&#45;&gt;n2cedaf6d6c5a442887115d43f0ec4d0c</title>\n<path fill=\"none\" stroke=\"#000000\" d=\"M520.003,-34C528.0277,-34 536.9665,-34 545.5309,-34\"/>\n<polygon fill=\"#000000\" stroke=\"#000000\" points=\"545.7051,-37.5001 555.705,-34 545.705,-30.5001 545.7051,-37.5001\"/>\n</g>\n<!-- n023aa54f2c924fbb9ba668127cf872e1 -->\n<g id=\"node8\" class=\"node\">\n<title>n023aa54f2c924fbb9ba668127cf872e1</title>\n<g id=\"a_node8\"><a xlink:title=\"Conv\">\n<path fill=\"#cce385\" fill-opacity=\"0.305882\" stroke=\"#000000\" d=\"M688,-52C688,-52 658,-52 658,-52 652,-52 646,-46 646,-40 646,-40 646,-28 646,-28 646,-22 652,-16 658,-16 658,-16 688,-16 688,-16 694,-16 700,-22 700,-28 700,-28 700,-40 700,-40 700,-46 694,-52 688,-52\"/>\n<text text-anchor=\"middle\" x=\"673\" y=\"-30.3\" font-family=\"Times,serif\" font-size=\"14.00\" fill=\"#000000\">Conv</text>\n</a>\n</g>\n</g>\n<!-- n2cedaf6d6c5a442887115d43f0ec4d0c&#45;&gt;n023aa54f2c924fbb9ba668127cf872e1 -->\n<g id=\"edge9\" class=\"edge\">\n<title>n2cedaf6d6c5a442887115d43f0ec4d0c&#45;&gt;n023aa54f2c924fbb9ba668127cf872e1</title>\n<path fill=\"none\" stroke=\"#000000\" d=\"M617.9967,-34C623.7458,-34 629.7244,-34 635.5309,-34\"/>\n<polygon fill=\"#000000\" stroke=\"#000000\" points=\"628.0001,-37.5004 638,-34 627.9999,-30.5004 628.0001,-37.5004\"/>\n</g>\n<!-- nf789d45811b54535830e1869ab97a1a3 -->\n<g id=\"node9\" class=\"node\">\n<title>nf789d45811b54535830e1869ab97a1a3</title>\n<g id=\"a_node9\"><a xlink:title=\"ReLU\">\n<path fill=\"#3e65fa\" fill-opacity=\"0.333333\" stroke=\"#000000\" d=\"M778,-52C778,-52 748,-52 748,-52 742,-52 736,-46 736,-40 736,-40 736,-28 736,-28 736,-22 742,-16 748,-16 748,-16 778,-16 778,-16 784,-16 790,-22 790,-28 790,-28 790,-40 790,-40 790,-46 784,-52 778,-52\"/>\n<text text-anchor=\"middle\" x=\"763\" y=\"-30.3\" font-family=\"Times,serif\" font-size=\"14.00\" fill=\"#000000\">ReLU</text>\n</a>\n</g>\n</g>\n<!-- n023aa54f2c924fbb9ba668127cf872e1&#45;&gt;nf789d45811b54535830e1869ab97a1a3 -->\n<g id=\"edge5\" class=\"edge\">\n<title>n023aa54f2c924fbb9ba668127cf872e1&#45;&gt;nf789d45811b54535830e1869ab97a1a3</title>\n<path fill=\"none\" stroke=\"#000000\" d=\"M700.003,-34C708.0277,-34 716.9665,-34 725.5309,-34\"/>\n<polygon fill=\"#000000\" stroke=\"#000000\" points=\"725.7051,-37.5001 735.705,-34 725.705,-30.5001 725.7051,-37.5001\"/>\n</g>\n<!-- n5910bcc4b306496bbbb75619367fe22d -->\n<g id=\"node10\" class=\"node\">\n<title>n5910bcc4b306496bbbb75619367fe22d</title>\n<g id=\"a_node10\"><a xlink:title=\"Pool\">\n<path fill=\"#92fda9\" fill-opacity=\"0.239216\" stroke=\"#000000\" d=\"M868,-52C868,-52 838,-52 838,-52 832,-52 826,-46 826,-40 826,-40 826,-28 826,-28 826,-22 832,-16 838,-16 838,-16 868,-16 868,-16 874,-16 880,-22 880,-28 880,-28 880,-40 880,-40 880,-46 874,-52 868,-52\"/>\n<text text-anchor=\"middle\" x=\"853\" y=\"-30.3\" font-family=\"Times,serif\" font-size=\"14.00\" fill=\"#000000\">Pool</text>\n</a>\n</g>\n</g>\n<!-- nf789d45811b54535830e1869ab97a1a3&#45;&gt;n5910bcc4b306496bbbb75619367fe22d -->\n<g id=\"edge6\" class=\"edge\">\n<title>nf789d45811b54535830e1869ab97a1a3&#45;&gt;n5910bcc4b306496bbbb75619367fe22d</title>\n<path fill=\"none\" stroke=\"#000000\" d=\"M790.003,-34C798.0277,-34 806.9665,-34 815.5309,-34\"/>\n<polygon fill=\"#000000\" stroke=\"#000000\" points=\"815.7051,-37.5001 825.705,-34 815.705,-30.5001 815.7051,-37.5001\"/>\n</g>\n<!-- n13cb4a7b878a49069be6cd0e0808a446 -->\n<g id=\"node11\" class=\"node\">\n<title>n13cb4a7b878a49069be6cd0e0808a446</title>\n<g id=\"a_node11\"><a xlink:title=\"Linear\">\n<path fill=\"#ff4422\" fill-opacity=\"0.741176\" stroke=\"#000000\" d=\"M958,-52C958,-52 928,-52 928,-52 922,-52 916,-46 916,-40 916,-40 916,-28 916,-28 916,-22 922,-16 928,-16 928,-16 958,-16 958,-16 964,-16 970,-22 970,-28 970,-28 970,-40 970,-40 970,-46 964,-52 958,-52\"/>\n<text text-anchor=\"middle\" x=\"943\" y=\"-30.3\" font-family=\"Times,serif\" font-size=\"14.00\" fill=\"#000000\">Linear</text>\n</a>\n</g>\n</g>\n<!-- n5910bcc4b306496bbbb75619367fe22d&#45;&gt;n13cb4a7b878a49069be6cd0e0808a446 -->\n<g id=\"edge10\" class=\"edge\">\n<title>n5910bcc4b306496bbbb75619367fe22d&#45;&gt;n13cb4a7b878a49069be6cd0e0808a446</title>\n<path fill=\"none\" stroke=\"#000000\" d=\"M887.9967,-34C893.7458,-34 899.7244,-34 905.5309,-34\"/>\n<polygon fill=\"#000000\" stroke=\"#000000\" points=\"905.7051,-37.5001 915.705,-34 905.705,-30.5001 905.7051,-37.5001\"/>\n</g>\n<!-- nc95dea3a67f14cebadfcfff52fd6645a -->\n<g id=\"node12\" class=\"node\">\n<title>nc95dea3a67f14cebadfcfff52fd6645a</title>\n<g id=\"a_node12\"><a xlink:title=\"Class\">\n<path fill=\"#ff562c\" fill-opacity=\"0.200000\" stroke=\"#000000\" d=\"M1048,-52C1048,-52 1018,-52 1018,-52 1012,-52 1006,-46 1006,-40 1006,-40 1006,-28 1006,-28 1006,-22 1012,-16 1018,-16 1018,-16 1048,-16 1048,-16 1054,-16 1060,-22 1060,-28 1060,-28 1060,-40 1060,-40 1060,-46 1054,-52 1048,-52\"/>\n<text text-anchor=\"middle\" x=\"1033\" y=\"-30.3\" font-family=\"Times,serif\" font-size=\"14.00\" fill=\"#000000\">Class</text>\n</a>\n</g>\n</g>\n<!-- n13cb4a7b878a49069be6cd0e0808a446&#45;&gt;nc95dea3a67f14cebadfcfff52fd6645a -->\n<g id=\"edge11\" class=\"edge\">\n<title>n13cb4a7b878a49069be6cd0e0808a446&#45;&gt;nc95dea3a67f14cebadfcfff52fd6645a</title>\n<path fill=\"none\" stroke=\"#000000\" d=\"M970.003,-34C978.0277,-34 986.9665,-34 995.5309,-34\"/>\n<polygon fill=\"#000000\" stroke=\"#000000\" points=\"988.0001,-37.5004 998,-34 987.9999,-30.5004 988.0001,-37.5004\"/>\n</g>\n</g>\n</svg>\n"
          },
          "metadata": {
            "tags": []
          },
          "execution_count": 76
        }
      ]
    },
    {
      "cell_type": "code",
      "metadata": {
        "id": "Rg1cHyVMwrpg"
      },
      "source": [
        "class ConvBlock(nn.Module):\n",
        "    def __init__(self, in_channels=1, ks=3, out_channels=16, stride=1, padding=0, act_fn=nn.ReLU()):\n",
        "        super().__init__()\n",
        "        self.conv =  nn.Conv2d(in_channels=in_channels,\n",
        "                               out_channels=out_channels, \n",
        "                               kernel_size=ks, \n",
        "                               stride=stride, padding=padding)\n",
        "        \n",
        "        self.act_fn = act_fn\n",
        "        self.pool   = nn.MaxPool2d(kernel_size=ks-1)\n",
        "    def forward(self, x):\n",
        "        x = self.conv(x)\n",
        "        x = self.act_fn(x)\n",
        "        x = self.pool(x)\n",
        "        return x\n",
        "    \n",
        "    \n",
        "class CNNModel(nn.Module):\n",
        "    def __init__(self):\n",
        "        super().__init__()\n",
        "        self.conv_block1 = ConvBlock(in_channels=1, \n",
        "                                     out_channels=16)\n",
        "        \n",
        "        self.conv_block2 = ConvBlock(in_channels=16, \n",
        "                                     out_channels=32)\n",
        "        \n",
        "        self.conv_block3 = ConvBlock(in_channels=32,\n",
        "                                     out_channels=64)\n",
        "\n",
        "        \n",
        "        self.linear =  nn.Linear(64, 10)\n",
        "            \n",
        "    def forward(self, x):\n",
        "        x = self.conv_block1(x)\n",
        "        x = self.conv_block2(x)\n",
        "        x = self.conv_block3(x)\n",
        "        x = self.linear(x.view(x.size(0), -1))\n",
        "        return x"
      ],
      "execution_count": 77,
      "outputs": []
    },
    {
      "cell_type": "markdown",
      "metadata": {
        "id": "n64P_Rklwrpg"
      },
      "source": [
        "Let's take a look at the model summary"
      ]
    },
    {
      "cell_type": "code",
      "metadata": {
        "id": "eJijt5Jswrpg",
        "outputId": "4f7e4fd3-b1a5-459d-ac13-8216866d202f",
        "colab": {
          "base_uri": "https://localhost:8080/"
        }
      },
      "source": [
        "model = CNNModel().eval()\n",
        "model"
      ],
      "execution_count": 78,
      "outputs": [
        {
          "output_type": "execute_result",
          "data": {
            "text/plain": [
              "CNNModel(\n",
              "  (conv_block1): ConvBlock(\n",
              "    (conv): Conv2d(1, 16, kernel_size=(3, 3), stride=(1, 1))\n",
              "    (act_fn): ReLU()\n",
              "    (pool): MaxPool2d(kernel_size=2, stride=2, padding=0, dilation=1, ceil_mode=False)\n",
              "  )\n",
              "  (conv_block2): ConvBlock(\n",
              "    (conv): Conv2d(16, 32, kernel_size=(3, 3), stride=(1, 1))\n",
              "    (act_fn): ReLU()\n",
              "    (pool): MaxPool2d(kernel_size=2, stride=2, padding=0, dilation=1, ceil_mode=False)\n",
              "  )\n",
              "  (conv_block3): ConvBlock(\n",
              "    (conv): Conv2d(32, 64, kernel_size=(3, 3), stride=(1, 1))\n",
              "    (act_fn): ReLU()\n",
              "    (pool): MaxPool2d(kernel_size=2, stride=2, padding=0, dilation=1, ceil_mode=False)\n",
              "  )\n",
              "  (linear): Linear(in_features=64, out_features=10, bias=True)\n",
              ")"
            ]
          },
          "metadata": {
            "tags": []
          },
          "execution_count": 78
        }
      ]
    },
    {
      "cell_type": "markdown",
      "metadata": {
        "id": "MerHUzNqwrph"
      },
      "source": [
        "Let's do a forward pass manually, step by step through the three convolutional blocks and the linear layer (all of which are now attributes of out model object `model`)"
      ]
    },
    {
      "cell_type": "code",
      "metadata": {
        "id": "ivrZSuSrwrph"
      },
      "source": [
        "x, y = next(iter(valid_dl)) # get one batch from validation dataset"
      ],
      "execution_count": 79,
      "outputs": []
    },
    {
      "cell_type": "code",
      "metadata": {
        "id": "i55g2AkXwrpj",
        "outputId": "3dac50b3-20a7-43a9-b567-858ccd174dd0",
        "colab": {
          "base_uri": "https://localhost:8080/"
        }
      },
      "source": [
        "x.shape # this is the input"
      ],
      "execution_count": 80,
      "outputs": [
        {
          "output_type": "execute_result",
          "data": {
            "text/plain": [
              "torch.Size([64, 1, 28, 28])"
            ]
          },
          "metadata": {
            "tags": []
          },
          "execution_count": 80
        }
      ]
    },
    {
      "cell_type": "code",
      "metadata": {
        "id": "ALyU2p0Owrpj"
      },
      "source": [
        "conv_block1_out = model.conv_block1(x)"
      ],
      "execution_count": 81,
      "outputs": []
    },
    {
      "cell_type": "code",
      "metadata": {
        "id": "Y4JBQ_VCwrpk",
        "outputId": "efdc7276-cea1-435a-8891-a1498d0b52ea",
        "colab": {
          "base_uri": "https://localhost:8080/"
        }
      },
      "source": [
        "conv_block1_out.shape # (batch, channels, pixels, pixels)"
      ],
      "execution_count": 82,
      "outputs": [
        {
          "output_type": "execute_result",
          "data": {
            "text/plain": [
              "torch.Size([64, 16, 13, 13])"
            ]
          },
          "metadata": {
            "tags": []
          },
          "execution_count": 82
        }
      ]
    },
    {
      "cell_type": "code",
      "metadata": {
        "id": "TgOI6erIwrpl"
      },
      "source": [
        "conv_block2_out = model.conv_block2(conv_block1_out)"
      ],
      "execution_count": 83,
      "outputs": []
    },
    {
      "cell_type": "code",
      "metadata": {
        "id": "7cgo6Pc6wrpm",
        "outputId": "e024fe44-f192-414e-fbf9-1d659c9d92c7",
        "colab": {
          "base_uri": "https://localhost:8080/"
        }
      },
      "source": [
        "conv_block2_out.shape # (batch, channels, pixels, pixels)"
      ],
      "execution_count": 84,
      "outputs": [
        {
          "output_type": "execute_result",
          "data": {
            "text/plain": [
              "torch.Size([64, 32, 5, 5])"
            ]
          },
          "metadata": {
            "tags": []
          },
          "execution_count": 84
        }
      ]
    },
    {
      "cell_type": "code",
      "metadata": {
        "id": "0EUvZm-Uwrpm"
      },
      "source": [
        "conv_block3_out = model.conv_block3(conv_block2_out)"
      ],
      "execution_count": 85,
      "outputs": []
    },
    {
      "cell_type": "code",
      "metadata": {
        "id": "IIfc4N5iwrpn",
        "outputId": "91f85299-97f7-4662-d0d5-fb1ab92825fe",
        "colab": {
          "base_uri": "https://localhost:8080/"
        }
      },
      "source": [
        "conv_block3_out.shape"
      ],
      "execution_count": 86,
      "outputs": [
        {
          "output_type": "execute_result",
          "data": {
            "text/plain": [
              "torch.Size([64, 64, 1, 1])"
            ]
          },
          "metadata": {
            "tags": []
          },
          "execution_count": 86
        }
      ]
    },
    {
      "cell_type": "code",
      "metadata": {
        "id": "TgPgMC-gwrpo",
        "outputId": "65427aa7-ddb2-4747-89af-b5ff1a71c9ee",
        "colab": {
          "base_uri": "https://localhost:8080/"
        }
      },
      "source": [
        "out = model.linear(conv_block3_out.view(64, -1))\n",
        "out.shape # (batch, n_classes)"
      ],
      "execution_count": 87,
      "outputs": [
        {
          "output_type": "execute_result",
          "data": {
            "text/plain": [
              "torch.Size([64, 10])"
            ]
          },
          "metadata": {
            "tags": []
          },
          "execution_count": 87
        }
      ]
    },
    {
      "cell_type": "markdown",
      "metadata": {
        "id": "z38sLe0Zwrpp"
      },
      "source": [
        "Now let's initialize the model (again) and train!"
      ]
    },
    {
      "cell_type": "code",
      "metadata": {
        "id": "MboTiaMSwrpp"
      },
      "source": [
        "num_classes = 10\n",
        "num_epochs = 5\n",
        "learning_rate = 0.1\n",
        "\n",
        "model = CNNModel()\n",
        "loss_fn = nn.CrossEntropyLoss()  \n",
        "optimizer = torch.optim.SGD(model.parameters(), lr=learning_rate)"
      ],
      "execution_count": 88,
      "outputs": []
    },
    {
      "cell_type": "code",
      "metadata": {
        "id": "yFvLZxoiwrpq",
        "outputId": "fcc876e4-4d50-4aad-8a2e-dd76e062f2db",
        "colab": {
          "base_uri": "https://localhost:8080/"
        }
      },
      "source": [
        "model, losses = train_fit(model, loss_fn, train_dl, num_epochs, optimizer)"
      ],
      "execution_count": 89,
      "outputs": [
        {
          "output_type": "stream",
          "text": [
            "Epoch [1/5], Step [100/938], Loss: 1.9405\n",
            "Epoch [1/5], Step [200/938], Loss: 1.5364\n",
            "Epoch [1/5], Step [300/938], Loss: 0.4377\n",
            "Epoch [1/5], Step [400/938], Loss: 0.3577\n",
            "Epoch [1/5], Step [500/938], Loss: 0.2627\n",
            "Epoch [1/5], Step [600/938], Loss: 0.1638\n",
            "Epoch [1/5], Step [700/938], Loss: 0.2419\n",
            "Epoch [1/5], Step [800/938], Loss: 0.1942\n",
            "Epoch [1/5], Step [900/938], Loss: 0.1818\n",
            "Epoch [2/5], Step [100/938], Loss: 0.1246\n",
            "Epoch [2/5], Step [200/938], Loss: 0.2072\n",
            "Epoch [2/5], Step [300/938], Loss: 0.0597\n",
            "Epoch [2/5], Step [400/938], Loss: 0.1967\n",
            "Epoch [2/5], Step [500/938], Loss: 0.0665\n",
            "Epoch [2/5], Step [600/938], Loss: 0.1391\n",
            "Epoch [2/5], Step [700/938], Loss: 0.0400\n",
            "Epoch [2/5], Step [800/938], Loss: 0.1364\n",
            "Epoch [2/5], Step [900/938], Loss: 0.0812\n",
            "Epoch [3/5], Step [100/938], Loss: 0.0382\n",
            "Epoch [3/5], Step [200/938], Loss: 0.0187\n",
            "Epoch [3/5], Step [300/938], Loss: 0.1647\n",
            "Epoch [3/5], Step [400/938], Loss: 0.0349\n",
            "Epoch [3/5], Step [500/938], Loss: 0.0270\n",
            "Epoch [3/5], Step [600/938], Loss: 0.0416\n",
            "Epoch [3/5], Step [700/938], Loss: 0.0071\n",
            "Epoch [3/5], Step [800/938], Loss: 0.0994\n",
            "Epoch [3/5], Step [900/938], Loss: 0.1386\n",
            "Epoch [4/5], Step [100/938], Loss: 0.1608\n",
            "Epoch [4/5], Step [200/938], Loss: 0.0312\n",
            "Epoch [4/5], Step [300/938], Loss: 0.0840\n",
            "Epoch [4/5], Step [400/938], Loss: 0.0245\n",
            "Epoch [4/5], Step [500/938], Loss: 0.0064\n",
            "Epoch [4/5], Step [600/938], Loss: 0.0062\n",
            "Epoch [4/5], Step [700/938], Loss: 0.0710\n",
            "Epoch [4/5], Step [800/938], Loss: 0.0187\n",
            "Epoch [4/5], Step [900/938], Loss: 0.0760\n",
            "Epoch [5/5], Step [100/938], Loss: 0.1103\n",
            "Epoch [5/5], Step [200/938], Loss: 0.0168\n",
            "Epoch [5/5], Step [300/938], Loss: 0.0453\n",
            "Epoch [5/5], Step [400/938], Loss: 0.0140\n",
            "Epoch [5/5], Step [500/938], Loss: 0.0555\n",
            "Epoch [5/5], Step [600/938], Loss: 0.1241\n",
            "Epoch [5/5], Step [700/938], Loss: 0.1107\n",
            "Epoch [5/5], Step [800/938], Loss: 0.0867\n",
            "Epoch [5/5], Step [900/938], Loss: 0.0702\n"
          ],
          "name": "stdout"
        }
      ]
    },
    {
      "cell_type": "code",
      "metadata": {
        "id": "uBfMc6mowrpr",
        "outputId": "983077c5-24ce-42c2-da00-de35f1fd4d36",
        "colab": {
          "base_uri": "https://localhost:8080/",
          "height": 278
        }
      },
      "source": [
        "plt.plot(losses)\n",
        "plt.xlabel('Training iteration')\n",
        "plt.ylabel('Training loss')\n",
        "plt.yscale('log')\n",
        "plt.grid()"
      ],
      "execution_count": 90,
      "outputs": [
        {
          "output_type": "display_data",
          "data": {
            "image/png": "[encoded data removed]",
            "text/plain": [
              "<Figure size 432x288 with 1 Axes>"
            ]
          },
          "metadata": {
            "tags": [],
            "needs_background": "light"
          }
        }
      ]
    },
    {
      "cell_type": "code",
      "metadata": {
        "id": "scth0kIEwrps",
        "outputId": "36c624ec-8838-4ff6-9620-33ea0a3c8e5a",
        "colab": {
          "base_uri": "https://localhost:8080/"
        }
      },
      "source": [
        "valid_fit(model, valid_dl)"
      ],
      "execution_count": 92,
      "outputs": [
        {
          "output_type": "stream",
          "text": [
            "Accuracy of the model on the 10000 test images: 97.45999908447266 %\n"
          ],
          "name": "stdout"
        }
      ]
    },
    {
      "cell_type": "code",
      "metadata": {
        "id": "izCwmtBgjI-5"
      },
      "source": [
        ""
      ],
      "execution_count": null,
      "outputs": []
    }
  ]
}