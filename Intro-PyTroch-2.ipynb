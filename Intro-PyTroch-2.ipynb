{
 "cells": [
  {
   "cell_type": "markdown",
   "metadata": {},
   "source": [
    "# Introduction to PyTorch Part 2\n",
    "\n",
    "> by Habib Bukhari and Roman Vaxenburg"
   ]
  },
  {
   "cell_type": "code",
   "execution_count": 83,
   "metadata": {},
   "outputs": [],
   "source": [
    "#hide\n",
    "import torch\n",
    "import matplotlib.pyplot as plt\n",
    "import torchvision.datasets as datasets\n",
    "import numpy as np\n",
    "from torchvision import transforms\n",
    "from torch.utils.data import DataLoader\n",
    "import torch.nn as nn\n",
    "import torch.nn.functional as F\n",
    "import torch.optim as optim\n",
    "from matplotlib import animation, rc\n",
    "import pandas as pd\n",
    "import seaborn as sbn\n",
    "!pip install fastdot -q\n",
    "from fastdot import *\n",
    "rc('animation', html='jshtml')\n",
    "%matplotlib inline"
   ]
  },
  {
   "cell_type": "markdown",
   "metadata": {},
   "source": [
    "In this notebook we will solve the digit classification task with 3 different models of progressively increasing complexity:\n",
    "\n",
    "* Linear classifier (logistic regression)\n",
    "* Multilayer perceptron (non-linear fully connected network)\n",
    "* Convolutional neural network"
   ]
  },
  {
   "cell_type": "markdown",
   "metadata": {},
   "source": [
    "# Classifying digits\n",
    "\n",
    "We've just implemented a simple regression model. Now let's solve a simple digit classification task! We will use a dataset of images of hand-written digits from 0 to 9 and the classifier will predict the digit from the image.\n",
    "\n",
    "\n",
    "<div class=\"alert alert-block alert-info\">\n",
    "The <b>MNIST</b> database of handwritten digits, available from this page, has a training set of 60,000 examples, and a test set of 10,000 examples. It is a subset of a larger set available from NIST. The digits have been size-normalized and centered in a fixed-size image. It is a good database for people who want to try learning techniques and pattern recognition methods on real-world data while spending minimal efforts on preprocessing and formatting.\n",
    "</div>\n",
    "\n",
    "We will use a simple linear layer `nn.Linear` again.\n",
    "\n",
    "## Explore the data\n",
    "\n",
    "Load the dataset of digit images and split the data into training and validation subsets."
   ]
  },
  {
   "cell_type": "code",
   "execution_count": 2,
   "metadata": {},
   "outputs": [],
   "source": [
    "mnist_trainset = datasets.MNIST(root='./data', train=True, download=True)\n",
    "mnist_validset = datasets.MNIST(root='./data', train=False, download=True)"
   ]
  },
  {
   "cell_type": "code",
   "execution_count": 3,
   "metadata": {},
   "outputs": [
    {
     "data": {
      "text/plain": [
       "Dataset MNIST\n",
       "    Number of datapoints: 60000\n",
       "    Root location: ./data\n",
       "    Split: Train"
      ]
     },
     "execution_count": 3,
     "metadata": {},
     "output_type": "execute_result"
    }
   ],
   "source": [
    "mnist_trainset"
   ]
  },
  {
   "cell_type": "code",
   "execution_count": 4,
   "metadata": {},
   "outputs": [
    {
     "data": {
      "text/plain": [
       "Dataset MNIST\n",
       "    Number of datapoints: 10000\n",
       "    Root location: ./data\n",
       "    Split: Test"
      ]
     },
     "execution_count": 4,
     "metadata": {},
     "output_type": "execute_result"
    }
   ],
   "source": [
    "mnist_validset"
   ]
  },
  {
   "cell_type": "code",
   "execution_count": 5,
   "metadata": {},
   "outputs": [],
   "source": [
    "img, label  = mnist_trainset[0] #getting 0th element of dataset"
   ]
  },
  {
   "cell_type": "code",
   "execution_count": 6,
   "metadata": {},
   "outputs": [
    {
     "data": {
      "text/plain": [
       "(PIL.Image.Image, int)"
      ]
     },
     "execution_count": 6,
     "metadata": {},
     "output_type": "execute_result"
    }
   ],
   "source": [
    "type(img), type(label)"
   ]
  },
  {
   "cell_type": "code",
   "execution_count": 7,
   "metadata": {},
   "outputs": [
    {
     "data": {
      "text/plain": [
       "5"
      ]
     },
     "execution_count": 7,
     "metadata": {},
     "output_type": "execute_result"
    }
   ],
   "source": [
    "label"
   ]
  },
  {
   "cell_type": "code",
   "execution_count": 8,
   "metadata": {},
   "outputs": [
    {
     "data": {
      "text/plain": [
       "<matplotlib.image.AxesImage at 0x7ff81d0f5070>"
      ]
     },
     "execution_count": 8,
     "metadata": {},
     "output_type": "execute_result"
    },
    {
     "data": {
      "image/png": "[encoded data removed]",
      "text/plain": [
       "<Figure size 432x288 with 1 Axes>"
      ]
     },
     "metadata": {
      "needs_background": "light"
     },
     "output_type": "display_data"
    }
   ],
   "source": [
    "plt.imshow(img) #we can use matplotlib function imshow to display image"
   ]
  },
  {
   "cell_type": "code",
   "execution_count": 9,
   "metadata": {},
   "outputs": [],
   "source": [
    "def show_image(x, title: str):\n",
    "    #function that shows image with a title\n",
    "    plt.imshow(x)\n",
    "    plt.title(f'Label: {title}')"
   ]
  },
  {
   "cell_type": "code",
   "execution_count": 10,
   "metadata": {},
   "outputs": [],
   "source": [
    "img, label = mnist_trainset[5438]"
   ]
  },
  {
   "cell_type": "code",
   "execution_count": 11,
   "metadata": {},
   "outputs": [
    {
     "data": {
      "image/png": "[encoded data removed]",
      "text/plain": [
       "<Figure size 432x288 with 1 Axes>"
      ]
     },
     "metadata": {
      "needs_background": "light"
     },
     "output_type": "display_data"
    }
   ],
   "source": [
    "show_image(img, label)"
   ]
  },
  {
   "cell_type": "markdown",
   "metadata": {},
   "source": [
    "Each pixel in the image has value between 0 and 255\n",
    "<div class=\"alert alert-block alert-info\">\n",
    "The word “pixel” means a picture element. Every photograph, in digital form, is made up of pixels. They are the smallest unit of information that makes up a picture. Usually round or square, they are typically arranged in a 2-dimensional grid.\n",
    "</div>"
   ]
  },
  {
   "cell_type": "code",
   "execution_count": 12,
   "metadata": {},
   "outputs": [
    {
     "data": {
      "text/plain": [
       "<matplotlib.axes._subplots.AxesSubplot at 0x7ff81d286d60>"
      ]
     },
     "execution_count": 12,
     "metadata": {},
     "output_type": "execute_result"
    },
    {
     "data": {
      "image/png": "[encoded data removed]",
      "text/plain": [
       "<Figure size 864x864 with 2 Axes>"
      ]
     },
     "metadata": {
      "needs_background": "light"
     },
     "output_type": "display_data"
    }
   ],
   "source": [
    "#this is image which has value from 0 to 255 \n",
    "image_array=np.array(img)\n",
    "fig, axes = plt.subplots(figsize=(12, 12))\n",
    "sbn.heatmap(image_array, annot=True, fmt=\"d\", cmap=\"YlGnBu\")"
   ]
  },
  {
   "cell_type": "code",
   "execution_count": 13,
   "metadata": {},
   "outputs": [],
   "source": [
    " # dividing by 255 to scale everything between 0 to 1 (gettng rid of large numbers)\n",
    "def convert_to_tensor(x):\n",
    "    x= torch.tensor(np.array(x).astype('float'))\n",
    "    x= x /255\n",
    "    return x"
   ]
  },
  {
   "cell_type": "code",
   "execution_count": 14,
   "metadata": {},
   "outputs": [],
   "source": [
    "img, label = mnist_trainset[223]"
   ]
  },
  {
   "cell_type": "code",
   "execution_count": 15,
   "metadata": {},
   "outputs": [
    {
     "data": {
      "image/png": "[encoded data removed]",
      "text/plain": [
       "<Figure size 432x288 with 1 Axes>"
      ]
     },
     "metadata": {
      "needs_background": "light"
     },
     "output_type": "display_data"
    }
   ],
   "source": [
    "show_image(img, label)"
   ]
  },
  {
   "cell_type": "code",
   "execution_count": 16,
   "metadata": {},
   "outputs": [
    {
     "data": {
      "text/plain": [
       "(PIL.Image.Image, torch.Tensor)"
      ]
     },
     "execution_count": 16,
     "metadata": {},
     "output_type": "execute_result"
    }
   ],
   "source": [
    "img_tensor = convert_to_tensor(img)\n",
    "type(img), type(img_tensor)"
   ]
  },
  {
   "cell_type": "code",
   "execution_count": 17,
   "metadata": {},
   "outputs": [
    {
     "data": {
      "text/plain": [
       "torch.Size([28, 28])"
      ]
     },
     "execution_count": 17,
     "metadata": {},
     "output_type": "execute_result"
    }
   ],
   "source": [
    "img_tensor.shape"
   ]
  },
  {
   "cell_type": "markdown",
   "metadata": {},
   "source": [
    "Luckily, pytorch provides us with this transformation so we don't have to convert the data to `tensor` manually "
   ]
  },
  {
   "cell_type": "code",
   "execution_count": 18,
   "metadata": {},
   "outputs": [],
   "source": [
    "transform=transforms.Compose([\n",
    "        transforms.ToTensor(),\n",
    "        ])\n",
    "mnist_trainset = datasets.MNIST(root='./data', train=True, download=True, transform=transform)\n",
    "mnist_validset = datasets.MNIST(root='./data', train=False, download=True,transform=transform)"
   ]
  },
  {
   "cell_type": "markdown",
   "metadata": {},
   "source": [
    "## Dataloader\n",
    "<div class=\"alert alert-block alert-info\">\n",
    "PyTorch offers a solution for parallelizing the data loading process with the support of automatic batching as well. This is the DataLoader class present within the torch.utils.\n",
    "    data package. <br>\n",
    " <b> Batch size </b>is a hyperparameter that defines the number of samples to work through before updating the internal model parameters. <br>\n",
    " <b> Shuffle </b> Whether you want the data to be reshuffled or not. <br>\n",
    " <b> num_workers </b> Number of sub-processes needed for loading the data. <br>\n",
    " </div>"
   ]
  },
  {
   "cell_type": "code",
   "execution_count": 19,
   "metadata": {},
   "outputs": [],
   "source": [
    "batch_size = 64\n",
    "train_dl = DataLoader(mnist_trainset, batch_size=batch_size, shuffle=True, num_workers=0)\n",
    "valid_dl = DataLoader(mnist_validset, batch_size=batch_size, shuffle=True, num_workers=0)"
   ]
  },
  {
   "cell_type": "code",
   "execution_count": 20,
   "metadata": {},
   "outputs": [
    {
     "data": {
      "text/plain": [
       "<torch.utils.data.dataloader.DataLoader at 0x7ff81de536d0>"
      ]
     },
     "execution_count": 20,
     "metadata": {},
     "output_type": "execute_result"
    }
   ],
   "source": [
    "train_dl"
   ]
  },
  {
   "cell_type": "code",
   "execution_count": 21,
   "metadata": {},
   "outputs": [],
   "source": [
    "batch_x, batch_y = next(iter(valid_dl)) # get one batch from the validation dataset"
   ]
  },
  {
   "cell_type": "markdown",
   "metadata": {},
   "source": [
    "Notice the dimensions of `x` and `y`"
   ]
  },
  {
   "cell_type": "code",
   "execution_count": 22,
   "metadata": {},
   "outputs": [
    {
     "name": "stdout",
     "output_type": "stream",
     "text": [
      "torch.Size([64, 1, 28, 28])\n",
      "torch.Size([64])\n"
     ]
    }
   ],
   "source": [
    "print(batch_x.shape)\n",
    "print(batch_y.shape)"
   ]
  },
  {
   "cell_type": "code",
   "execution_count": 23,
   "metadata": {},
   "outputs": [
    {
     "data": {
      "image/png": "[encoded data removed]",
      "text/plain": [
       "<Figure size 432x288 with 1 Axes>"
      ]
     },
     "metadata": {
      "needs_background": "light"
     },
     "output_type": "display_data"
    }
   ],
   "source": [
    "show_image(batch_x[0][0], str(batch_y[0].item()))"
   ]
  },
  {
   "cell_type": "markdown",
   "metadata": {},
   "source": [
    "# Model 1: Linear Model\n",
    "\n",
    "The linear model will take input images consisting of $28\\times 28 = 784$ pixels and will output class prediction between 0 and 9.\n",
    "\n",
    "The (sinlge) linear layer of the model will consist of 10 neurons, one per class. As input, each neuron will receive a weighted sum of the 794 pixel intensities."
   ]
  },
  {
   "cell_type": "code",
   "execution_count": 99,
   "metadata": {},
   "outputs": [
    {
     "data": {
      "image/svg+xml": [
       "<?xml version=\"1.0\" encoding=\"UTF-8\" standalone=\"no\"?>\n",
       "<!DOCTYPE svg PUBLIC \"-//W3C//DTD SVG 1.1//EN\"\n",
       " \"http://www.w3.org/Graphics/SVG/1.1/DTD/svg11.dtd\">\n",
       "<!-- Generated by graphviz version 2.44.1 (20200629.0846)\n",
       " -->\n",
       "<!-- Title: G Pages: 1 -->\n",
       "<svg width=\"916pt\" height=\"99pt\"\n",
       " viewBox=\"0.00 0.00 916.00 99.00\" xmlns=\"http://www.w3.org/2000/svg\" xmlns:xlink=\"http://www.w3.org/1999/xlink\">\n",
       "<g id=\"graph0\" class=\"graph\" transform=\"scale(1 1) rotate(0) translate(4 95)\">\n",
       "<title>G</title>\n",
       "<polygon fill=\"white\" stroke=\"transparent\" points=\"-4,4 -4,-95 912,-95 912,4 -4,4\"/>\n",
       "<g id=\"clust1\" class=\"cluster\">\n",
       "<title>cluster_n5f89f865fb5f4370bb2a670bef3402f3</title>\n",
       "<g id=\"a_clust1\"><a xlink:title=\"iteration step\">\n",
       "<path fill=\"#555555\" fill-opacity=\"0.133333\" stroke=\"black\" d=\"M20,-8C20,-8 888,-8 888,-8 894,-8 900,-14 900,-20 900,-20 900,-71 900,-71 900,-77 894,-83 888,-83 888,-83 20,-83 20,-83 14,-83 8,-77 8,-71 8,-71 8,-20 8,-20 8,-14 14,-8 20,-8\"/>\n",
       "<text text-anchor=\"middle\" x=\"454\" y=\"-67.8\" font-family=\"Times,serif\" font-size=\"14.00\">iteration step</text>\n",
       "</a>\n",
       "</g>\n",
       "</g>\n",
       "<!-- n537464004732402b98cab312f93ff6a8 -->\n",
       "<g id=\"node1\" class=\"node\">\n",
       "<title>n537464004732402b98cab312f93ff6a8</title>\n",
       "<g id=\"a_node1\"><a xlink:title=\"batch\">\n",
       "<path fill=\"#ff8947\" fill-opacity=\"0.741176\" stroke=\"black\" d=\"M58,-52C58,-52 28,-52 28,-52 22,-52 16,-46 16,-40 16,-40 16,-28 16,-28 16,-22 22,-16 28,-16 28,-16 58,-16 58,-16 64,-16 70,-22 70,-28 70,-28 70,-40 70,-40 70,-46 64,-52 58,-52\"/>\n",
       "<text text-anchor=\"middle\" x=\"43\" y=\"-30.3\" font-family=\"Times,serif\" font-size=\"14.00\">batch</text>\n",
       "</a>\n",
       "</g>\n",
       "</g>\n",
       "<!-- n005bd6e769c2476bbf40955c83b88498 -->\n",
       "<g id=\"node2\" class=\"node\">\n",
       "<title>n005bd6e769c2476bbf40955c83b88498</title>\n",
       "<g id=\"a_node2\"><a xlink:title=\"reshape_(28*28)\">\n",
       "<path fill=\"#ff592d\" fill-opacity=\"0.415686\" stroke=\"black\" d=\"M201,-52C201,-52 118,-52 118,-52 112,-52 106,-46 106,-40 106,-40 106,-28 106,-28 106,-22 112,-16 118,-16 118,-16 201,-16 201,-16 207,-16 213,-22 213,-28 213,-28 213,-40 213,-40 213,-46 207,-52 201,-52\"/>\n",
       "<text text-anchor=\"middle\" x=\"159.5\" y=\"-30.3\" font-family=\"Times,serif\" font-size=\"14.00\">reshape_(28*28)</text>\n",
       "</a>\n",
       "</g>\n",
       "</g>\n",
       "<!-- n537464004732402b98cab312f93ff6a8&#45;&gt;n005bd6e769c2476bbf40955c83b88498 -->\n",
       "<g id=\"edge1\" class=\"edge\">\n",
       "<title>n537464004732402b98cab312f93ff6a8&#45;&gt;n005bd6e769c2476bbf40955c83b88498</title>\n",
       "<path fill=\"none\" stroke=\"black\" d=\"M70.27,-34C77.94,-34 86.68,-34 95.61,-34\"/>\n",
       "<polygon fill=\"black\" stroke=\"black\" points=\"95.71,-37.5 105.71,-34 95.71,-30.5 95.71,-37.5\"/>\n",
       "</g>\n",
       "<!-- n9946c5bb8d46432a8b5469be62fbfa80 -->\n",
       "<g id=\"node3\" class=\"node\">\n",
       "<title>n9946c5bb8d46432a8b5469be62fbfa80</title>\n",
       "<g id=\"a_node3\"><a xlink:title=\"model\">\n",
       "<path fill=\"#22d6e0\" fill-opacity=\"0.741176\" stroke=\"black\" d=\"M291,-52C291,-52 261,-52 261,-52 255,-52 249,-46 249,-40 249,-40 249,-28 249,-28 249,-22 255,-16 261,-16 261,-16 291,-16 291,-16 297,-16 303,-22 303,-28 303,-28 303,-40 303,-40 303,-46 297,-52 291,-52\"/>\n",
       "<text text-anchor=\"middle\" x=\"276\" y=\"-30.3\" font-family=\"Times,serif\" font-size=\"14.00\">model</text>\n",
       "</a>\n",
       "</g>\n",
       "</g>\n",
       "<!-- n005bd6e769c2476bbf40955c83b88498&#45;&gt;n9946c5bb8d46432a8b5469be62fbfa80 -->\n",
       "<g id=\"edge2\" class=\"edge\">\n",
       "<title>n005bd6e769c2476bbf40955c83b88498&#45;&gt;n9946c5bb8d46432a8b5469be62fbfa80</title>\n",
       "<path fill=\"none\" stroke=\"black\" d=\"M213.06,-34C221.72,-34 230.53,-34 238.69,-34\"/>\n",
       "<polygon fill=\"black\" stroke=\"black\" points=\"238.96,-37.5 248.96,-34 238.96,-30.5 238.96,-37.5\"/>\n",
       "</g>\n",
       "<!-- n9c1e34084933405cb4bfc91542bbbab2 -->\n",
       "<g id=\"node4\" class=\"node\">\n",
       "<title>n9c1e34084933405cb4bfc91542bbbab2</title>\n",
       "<g id=\"a_node4\"><a xlink:title=\"predict\">\n",
       "<path fill=\"#09a9ee\" fill-opacity=\"0.576471\" stroke=\"black\" d=\"M381,-52C381,-52 351,-52 351,-52 345,-52 339,-46 339,-40 339,-40 339,-28 339,-28 339,-22 345,-16 351,-16 351,-16 381,-16 381,-16 387,-16 393,-22 393,-28 393,-28 393,-40 393,-40 393,-46 387,-52 381,-52\"/>\n",
       "<text text-anchor=\"middle\" x=\"366\" y=\"-30.3\" font-family=\"Times,serif\" font-size=\"14.00\">predict</text>\n",
       "</a>\n",
       "</g>\n",
       "</g>\n",
       "<!-- n9946c5bb8d46432a8b5469be62fbfa80&#45;&gt;n9c1e34084933405cb4bfc91542bbbab2 -->\n",
       "<g id=\"edge3\" class=\"edge\">\n",
       "<title>n9946c5bb8d46432a8b5469be62fbfa80&#45;&gt;n9c1e34084933405cb4bfc91542bbbab2</title>\n",
       "<path fill=\"none\" stroke=\"black\" d=\"M303.4,-34C311.39,-34 320.31,-34 328.82,-34\"/>\n",
       "<polygon fill=\"black\" stroke=\"black\" points=\"328.92,-37.5 338.92,-34 328.92,-30.5 328.92,-37.5\"/>\n",
       "</g>\n",
       "<!-- n08df20b5137746f08016eb9c8cc1e74e -->\n",
       "<g id=\"node5\" class=\"node\">\n",
       "<title>n08df20b5137746f08016eb9c8cc1e74e</title>\n",
       "<g id=\"a_node5\"><a xlink:title=\"calculate loss\">\n",
       "<path fill=\"#ff7b40\" fill-opacity=\"0.588235\" stroke=\"black\" d=\"M506,-52C506,-52 441,-52 441,-52 435,-52 429,-46 429,-40 429,-40 429,-28 429,-28 429,-22 435,-16 441,-16 441,-16 506,-16 506,-16 512,-16 518,-22 518,-28 518,-28 518,-40 518,-40 518,-46 512,-52 506,-52\"/>\n",
       "<text text-anchor=\"middle\" x=\"473.5\" y=\"-30.3\" font-family=\"Times,serif\" font-size=\"14.00\">calculate loss</text>\n",
       "</a>\n",
       "</g>\n",
       "</g>\n",
       "<!-- n9c1e34084933405cb4bfc91542bbbab2&#45;&gt;n08df20b5137746f08016eb9c8cc1e74e -->\n",
       "<g id=\"edge4\" class=\"edge\">\n",
       "<title>n9c1e34084933405cb4bfc91542bbbab2&#45;&gt;n08df20b5137746f08016eb9c8cc1e74e</title>\n",
       "<path fill=\"none\" stroke=\"black\" d=\"M393.08,-34C400.88,-34 409.74,-34 418.64,-34\"/>\n",
       "<polygon fill=\"black\" stroke=\"black\" points=\"418.66,-37.5 428.66,-34 418.66,-30.5 418.66,-37.5\"/>\n",
       "</g>\n",
       "<!-- n315a22b71f444a6da5547de14f42f164 -->\n",
       "<g id=\"node6\" class=\"node\">\n",
       "<title>n315a22b71f444a6da5547de14f42f164</title>\n",
       "<g id=\"a_node6\"><a xlink:title=\"calculate gradient\">\n",
       "<path fill=\"#7216ff\" fill-opacity=\"0.529412\" stroke=\"black\" d=\"M655,-52C655,-52 566,-52 566,-52 560,-52 554,-46 554,-40 554,-40 554,-28 554,-28 554,-22 560,-16 566,-16 566,-16 655,-16 655,-16 661,-16 667,-22 667,-28 667,-28 667,-40 667,-40 667,-46 661,-52 655,-52\"/>\n",
       "<text text-anchor=\"middle\" x=\"610.5\" y=\"-30.3\" font-family=\"Times,serif\" font-size=\"14.00\">calculate gradient</text>\n",
       "</a>\n",
       "</g>\n",
       "</g>\n",
       "<!-- n08df20b5137746f08016eb9c8cc1e74e&#45;&gt;n315a22b71f444a6da5547de14f42f164 -->\n",
       "<g id=\"edge5\" class=\"edge\">\n",
       "<title>n08df20b5137746f08016eb9c8cc1e74e&#45;&gt;n315a22b71f444a6da5547de14f42f164</title>\n",
       "<path fill=\"none\" stroke=\"black\" d=\"M518.33,-34C526.41,-34 535.01,-34 543.57,-34\"/>\n",
       "<polygon fill=\"black\" stroke=\"black\" points=\"543.57,-37.5 553.57,-34 543.57,-30.5 543.57,-37.5\"/>\n",
       "</g>\n",
       "<!-- nd7435613691b49558011a74dbf6160e3 -->\n",
       "<g id=\"node7\" class=\"node\">\n",
       "<title>nd7435613691b49558011a74dbf6160e3</title>\n",
       "<g id=\"a_node7\"><a xlink:title=\"take step\">\n",
       "<path fill=\"#86ffb0\" fill-opacity=\"0.545098\" stroke=\"black\" d=\"M756,-52C756,-52 715,-52 715,-52 709,-52 703,-46 703,-40 703,-40 703,-28 703,-28 703,-22 709,-16 715,-16 715,-16 756,-16 756,-16 762,-16 768,-22 768,-28 768,-28 768,-40 768,-40 768,-46 762,-52 756,-52\"/>\n",
       "<text text-anchor=\"middle\" x=\"735.5\" y=\"-30.3\" font-family=\"Times,serif\" font-size=\"14.00\">take step</text>\n",
       "</a>\n",
       "</g>\n",
       "</g>\n",
       "<!-- n315a22b71f444a6da5547de14f42f164&#45;&gt;nd7435613691b49558011a74dbf6160e3 -->\n",
       "<g id=\"edge6\" class=\"edge\">\n",
       "<title>n315a22b71f444a6da5547de14f42f164&#45;&gt;nd7435613691b49558011a74dbf6160e3</title>\n",
       "<path fill=\"none\" stroke=\"black\" d=\"M667.24,-34C675.82,-34 684.55,-34 692.76,-34\"/>\n",
       "<polygon fill=\"black\" stroke=\"black\" points=\"692.82,-37.5 702.82,-34 692.82,-30.5 692.82,-37.5\"/>\n",
       "</g>\n",
       "<!-- n0bd10591d3b8429c9fbffe4ed32bab33 -->\n",
       "<g id=\"node8\" class=\"node\">\n",
       "<title>n0bd10591d3b8429c9fbffe4ed32bab33</title>\n",
       "<g id=\"a_node8\"><a xlink:title=\"zero gradient\">\n",
       "<path fill=\"#20d5e1\" fill-opacity=\"0.737255\" stroke=\"black\" d=\"M880,-52C880,-52 816,-52 816,-52 810,-52 804,-46 804,-40 804,-40 804,-28 804,-28 804,-22 810,-16 816,-16 816,-16 880,-16 880,-16 886,-16 892,-22 892,-28 892,-28 892,-40 892,-40 892,-46 886,-52 880,-52\"/>\n",
       "<text text-anchor=\"middle\" x=\"848\" y=\"-30.3\" font-family=\"Times,serif\" font-size=\"14.00\">zero gradient</text>\n",
       "</a>\n",
       "</g>\n",
       "</g>\n",
       "<!-- nd7435613691b49558011a74dbf6160e3&#45;&gt;n0bd10591d3b8429c9fbffe4ed32bab33 -->\n",
       "<g id=\"edge7\" class=\"edge\">\n",
       "<title>nd7435613691b49558011a74dbf6160e3&#45;&gt;n0bd10591d3b8429c9fbffe4ed32bab33</title>\n",
       "<path fill=\"none\" stroke=\"black\" d=\"M768.16,-34C776.14,-34 784.92,-34 793.64,-34\"/>\n",
       "<polygon fill=\"black\" stroke=\"black\" points=\"793.8,-37.5 803.8,-34 793.8,-30.5 793.8,-37.5\"/>\n",
       "</g>\n",
       "</g>\n",
       "</svg>\n"
      ],
      "text/plain": [
       "<pydot.Dot at 0x7ff802480910>"
      ]
     },
     "execution_count": 99,
     "metadata": {},
     "output_type": "execute_result"
    }
   ],
   "source": [
    "#hide\n",
    "layers = ['batch','reshape_(28*28)', 'model', 'predict', 'calculate loss', 'calculate gradient', 'take step', 'zero gradient']\n",
    "block  = 'iteration step'\n",
    "g = graph_items(seq_cluster(layers, block))\n",
    "g"
   ]
  },
  {
   "cell_type": "code",
   "execution_count": 100,
   "metadata": {},
   "outputs": [],
   "source": [
    "input_size = 28 * 28 # 784, number of pixels in image\n",
    "num_classes = 10 # 10 classes of images\n",
    "model = nn.Linear(in_features=input_size, out_features=num_classes)"
   ]
  },
  {
   "cell_type": "code",
   "execution_count": 101,
   "metadata": {},
   "outputs": [
    {
     "data": {
      "text/plain": [
       "Linear(in_features=784, out_features=10, bias=True)"
      ]
     },
     "execution_count": 101,
     "metadata": {},
     "output_type": "execute_result"
    }
   ],
   "source": [
    "model # print summary of the model"
   ]
  },
  {
   "cell_type": "code",
   "execution_count": 102,
   "metadata": {},
   "outputs": [
    {
     "data": {
      "text/plain": [
       "Parameter containing:\n",
       "tensor([[-0.0274, -0.0146, -0.0039,  ..., -0.0219,  0.0343, -0.0230],\n",
       "        [ 0.0060,  0.0215,  0.0145,  ...,  0.0283,  0.0158, -0.0174],\n",
       "        [ 0.0325, -0.0307,  0.0232,  ..., -0.0348, -0.0052, -0.0294],\n",
       "        ...,\n",
       "        [ 0.0051,  0.0034,  0.0271,  ..., -0.0039, -0.0060,  0.0237],\n",
       "        [ 0.0027, -0.0211, -0.0086,  ...,  0.0354,  0.0140, -0.0204],\n",
       "        [ 0.0067, -0.0184, -0.0267,  ...,  0.0098,  0.0276,  0.0069]],\n",
       "       requires_grad=True)"
      ]
     },
     "execution_count": 102,
     "metadata": {},
     "output_type": "execute_result"
    }
   ],
   "source": [
    "model.weight"
   ]
  },
  {
   "cell_type": "markdown",
   "metadata": {},
   "source": [
    "Every neuron sees a weighted sum of all 784 pixels, so the number of weights per neuron in our linear layer is 784"
   ]
  },
  {
   "cell_type": "code",
   "execution_count": 103,
   "metadata": {},
   "outputs": [
    {
     "data": {
      "text/plain": [
       "torch.Size([10, 784])"
      ]
     },
     "execution_count": 103,
     "metadata": {},
     "output_type": "execute_result"
    }
   ],
   "source": [
    "model.weight.shape # (number of neurons, number of pixels)"
   ]
  },
  {
   "cell_type": "code",
   "execution_count": 104,
   "metadata": {},
   "outputs": [
    {
     "data": {
      "text/plain": [
       "torch.Size([10])"
      ]
     },
     "execution_count": 104,
     "metadata": {},
     "output_type": "execute_result"
    }
   ],
   "source": [
    "model.bias.shape # (number of neurons (or classes))"
   ]
  },
  {
   "cell_type": "code",
   "execution_count": 105,
   "metadata": {},
   "outputs": [
    {
     "data": {
      "text/plain": [
       "Linear(in_features=784, out_features=10, bias=True)"
      ]
     },
     "execution_count": 105,
     "metadata": {},
     "output_type": "execute_result"
    }
   ],
   "source": [
    "model.eval() # switch to evaluation mode"
   ]
  },
  {
   "cell_type": "code",
   "execution_count": 106,
   "metadata": {},
   "outputs": [],
   "source": [
    "batch_x, batch_y = next(iter(valid_dl)) # get one batch from the validation dataset"
   ]
  },
  {
   "cell_type": "code",
   "execution_count": 107,
   "metadata": {},
   "outputs": [
    {
     "name": "stdout",
     "output_type": "stream",
     "text": [
      "torch.Size([64, 1, 28, 28])\n",
      "torch.Size([64])\n"
     ]
    }
   ],
   "source": [
    "print(batch_x.shape)\n",
    "print(batch_y.shape)"
   ]
  },
  {
   "cell_type": "markdown",
   "metadata": {},
   "source": [
    "Let's try passing data batch to the model (..will throw an error becaue the data is of wrong shape)"
   ]
  },
  {
   "cell_type": "code",
   "execution_count": 108,
   "metadata": {},
   "outputs": [
    {
     "ename": "RuntimeError",
     "evalue": "mat1 and mat2 shapes cannot be multiplied (1792x28 and 784x10)",
     "output_type": "error",
     "traceback": [
      "\u001b[0;31m---------------------------------------------------------------------------\u001b[0m",
      "\u001b[0;31mRuntimeError\u001b[0m                              Traceback (most recent call last)",
      "\u001b[0;32m<ipython-input-108-fd95bac618b0>\u001b[0m in \u001b[0;36m<module>\u001b[0;34m\u001b[0m\n\u001b[1;32m      1\u001b[0m \u001b[0;32mwith\u001b[0m \u001b[0mtorch\u001b[0m\u001b[0;34m.\u001b[0m\u001b[0mno_grad\u001b[0m\u001b[0;34m(\u001b[0m\u001b[0;34m)\u001b[0m\u001b[0;34m:\u001b[0m \u001b[0;31m# DO WE NEED no_grad? THE MODEL IS IN EVALUATION MODE ANYWAY\u001b[0m\u001b[0;34m\u001b[0m\u001b[0;34m\u001b[0m\u001b[0m\n\u001b[0;32m----> 2\u001b[0;31m     \u001b[0my_hat\u001b[0m \u001b[0;34m=\u001b[0m \u001b[0mmodel\u001b[0m\u001b[0;34m(\u001b[0m\u001b[0mbatch_x\u001b[0m\u001b[0;34m)\u001b[0m\u001b[0;34m\u001b[0m\u001b[0;34m\u001b[0m\u001b[0m\n\u001b[0m",
      "\u001b[0;32m/opt/anaconda3/envs/py38/lib/python3.8/site-packages/torch/nn/modules/module.py\u001b[0m in \u001b[0;36m_call_impl\u001b[0;34m(self, *input, **kwargs)\u001b[0m\n\u001b[1;32m    725\u001b[0m             \u001b[0mresult\u001b[0m \u001b[0;34m=\u001b[0m \u001b[0mself\u001b[0m\u001b[0;34m.\u001b[0m\u001b[0m_slow_forward\u001b[0m\u001b[0;34m(\u001b[0m\u001b[0;34m*\u001b[0m\u001b[0minput\u001b[0m\u001b[0;34m,\u001b[0m \u001b[0;34m**\u001b[0m\u001b[0mkwargs\u001b[0m\u001b[0;34m)\u001b[0m\u001b[0;34m\u001b[0m\u001b[0;34m\u001b[0m\u001b[0m\n\u001b[1;32m    726\u001b[0m         \u001b[0;32melse\u001b[0m\u001b[0;34m:\u001b[0m\u001b[0;34m\u001b[0m\u001b[0;34m\u001b[0m\u001b[0m\n\u001b[0;32m--> 727\u001b[0;31m             \u001b[0mresult\u001b[0m \u001b[0;34m=\u001b[0m \u001b[0mself\u001b[0m\u001b[0;34m.\u001b[0m\u001b[0mforward\u001b[0m\u001b[0;34m(\u001b[0m\u001b[0;34m*\u001b[0m\u001b[0minput\u001b[0m\u001b[0;34m,\u001b[0m \u001b[0;34m**\u001b[0m\u001b[0mkwargs\u001b[0m\u001b[0;34m)\u001b[0m\u001b[0;34m\u001b[0m\u001b[0;34m\u001b[0m\u001b[0m\n\u001b[0m\u001b[1;32m    728\u001b[0m         for hook in itertools.chain(\n\u001b[1;32m    729\u001b[0m                 \u001b[0m_global_forward_hooks\u001b[0m\u001b[0;34m.\u001b[0m\u001b[0mvalues\u001b[0m\u001b[0;34m(\u001b[0m\u001b[0;34m)\u001b[0m\u001b[0;34m,\u001b[0m\u001b[0;34m\u001b[0m\u001b[0;34m\u001b[0m\u001b[0m\n",
      "\u001b[0;32m/opt/anaconda3/envs/py38/lib/python3.8/site-packages/torch/nn/modules/linear.py\u001b[0m in \u001b[0;36mforward\u001b[0;34m(self, input)\u001b[0m\n\u001b[1;32m     91\u001b[0m \u001b[0;34m\u001b[0m\u001b[0m\n\u001b[1;32m     92\u001b[0m     \u001b[0;32mdef\u001b[0m \u001b[0mforward\u001b[0m\u001b[0;34m(\u001b[0m\u001b[0mself\u001b[0m\u001b[0;34m,\u001b[0m \u001b[0minput\u001b[0m\u001b[0;34m:\u001b[0m \u001b[0mTensor\u001b[0m\u001b[0;34m)\u001b[0m \u001b[0;34m->\u001b[0m \u001b[0mTensor\u001b[0m\u001b[0;34m:\u001b[0m\u001b[0;34m\u001b[0m\u001b[0;34m\u001b[0m\u001b[0m\n\u001b[0;32m---> 93\u001b[0;31m         \u001b[0;32mreturn\u001b[0m \u001b[0mF\u001b[0m\u001b[0;34m.\u001b[0m\u001b[0mlinear\u001b[0m\u001b[0;34m(\u001b[0m\u001b[0minput\u001b[0m\u001b[0;34m,\u001b[0m \u001b[0mself\u001b[0m\u001b[0;34m.\u001b[0m\u001b[0mweight\u001b[0m\u001b[0;34m,\u001b[0m \u001b[0mself\u001b[0m\u001b[0;34m.\u001b[0m\u001b[0mbias\u001b[0m\u001b[0;34m)\u001b[0m\u001b[0;34m\u001b[0m\u001b[0;34m\u001b[0m\u001b[0m\n\u001b[0m\u001b[1;32m     94\u001b[0m \u001b[0;34m\u001b[0m\u001b[0m\n\u001b[1;32m     95\u001b[0m     \u001b[0;32mdef\u001b[0m \u001b[0mextra_repr\u001b[0m\u001b[0;34m(\u001b[0m\u001b[0mself\u001b[0m\u001b[0;34m)\u001b[0m \u001b[0;34m->\u001b[0m \u001b[0mstr\u001b[0m\u001b[0;34m:\u001b[0m\u001b[0;34m\u001b[0m\u001b[0;34m\u001b[0m\u001b[0m\n",
      "\u001b[0;32m/opt/anaconda3/envs/py38/lib/python3.8/site-packages/torch/nn/functional.py\u001b[0m in \u001b[0;36mlinear\u001b[0;34m(input, weight, bias)\u001b[0m\n\u001b[1;32m   1690\u001b[0m         \u001b[0mret\u001b[0m \u001b[0;34m=\u001b[0m \u001b[0mtorch\u001b[0m\u001b[0;34m.\u001b[0m\u001b[0maddmm\u001b[0m\u001b[0;34m(\u001b[0m\u001b[0mbias\u001b[0m\u001b[0;34m,\u001b[0m \u001b[0minput\u001b[0m\u001b[0;34m,\u001b[0m \u001b[0mweight\u001b[0m\u001b[0;34m.\u001b[0m\u001b[0mt\u001b[0m\u001b[0;34m(\u001b[0m\u001b[0;34m)\u001b[0m\u001b[0;34m)\u001b[0m\u001b[0;34m\u001b[0m\u001b[0;34m\u001b[0m\u001b[0m\n\u001b[1;32m   1691\u001b[0m     \u001b[0;32melse\u001b[0m\u001b[0;34m:\u001b[0m\u001b[0;34m\u001b[0m\u001b[0;34m\u001b[0m\u001b[0m\n\u001b[0;32m-> 1692\u001b[0;31m         \u001b[0moutput\u001b[0m \u001b[0;34m=\u001b[0m \u001b[0minput\u001b[0m\u001b[0;34m.\u001b[0m\u001b[0mmatmul\u001b[0m\u001b[0;34m(\u001b[0m\u001b[0mweight\u001b[0m\u001b[0;34m.\u001b[0m\u001b[0mt\u001b[0m\u001b[0;34m(\u001b[0m\u001b[0;34m)\u001b[0m\u001b[0;34m)\u001b[0m\u001b[0;34m\u001b[0m\u001b[0;34m\u001b[0m\u001b[0m\n\u001b[0m\u001b[1;32m   1693\u001b[0m         \u001b[0;32mif\u001b[0m \u001b[0mbias\u001b[0m \u001b[0;32mis\u001b[0m \u001b[0;32mnot\u001b[0m \u001b[0;32mNone\u001b[0m\u001b[0;34m:\u001b[0m\u001b[0;34m\u001b[0m\u001b[0;34m\u001b[0m\u001b[0m\n\u001b[1;32m   1694\u001b[0m             \u001b[0moutput\u001b[0m \u001b[0;34m+=\u001b[0m \u001b[0mbias\u001b[0m\u001b[0;34m\u001b[0m\u001b[0;34m\u001b[0m\u001b[0m\n",
      "\u001b[0;31mRuntimeError\u001b[0m: mat1 and mat2 shapes cannot be multiplied (1792x28 and 784x10)"
     ]
    }
   ],
   "source": [
    "with torch.no_grad(): # DO WE NEED no_grad? THE MODEL IS IN EVALUATION MODE ANYWAY\n",
    "    y_hat = model(batch_x)"
   ]
  },
  {
   "cell_type": "code",
   "execution_count": 109,
   "metadata": {},
   "outputs": [
    {
     "data": {
      "text/plain": [
       "torch.Size([64, 784])"
      ]
     },
     "execution_count": 109,
     "metadata": {},
     "output_type": "execute_result"
    }
   ],
   "source": [
    "batch_x = batch_x.view(-1, 28*28) # -1 means infer this dimension automatically\n",
    "batch_x.shape # (batch, number of pixels)"
   ]
  },
  {
   "cell_type": "markdown",
   "metadata": {},
   "source": [
    "Now we can feed data to the model safely"
   ]
  },
  {
   "cell_type": "code",
   "execution_count": 110,
   "metadata": {},
   "outputs": [],
   "source": [
    "# forward pass\n",
    "y_hat = model(batch_x)"
   ]
  },
  {
   "cell_type": "code",
   "execution_count": 111,
   "metadata": {},
   "outputs": [
    {
     "data": {
      "text/plain": [
       "torch.Size([64, 10])"
      ]
     },
     "execution_count": 111,
     "metadata": {},
     "output_type": "execute_result"
    }
   ],
   "source": [
    "# prediction (batch, number of classes)\n",
    "y_hat.shape"
   ]
  },
  {
   "cell_type": "code",
   "execution_count": 112,
   "metadata": {},
   "outputs": [
    {
     "data": {
      "text/plain": [
       "torch.Size([64, 784])"
      ]
     },
     "execution_count": 112,
     "metadata": {},
     "output_type": "execute_result"
    }
   ],
   "source": [
    "batch_x.shape # (batch, number of pixels)"
   ]
  },
  {
   "cell_type": "markdown",
   "metadata": {},
   "source": [
    "## Loss\n",
    "\n",
    "To calculate the loss, we will use the cross-entropy loss, $L = -\\sum_i y_i \\log  \\hat{y}_i$, where the sum is over the batch.\n",
    "\n",
    "This loss is typically used in classification problems. \n",
    "\n",
    "Note that the output of our model and the ground true labels are not probabilities yet. The `nn.CrossEntropyLoss` class will transform them to probabilities internally by applying `nn.LogSoftmax()` to them."
   ]
  },
  {
   "cell_type": "code",
   "execution_count": 113,
   "metadata": {},
   "outputs": [],
   "source": [
    "loss_fn = nn.CrossEntropyLoss()"
   ]
  },
  {
   "cell_type": "code",
   "execution_count": 114,
   "metadata": {},
   "outputs": [],
   "source": [
    "loss = loss_fn(y_hat, batch_y)"
   ]
  },
  {
   "cell_type": "code",
   "execution_count": 115,
   "metadata": {},
   "outputs": [
    {
     "data": {
      "text/plain": [
       "tensor(2.3274, grad_fn=<NllLossBackward>)"
      ]
     },
     "execution_count": 115,
     "metadata": {},
     "output_type": "execute_result"
    }
   ],
   "source": [
    "loss"
   ]
  },
  {
   "cell_type": "code",
   "execution_count": 116,
   "metadata": {},
   "outputs": [],
   "source": [
    "# calculate the gradient in backward pass\n",
    "loss.backward()"
   ]
  },
  {
   "cell_type": "markdown",
   "metadata": {},
   "source": [
    "Let's put everything together (and also initialize the optimizer)"
   ]
  },
  {
   "cell_type": "code",
   "execution_count": 117,
   "metadata": {},
   "outputs": [],
   "source": [
    "input_size = 28 * 28 # 784\n",
    "num_classes = 10\n",
    "\n",
    "num_epochs = 5\n",
    "batch_size = 100\n",
    "learning_rate = 0.01\n",
    "\n",
    "# Logistic regression model\n",
    "model = nn.Linear(in_features=input_size, out_features=num_classes, bias=True)\n",
    "\n",
    "# Loss and optimizer\n",
    "loss_fn = nn.CrossEntropyLoss() # applies softmax internally\n",
    "optimizer = torch.optim.SGD(model.parameters(), lr=learning_rate)"
   ]
  },
  {
   "cell_type": "markdown",
   "metadata": {},
   "source": [
    "<div class=\"alert alert-block alert-info\">\n",
    "<b> Epoch </b>  is when an ENTIRE dataset is passed forward and backward through the neural network only ONCE. <br>\n",
    "<b> Iterations </b> is the number of batches needed to complete one epoch.<br>\n",
    "    \n",
    "Let’s say we have <b>5000</b> training examples that we are going to use. We can divide the dataset of <b>5000</b> examples into batches of <b>500</b> then it will take <b>10 iterations</b> to complete <b>1 epoch</b>\n",
    "</div>\n",
    "\n"
   ]
  },
  {
   "cell_type": "markdown",
   "metadata": {},
   "source": [
    "# Train the model\n",
    "\n",
    "We are ready to train the model!"
   ]
  },
  {
   "cell_type": "code",
   "execution_count": 43,
   "metadata": {},
   "outputs": [
    {
     "name": "stdout",
     "output_type": "stream",
     "text": [
      "Epoch [1/5], Step [100/938], Loss: 1.5764\n",
      "Epoch [1/5], Step [200/938], Loss: 1.2022\n",
      "Epoch [1/5], Step [300/938], Loss: 0.9651\n",
      "Epoch [1/5], Step [400/938], Loss: 0.7446\n",
      "Epoch [1/5], Step [500/938], Loss: 0.8855\n",
      "Epoch [1/5], Step [600/938], Loss: 0.5798\n",
      "Epoch [1/5], Step [700/938], Loss: 0.6920\n",
      "Epoch [1/5], Step [800/938], Loss: 0.7250\n",
      "Epoch [1/5], Step [900/938], Loss: 0.6398\n",
      "Epoch [2/5], Step [100/938], Loss: 0.5465\n",
      "Epoch [2/5], Step [200/938], Loss: 0.5791\n",
      "Epoch [2/5], Step [300/938], Loss: 0.6699\n",
      "Epoch [2/5], Step [400/938], Loss: 0.5421\n",
      "Epoch [2/5], Step [500/938], Loss: 0.4953\n",
      "Epoch [2/5], Step [600/938], Loss: 0.4715\n",
      "Epoch [2/5], Step [700/938], Loss: 0.5419\n",
      "Epoch [2/5], Step [800/938], Loss: 0.6420\n",
      "Epoch [2/5], Step [900/938], Loss: 0.8033\n",
      "Epoch [3/5], Step [100/938], Loss: 0.5963\n",
      "Epoch [3/5], Step [200/938], Loss: 0.3431\n",
      "Epoch [3/5], Step [300/938], Loss: 0.6330\n",
      "Epoch [3/5], Step [400/938], Loss: 0.5317\n",
      "Epoch [3/5], Step [500/938], Loss: 0.4691\n",
      "Epoch [3/5], Step [600/938], Loss: 0.4815\n",
      "Epoch [3/5], Step [700/938], Loss: 0.5212\n",
      "Epoch [3/5], Step [800/938], Loss: 0.5515\n",
      "Epoch [3/5], Step [900/938], Loss: 0.4388\n",
      "Epoch [4/5], Step [100/938], Loss: 0.2842\n",
      "Epoch [4/5], Step [200/938], Loss: 0.4576\n",
      "Epoch [4/5], Step [300/938], Loss: 0.4314\n",
      "Epoch [4/5], Step [400/938], Loss: 0.5402\n",
      "Epoch [4/5], Step [500/938], Loss: 0.4419\n",
      "Epoch [4/5], Step [600/938], Loss: 0.4511\n",
      "Epoch [4/5], Step [700/938], Loss: 0.6148\n",
      "Epoch [4/5], Step [800/938], Loss: 0.4080\n",
      "Epoch [4/5], Step [900/938], Loss: 0.4661\n",
      "Epoch [5/5], Step [100/938], Loss: 0.4631\n",
      "Epoch [5/5], Step [200/938], Loss: 0.3703\n",
      "Epoch [5/5], Step [300/938], Loss: 0.3439\n",
      "Epoch [5/5], Step [400/938], Loss: 0.3198\n",
      "Epoch [5/5], Step [500/938], Loss: 0.4461\n",
      "Epoch [5/5], Step [600/938], Loss: 0.2975\n",
      "Epoch [5/5], Step [700/938], Loss: 0.5098\n",
      "Epoch [5/5], Step [800/938], Loss: 0.5071\n",
      "Epoch [5/5], Step [900/938], Loss: 0.2951\n"
     ]
    }
   ],
   "source": [
    "losses = [] # here we will collect the loss history\n",
    "n_steps = len(train_dl) # number of iterations in one epoch\n",
    "\n",
    "# Training loop\n",
    "for epoch in range(num_epochs):\n",
    "    for i, (images, labels) in enumerate(train_dl): # iterate over training data\n",
    "        \n",
    "        # Reshape images to (batch_size, input_size)\n",
    "        images = images.reshape(-1, input_size)\n",
    "        \n",
    "        # Forward pass\n",
    "        outputs = model(images)\n",
    "        loss = loss_fn(outputs, labels)\n",
    "        \n",
    "        # Backward pass\n",
    "        optimizer.zero_grad()\n",
    "        loss.backward()\n",
    "        losses.append(loss.item())\n",
    "        \n",
    "        # Parameter update\n",
    "        optimizer.step()\n",
    "        \n",
    "        if (i+1) % 100 == 0:\n",
    "            print ('Epoch [{}/{}], Step [{}/{}], Loss: {:.4f}' \n",
    "                   .format(epoch+1, num_epochs, i+1, n_steps, loss.item()))\n"
   ]
  },
  {
   "cell_type": "markdown",
   "metadata": {},
   "source": [
    "# Test the model\n",
    "\n",
    "Let's test the model on the validation part of the dataset.\n",
    "\n",
    "In test phase, we don't need to compute gradients (for memory and time efficiency).\n",
    "\n",
    "Let's use the `no_grad()` context."
   ]
  },
  {
   "cell_type": "code",
   "execution_count": 44,
   "metadata": {},
   "outputs": [
    {
     "name": "stdout",
     "output_type": "stream",
     "text": [
      "Accuracy of the model on the 10000 test images: 90.02999877929688 %\n"
     ]
    }
   ],
   "source": [
    "with torch.no_grad():\n",
    "    \n",
    "    correct = 0.\n",
    "    total = 0\n",
    "    \n",
    "    for images, labels in valid_dl: # iterate over validation data\n",
    "        \n",
    "        # Reshape images to (batch_size, input_size)\n",
    "        images = images.reshape(-1, input_size)\n",
    "        \n",
    "        # Forward pass\n",
    "        outputs = model(images)\n",
    "        \n",
    "        # Out of 10 output values per image, let's pick the largest one as the most probable class\n",
    "        _, predicted = torch.max(outputs.data, 1)\n",
    "        \n",
    "        total += labels.size(0) # total number of data examples\n",
    "        correct += (predicted == labels).sum() # correct predictions\n",
    "\n",
    "    print('Accuracy of the model on the 10000 test images: {} %'.format(100 * correct / total))"
   ]
  },
  {
   "cell_type": "markdown",
   "metadata": {},
   "source": [
    "Not a bad accuracy for such a simple model!"
   ]
  },
  {
   "cell_type": "code",
   "execution_count": 45,
   "metadata": {},
   "outputs": [
    {
     "data": {
      "text/plain": [
       "Text(0, 0.5, 'Classification training loss')"
      ]
     },
     "execution_count": 45,
     "metadata": {},
     "output_type": "execute_result"
    },
    {
     "data": {
      "image/png": "[encoded data removed]",
      "text/plain": [
       "<Figure size 432x288 with 1 Axes>"
      ]
     },
     "metadata": {
      "needs_background": "light"
     },
     "output_type": "display_data"
    }
   ],
   "source": [
    "plt.plot(losses)\n",
    "plt.xlabel('Training iteration')\n",
    "plt.ylabel('Classification training loss')"
   ]
  },
  {
   "cell_type": "markdown",
   "metadata": {},
   "source": [
    "Let's get some actual predictions"
   ]
  },
  {
   "cell_type": "code",
   "execution_count": 46,
   "metadata": {},
   "outputs": [],
   "source": [
    "images, labels = next(iter(valid_dl)) # get one batch from validation dataset\n",
    "\n",
    "with torch.no_grad():\n",
    "    \n",
    "    # Reshape images to (batch_size, input_size)\n",
    "    images = images.reshape(-1, input_size)\n",
    "    \n",
    "    # Forward pass\n",
    "    outputs = model(images)\n",
    "    _, predicted = torch.max(outputs.data, 1)"
   ]
  },
  {
   "cell_type": "markdown",
   "metadata": {},
   "source": [
    "Predicted classes for the batch"
   ]
  },
  {
   "cell_type": "code",
   "execution_count": 47,
   "metadata": {},
   "outputs": [
    {
     "data": {
      "text/plain": [
       "tensor([1, 9, 2, 1, 1, 5, 5, 1, 6, 2, 1, 5, 9, 4, 1, 6, 6, 2, 5, 9, 2, 7, 2, 1,\n",
       "        6, 5, 8, 5, 9, 9, 5, 1, 8, 1, 1, 9, 9, 1, 1, 5, 0, 2, 4, 9, 6, 5, 3, 0,\n",
       "        3, 8, 1, 6, 6, 4, 1, 9, 2, 9, 6, 4, 2, 9, 0, 8])"
      ]
     },
     "execution_count": 47,
     "metadata": {},
     "output_type": "execute_result"
    }
   ],
   "source": [
    "predicted"
   ]
  },
  {
   "cell_type": "markdown",
   "metadata": {},
   "source": [
    "True classes for the batch"
   ]
  },
  {
   "cell_type": "code",
   "execution_count": 48,
   "metadata": {},
   "outputs": [
    {
     "data": {
      "text/plain": [
       "tensor([1, 9, 2, 1, 1, 5, 9, 1, 6, 2, 1, 5, 9, 4, 1, 6, 3, 2, 5, 7, 2, 7, 2, 1,\n",
       "        6, 5, 8, 5, 7, 9, 8, 1, 8, 1, 1, 9, 9, 1, 1, 3, 0, 2, 4, 9, 2, 5, 3, 0,\n",
       "        3, 8, 1, 6, 6, 4, 1, 9, 2, 9, 6, 4, 2, 9, 0, 8])"
      ]
     },
     "execution_count": 48,
     "metadata": {},
     "output_type": "execute_result"
    }
   ],
   "source": [
    "labels"
   ]
  },
  {
   "cell_type": "code",
   "execution_count": 49,
   "metadata": {},
   "outputs": [
    {
     "data": {
      "text/plain": [
       "tensor([ True,  True,  True,  True,  True,  True, False,  True,  True,  True,\n",
       "         True,  True,  True,  True,  True,  True, False,  True,  True, False,\n",
       "         True,  True,  True,  True,  True,  True,  True,  True, False,  True,\n",
       "        False,  True,  True,  True,  True,  True,  True,  True,  True, False,\n",
       "         True,  True,  True,  True, False,  True,  True,  True,  True,  True,\n",
       "         True,  True,  True,  True,  True,  True,  True,  True,  True,  True,\n",
       "         True,  True,  True,  True])"
      ]
     },
     "execution_count": 49,
     "metadata": {},
     "output_type": "execute_result"
    }
   ],
   "source": [
    "predicted == labels"
   ]
  },
  {
   "cell_type": "markdown",
   "metadata": {},
   "source": [
    "Let's plot the images in the batch. First we'll have to convert them back to 28x28 square shape."
   ]
  },
  {
   "cell_type": "code",
   "execution_count": 50,
   "metadata": {},
   "outputs": [
    {
     "data": {
      "text/plain": [
       "torch.Size([64, 784])"
      ]
     },
     "execution_count": 50,
     "metadata": {},
     "output_type": "execute_result"
    }
   ],
   "source": [
    "images.shape # (batch, pixels)"
   ]
  },
  {
   "cell_type": "code",
   "execution_count": 51,
   "metadata": {},
   "outputs": [
    {
     "data": {
      "text/plain": [
       "torch.Size([64, 28, 28])"
      ]
     },
     "execution_count": 51,
     "metadata": {},
     "output_type": "execute_result"
    }
   ],
   "source": [
    "#convert back to square \n",
    "images = images.reshape(-1, 28, 28)\n",
    "images.shape # (batch, 28, 28)"
   ]
  },
  {
   "cell_type": "code",
   "execution_count": 136,
   "metadata": {},
   "outputs": [],
   "source": [
    "def evaluate(index):\n",
    "    show_image(images[index], title=f'True :{labels[index]} / Predicted:{predicted[index]}')\n",
    "    plt.pause(0.1)"
   ]
  },
  {
   "cell_type": "code",
   "execution_count": 137,
   "metadata": {},
   "outputs": [
    {
     "data": {
      "image/png": "[encoded data removed]",
      "text/plain": [
       "<Figure size 432x288 with 1 Axes>"
      ]
     },
     "metadata": {
      "needs_background": "light"
     },
     "output_type": "display_data"
    }
   ],
   "source": [
    "evaluate(index=3)"
   ]
  },
  {
   "cell_type": "markdown",
   "metadata": {},
   "source": [
    "Find misclassifications in the batch"
   ]
  },
  {
   "cell_type": "code",
   "execution_count": 54,
   "metadata": {},
   "outputs": [
    {
     "name": "stderr",
     "output_type": "stream",
     "text": [
      "<ipython-input-54-63c918f4769f>:1: UserWarning: This overload of nonzero is deprecated:\n",
      "\tnonzero()\n",
      "Consider using one of the following signatures instead:\n",
      "\tnonzero(*, bool as_tuple) (Triggered internally at  ../torch/csrc/utils/python_arg_parser.cpp:882.)\n",
      "  model_errors = (labels != predicted).nonzero();\n"
     ]
    },
    {
     "data": {
      "text/plain": [
       "tensor([[ 6],\n",
       "        [16],\n",
       "        [19],\n",
       "        [28],\n",
       "        [30],\n",
       "        [39],\n",
       "        [44]])"
      ]
     },
     "execution_count": 54,
     "metadata": {},
     "output_type": "execute_result"
    }
   ],
   "source": [
    "model_errors = (labels != predicted).nonzero(); \n",
    "model_errors"
   ]
  },
  {
   "cell_type": "code",
   "execution_count": 55,
   "metadata": {
    "scrolled": false
   },
   "outputs": [
    {
     "data": {
      "image/png": "[encoded data removed]",
      "text/plain": [
       "<Figure size 432x288 with 1 Axes>"
      ]
     },
     "metadata": {
      "needs_background": "light"
     },
     "output_type": "display_data"
    },
    {
     "data": {
      "image/png": "[encoded data removed]",
      "text/plain": [
       "<Figure size 432x288 with 1 Axes>"
      ]
     },
     "metadata": {
      "needs_background": "light"
     },
     "output_type": "display_data"
    },
    {
     "data": {
      "image/png": "[encoded data removed]",
      "text/plain": [
       "<Figure size 432x288 with 1 Axes>"
      ]
     },
     "metadata": {
      "needs_background": "light"
     },
     "output_type": "display_data"
    },
    {
     "data": {
      "image/png": "[encoded data removed]",
      "text/plain": [
       "<Figure size 432x288 with 1 Axes>"
      ]
     },
     "metadata": {
      "needs_background": "light"
     },
     "output_type": "display_data"
    },
    {
     "data": {
      "image/png": "[encoded data removed]",
      "text/plain": [
       "<Figure size 432x288 with 1 Axes>"
      ]
     },
     "metadata": {
      "needs_background": "light"
     },
     "output_type": "display_data"
    },
    {
     "data": {
      "image/png": "[encoded data removed]",
      "text/plain": [
       "<Figure size 432x288 with 1 Axes>"
      ]
     },
     "metadata": {
      "needs_background": "light"
     },
     "output_type": "display_data"
    },
    {
     "data": {
      "image/png": "[encoded data removed]",
      "text/plain": [
       "<Figure size 432x288 with 1 Axes>"
      ]
     },
     "metadata": {
      "needs_background": "light"
     },
     "output_type": "display_data"
    }
   ],
   "source": [
    "for i in model_errors:\n",
    "    evaluate(i.item())"
   ]
  },
  {
   "cell_type": "markdown",
   "metadata": {},
   "source": [
    "# Model 2: Multilayer Perceptron\n",
    "\n",
    "### Combining layers and adding non-linearlity\n",
    "<div class=\"alert alert-block alert-info\">\n",
    "So far we have been using the linear relation $y = mx + b$ (and linear layers). If we just make a neural network by combining such linear layers, we will keep getting linear combinations of equations and the function obtained would still be a polynomial of degree 1. <br>\n",
    "\n",
    "To be able to model more complex non-linear relations between inputs and outputs, we'll introduce non-linear activation functions applied to the output of the linear relations we've seen before. In part, this is similar to how real neurons get activated in the brain. <br>\n",
    "\n",
    "This helps model non-linearities and create complex non-linear functions which are not possible to modeled using only polynomial functions of low order. Without the activation, the output value $y$ is unrestricted and can range from $-\\infty$ to $+\\infty$. The activation functions help us restrict the output value of a neuron so that it can be decided whether it will get activated (will fire) or not. Once this non-linearity is added, the result is sent as an input to the next layer (if there is any) in the network. <br>\n",
    "</div>\n",
    "\n",
    "Pytorch contains many different activation functions, such as `nn.ReLU`, `nn.Sigmoid`, `nn.Tanh`, `nn.Softplus` and many more\n",
    "\n",
    "https://adityashrm21.github.io/Why-Rectified-Linear-Units-Work/\n",
    "\n",
    "\n",
    "https://playground.tensorflow.org/"
   ]
  },
  {
   "cell_type": "markdown",
   "metadata": {},
   "source": [
    "## Model class\n",
    "\n",
    "### Let's solve the same digit classification task with a multi-layer non-linear model.\n",
    "\n",
    "As our model is getting more complicated, we will combine its building blocks in a separate class. \n",
    "\n",
    "The model will consist of three subsequent `nn.Linear` layers.\n",
    "\n",
    "The class will also contain the `forward` method to perform forward pass where we will apply the `relu` non-linearity to the outputs of the first two linear layers."
   ]
  },
  {
   "cell_type": "code",
   "execution_count": 135,
   "metadata": {},
   "outputs": [
    {
     "data": {
      "image/svg+xml": [
       "<?xml version=\"1.0\" encoding=\"UTF-8\" standalone=\"no\"?>\n",
       "<!DOCTYPE svg PUBLIC \"-//W3C//DTD SVG 1.1//EN\"\n",
       " \"http://www.w3.org/Graphics/SVG/1.1/DTD/svg11.dtd\">\n",
       "<!-- Generated by graphviz version 2.44.1 (20200629.0846)\n",
       " -->\n",
       "<!-- Title: G Pages: 1 -->\n",
       "<svg width=\"658pt\" height=\"99pt\"\n",
       " viewBox=\"0.00 0.00 658.00 99.00\" xmlns=\"http://www.w3.org/2000/svg\" xmlns:xlink=\"http://www.w3.org/1999/xlink\">\n",
       "<g id=\"graph0\" class=\"graph\" transform=\"scale(1 1) rotate(0) translate(4 95)\">\n",
       "<title>G</title>\n",
       "<polygon fill=\"white\" stroke=\"transparent\" points=\"-4,4 -4,-95 654,-95 654,4 -4,4\"/>\n",
       "<g id=\"clust1\" class=\"cluster\">\n",
       "<title>cluster_n504d0771f6c14b9280ae79e253430144</title>\n",
       "<g id=\"a_clust1\"><a xlink:title=\"Input\">\n",
       "<path fill=\"#555555\" fill-opacity=\"0.133333\" stroke=\"black\" d=\"M20,-8C20,-8 66,-8 66,-8 72,-8 78,-14 78,-20 78,-20 78,-71 78,-71 78,-77 72,-83 66,-83 66,-83 20,-83 20,-83 14,-83 8,-77 8,-71 8,-71 8,-20 8,-20 8,-14 14,-8 20,-8\"/>\n",
       "<text text-anchor=\"middle\" x=\"43\" y=\"-67.8\" font-family=\"Times,serif\" font-size=\"14.00\">Input</text>\n",
       "</a>\n",
       "</g>\n",
       "</g>\n",
       "<g id=\"clust2\" class=\"cluster\">\n",
       "<title>cluster_n1d502e0b72bf44a496e356a704229d8c</title>\n",
       "<g id=\"a_clust2\"><a xlink:title=\"Model\">\n",
       "<path fill=\"#555555\" fill-opacity=\"0.133333\" stroke=\"black\" d=\"M110,-8C110,-8 540,-8 540,-8 546,-8 552,-14 552,-20 552,-20 552,-71 552,-71 552,-77 546,-83 540,-83 540,-83 110,-83 110,-83 104,-83 98,-77 98,-71 98,-71 98,-20 98,-20 98,-14 104,-8 110,-8\"/>\n",
       "<text text-anchor=\"middle\" x=\"325\" y=\"-67.8\" font-family=\"Times,serif\" font-size=\"14.00\">Model</text>\n",
       "</a>\n",
       "</g>\n",
       "</g>\n",
       "<g id=\"clust3\" class=\"cluster\">\n",
       "<title>cluster_n9ed0b6fe11dc4e13a8388c49775a2474</title>\n",
       "<g id=\"a_clust3\"><a xlink:title=\"Output\">\n",
       "<path fill=\"#555555\" fill-opacity=\"0.133333\" stroke=\"black\" d=\"M584,-8C584,-8 630,-8 630,-8 636,-8 642,-14 642,-20 642,-20 642,-71 642,-71 642,-77 636,-83 630,-83 630,-83 584,-83 584,-83 578,-83 572,-77 572,-71 572,-71 572,-20 572,-20 572,-14 578,-8 584,-8\"/>\n",
       "<text text-anchor=\"middle\" x=\"607\" y=\"-67.8\" font-family=\"Times,serif\" font-size=\"14.00\">Output</text>\n",
       "</a>\n",
       "</g>\n",
       "</g>\n",
       "<!-- nb53d68d4a7dc4a9388424140c34da63c -->\n",
       "<g id=\"node1\" class=\"node\">\n",
       "<title>nb53d68d4a7dc4a9388424140c34da63c</title>\n",
       "<g id=\"a_node1\"><a xlink:title=\"Image\">\n",
       "<path fill=\"#64fbc3\" fill-opacity=\"0.352941\" stroke=\"black\" d=\"M58,-52C58,-52 28,-52 28,-52 22,-52 16,-46 16,-40 16,-40 16,-28 16,-28 16,-22 22,-16 28,-16 28,-16 58,-16 58,-16 64,-16 70,-22 70,-28 70,-28 70,-40 70,-40 70,-46 64,-52 58,-52\"/>\n",
       "<text text-anchor=\"middle\" x=\"43\" y=\"-30.3\" font-family=\"Times,serif\" font-size=\"14.00\">Image</text>\n",
       "</a>\n",
       "</g>\n",
       "</g>\n",
       "<!-- ne0435dbf6f2947e9b34529d482b7e9ec -->\n",
       "<g id=\"node2\" class=\"node\">\n",
       "<title>ne0435dbf6f2947e9b34529d482b7e9ec</title>\n",
       "<g id=\"a_node2\"><a xlink:title=\"Linear 1\">\n",
       "<path fill=\"#ff160b\" fill-opacity=\"0.454902\" stroke=\"black\" d=\"M156,-52C156,-52 118,-52 118,-52 112,-52 106,-46 106,-40 106,-40 106,-28 106,-28 106,-22 112,-16 118,-16 118,-16 156,-16 156,-16 162,-16 168,-22 168,-28 168,-28 168,-40 168,-40 168,-46 162,-52 156,-52\"/>\n",
       "<text text-anchor=\"middle\" x=\"137\" y=\"-30.3\" font-family=\"Times,serif\" font-size=\"14.00\">Linear 1</text>\n",
       "</a>\n",
       "</g>\n",
       "</g>\n",
       "<!-- nb53d68d4a7dc4a9388424140c34da63c&#45;&gt;ne0435dbf6f2947e9b34529d482b7e9ec -->\n",
       "<g id=\"edge5\" class=\"edge\">\n",
       "<title>nb53d68d4a7dc4a9388424140c34da63c&#45;&gt;ne0435dbf6f2947e9b34529d482b7e9ec</title>\n",
       "<path fill=\"none\" stroke=\"black\" d=\"M78,-34C83.82,-34 89.92,-34 95.88,-34\"/>\n",
       "<polygon fill=\"black\" stroke=\"black\" points=\"88,-37.5 98,-34 88,-30.5 88,-37.5\"/>\n",
       "</g>\n",
       "<!-- n424712e253254c27bb4db554bc40fa66 -->\n",
       "<g id=\"node3\" class=\"node\">\n",
       "<title>n424712e253254c27bb4db554bc40fa66</title>\n",
       "<g id=\"a_node3\"><a xlink:title=\"ReLU\">\n",
       "<path fill=\"#ff1f10\" fill-opacity=\"0.600000\" stroke=\"black\" d=\"M246,-52C246,-52 216,-52 216,-52 210,-52 204,-46 204,-40 204,-40 204,-28 204,-28 204,-22 210,-16 216,-16 216,-16 246,-16 246,-16 252,-16 258,-22 258,-28 258,-28 258,-40 258,-40 258,-46 252,-52 246,-52\"/>\n",
       "<text text-anchor=\"middle\" x=\"231\" y=\"-30.3\" font-family=\"Times,serif\" font-size=\"14.00\">ReLU</text>\n",
       "</a>\n",
       "</g>\n",
       "</g>\n",
       "<!-- ne0435dbf6f2947e9b34529d482b7e9ec&#45;&gt;n424712e253254c27bb4db554bc40fa66 -->\n",
       "<g id=\"edge1\" class=\"edge\">\n",
       "<title>ne0435dbf6f2947e9b34529d482b7e9ec&#45;&gt;n424712e253254c27bb4db554bc40fa66</title>\n",
       "<path fill=\"none\" stroke=\"black\" d=\"M168.12,-34C176.32,-34 185.28,-34 193.78,-34\"/>\n",
       "<polygon fill=\"black\" stroke=\"black\" points=\"193.83,-37.5 203.83,-34 193.83,-30.5 193.83,-37.5\"/>\n",
       "</g>\n",
       "<!-- nebfd8d0751c244bca0d398d6a9f0ea52 -->\n",
       "<g id=\"node4\" class=\"node\">\n",
       "<title>nebfd8d0751c244bca0d398d6a9f0ea52</title>\n",
       "<g id=\"a_node4\"><a xlink:title=\"Linear 2\">\n",
       "<path fill=\"#ff733b\" fill-opacity=\"0.458824\" stroke=\"black\" d=\"M344,-52C344,-52 306,-52 306,-52 300,-52 294,-46 294,-40 294,-40 294,-28 294,-28 294,-22 300,-16 306,-16 306,-16 344,-16 344,-16 350,-16 356,-22 356,-28 356,-28 356,-40 356,-40 356,-46 350,-52 344,-52\"/>\n",
       "<text text-anchor=\"middle\" x=\"325\" y=\"-30.3\" font-family=\"Times,serif\" font-size=\"14.00\">Linear 2</text>\n",
       "</a>\n",
       "</g>\n",
       "</g>\n",
       "<!-- n424712e253254c27bb4db554bc40fa66&#45;&gt;nebfd8d0751c244bca0d398d6a9f0ea52 -->\n",
       "<g id=\"edge2\" class=\"edge\">\n",
       "<title>n424712e253254c27bb4db554bc40fa66&#45;&gt;nebfd8d0751c244bca0d398d6a9f0ea52</title>\n",
       "<path fill=\"none\" stroke=\"black\" d=\"M258.12,-34C266.14,-34 275.15,-34 283.88,-34\"/>\n",
       "<polygon fill=\"black\" stroke=\"black\" points=\"283.92,-37.5 293.92,-34 283.92,-30.5 283.92,-37.5\"/>\n",
       "</g>\n",
       "<!-- n5adb25ddcb5449f98c75726383027cf8 -->\n",
       "<g id=\"node5\" class=\"node\">\n",
       "<title>n5adb25ddcb5449f98c75726383027cf8</title>\n",
       "<g id=\"a_node5\"><a xlink:title=\"ReLU\">\n",
       "<path fill=\"#ff1f10\" fill-opacity=\"0.600000\" stroke=\"black\" d=\"M434,-52C434,-52 404,-52 404,-52 398,-52 392,-46 392,-40 392,-40 392,-28 392,-28 392,-22 398,-16 404,-16 404,-16 434,-16 434,-16 440,-16 446,-22 446,-28 446,-28 446,-40 446,-40 446,-46 440,-52 434,-52\"/>\n",
       "<text text-anchor=\"middle\" x=\"419\" y=\"-30.3\" font-family=\"Times,serif\" font-size=\"14.00\">ReLU</text>\n",
       "</a>\n",
       "</g>\n",
       "</g>\n",
       "<!-- nebfd8d0751c244bca0d398d6a9f0ea52&#45;&gt;n5adb25ddcb5449f98c75726383027cf8 -->\n",
       "<g id=\"edge3\" class=\"edge\">\n",
       "<title>nebfd8d0751c244bca0d398d6a9f0ea52&#45;&gt;n5adb25ddcb5449f98c75726383027cf8</title>\n",
       "<path fill=\"none\" stroke=\"black\" d=\"M356.12,-34C364.32,-34 373.28,-34 381.78,-34\"/>\n",
       "<polygon fill=\"black\" stroke=\"black\" points=\"381.83,-37.5 391.83,-34 381.83,-30.5 381.83,-37.5\"/>\n",
       "</g>\n",
       "<!-- n825255b9dc0743c49f161dc1a13c7f78 -->\n",
       "<g id=\"node6\" class=\"node\">\n",
       "<title>n825255b9dc0743c49f161dc1a13c7f78</title>\n",
       "<g id=\"a_node6\"><a xlink:title=\"Linear 3\">\n",
       "<path fill=\"#f9bb66\" fill-opacity=\"0.439216\" stroke=\"black\" d=\"M532,-52C532,-52 494,-52 494,-52 488,-52 482,-46 482,-40 482,-40 482,-28 482,-28 482,-22 488,-16 494,-16 494,-16 532,-16 532,-16 538,-16 544,-22 544,-28 544,-28 544,-40 544,-40 544,-46 538,-52 532,-52\"/>\n",
       "<text text-anchor=\"middle\" x=\"513\" y=\"-30.3\" font-family=\"Times,serif\" font-size=\"14.00\">Linear 3</text>\n",
       "</a>\n",
       "</g>\n",
       "</g>\n",
       "<!-- n5adb25ddcb5449f98c75726383027cf8&#45;&gt;n825255b9dc0743c49f161dc1a13c7f78 -->\n",
       "<g id=\"edge4\" class=\"edge\">\n",
       "<title>n5adb25ddcb5449f98c75726383027cf8&#45;&gt;n825255b9dc0743c49f161dc1a13c7f78</title>\n",
       "<path fill=\"none\" stroke=\"black\" d=\"M446.12,-34C454.14,-34 463.15,-34 471.88,-34\"/>\n",
       "<polygon fill=\"black\" stroke=\"black\" points=\"471.92,-37.5 481.92,-34 471.92,-30.5 471.92,-37.5\"/>\n",
       "</g>\n",
       "<!-- n57e13f5668e04900afd12819beb887b5 -->\n",
       "<g id=\"node7\" class=\"node\">\n",
       "<title>n57e13f5668e04900afd12819beb887b5</title>\n",
       "<g id=\"a_node7\"><a xlink:title=\"Class\">\n",
       "<path fill=\"#bced8f\" fill-opacity=\"0.431373\" stroke=\"black\" d=\"M622,-52C622,-52 592,-52 592,-52 586,-52 580,-46 580,-40 580,-40 580,-28 580,-28 580,-22 586,-16 592,-16 592,-16 622,-16 622,-16 628,-16 634,-22 634,-28 634,-28 634,-40 634,-40 634,-46 628,-52 622,-52\"/>\n",
       "<text text-anchor=\"middle\" x=\"607\" y=\"-30.3\" font-family=\"Times,serif\" font-size=\"14.00\">Class</text>\n",
       "</a>\n",
       "</g>\n",
       "</g>\n",
       "<!-- n825255b9dc0743c49f161dc1a13c7f78&#45;&gt;n57e13f5668e04900afd12819beb887b5 -->\n",
       "<g id=\"edge6\" class=\"edge\">\n",
       "<title>n825255b9dc0743c49f161dc1a13c7f78&#45;&gt;n57e13f5668e04900afd12819beb887b5</title>\n",
       "<path fill=\"none\" stroke=\"black\" d=\"M552,-34C557.88,-34 563.94,-34 569.78,-34\"/>\n",
       "<polygon fill=\"black\" stroke=\"black\" points=\"562,-37.5 572,-34 562,-30.5 562,-37.5\"/>\n",
       "</g>\n",
       "</g>\n",
       "</svg>\n"
      ],
      "text/plain": [
       "<pydot.Dot at 0x7ff80401fbb0>"
      ]
     },
     "execution_count": 135,
     "metadata": {},
     "output_type": "execute_result"
    }
   ],
   "source": [
    "blocks  = ['Input', 'Model', 'Output']\n",
    "layers = [['Image'], ['Linear 1','ReLU', 'Linear 2', 'ReLU', 'Linear 3'], ['Class']]\n",
    "conns = ((blocks[0], blocks[1]),\n",
    "         (blocks[1], blocks[2]),\n",
    "        )\n",
    "g = graph_items(seq_cluster(layers[0], blocks[0]),\n",
    "                seq_cluster(layers[1], blocks[1]),\n",
    "                seq_cluster(layers[2], blocks[2]),\n",
    "               )\n",
    "g.add_items(*object_connections(conns))\n",
    "g"
   ]
  },
  {
   "cell_type": "code",
   "execution_count": 56,
   "metadata": {},
   "outputs": [],
   "source": [
    "class MLP(nn.Module):\n",
    "    \n",
    "    def __init__(self):\n",
    "        super().__init__()\n",
    "        self.linear1 = nn.Linear(in_features=784, out_features=250)\n",
    "        self.linear2 = nn.Linear(in_features=250, out_features=100)\n",
    "        self.linear3 = nn.Linear(in_features=100, out_features=10)\n",
    "    \n",
    "    def forward(self, x):\n",
    "        # reshaping inside \n",
    "        x = x.view(-1, 28 * 28)\n",
    "        x = F.relu(self.linear1(x))\n",
    "        x = F.relu(self.linear2(x))\n",
    "        x = self.linear3(x)\n",
    "        return x"
   ]
  },
  {
   "cell_type": "markdown",
   "metadata": {},
   "source": [
    "Let's initialize the model, the loss function, and the optimizer"
   ]
  },
  {
   "cell_type": "code",
   "execution_count": 57,
   "metadata": {},
   "outputs": [],
   "source": [
    "num_classes = 10\n",
    "num_epochs = 5\n",
    "batch_size = 100\n",
    "learning_rate = 0.11\n",
    "\n",
    "model = MLP() # instance of our custom class\n",
    "\n",
    "# Loss and optimizer\n",
    "loss_fn = nn.CrossEntropyLoss() # computes softmax internally\n",
    "optimizer = torch.optim.SGD(model.parameters(), lr=learning_rate)"
   ]
  },
  {
   "cell_type": "markdown",
   "metadata": {},
   "source": [
    "Print model configuration"
   ]
  },
  {
   "cell_type": "code",
   "execution_count": 58,
   "metadata": {},
   "outputs": [
    {
     "data": {
      "text/plain": [
       "MLP(\n",
       "  (linear1): Linear(in_features=784, out_features=250, bias=True)\n",
       "  (linear2): Linear(in_features=250, out_features=100, bias=True)\n",
       "  (linear3): Linear(in_features=100, out_features=10, bias=True)\n",
       ")"
      ]
     },
     "execution_count": 58,
     "metadata": {},
     "output_type": "execute_result"
    }
   ],
   "source": [
    "model"
   ]
  },
  {
   "cell_type": "code",
   "execution_count": 59,
   "metadata": {},
   "outputs": [
    {
     "data": {
      "text/plain": [
       "6"
      ]
     },
     "execution_count": 59,
     "metadata": {},
     "output_type": "execute_result"
    }
   ],
   "source": [
    "len(list(model.parameters())) # 6 groups of parameters, 2 groups per layer"
   ]
  },
  {
   "cell_type": "code",
   "execution_count": 60,
   "metadata": {},
   "outputs": [
    {
     "name": "stdout",
     "output_type": "stream",
     "text": [
      "linear1.weight torch.Size([250, 784])\n",
      "linear1.bias torch.Size([250])\n",
      "linear2.weight torch.Size([100, 250])\n",
      "linear2.bias torch.Size([100])\n",
      "linear3.weight torch.Size([10, 100])\n",
      "linear3.bias torch.Size([10])\n"
     ]
    }
   ],
   "source": [
    "for name, param in model.named_parameters():\n",
    "    print(name, param.shape)"
   ]
  },
  {
   "cell_type": "markdown",
   "metadata": {},
   "source": [
    "## Train the model"
   ]
  },
  {
   "cell_type": "code",
   "execution_count": 61,
   "metadata": {},
   "outputs": [],
   "source": [
    "def train_fit(model, loss_fn, train_dl, num_epoch, optimizer):\n",
    "    \n",
    "    losses = [] # here we will collect the loss history\n",
    "    n_steps = len(train_dl)\n",
    "    \n",
    "    model.train() # switch to training mode\n",
    "    \n",
    "    for epoch in range(num_epochs):\n",
    "        for i, (images, labels) in enumerate(train_dl):        \n",
    "            \n",
    "            # Forward pass\n",
    "            outputs = model(images)\n",
    "            loss = loss_fn(outputs, labels)\n",
    "            \n",
    "            # Backward and optimize\n",
    "            optimizer.zero_grad()\n",
    "            loss.backward()\n",
    "            losses.append(loss.item())\n",
    "            optimizer.step()\n",
    "            \n",
    "            if (i+1) % 100 == 0:\n",
    "                print ('Epoch [{}/{}], Step [{}/{}], Loss: {:.4f}' \n",
    "                       .format(epoch+1, num_epochs, i+1, n_steps, loss.item()))\n",
    "    return model, losses\n"
   ]
  },
  {
   "cell_type": "code",
   "execution_count": 62,
   "metadata": {},
   "outputs": [],
   "source": [
    "def valid_fit(model, valid_dl):\n",
    "    \n",
    "    model.eval() # switch to evaluation mode\n",
    "    \n",
    "    with torch.no_grad():\n",
    "        correct = 0.\n",
    "        total = 0\n",
    "        for images, labels in valid_dl:\n",
    "            outputs = model(images)\n",
    "            _, predicted = torch.max(outputs.data, 1)\n",
    "            total += labels.size(0)\n",
    "            correct += (predicted == labels).sum()\n",
    "\n",
    "        print('Accuracy of the model on the 10000 test images: {} %'.format(100 * correct / total))"
   ]
  },
  {
   "cell_type": "code",
   "execution_count": 63,
   "metadata": {},
   "outputs": [
    {
     "name": "stdout",
     "output_type": "stream",
     "text": [
      "Epoch [1/5], Step [100/938], Loss: 0.7051\n",
      "Epoch [1/5], Step [200/938], Loss: 0.3918\n",
      "Epoch [1/5], Step [300/938], Loss: 0.3827\n",
      "Epoch [1/5], Step [400/938], Loss: 0.5193\n",
      "Epoch [1/5], Step [500/938], Loss: 0.4516\n",
      "Epoch [1/5], Step [600/938], Loss: 0.2606\n",
      "Epoch [1/5], Step [700/938], Loss: 0.2004\n",
      "Epoch [1/5], Step [800/938], Loss: 0.1249\n",
      "Epoch [1/5], Step [900/938], Loss: 0.2377\n",
      "Epoch [2/5], Step [100/938], Loss: 0.2025\n",
      "Epoch [2/5], Step [200/938], Loss: 0.3148\n",
      "Epoch [2/5], Step [300/938], Loss: 0.1536\n",
      "Epoch [2/5], Step [400/938], Loss: 0.0969\n",
      "Epoch [2/5], Step [500/938], Loss: 0.1852\n",
      "Epoch [2/5], Step [600/938], Loss: 0.2262\n",
      "Epoch [2/5], Step [700/938], Loss: 0.1782\n",
      "Epoch [2/5], Step [800/938], Loss: 0.1550\n",
      "Epoch [2/5], Step [900/938], Loss: 0.2044\n",
      "Epoch [3/5], Step [100/938], Loss: 0.1931\n",
      "Epoch [3/5], Step [200/938], Loss: 0.2343\n",
      "Epoch [3/5], Step [300/938], Loss: 0.1424\n",
      "Epoch [3/5], Step [400/938], Loss: 0.0774\n",
      "Epoch [3/5], Step [500/938], Loss: 0.0792\n",
      "Epoch [3/5], Step [600/938], Loss: 0.1330\n",
      "Epoch [3/5], Step [700/938], Loss: 0.0375\n",
      "Epoch [3/5], Step [800/938], Loss: 0.1437\n",
      "Epoch [3/5], Step [900/938], Loss: 0.0182\n",
      "Epoch [4/5], Step [100/938], Loss: 0.1012\n",
      "Epoch [4/5], Step [200/938], Loss: 0.0625\n",
      "Epoch [4/5], Step [300/938], Loss: 0.0864\n",
      "Epoch [4/5], Step [400/938], Loss: 0.0472\n",
      "Epoch [4/5], Step [500/938], Loss: 0.0951\n",
      "Epoch [4/5], Step [600/938], Loss: 0.0861\n",
      "Epoch [4/5], Step [700/938], Loss: 0.0807\n",
      "Epoch [4/5], Step [800/938], Loss: 0.0329\n",
      "Epoch [4/5], Step [900/938], Loss: 0.1128\n",
      "Epoch [5/5], Step [100/938], Loss: 0.0287\n",
      "Epoch [5/5], Step [200/938], Loss: 0.0463\n",
      "Epoch [5/5], Step [300/938], Loss: 0.1033\n",
      "Epoch [5/5], Step [400/938], Loss: 0.0223\n",
      "Epoch [5/5], Step [500/938], Loss: 0.1029\n",
      "Epoch [5/5], Step [600/938], Loss: 0.0546\n",
      "Epoch [5/5], Step [700/938], Loss: 0.1008\n",
      "Epoch [5/5], Step [800/938], Loss: 0.1388\n",
      "Epoch [5/5], Step [900/938], Loss: 0.0231\n"
     ]
    }
   ],
   "source": [
    "model, losses = train_fit(model, loss_fn, train_dl, num_epochs, optimizer)"
   ]
  },
  {
   "cell_type": "code",
   "execution_count": 64,
   "metadata": {},
   "outputs": [
    {
     "data": {
      "image/png": "[encoded data removed]",
      "text/plain": [
       "<Figure size 432x288 with 1 Axes>"
      ]
     },
     "metadata": {
      "needs_background": "light"
     },
     "output_type": "display_data"
    }
   ],
   "source": [
    "plt.plot(losses)\n",
    "plt.yscale('log')\n",
    "plt.xlabel('Training iteration')\n",
    "plt.ylabel('Training loss')\n",
    "plt.grid()"
   ]
  },
  {
   "cell_type": "code",
   "execution_count": 65,
   "metadata": {},
   "outputs": [
    {
     "name": "stdout",
     "output_type": "stream",
     "text": [
      "Accuracy of the model on the 10000 test images: 97.68000030517578 %\n"
     ]
    }
   ],
   "source": [
    "valid_fit(model, valid_dl)"
   ]
  },
  {
   "cell_type": "markdown",
   "metadata": {},
   "source": [
    "Great!\n",
    "\n",
    "Now let's get some predictions"
   ]
  },
  {
   "cell_type": "code",
   "execution_count": 66,
   "metadata": {},
   "outputs": [],
   "source": [
    "images, labels = next(iter(valid_dl))\n",
    "with torch.no_grad():\n",
    "    images = images.reshape(-1, input_size)\n",
    "    outputs = model(images)\n",
    "    _, predicted = torch.max(outputs.data, 1)"
   ]
  },
  {
   "cell_type": "code",
   "execution_count": 67,
   "metadata": {},
   "outputs": [
    {
     "data": {
      "text/plain": [
       "torch.Size([64, 28, 28])"
      ]
     },
     "execution_count": 67,
     "metadata": {},
     "output_type": "execute_result"
    }
   ],
   "source": [
    "images = images.reshape(-1, 28, 28)\n",
    "images.shape"
   ]
  },
  {
   "cell_type": "code",
   "execution_count": 68,
   "metadata": {},
   "outputs": [
    {
     "data": {
      "image/png": "[encoded data removed]",
      "text/plain": [
       "<Figure size 432x288 with 1 Axes>"
      ]
     },
     "metadata": {
      "needs_background": "light"
     },
     "output_type": "display_data"
    }
   ],
   "source": [
    "evaluate(index=2)"
   ]
  },
  {
   "cell_type": "markdown",
   "metadata": {},
   "source": [
    "# Model 3: Convolutional Neural Network (CNN)\n",
    "<div class=\"alert alert-block alert-info\">\n",
    "<b>CNN</b> is a major improvement upon the simple (fully connected) multilayer perceptron for tasks where local information is important, and where translational invariance can be expected. Our image classification task is just like this! <br>\n",
    "</div>\n",
    "\n",
    "\n",
    "https://setosa.io/ev/image-kernels/\n",
    "\n",
    "https://towardsdatascience.com/history-of-convolutional-blocks-in-simple-code-96a7ddceac0c\n",
    "\n",
    "<div class=\"alert alert-block alert-info\">\n",
    "Our model will be constructed as a separate class <b>CNNModel</b>. It will contain three convolutional blocks followed by a <b>nn.Linear</b> layer. Conceptually, this architecture can be thought of as a convolutional feature extractor (the three convolutional blocks) followed by a simple linear classifier (the linear layer), just like the one we've used before. Each convolution block is also a separate class <b>ConvBlock</b>. It contains a convolutional <b>nn.Conv2d</b> layer, followed by a non-linear activation and by a pooling layer <b>nn.MaxPool2d<b>.\n",
    "</div>"
   ]
  },
  {
   "cell_type": "code",
   "execution_count": 131,
   "metadata": {},
   "outputs": [
    {
     "data": {
      "image/svg+xml": [
       "<?xml version=\"1.0\" encoding=\"UTF-8\" standalone=\"no\"?>\n",
       "<!DOCTYPE svg PUBLIC \"-//W3C//DTD SVG 1.1//EN\"\n",
       " \"http://www.w3.org/Graphics/SVG/1.1/DTD/svg11.dtd\">\n",
       "<!-- Generated by graphviz version 2.44.1 (20200629.0846)\n",
       " -->\n",
       "<!-- Title: G Pages: 1 -->\n",
       "<svg width=\"1084pt\" height=\"99pt\"\n",
       " viewBox=\"0.00 0.00 1084.00 99.00\" xmlns=\"http://www.w3.org/2000/svg\" xmlns:xlink=\"http://www.w3.org/1999/xlink\">\n",
       "<g id=\"graph0\" class=\"graph\" transform=\"scale(1 1) rotate(0) translate(4 95)\">\n",
       "<title>G</title>\n",
       "<polygon fill=\"white\" stroke=\"transparent\" points=\"-4,4 -4,-95 1080,-95 1080,4 -4,4\"/>\n",
       "<g id=\"clust1\" class=\"cluster\">\n",
       "<title>cluster_nd22dd7c4228f46b78a7b01a9ecfce3aa</title>\n",
       "<g id=\"a_clust1\"><a xlink:title=\"Input\">\n",
       "<path fill=\"#555555\" fill-opacity=\"0.133333\" stroke=\"black\" d=\"M20,-8C20,-8 66,-8 66,-8 72,-8 78,-14 78,-20 78,-20 78,-71 78,-71 78,-77 72,-83 66,-83 66,-83 20,-83 20,-83 14,-83 8,-77 8,-71 8,-71 8,-20 8,-20 8,-14 14,-8 20,-8\"/>\n",
       "<text text-anchor=\"middle\" x=\"43\" y=\"-67.8\" font-family=\"Times,serif\" font-size=\"14.00\">Input</text>\n",
       "</a>\n",
       "</g>\n",
       "</g>\n",
       "<g id=\"clust2\" class=\"cluster\">\n",
       "<title>cluster_n70749544ddbe470ea018ca6e98884b22</title>\n",
       "<g id=\"a_clust2\"><a xlink:title=\"Conv block 1\">\n",
       "<path fill=\"#555555\" fill-opacity=\"0.133333\" stroke=\"black\" d=\"M110,-8C110,-8 336,-8 336,-8 342,-8 348,-14 348,-20 348,-20 348,-71 348,-71 348,-77 342,-83 336,-83 336,-83 110,-83 110,-83 104,-83 98,-77 98,-71 98,-71 98,-20 98,-20 98,-14 104,-8 110,-8\"/>\n",
       "<text text-anchor=\"middle\" x=\"223\" y=\"-67.8\" font-family=\"Times,serif\" font-size=\"14.00\">Conv block 1</text>\n",
       "</a>\n",
       "</g>\n",
       "</g>\n",
       "<g id=\"clust3\" class=\"cluster\">\n",
       "<title>cluster_na9a15406472f4da989685fdd87c962c8</title>\n",
       "<g id=\"a_clust3\"><a xlink:title=\"Conv block 2\">\n",
       "<path fill=\"#555555\" fill-opacity=\"0.133333\" stroke=\"black\" d=\"M380,-8C380,-8 606,-8 606,-8 612,-8 618,-14 618,-20 618,-20 618,-71 618,-71 618,-77 612,-83 606,-83 606,-83 380,-83 380,-83 374,-83 368,-77 368,-71 368,-71 368,-20 368,-20 368,-14 374,-8 380,-8\"/>\n",
       "<text text-anchor=\"middle\" x=\"493\" y=\"-67.8\" font-family=\"Times,serif\" font-size=\"14.00\">Conv block 2</text>\n",
       "</a>\n",
       "</g>\n",
       "</g>\n",
       "<g id=\"clust4\" class=\"cluster\">\n",
       "<title>cluster_n4b69165017604135b33b9b164ad0a1b9</title>\n",
       "<g id=\"a_clust4\"><a xlink:title=\"Conv block 3\">\n",
       "<path fill=\"#555555\" fill-opacity=\"0.133333\" stroke=\"black\" d=\"M650,-8C650,-8 876,-8 876,-8 882,-8 888,-14 888,-20 888,-20 888,-71 888,-71 888,-77 882,-83 876,-83 876,-83 650,-83 650,-83 644,-83 638,-77 638,-71 638,-71 638,-20 638,-20 638,-14 644,-8 650,-8\"/>\n",
       "<text text-anchor=\"middle\" x=\"763\" y=\"-67.8\" font-family=\"Times,serif\" font-size=\"14.00\">Conv block 3</text>\n",
       "</a>\n",
       "</g>\n",
       "</g>\n",
       "<g id=\"clust5\" class=\"cluster\">\n",
       "<title>cluster_n67ea6677ca8c4e078d8527dffe473eec</title>\n",
       "<g id=\"a_clust5\"><a xlink:title=\"Linear\">\n",
       "<path fill=\"#555555\" fill-opacity=\"0.133333\" stroke=\"black\" d=\"M920,-8C920,-8 966,-8 966,-8 972,-8 978,-14 978,-20 978,-20 978,-71 978,-71 978,-77 972,-83 966,-83 966,-83 920,-83 920,-83 914,-83 908,-77 908,-71 908,-71 908,-20 908,-20 908,-14 914,-8 920,-8\"/>\n",
       "<text text-anchor=\"middle\" x=\"943\" y=\"-67.8\" font-family=\"Times,serif\" font-size=\"14.00\">Linear</text>\n",
       "</a>\n",
       "</g>\n",
       "</g>\n",
       "<g id=\"clust6\" class=\"cluster\">\n",
       "<title>cluster_n8924f25cb0a747e0b4fa2b68c9122f0f</title>\n",
       "<g id=\"a_clust6\"><a xlink:title=\"Output\">\n",
       "<path fill=\"#555555\" fill-opacity=\"0.133333\" stroke=\"black\" d=\"M1010,-8C1010,-8 1056,-8 1056,-8 1062,-8 1068,-14 1068,-20 1068,-20 1068,-71 1068,-71 1068,-77 1062,-83 1056,-83 1056,-83 1010,-83 1010,-83 1004,-83 998,-77 998,-71 998,-71 998,-20 998,-20 998,-14 1004,-8 1010,-8\"/>\n",
       "<text text-anchor=\"middle\" x=\"1033\" y=\"-67.8\" font-family=\"Times,serif\" font-size=\"14.00\">Output</text>\n",
       "</a>\n",
       "</g>\n",
       "</g>\n",
       "<!-- n40e8450281f942888eda01d1ac0df047 -->\n",
       "<g id=\"node1\" class=\"node\">\n",
       "<title>n40e8450281f942888eda01d1ac0df047</title>\n",
       "<g id=\"a_node1\"><a xlink:title=\"Image\">\n",
       "<path fill=\"#64fbc3\" fill-opacity=\"0.352941\" stroke=\"black\" d=\"M58,-52C58,-52 28,-52 28,-52 22,-52 16,-46 16,-40 16,-40 16,-28 16,-28 16,-22 22,-16 28,-16 28,-16 58,-16 58,-16 64,-16 70,-22 70,-28 70,-28 70,-40 70,-40 70,-46 64,-52 58,-52\"/>\n",
       "<text text-anchor=\"middle\" x=\"43\" y=\"-30.3\" font-family=\"Times,serif\" font-size=\"14.00\">Image</text>\n",
       "</a>\n",
       "</g>\n",
       "</g>\n",
       "<!-- ncf3d018077fc4630885014ad5fbec2e9 -->\n",
       "<g id=\"node2\" class=\"node\">\n",
       "<title>ncf3d018077fc4630885014ad5fbec2e9</title>\n",
       "<g id=\"a_node2\"><a xlink:title=\"Conv\">\n",
       "<path fill=\"#f0c46c\" fill-opacity=\"0.329412\" stroke=\"black\" d=\"M148,-52C148,-52 118,-52 118,-52 112,-52 106,-46 106,-40 106,-40 106,-28 106,-28 106,-22 112,-16 118,-16 118,-16 148,-16 148,-16 154,-16 160,-22 160,-28 160,-28 160,-40 160,-40 160,-46 154,-52 148,-52\"/>\n",
       "<text text-anchor=\"middle\" x=\"133\" y=\"-30.3\" font-family=\"Times,serif\" font-size=\"14.00\">Conv</text>\n",
       "</a>\n",
       "</g>\n",
       "</g>\n",
       "<!-- n40e8450281f942888eda01d1ac0df047&#45;&gt;ncf3d018077fc4630885014ad5fbec2e9 -->\n",
       "<g id=\"edge7\" class=\"edge\">\n",
       "<title>n40e8450281f942888eda01d1ac0df047&#45;&gt;ncf3d018077fc4630885014ad5fbec2e9</title>\n",
       "<path fill=\"none\" stroke=\"black\" d=\"M78,-34C83.84,-34 89.93,-34 95.82,-34\"/>\n",
       "<polygon fill=\"black\" stroke=\"black\" points=\"88,-37.5 98,-34 88,-30.5 88,-37.5\"/>\n",
       "</g>\n",
       "<!-- n6aa8d051364d452eb337e655de1aa991 -->\n",
       "<g id=\"node3\" class=\"node\">\n",
       "<title>n6aa8d051364d452eb337e655de1aa991</title>\n",
       "<g id=\"a_node3\"><a xlink:title=\"ReLU\">\n",
       "<path fill=\"#ff1f10\" fill-opacity=\"0.600000\" stroke=\"black\" d=\"M238,-52C238,-52 208,-52 208,-52 202,-52 196,-46 196,-40 196,-40 196,-28 196,-28 196,-22 202,-16 208,-16 208,-16 238,-16 238,-16 244,-16 250,-22 250,-28 250,-28 250,-40 250,-40 250,-46 244,-52 238,-52\"/>\n",
       "<text text-anchor=\"middle\" x=\"223\" y=\"-30.3\" font-family=\"Times,serif\" font-size=\"14.00\">ReLU</text>\n",
       "</a>\n",
       "</g>\n",
       "</g>\n",
       "<!-- ncf3d018077fc4630885014ad5fbec2e9&#45;&gt;n6aa8d051364d452eb337e655de1aa991 -->\n",
       "<g id=\"edge1\" class=\"edge\">\n",
       "<title>ncf3d018077fc4630885014ad5fbec2e9&#45;&gt;n6aa8d051364d452eb337e655de1aa991</title>\n",
       "<path fill=\"none\" stroke=\"black\" d=\"M160.4,-34C168.39,-34 177.31,-34 185.82,-34\"/>\n",
       "<polygon fill=\"black\" stroke=\"black\" points=\"185.92,-37.5 195.92,-34 185.92,-30.5 185.92,-37.5\"/>\n",
       "</g>\n",
       "<!-- n76170ea4383e4a17abf6ebb5bf4c4f51 -->\n",
       "<g id=\"node4\" class=\"node\">\n",
       "<title>n76170ea4383e4a17abf6ebb5bf4c4f51</title>\n",
       "<g id=\"a_node4\"><a xlink:title=\"Pool\">\n",
       "<path fill=\"#68fcc1\" fill-opacity=\"0.345098\" stroke=\"black\" d=\"M328,-52C328,-52 298,-52 298,-52 292,-52 286,-46 286,-40 286,-40 286,-28 286,-28 286,-22 292,-16 298,-16 298,-16 328,-16 328,-16 334,-16 340,-22 340,-28 340,-28 340,-40 340,-40 340,-46 334,-52 328,-52\"/>\n",
       "<text text-anchor=\"middle\" x=\"313\" y=\"-30.3\" font-family=\"Times,serif\" font-size=\"14.00\">Pool</text>\n",
       "</a>\n",
       "</g>\n",
       "</g>\n",
       "<!-- n6aa8d051364d452eb337e655de1aa991&#45;&gt;n76170ea4383e4a17abf6ebb5bf4c4f51 -->\n",
       "<g id=\"edge2\" class=\"edge\">\n",
       "<title>n6aa8d051364d452eb337e655de1aa991&#45;&gt;n76170ea4383e4a17abf6ebb5bf4c4f51</title>\n",
       "<path fill=\"none\" stroke=\"black\" d=\"M250.4,-34C258.39,-34 267.31,-34 275.82,-34\"/>\n",
       "<polygon fill=\"black\" stroke=\"black\" points=\"275.92,-37.5 285.92,-34 275.92,-30.5 275.92,-37.5\"/>\n",
       "</g>\n",
       "<!-- n6f5bab56f3434b539808ca5c12cf64b9 -->\n",
       "<g id=\"node5\" class=\"node\">\n",
       "<title>n6f5bab56f3434b539808ca5c12cf64b9</title>\n",
       "<g id=\"a_node5\"><a xlink:title=\"Conv\">\n",
       "<path fill=\"#f0c46c\" fill-opacity=\"0.329412\" stroke=\"black\" d=\"M418,-52C418,-52 388,-52 388,-52 382,-52 376,-46 376,-40 376,-40 376,-28 376,-28 376,-22 382,-16 388,-16 388,-16 418,-16 418,-16 424,-16 430,-22 430,-28 430,-28 430,-40 430,-40 430,-46 424,-52 418,-52\"/>\n",
       "<text text-anchor=\"middle\" x=\"403\" y=\"-30.3\" font-family=\"Times,serif\" font-size=\"14.00\">Conv</text>\n",
       "</a>\n",
       "</g>\n",
       "</g>\n",
       "<!-- n76170ea4383e4a17abf6ebb5bf4c4f51&#45;&gt;n6f5bab56f3434b539808ca5c12cf64b9 -->\n",
       "<g id=\"edge8\" class=\"edge\">\n",
       "<title>n76170ea4383e4a17abf6ebb5bf4c4f51&#45;&gt;n6f5bab56f3434b539808ca5c12cf64b9</title>\n",
       "<path fill=\"none\" stroke=\"black\" d=\"M348,-34C353.84,-34 359.93,-34 365.82,-34\"/>\n",
       "<polygon fill=\"black\" stroke=\"black\" points=\"358,-37.5 368,-34 358,-30.5 358,-37.5\"/>\n",
       "</g>\n",
       "<!-- nf0a139dd771f4d0d8be439c687de0cc9 -->\n",
       "<g id=\"node6\" class=\"node\">\n",
       "<title>nf0a139dd771f4d0d8be439c687de0cc9</title>\n",
       "<g id=\"a_node6\"><a xlink:title=\"ReLU\">\n",
       "<path fill=\"#ff1f10\" fill-opacity=\"0.600000\" stroke=\"black\" d=\"M508,-52C508,-52 478,-52 478,-52 472,-52 466,-46 466,-40 466,-40 466,-28 466,-28 466,-22 472,-16 478,-16 478,-16 508,-16 508,-16 514,-16 520,-22 520,-28 520,-28 520,-40 520,-40 520,-46 514,-52 508,-52\"/>\n",
       "<text text-anchor=\"middle\" x=\"493\" y=\"-30.3\" font-family=\"Times,serif\" font-size=\"14.00\">ReLU</text>\n",
       "</a>\n",
       "</g>\n",
       "</g>\n",
       "<!-- n6f5bab56f3434b539808ca5c12cf64b9&#45;&gt;nf0a139dd771f4d0d8be439c687de0cc9 -->\n",
       "<g id=\"edge3\" class=\"edge\">\n",
       "<title>n6f5bab56f3434b539808ca5c12cf64b9&#45;&gt;nf0a139dd771f4d0d8be439c687de0cc9</title>\n",
       "<path fill=\"none\" stroke=\"black\" d=\"M430.4,-34C438.39,-34 447.31,-34 455.82,-34\"/>\n",
       "<polygon fill=\"black\" stroke=\"black\" points=\"455.92,-37.5 465.92,-34 455.92,-30.5 455.92,-37.5\"/>\n",
       "</g>\n",
       "<!-- n5f2212d337984d7cb220d6c78769da80 -->\n",
       "<g id=\"node7\" class=\"node\">\n",
       "<title>n5f2212d337984d7cb220d6c78769da80</title>\n",
       "<g id=\"a_node7\"><a xlink:title=\"Pool\">\n",
       "<path fill=\"#68fcc1\" fill-opacity=\"0.345098\" stroke=\"black\" d=\"M598,-52C598,-52 568,-52 568,-52 562,-52 556,-46 556,-40 556,-40 556,-28 556,-28 556,-22 562,-16 568,-16 568,-16 598,-16 598,-16 604,-16 610,-22 610,-28 610,-28 610,-40 610,-40 610,-46 604,-52 598,-52\"/>\n",
       "<text text-anchor=\"middle\" x=\"583\" y=\"-30.3\" font-family=\"Times,serif\" font-size=\"14.00\">Pool</text>\n",
       "</a>\n",
       "</g>\n",
       "</g>\n",
       "<!-- nf0a139dd771f4d0d8be439c687de0cc9&#45;&gt;n5f2212d337984d7cb220d6c78769da80 -->\n",
       "<g id=\"edge4\" class=\"edge\">\n",
       "<title>nf0a139dd771f4d0d8be439c687de0cc9&#45;&gt;n5f2212d337984d7cb220d6c78769da80</title>\n",
       "<path fill=\"none\" stroke=\"black\" d=\"M520.4,-34C528.39,-34 537.31,-34 545.82,-34\"/>\n",
       "<polygon fill=\"black\" stroke=\"black\" points=\"545.92,-37.5 555.92,-34 545.92,-30.5 545.92,-37.5\"/>\n",
       "</g>\n",
       "<!-- n886e73bd76b5449e90ac28dce80a4beb -->\n",
       "<g id=\"node8\" class=\"node\">\n",
       "<title>n886e73bd76b5449e90ac28dce80a4beb</title>\n",
       "<g id=\"a_node8\"><a xlink:title=\"Conv\">\n",
       "<path fill=\"#f0c46c\" fill-opacity=\"0.329412\" stroke=\"black\" d=\"M688,-52C688,-52 658,-52 658,-52 652,-52 646,-46 646,-40 646,-40 646,-28 646,-28 646,-22 652,-16 658,-16 658,-16 688,-16 688,-16 694,-16 700,-22 700,-28 700,-28 700,-40 700,-40 700,-46 694,-52 688,-52\"/>\n",
       "<text text-anchor=\"middle\" x=\"673\" y=\"-30.3\" font-family=\"Times,serif\" font-size=\"14.00\">Conv</text>\n",
       "</a>\n",
       "</g>\n",
       "</g>\n",
       "<!-- n5f2212d337984d7cb220d6c78769da80&#45;&gt;n886e73bd76b5449e90ac28dce80a4beb -->\n",
       "<g id=\"edge9\" class=\"edge\">\n",
       "<title>n5f2212d337984d7cb220d6c78769da80&#45;&gt;n886e73bd76b5449e90ac28dce80a4beb</title>\n",
       "<path fill=\"none\" stroke=\"black\" d=\"M618,-34C623.84,-34 629.93,-34 635.82,-34\"/>\n",
       "<polygon fill=\"black\" stroke=\"black\" points=\"628,-37.5 638,-34 628,-30.5 628,-37.5\"/>\n",
       "</g>\n",
       "<!-- nec5da077a87d46509cd9c3cb4315c64f -->\n",
       "<g id=\"node9\" class=\"node\">\n",
       "<title>nec5da077a87d46509cd9c3cb4315c64f</title>\n",
       "<g id=\"a_node9\"><a xlink:title=\"ReLU\">\n",
       "<path fill=\"#ff1f10\" fill-opacity=\"0.600000\" stroke=\"black\" d=\"M778,-52C778,-52 748,-52 748,-52 742,-52 736,-46 736,-40 736,-40 736,-28 736,-28 736,-22 742,-16 748,-16 748,-16 778,-16 778,-16 784,-16 790,-22 790,-28 790,-28 790,-40 790,-40 790,-46 784,-52 778,-52\"/>\n",
       "<text text-anchor=\"middle\" x=\"763\" y=\"-30.3\" font-family=\"Times,serif\" font-size=\"14.00\">ReLU</text>\n",
       "</a>\n",
       "</g>\n",
       "</g>\n",
       "<!-- n886e73bd76b5449e90ac28dce80a4beb&#45;&gt;nec5da077a87d46509cd9c3cb4315c64f -->\n",
       "<g id=\"edge5\" class=\"edge\">\n",
       "<title>n886e73bd76b5449e90ac28dce80a4beb&#45;&gt;nec5da077a87d46509cd9c3cb4315c64f</title>\n",
       "<path fill=\"none\" stroke=\"black\" d=\"M700.4,-34C708.39,-34 717.31,-34 725.82,-34\"/>\n",
       "<polygon fill=\"black\" stroke=\"black\" points=\"725.92,-37.5 735.92,-34 725.92,-30.5 725.92,-37.5\"/>\n",
       "</g>\n",
       "<!-- n4fba5765396747728df2b5234e5da3b0 -->\n",
       "<g id=\"node10\" class=\"node\">\n",
       "<title>n4fba5765396747728df2b5234e5da3b0</title>\n",
       "<g id=\"a_node10\"><a xlink:title=\"Pool\">\n",
       "<path fill=\"#68fcc1\" fill-opacity=\"0.345098\" stroke=\"black\" d=\"M868,-52C868,-52 838,-52 838,-52 832,-52 826,-46 826,-40 826,-40 826,-28 826,-28 826,-22 832,-16 838,-16 838,-16 868,-16 868,-16 874,-16 880,-22 880,-28 880,-28 880,-40 880,-40 880,-46 874,-52 868,-52\"/>\n",
       "<text text-anchor=\"middle\" x=\"853\" y=\"-30.3\" font-family=\"Times,serif\" font-size=\"14.00\">Pool</text>\n",
       "</a>\n",
       "</g>\n",
       "</g>\n",
       "<!-- nec5da077a87d46509cd9c3cb4315c64f&#45;&gt;n4fba5765396747728df2b5234e5da3b0 -->\n",
       "<g id=\"edge6\" class=\"edge\">\n",
       "<title>nec5da077a87d46509cd9c3cb4315c64f&#45;&gt;n4fba5765396747728df2b5234e5da3b0</title>\n",
       "<path fill=\"none\" stroke=\"black\" d=\"M790.4,-34C798.39,-34 807.31,-34 815.82,-34\"/>\n",
       "<polygon fill=\"black\" stroke=\"black\" points=\"815.92,-37.5 825.92,-34 815.92,-30.5 815.92,-37.5\"/>\n",
       "</g>\n",
       "<!-- n5cba0474ff354efbabcb2b1707ea3fbc -->\n",
       "<g id=\"node11\" class=\"node\">\n",
       "<title>n5cba0474ff354efbabcb2b1707ea3fbc</title>\n",
       "<g id=\"a_node11\"><a xlink:title=\"Linear\">\n",
       "<path fill=\"#b4f295\" fill-opacity=\"0.196078\" stroke=\"black\" d=\"M958,-52C958,-52 928,-52 928,-52 922,-52 916,-46 916,-40 916,-40 916,-28 916,-28 916,-22 922,-16 928,-16 928,-16 958,-16 958,-16 964,-16 970,-22 970,-28 970,-28 970,-40 970,-40 970,-46 964,-52 958,-52\"/>\n",
       "<text text-anchor=\"middle\" x=\"943\" y=\"-30.3\" font-family=\"Times,serif\" font-size=\"14.00\">Linear</text>\n",
       "</a>\n",
       "</g>\n",
       "</g>\n",
       "<!-- n4fba5765396747728df2b5234e5da3b0&#45;&gt;n5cba0474ff354efbabcb2b1707ea3fbc -->\n",
       "<g id=\"edge10\" class=\"edge\">\n",
       "<title>n4fba5765396747728df2b5234e5da3b0&#45;&gt;n5cba0474ff354efbabcb2b1707ea3fbc</title>\n",
       "<path fill=\"none\" stroke=\"black\" d=\"M888,-34C893.84,-34 899.93,-34 905.82,-34\"/>\n",
       "<polygon fill=\"black\" stroke=\"black\" points=\"905.92,-37.5 915.92,-34 905.92,-30.5 905.92,-37.5\"/>\n",
       "</g>\n",
       "<!-- nd355a8acecc04783b15677b6d4016583 -->\n",
       "<g id=\"node12\" class=\"node\">\n",
       "<title>nd355a8acecc04783b15677b6d4016583</title>\n",
       "<g id=\"a_node12\"><a xlink:title=\"Class\">\n",
       "<path fill=\"#bced8f\" fill-opacity=\"0.431373\" stroke=\"black\" d=\"M1048,-52C1048,-52 1018,-52 1018,-52 1012,-52 1006,-46 1006,-40 1006,-40 1006,-28 1006,-28 1006,-22 1012,-16 1018,-16 1018,-16 1048,-16 1048,-16 1054,-16 1060,-22 1060,-28 1060,-28 1060,-40 1060,-40 1060,-46 1054,-52 1048,-52\"/>\n",
       "<text text-anchor=\"middle\" x=\"1033\" y=\"-30.3\" font-family=\"Times,serif\" font-size=\"14.00\">Class</text>\n",
       "</a>\n",
       "</g>\n",
       "</g>\n",
       "<!-- n5cba0474ff354efbabcb2b1707ea3fbc&#45;&gt;nd355a8acecc04783b15677b6d4016583 -->\n",
       "<g id=\"edge11\" class=\"edge\">\n",
       "<title>n5cba0474ff354efbabcb2b1707ea3fbc&#45;&gt;nd355a8acecc04783b15677b6d4016583</title>\n",
       "<path fill=\"none\" stroke=\"black\" d=\"M970.4,-34C978.39,-34 987.31,-34 995.82,-34\"/>\n",
       "<polygon fill=\"black\" stroke=\"black\" points=\"988,-37.5 998,-34 988,-30.5 988,-37.5\"/>\n",
       "</g>\n",
       "</g>\n",
       "</svg>\n"
      ],
      "text/plain": [
       "<pydot.Dot at 0x7ff8039af040>"
      ]
     },
     "execution_count": 131,
     "metadata": {},
     "output_type": "execute_result"
    }
   ],
   "source": [
    "#hide\n",
    "blocks  = ['Input', 'Conv block 1', 'Conv block 2', 'Conv block 3', 'Linear', 'Output']\n",
    "layers = [['Image'], ['Conv','ReLU', 'Pool'], ['Conv', 'ReLU', 'Pool'], ['Conv','ReLU', 'Pool'], ['Linear'], ['Class']]\n",
    "conns = ((blocks[0], blocks[1]),\n",
    "         (blocks[1], blocks[2]),\n",
    "         (blocks[2], blocks[3]),\n",
    "         (blocks[3], blocks[4]),\n",
    "         (blocks[4], blocks[5]),\n",
    "        )\n",
    "g = graph_items(seq_cluster(layers[0], blocks[0]),\n",
    "                seq_cluster(layers[1], blocks[1]),\n",
    "                seq_cluster(layers[2], blocks[2]),\n",
    "                seq_cluster(layers[3], blocks[3]),\n",
    "                seq_cluster(layers[4], blocks[4]),\n",
    "                seq_cluster(layers[5], blocks[5]),\n",
    "               )\n",
    "g.add_items(*object_connections(conns))\n",
    "g"
   ]
  },
  {
   "cell_type": "code",
   "execution_count": 132,
   "metadata": {},
   "outputs": [],
   "source": [
    "class ConvBlock(nn.Module):\n",
    "    def __init__(self, in_channels=1, ks=3, out_channels=16, stride=1, padding=0, act_fn=nn.ReLU()):\n",
    "        super().__init__()\n",
    "        self.conv =  nn.Conv2d(in_channels=in_channels,\n",
    "                               out_channels=out_channels, \n",
    "                               kernel_size=ks, \n",
    "                               stride=stride, padding=padding)\n",
    "        \n",
    "        self.act_fn = act_fn\n",
    "        self.pool   = nn.MaxPool2d(kernel_size=ks-1)\n",
    "    def forward(self, x):\n",
    "        x = self.conv(x)\n",
    "        x = self.act_fn(x)\n",
    "        x = self.pool(x)\n",
    "        return x\n",
    "    \n",
    "    \n",
    "class CNNModel(nn.Module):\n",
    "    def __init__(self):\n",
    "        super().__init__()\n",
    "        self.conv_block1 = ConvBlock(in_channels=1, \n",
    "                                     out_channels=16)\n",
    "        \n",
    "        self.conv_block2 = ConvBlock(in_channels=16, \n",
    "                                     out_channels=32)\n",
    "        \n",
    "        self.conv_block3 = ConvBlock(in_channels=32,\n",
    "                                     out_channels=64)\n",
    "\n",
    "        \n",
    "        self.linear =  nn.Linear(64, 10)\n",
    "            \n",
    "    def forward(self, x):\n",
    "        x = self.conv_block1(x)\n",
    "        x = self.conv_block2(x)\n",
    "        x = self.conv_block3(x)\n",
    "        x = self.linear(x.view(x.size(0), -1))\n",
    "        return x"
   ]
  },
  {
   "cell_type": "markdown",
   "metadata": {},
   "source": [
    "Let's take a look at the model summary"
   ]
  },
  {
   "cell_type": "code",
   "execution_count": 133,
   "metadata": {},
   "outputs": [
    {
     "data": {
      "text/plain": [
       "CNNModel(\n",
       "  (conv_block1): ConvBlock(\n",
       "    (conv): Conv2d(1, 16, kernel_size=(3, 3), stride=(1, 1))\n",
       "    (act_fn): ReLU()\n",
       "    (pool): MaxPool2d(kernel_size=2, stride=2, padding=0, dilation=1, ceil_mode=False)\n",
       "  )\n",
       "  (conv_block2): ConvBlock(\n",
       "    (conv): Conv2d(16, 32, kernel_size=(3, 3), stride=(1, 1))\n",
       "    (act_fn): ReLU()\n",
       "    (pool): MaxPool2d(kernel_size=2, stride=2, padding=0, dilation=1, ceil_mode=False)\n",
       "  )\n",
       "  (conv_block3): ConvBlock(\n",
       "    (conv): Conv2d(32, 64, kernel_size=(3, 3), stride=(1, 1))\n",
       "    (act_fn): ReLU()\n",
       "    (pool): MaxPool2d(kernel_size=2, stride=2, padding=0, dilation=1, ceil_mode=False)\n",
       "  )\n",
       "  (linear): Linear(in_features=64, out_features=10, bias=True)\n",
       ")"
      ]
     },
     "execution_count": 133,
     "metadata": {},
     "output_type": "execute_result"
    }
   ],
   "source": [
    "model = CNNModel().eval()\n",
    "model"
   ]
  },
  {
   "cell_type": "markdown",
   "metadata": {},
   "source": [
    "Let's do a forward pass manually, step by step through the three convolutional blocks and the linear layer (all of which are now attributes of out model object `model`)"
   ]
  },
  {
   "cell_type": "code",
   "execution_count": 326,
   "metadata": {},
   "outputs": [],
   "source": [
    "x, y = next(iter(valid_dl)) # get one batch from validation dataset"
   ]
  },
  {
   "cell_type": "code",
   "execution_count": 337,
   "metadata": {},
   "outputs": [
    {
     "data": {
      "text/plain": [
       "torch.Size([64, 1, 28, 28])"
      ]
     },
     "execution_count": 337,
     "metadata": {},
     "output_type": "execute_result"
    }
   ],
   "source": [
    "x.shape # this is the input"
   ]
  },
  {
   "cell_type": "code",
   "execution_count": 330,
   "metadata": {},
   "outputs": [],
   "source": [
    "conv_block1_out = model.conv_block1(x)"
   ]
  },
  {
   "cell_type": "code",
   "execution_count": 331,
   "metadata": {},
   "outputs": [
    {
     "data": {
      "text/plain": [
       "torch.Size([64, 16, 13, 13])"
      ]
     },
     "execution_count": 331,
     "metadata": {},
     "output_type": "execute_result"
    }
   ],
   "source": [
    "conv_block1_out.shape # (batch, channels, pixels, pixels)"
   ]
  },
  {
   "cell_type": "code",
   "execution_count": 332,
   "metadata": {},
   "outputs": [],
   "source": [
    "conv_block2_out = model.conv_block2(conv_block1_out)"
   ]
  },
  {
   "cell_type": "code",
   "execution_count": 333,
   "metadata": {},
   "outputs": [
    {
     "data": {
      "text/plain": [
       "torch.Size([64, 32, 5, 5])"
      ]
     },
     "execution_count": 333,
     "metadata": {},
     "output_type": "execute_result"
    }
   ],
   "source": [
    "conv_block2_out.shape # (batch, channels, pixels, pixels)"
   ]
  },
  {
   "cell_type": "code",
   "execution_count": 334,
   "metadata": {},
   "outputs": [],
   "source": [
    "conv_block3_out = model.conv_block3(conv_block2_out)"
   ]
  },
  {
   "cell_type": "code",
   "execution_count": 335,
   "metadata": {},
   "outputs": [
    {
     "data": {
      "text/plain": [
       "torch.Size([64, 64, 1, 1])"
      ]
     },
     "execution_count": 335,
     "metadata": {},
     "output_type": "execute_result"
    }
   ],
   "source": [
    "conv_block3_out.shape"
   ]
  },
  {
   "cell_type": "code",
   "execution_count": 336,
   "metadata": {},
   "outputs": [
    {
     "data": {
      "text/plain": [
       "torch.Size([64, 10])"
      ]
     },
     "execution_count": 336,
     "metadata": {},
     "output_type": "execute_result"
    }
   ],
   "source": [
    "out = model.linear(conv_block3_out.view(64, -1))\n",
    "out.shape # (batch, n_classes)"
   ]
  },
  {
   "cell_type": "markdown",
   "metadata": {},
   "source": [
    "Now let's initialize the model (again) and train!"
   ]
  },
  {
   "cell_type": "code",
   "execution_count": 313,
   "metadata": {},
   "outputs": [],
   "source": [
    "num_classes = 10\n",
    "num_epochs = 5\n",
    "learning_rate = 0.1\n",
    "\n",
    "model = CNNModel()\n",
    "loss_fn = nn.CrossEntropyLoss()  \n",
    "optimizer = torch.optim.SGD(model.parameters(), lr=learning_rate)"
   ]
  },
  {
   "cell_type": "code",
   "execution_count": 314,
   "metadata": {},
   "outputs": [
    {
     "name": "stdout",
     "output_type": "stream",
     "text": [
      "Epoch [1/5], Step [100/938], Loss: 0.9090\n",
      "Epoch [1/5], Step [200/938], Loss: 0.6792\n",
      "Epoch [1/5], Step [300/938], Loss: 0.3930\n",
      "Epoch [1/5], Step [400/938], Loss: 0.2239\n",
      "Epoch [1/5], Step [500/938], Loss: 0.3828\n",
      "Epoch [1/5], Step [600/938], Loss: 0.2205\n",
      "Epoch [1/5], Step [700/938], Loss: 0.2429\n",
      "Epoch [1/5], Step [800/938], Loss: 0.3248\n",
      "Epoch [1/5], Step [900/938], Loss: 0.2441\n",
      "Epoch [2/5], Step [100/938], Loss: 0.0968\n",
      "Epoch [2/5], Step [200/938], Loss: 0.2274\n",
      "Epoch [2/5], Step [300/938], Loss: 0.2166\n",
      "Epoch [2/5], Step [400/938], Loss: 0.1164\n",
      "Epoch [2/5], Step [500/938], Loss: 0.0815\n",
      "Epoch [2/5], Step [600/938], Loss: 0.0290\n",
      "Epoch [2/5], Step [700/938], Loss: 0.1174\n",
      "Epoch [2/5], Step [800/938], Loss: 0.1733\n",
      "Epoch [2/5], Step [900/938], Loss: 0.2478\n",
      "Epoch [3/5], Step [100/938], Loss: 0.1364\n",
      "Epoch [3/5], Step [200/938], Loss: 0.0524\n",
      "Epoch [3/5], Step [300/938], Loss: 0.0618\n",
      "Epoch [3/5], Step [400/938], Loss: 0.0591\n",
      "Epoch [3/5], Step [500/938], Loss: 0.0374\n",
      "Epoch [3/5], Step [600/938], Loss: 0.1089\n",
      "Epoch [3/5], Step [700/938], Loss: 0.0319\n",
      "Epoch [3/5], Step [800/938], Loss: 0.0952\n",
      "Epoch [3/5], Step [900/938], Loss: 0.1748\n",
      "Epoch [4/5], Step [100/938], Loss: 0.0256\n",
      "Epoch [4/5], Step [200/938], Loss: 0.0484\n",
      "Epoch [4/5], Step [300/938], Loss: 0.1344\n",
      "Epoch [4/5], Step [400/938], Loss: 0.2490\n",
      "Epoch [4/5], Step [500/938], Loss: 0.0533\n",
      "Epoch [4/5], Step [600/938], Loss: 0.0152\n",
      "Epoch [4/5], Step [700/938], Loss: 0.0632\n",
      "Epoch [4/5], Step [800/938], Loss: 0.0827\n",
      "Epoch [4/5], Step [900/938], Loss: 0.0398\n",
      "Epoch [5/5], Step [100/938], Loss: 0.0266\n",
      "Epoch [5/5], Step [200/938], Loss: 0.0739\n",
      "Epoch [5/5], Step [300/938], Loss: 0.0072\n",
      "Epoch [5/5], Step [400/938], Loss: 0.0507\n",
      "Epoch [5/5], Step [500/938], Loss: 0.1219\n",
      "Epoch [5/5], Step [600/938], Loss: 0.0340\n",
      "Epoch [5/5], Step [700/938], Loss: 0.1579\n",
      "Epoch [5/5], Step [800/938], Loss: 0.0330\n",
      "Epoch [5/5], Step [900/938], Loss: 0.0423\n"
     ]
    }
   ],
   "source": [
    "model, losses = train_fit(model, loss_fn, train_dl, num_epochs, optimizer)"
   ]
  },
  {
   "cell_type": "code",
   "execution_count": 319,
   "metadata": {},
   "outputs": [
    {
     "data": {
      "image/png": "[encoded data removed]",
      "text/plain": [
       "<Figure size 432x288 with 1 Axes>"
      ]
     },
     "metadata": {
      "needs_background": "light"
     },
     "output_type": "display_data"
    }
   ],
   "source": [
    "plt.plot(losses)\n",
    "plt.xlabel('Training iteration')\n",
    "plt.ylabel('Training loss')\n",
    "plt.yscale('log')\n",
    "plt.grid()"
   ]
  },
  {
   "cell_type": "code",
   "execution_count": 320,
   "metadata": {},
   "outputs": [
    {
     "name": "stdout",
     "output_type": "stream",
     "text": [
      "Accuracy of the model on the 10000 test images: 98.16999816894531 %\n"
     ]
    }
   ],
   "source": [
    "valid_fit(model, valid_dl)"
   ]
  }
 ],
 "metadata": {
  "kernelspec": {
   "display_name": "Python 3",
   "language": "python",
   "name": "python3"
  },
  "language_info": {
   "codemirror_mode": {
    "name": "ipython",
    "version": 3
   },
   "file_extension": ".py",
   "mimetype": "text/x-python",
   "name": "python",
   "nbconvert_exporter": "python",
   "pygments_lexer": "ipython3",
   "version": "3.8.3"
  }
 },
 "nbformat": 4,
 "nbformat_minor": 4
}
